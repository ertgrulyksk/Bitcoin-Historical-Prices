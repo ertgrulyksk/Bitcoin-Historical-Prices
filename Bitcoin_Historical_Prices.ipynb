{
  "nbformat": 4,
  "nbformat_minor": 0,
  "metadata": {
    "colab": {
      "provenance": [],
      "authorship_tag": "ABX9TyPoBi+GChj/m52Dxy4sJWBy",
      "include_colab_link": true
    },
    "kernelspec": {
      "name": "python3",
      "display_name": "Python 3"
    },
    "language_info": {
      "name": "python"
    }
  },
  "cells": [
    {
      "cell_type": "markdown",
      "metadata": {
        "id": "view-in-github",
        "colab_type": "text"
      },
      "source": [
        "<a href=\"https://colab.research.google.com/github/ertgrulyksk/Bitcoin-Historical-Prices/blob/main/Bitcoin_Historical_Prices.ipynb\" target=\"_parent\"><img src=\"https://colab.research.google.com/assets/colab-badge.svg\" alt=\"Open In Colab\"/></a>"
      ]
    },
    {
      "cell_type": "code",
      "execution_count": 1,
      "metadata": {
        "id": "Vj8mr5VYV5mq"
      },
      "outputs": [],
      "source": [
        "import numpy as np \n",
        "import pandas as pd \n",
        "import matplotlib.pyplot as plt\n",
        "import matplotlib.style as style\n",
        "import seaborn as sns"
      ]
    },
    {
      "cell_type": "code",
      "source": [
        "bitcoin=pd.read_csv(\"coin_Bitcoin.csv\")"
      ],
      "metadata": {
        "id": "nnxcHbKUS191"
      },
      "execution_count": 6,
      "outputs": []
    },
    {
      "cell_type": "code",
      "source": [
        "pd.set_option('display.max_columns', None)\n",
        "bitcoin.head()"
      ],
      "metadata": {
        "colab": {
          "base_uri": "https://localhost:8080/",
          "height": 206
        },
        "id": "MjQacsrdS-cQ",
        "outputId": "5514be6c-002d-4f0f-a69a-e1947f138059"
      },
      "execution_count": 7,
      "outputs": [
        {
          "output_type": "execute_result",
          "data": {
            "text/plain": [
              "   SNo     Name Symbol                 Date        High         Low  \\\n",
              "0    1  Bitcoin    BTC  2013-04-29 23:59:59  147.488007  134.000000   \n",
              "1    2  Bitcoin    BTC  2013-04-30 23:59:59  146.929993  134.050003   \n",
              "2    3  Bitcoin    BTC  2013-05-01 23:59:59  139.889999  107.720001   \n",
              "3    4  Bitcoin    BTC  2013-05-02 23:59:59  125.599998   92.281898   \n",
              "4    5  Bitcoin    BTC  2013-05-03 23:59:59  108.127998   79.099998   \n",
              "\n",
              "         Open       Close  Volume     Marketcap  \n",
              "0  134.444000  144.539993     0.0  1.603769e+09  \n",
              "1  144.000000  139.000000     0.0  1.542813e+09  \n",
              "2  139.000000  116.989998     0.0  1.298955e+09  \n",
              "3  116.379997  105.209999     0.0  1.168517e+09  \n",
              "4  106.250000   97.750000     0.0  1.085995e+09  "
            ],
            "text/html": [
              "\n",
              "  <div id=\"df-c1a3f8c3-3d2a-4a3b-900f-7a9cf99dc2eb\">\n",
              "    <div class=\"colab-df-container\">\n",
              "      <div>\n",
              "<style scoped>\n",
              "    .dataframe tbody tr th:only-of-type {\n",
              "        vertical-align: middle;\n",
              "    }\n",
              "\n",
              "    .dataframe tbody tr th {\n",
              "        vertical-align: top;\n",
              "    }\n",
              "\n",
              "    .dataframe thead th {\n",
              "        text-align: right;\n",
              "    }\n",
              "</style>\n",
              "<table border=\"1\" class=\"dataframe\">\n",
              "  <thead>\n",
              "    <tr style=\"text-align: right;\">\n",
              "      <th></th>\n",
              "      <th>SNo</th>\n",
              "      <th>Name</th>\n",
              "      <th>Symbol</th>\n",
              "      <th>Date</th>\n",
              "      <th>High</th>\n",
              "      <th>Low</th>\n",
              "      <th>Open</th>\n",
              "      <th>Close</th>\n",
              "      <th>Volume</th>\n",
              "      <th>Marketcap</th>\n",
              "    </tr>\n",
              "  </thead>\n",
              "  <tbody>\n",
              "    <tr>\n",
              "      <th>0</th>\n",
              "      <td>1</td>\n",
              "      <td>Bitcoin</td>\n",
              "      <td>BTC</td>\n",
              "      <td>2013-04-29 23:59:59</td>\n",
              "      <td>147.488007</td>\n",
              "      <td>134.000000</td>\n",
              "      <td>134.444000</td>\n",
              "      <td>144.539993</td>\n",
              "      <td>0.0</td>\n",
              "      <td>1.603769e+09</td>\n",
              "    </tr>\n",
              "    <tr>\n",
              "      <th>1</th>\n",
              "      <td>2</td>\n",
              "      <td>Bitcoin</td>\n",
              "      <td>BTC</td>\n",
              "      <td>2013-04-30 23:59:59</td>\n",
              "      <td>146.929993</td>\n",
              "      <td>134.050003</td>\n",
              "      <td>144.000000</td>\n",
              "      <td>139.000000</td>\n",
              "      <td>0.0</td>\n",
              "      <td>1.542813e+09</td>\n",
              "    </tr>\n",
              "    <tr>\n",
              "      <th>2</th>\n",
              "      <td>3</td>\n",
              "      <td>Bitcoin</td>\n",
              "      <td>BTC</td>\n",
              "      <td>2013-05-01 23:59:59</td>\n",
              "      <td>139.889999</td>\n",
              "      <td>107.720001</td>\n",
              "      <td>139.000000</td>\n",
              "      <td>116.989998</td>\n",
              "      <td>0.0</td>\n",
              "      <td>1.298955e+09</td>\n",
              "    </tr>\n",
              "    <tr>\n",
              "      <th>3</th>\n",
              "      <td>4</td>\n",
              "      <td>Bitcoin</td>\n",
              "      <td>BTC</td>\n",
              "      <td>2013-05-02 23:59:59</td>\n",
              "      <td>125.599998</td>\n",
              "      <td>92.281898</td>\n",
              "      <td>116.379997</td>\n",
              "      <td>105.209999</td>\n",
              "      <td>0.0</td>\n",
              "      <td>1.168517e+09</td>\n",
              "    </tr>\n",
              "    <tr>\n",
              "      <th>4</th>\n",
              "      <td>5</td>\n",
              "      <td>Bitcoin</td>\n",
              "      <td>BTC</td>\n",
              "      <td>2013-05-03 23:59:59</td>\n",
              "      <td>108.127998</td>\n",
              "      <td>79.099998</td>\n",
              "      <td>106.250000</td>\n",
              "      <td>97.750000</td>\n",
              "      <td>0.0</td>\n",
              "      <td>1.085995e+09</td>\n",
              "    </tr>\n",
              "  </tbody>\n",
              "</table>\n",
              "</div>\n",
              "      <button class=\"colab-df-convert\" onclick=\"convertToInteractive('df-c1a3f8c3-3d2a-4a3b-900f-7a9cf99dc2eb')\"\n",
              "              title=\"Convert this dataframe to an interactive table.\"\n",
              "              style=\"display:none;\">\n",
              "        \n",
              "  <svg xmlns=\"http://www.w3.org/2000/svg\" height=\"24px\"viewBox=\"0 0 24 24\"\n",
              "       width=\"24px\">\n",
              "    <path d=\"M0 0h24v24H0V0z\" fill=\"none\"/>\n",
              "    <path d=\"M18.56 5.44l.94 2.06.94-2.06 2.06-.94-2.06-.94-.94-2.06-.94 2.06-2.06.94zm-11 1L8.5 8.5l.94-2.06 2.06-.94-2.06-.94L8.5 2.5l-.94 2.06-2.06.94zm10 10l.94 2.06.94-2.06 2.06-.94-2.06-.94-.94-2.06-.94 2.06-2.06.94z\"/><path d=\"M17.41 7.96l-1.37-1.37c-.4-.4-.92-.59-1.43-.59-.52 0-1.04.2-1.43.59L10.3 9.45l-7.72 7.72c-.78.78-.78 2.05 0 2.83L4 21.41c.39.39.9.59 1.41.59.51 0 1.02-.2 1.41-.59l7.78-7.78 2.81-2.81c.8-.78.8-2.07 0-2.86zM5.41 20L4 18.59l7.72-7.72 1.47 1.35L5.41 20z\"/>\n",
              "  </svg>\n",
              "      </button>\n",
              "      \n",
              "  <style>\n",
              "    .colab-df-container {\n",
              "      display:flex;\n",
              "      flex-wrap:wrap;\n",
              "      gap: 12px;\n",
              "    }\n",
              "\n",
              "    .colab-df-convert {\n",
              "      background-color: #E8F0FE;\n",
              "      border: none;\n",
              "      border-radius: 50%;\n",
              "      cursor: pointer;\n",
              "      display: none;\n",
              "      fill: #1967D2;\n",
              "      height: 32px;\n",
              "      padding: 0 0 0 0;\n",
              "      width: 32px;\n",
              "    }\n",
              "\n",
              "    .colab-df-convert:hover {\n",
              "      background-color: #E2EBFA;\n",
              "      box-shadow: 0px 1px 2px rgba(60, 64, 67, 0.3), 0px 1px 3px 1px rgba(60, 64, 67, 0.15);\n",
              "      fill: #174EA6;\n",
              "    }\n",
              "\n",
              "    [theme=dark] .colab-df-convert {\n",
              "      background-color: #3B4455;\n",
              "      fill: #D2E3FC;\n",
              "    }\n",
              "\n",
              "    [theme=dark] .colab-df-convert:hover {\n",
              "      background-color: #434B5C;\n",
              "      box-shadow: 0px 1px 3px 1px rgba(0, 0, 0, 0.15);\n",
              "      filter: drop-shadow(0px 1px 2px rgba(0, 0, 0, 0.3));\n",
              "      fill: #FFFFFF;\n",
              "    }\n",
              "  </style>\n",
              "\n",
              "      <script>\n",
              "        const buttonEl =\n",
              "          document.querySelector('#df-c1a3f8c3-3d2a-4a3b-900f-7a9cf99dc2eb button.colab-df-convert');\n",
              "        buttonEl.style.display =\n",
              "          google.colab.kernel.accessAllowed ? 'block' : 'none';\n",
              "\n",
              "        async function convertToInteractive(key) {\n",
              "          const element = document.querySelector('#df-c1a3f8c3-3d2a-4a3b-900f-7a9cf99dc2eb');\n",
              "          const dataTable =\n",
              "            await google.colab.kernel.invokeFunction('convertToInteractive',\n",
              "                                                     [key], {});\n",
              "          if (!dataTable) return;\n",
              "\n",
              "          const docLinkHtml = 'Like what you see? Visit the ' +\n",
              "            '<a target=\"_blank\" href=https://colab.research.google.com/notebooks/data_table.ipynb>data table notebook</a>'\n",
              "            + ' to learn more about interactive tables.';\n",
              "          element.innerHTML = '';\n",
              "          dataTable['output_type'] = 'display_data';\n",
              "          await google.colab.output.renderOutput(dataTable, element);\n",
              "          const docLink = document.createElement('div');\n",
              "          docLink.innerHTML = docLinkHtml;\n",
              "          element.appendChild(docLink);\n",
              "        }\n",
              "      </script>\n",
              "    </div>\n",
              "  </div>\n",
              "  "
            ]
          },
          "metadata": {},
          "execution_count": 7
        }
      ]
    },
    {
      "cell_type": "code",
      "source": [
        "bitcoin.shape"
      ],
      "metadata": {
        "colab": {
          "base_uri": "https://localhost:8080/"
        },
        "id": "0uSvdLoYS_no",
        "outputId": "301f468c-68da-4936-c5ae-050ce53ae75f"
      },
      "execution_count": 8,
      "outputs": [
        {
          "output_type": "execute_result",
          "data": {
            "text/plain": [
              "(2991, 10)"
            ]
          },
          "metadata": {},
          "execution_count": 8
        }
      ]
    },
    {
      "cell_type": "code",
      "source": [
        "bitcoin.Name.unique()"
      ],
      "metadata": {
        "colab": {
          "base_uri": "https://localhost:8080/"
        },
        "id": "jHQIb1QpTBA4",
        "outputId": "9b07edfa-81ed-4241-a4b0-316660f1c9d6"
      },
      "execution_count": 9,
      "outputs": [
        {
          "output_type": "execute_result",
          "data": {
            "text/plain": [
              "array(['Bitcoin'], dtype=object)"
            ]
          },
          "metadata": {},
          "execution_count": 9
        }
      ]
    },
    {
      "cell_type": "code",
      "source": [
        "bitcoin.Symbol.unique()"
      ],
      "metadata": {
        "colab": {
          "base_uri": "https://localhost:8080/"
        },
        "id": "Fe1YS53ZTCZw",
        "outputId": "f6ba3ecb-6670-4470-d4cc-54375a04c941"
      },
      "execution_count": 10,
      "outputs": [
        {
          "output_type": "execute_result",
          "data": {
            "text/plain": [
              "array(['BTC'], dtype=object)"
            ]
          },
          "metadata": {},
          "execution_count": 10
        }
      ]
    },
    {
      "cell_type": "code",
      "source": [
        "bitcoin.drop([\"Name\"],axis=1, inplace=True)"
      ],
      "metadata": {
        "id": "W22Owv3MTbAX"
      },
      "execution_count": 11,
      "outputs": []
    },
    {
      "cell_type": "code",
      "source": [
        "bitcoin.drop([\"SNo\"],axis=1, inplace=True)"
      ],
      "metadata": {
        "id": "6zSYrFEyTiGT"
      },
      "execution_count": 12,
      "outputs": []
    },
    {
      "cell_type": "code",
      "source": [
        "bitcoin.drop([\"Symbol\"],axis=1, inplace=True)"
      ],
      "metadata": {
        "id": "YC8CuWjLTjKf"
      },
      "execution_count": 13,
      "outputs": []
    },
    {
      "cell_type": "code",
      "source": [
        "bitcoin.columns"
      ],
      "metadata": {
        "colab": {
          "base_uri": "https://localhost:8080/"
        },
        "id": "NZfW-3s_TkQM",
        "outputId": "f2be0c25-a3f8-4f50-bf03-1cdf906ff7bb"
      },
      "execution_count": 14,
      "outputs": [
        {
          "output_type": "execute_result",
          "data": {
            "text/plain": [
              "Index(['Date', 'High', 'Low', 'Open', 'Close', 'Volume', 'Marketcap'], dtype='object')"
            ]
          },
          "metadata": {},
          "execution_count": 14
        }
      ]
    },
    {
      "cell_type": "code",
      "source": [
        "bitcoin.info()"
      ],
      "metadata": {
        "colab": {
          "base_uri": "https://localhost:8080/"
        },
        "id": "Am5KbUqyTlOg",
        "outputId": "7588b162-9bfe-4eb6-86db-88755cbfc59f"
      },
      "execution_count": 15,
      "outputs": [
        {
          "output_type": "stream",
          "name": "stdout",
          "text": [
            "<class 'pandas.core.frame.DataFrame'>\n",
            "RangeIndex: 2991 entries, 0 to 2990\n",
            "Data columns (total 7 columns):\n",
            " #   Column     Non-Null Count  Dtype  \n",
            "---  ------     --------------  -----  \n",
            " 0   Date       2991 non-null   object \n",
            " 1   High       2991 non-null   float64\n",
            " 2   Low        2991 non-null   float64\n",
            " 3   Open       2991 non-null   float64\n",
            " 4   Close      2991 non-null   float64\n",
            " 5   Volume     2991 non-null   float64\n",
            " 6   Marketcap  2991 non-null   float64\n",
            "dtypes: float64(6), object(1)\n",
            "memory usage: 163.7+ KB\n"
          ]
        }
      ]
    },
    {
      "cell_type": "code",
      "source": [
        "bitcoin.describe()"
      ],
      "metadata": {
        "colab": {
          "base_uri": "https://localhost:8080/",
          "height": 301
        },
        "id": "JC9r08_XTmbR",
        "outputId": "d3f183b6-bee6-4e6b-c04b-41f77e36adec"
      },
      "execution_count": 16,
      "outputs": [
        {
          "output_type": "execute_result",
          "data": {
            "text/plain": [
              "               High           Low          Open         Close        Volume  \\\n",
              "count   2991.000000   2991.000000   2991.000000   2991.000000  2.991000e+03   \n",
              "mean    6893.326038   6486.009539   6700.146240   6711.290443  1.090633e+10   \n",
              "std    11642.832456  10869.032130  11288.043736  11298.141921  1.888895e+10   \n",
              "min       74.561096     65.526001     68.504997     68.431000  0.000000e+00   \n",
              "25%      436.179001    422.879486    430.445496    430.569489  3.036725e+07   \n",
              "50%     2387.610107   2178.500000   2269.889893   2286.409912  9.460360e+08   \n",
              "75%     8733.926948   8289.800459   8569.656494   8576.238715  1.592015e+10   \n",
              "max    64863.098908  62208.964366  63523.754869  63503.457930  3.509679e+11   \n",
              "\n",
              "          Marketcap  \n",
              "count  2.991000e+03  \n",
              "mean   1.208761e+11  \n",
              "std    2.109438e+11  \n",
              "min    7.784112e+08  \n",
              "25%    6.305579e+09  \n",
              "50%    3.741503e+10  \n",
              "75%    1.499957e+11  \n",
              "max    1.186364e+12  "
            ],
            "text/html": [
              "\n",
              "  <div id=\"df-76c83dcf-f606-49db-af3c-bf1b86bda9ef\">\n",
              "    <div class=\"colab-df-container\">\n",
              "      <div>\n",
              "<style scoped>\n",
              "    .dataframe tbody tr th:only-of-type {\n",
              "        vertical-align: middle;\n",
              "    }\n",
              "\n",
              "    .dataframe tbody tr th {\n",
              "        vertical-align: top;\n",
              "    }\n",
              "\n",
              "    .dataframe thead th {\n",
              "        text-align: right;\n",
              "    }\n",
              "</style>\n",
              "<table border=\"1\" class=\"dataframe\">\n",
              "  <thead>\n",
              "    <tr style=\"text-align: right;\">\n",
              "      <th></th>\n",
              "      <th>High</th>\n",
              "      <th>Low</th>\n",
              "      <th>Open</th>\n",
              "      <th>Close</th>\n",
              "      <th>Volume</th>\n",
              "      <th>Marketcap</th>\n",
              "    </tr>\n",
              "  </thead>\n",
              "  <tbody>\n",
              "    <tr>\n",
              "      <th>count</th>\n",
              "      <td>2991.000000</td>\n",
              "      <td>2991.000000</td>\n",
              "      <td>2991.000000</td>\n",
              "      <td>2991.000000</td>\n",
              "      <td>2.991000e+03</td>\n",
              "      <td>2.991000e+03</td>\n",
              "    </tr>\n",
              "    <tr>\n",
              "      <th>mean</th>\n",
              "      <td>6893.326038</td>\n",
              "      <td>6486.009539</td>\n",
              "      <td>6700.146240</td>\n",
              "      <td>6711.290443</td>\n",
              "      <td>1.090633e+10</td>\n",
              "      <td>1.208761e+11</td>\n",
              "    </tr>\n",
              "    <tr>\n",
              "      <th>std</th>\n",
              "      <td>11642.832456</td>\n",
              "      <td>10869.032130</td>\n",
              "      <td>11288.043736</td>\n",
              "      <td>11298.141921</td>\n",
              "      <td>1.888895e+10</td>\n",
              "      <td>2.109438e+11</td>\n",
              "    </tr>\n",
              "    <tr>\n",
              "      <th>min</th>\n",
              "      <td>74.561096</td>\n",
              "      <td>65.526001</td>\n",
              "      <td>68.504997</td>\n",
              "      <td>68.431000</td>\n",
              "      <td>0.000000e+00</td>\n",
              "      <td>7.784112e+08</td>\n",
              "    </tr>\n",
              "    <tr>\n",
              "      <th>25%</th>\n",
              "      <td>436.179001</td>\n",
              "      <td>422.879486</td>\n",
              "      <td>430.445496</td>\n",
              "      <td>430.569489</td>\n",
              "      <td>3.036725e+07</td>\n",
              "      <td>6.305579e+09</td>\n",
              "    </tr>\n",
              "    <tr>\n",
              "      <th>50%</th>\n",
              "      <td>2387.610107</td>\n",
              "      <td>2178.500000</td>\n",
              "      <td>2269.889893</td>\n",
              "      <td>2286.409912</td>\n",
              "      <td>9.460360e+08</td>\n",
              "      <td>3.741503e+10</td>\n",
              "    </tr>\n",
              "    <tr>\n",
              "      <th>75%</th>\n",
              "      <td>8733.926948</td>\n",
              "      <td>8289.800459</td>\n",
              "      <td>8569.656494</td>\n",
              "      <td>8576.238715</td>\n",
              "      <td>1.592015e+10</td>\n",
              "      <td>1.499957e+11</td>\n",
              "    </tr>\n",
              "    <tr>\n",
              "      <th>max</th>\n",
              "      <td>64863.098908</td>\n",
              "      <td>62208.964366</td>\n",
              "      <td>63523.754869</td>\n",
              "      <td>63503.457930</td>\n",
              "      <td>3.509679e+11</td>\n",
              "      <td>1.186364e+12</td>\n",
              "    </tr>\n",
              "  </tbody>\n",
              "</table>\n",
              "</div>\n",
              "      <button class=\"colab-df-convert\" onclick=\"convertToInteractive('df-76c83dcf-f606-49db-af3c-bf1b86bda9ef')\"\n",
              "              title=\"Convert this dataframe to an interactive table.\"\n",
              "              style=\"display:none;\">\n",
              "        \n",
              "  <svg xmlns=\"http://www.w3.org/2000/svg\" height=\"24px\"viewBox=\"0 0 24 24\"\n",
              "       width=\"24px\">\n",
              "    <path d=\"M0 0h24v24H0V0z\" fill=\"none\"/>\n",
              "    <path d=\"M18.56 5.44l.94 2.06.94-2.06 2.06-.94-2.06-.94-.94-2.06-.94 2.06-2.06.94zm-11 1L8.5 8.5l.94-2.06 2.06-.94-2.06-.94L8.5 2.5l-.94 2.06-2.06.94zm10 10l.94 2.06.94-2.06 2.06-.94-2.06-.94-.94-2.06-.94 2.06-2.06.94z\"/><path d=\"M17.41 7.96l-1.37-1.37c-.4-.4-.92-.59-1.43-.59-.52 0-1.04.2-1.43.59L10.3 9.45l-7.72 7.72c-.78.78-.78 2.05 0 2.83L4 21.41c.39.39.9.59 1.41.59.51 0 1.02-.2 1.41-.59l7.78-7.78 2.81-2.81c.8-.78.8-2.07 0-2.86zM5.41 20L4 18.59l7.72-7.72 1.47 1.35L5.41 20z\"/>\n",
              "  </svg>\n",
              "      </button>\n",
              "      \n",
              "  <style>\n",
              "    .colab-df-container {\n",
              "      display:flex;\n",
              "      flex-wrap:wrap;\n",
              "      gap: 12px;\n",
              "    }\n",
              "\n",
              "    .colab-df-convert {\n",
              "      background-color: #E8F0FE;\n",
              "      border: none;\n",
              "      border-radius: 50%;\n",
              "      cursor: pointer;\n",
              "      display: none;\n",
              "      fill: #1967D2;\n",
              "      height: 32px;\n",
              "      padding: 0 0 0 0;\n",
              "      width: 32px;\n",
              "    }\n",
              "\n",
              "    .colab-df-convert:hover {\n",
              "      background-color: #E2EBFA;\n",
              "      box-shadow: 0px 1px 2px rgba(60, 64, 67, 0.3), 0px 1px 3px 1px rgba(60, 64, 67, 0.15);\n",
              "      fill: #174EA6;\n",
              "    }\n",
              "\n",
              "    [theme=dark] .colab-df-convert {\n",
              "      background-color: #3B4455;\n",
              "      fill: #D2E3FC;\n",
              "    }\n",
              "\n",
              "    [theme=dark] .colab-df-convert:hover {\n",
              "      background-color: #434B5C;\n",
              "      box-shadow: 0px 1px 3px 1px rgba(0, 0, 0, 0.15);\n",
              "      filter: drop-shadow(0px 1px 2px rgba(0, 0, 0, 0.3));\n",
              "      fill: #FFFFFF;\n",
              "    }\n",
              "  </style>\n",
              "\n",
              "      <script>\n",
              "        const buttonEl =\n",
              "          document.querySelector('#df-76c83dcf-f606-49db-af3c-bf1b86bda9ef button.colab-df-convert');\n",
              "        buttonEl.style.display =\n",
              "          google.colab.kernel.accessAllowed ? 'block' : 'none';\n",
              "\n",
              "        async function convertToInteractive(key) {\n",
              "          const element = document.querySelector('#df-76c83dcf-f606-49db-af3c-bf1b86bda9ef');\n",
              "          const dataTable =\n",
              "            await google.colab.kernel.invokeFunction('convertToInteractive',\n",
              "                                                     [key], {});\n",
              "          if (!dataTable) return;\n",
              "\n",
              "          const docLinkHtml = 'Like what you see? Visit the ' +\n",
              "            '<a target=\"_blank\" href=https://colab.research.google.com/notebooks/data_table.ipynb>data table notebook</a>'\n",
              "            + ' to learn more about interactive tables.';\n",
              "          element.innerHTML = '';\n",
              "          dataTable['output_type'] = 'display_data';\n",
              "          await google.colab.output.renderOutput(dataTable, element);\n",
              "          const docLink = document.createElement('div');\n",
              "          docLink.innerHTML = docLinkHtml;\n",
              "          element.appendChild(docLink);\n",
              "        }\n",
              "      </script>\n",
              "    </div>\n",
              "  </div>\n",
              "  "
            ]
          },
          "metadata": {},
          "execution_count": 16
        }
      ]
    },
    {
      "cell_type": "code",
      "source": [
        "import datetime as dt\n",
        "bitcoin[\"Date\"]=pd.to_datetime(bitcoin[\"Date\"])\n",
        "bitcoin['Date_year'] = bitcoin[\"Date\"].dt.year\n",
        "bitcoin['Date_month'] = bitcoin[\"Date\"].dt.month\n",
        "bitcoin['Date_day'] = bitcoin[\"Date\"].dt.day\n",
        "bitcoin['Date_hour'] = bitcoin[\"Date\"].dt.hour\n",
        "bitcoin['Date_minute'] = bitcoin[\"Date\"].dt.minute\n",
        "bitcoin['Date_seconde'] = bitcoin[\"Date\"].dt.second"
      ],
      "metadata": {
        "id": "IClfa6_UTn4c"
      },
      "execution_count": 17,
      "outputs": []
    },
    {
      "cell_type": "code",
      "source": [
        "bitcoin.drop([\"Date\"], axis=1, inplace=True)"
      ],
      "metadata": {
        "id": "EOMSqUZaTpU0"
      },
      "execution_count": 18,
      "outputs": []
    },
    {
      "cell_type": "code",
      "source": [
        "bitcoin.head()"
      ],
      "metadata": {
        "colab": {
          "base_uri": "https://localhost:8080/",
          "height": 206
        },
        "id": "wSjb2hgNTzLj",
        "outputId": "2e7019c3-2790-48ca-ced0-7ad09e4c1c3c"
      },
      "execution_count": 19,
      "outputs": [
        {
          "output_type": "execute_result",
          "data": {
            "text/plain": [
              "         High         Low        Open       Close  Volume     Marketcap  \\\n",
              "0  147.488007  134.000000  134.444000  144.539993     0.0  1.603769e+09   \n",
              "1  146.929993  134.050003  144.000000  139.000000     0.0  1.542813e+09   \n",
              "2  139.889999  107.720001  139.000000  116.989998     0.0  1.298955e+09   \n",
              "3  125.599998   92.281898  116.379997  105.209999     0.0  1.168517e+09   \n",
              "4  108.127998   79.099998  106.250000   97.750000     0.0  1.085995e+09   \n",
              "\n",
              "   Date_year  Date_month  Date_day  Date_hour  Date_minute  Date_seconde  \n",
              "0       2013           4        29         23           59            59  \n",
              "1       2013           4        30         23           59            59  \n",
              "2       2013           5         1         23           59            59  \n",
              "3       2013           5         2         23           59            59  \n",
              "4       2013           5         3         23           59            59  "
            ],
            "text/html": [
              "\n",
              "  <div id=\"df-04d72968-c01f-49af-9b37-dfa37be3c47e\">\n",
              "    <div class=\"colab-df-container\">\n",
              "      <div>\n",
              "<style scoped>\n",
              "    .dataframe tbody tr th:only-of-type {\n",
              "        vertical-align: middle;\n",
              "    }\n",
              "\n",
              "    .dataframe tbody tr th {\n",
              "        vertical-align: top;\n",
              "    }\n",
              "\n",
              "    .dataframe thead th {\n",
              "        text-align: right;\n",
              "    }\n",
              "</style>\n",
              "<table border=\"1\" class=\"dataframe\">\n",
              "  <thead>\n",
              "    <tr style=\"text-align: right;\">\n",
              "      <th></th>\n",
              "      <th>High</th>\n",
              "      <th>Low</th>\n",
              "      <th>Open</th>\n",
              "      <th>Close</th>\n",
              "      <th>Volume</th>\n",
              "      <th>Marketcap</th>\n",
              "      <th>Date_year</th>\n",
              "      <th>Date_month</th>\n",
              "      <th>Date_day</th>\n",
              "      <th>Date_hour</th>\n",
              "      <th>Date_minute</th>\n",
              "      <th>Date_seconde</th>\n",
              "    </tr>\n",
              "  </thead>\n",
              "  <tbody>\n",
              "    <tr>\n",
              "      <th>0</th>\n",
              "      <td>147.488007</td>\n",
              "      <td>134.000000</td>\n",
              "      <td>134.444000</td>\n",
              "      <td>144.539993</td>\n",
              "      <td>0.0</td>\n",
              "      <td>1.603769e+09</td>\n",
              "      <td>2013</td>\n",
              "      <td>4</td>\n",
              "      <td>29</td>\n",
              "      <td>23</td>\n",
              "      <td>59</td>\n",
              "      <td>59</td>\n",
              "    </tr>\n",
              "    <tr>\n",
              "      <th>1</th>\n",
              "      <td>146.929993</td>\n",
              "      <td>134.050003</td>\n",
              "      <td>144.000000</td>\n",
              "      <td>139.000000</td>\n",
              "      <td>0.0</td>\n",
              "      <td>1.542813e+09</td>\n",
              "      <td>2013</td>\n",
              "      <td>4</td>\n",
              "      <td>30</td>\n",
              "      <td>23</td>\n",
              "      <td>59</td>\n",
              "      <td>59</td>\n",
              "    </tr>\n",
              "    <tr>\n",
              "      <th>2</th>\n",
              "      <td>139.889999</td>\n",
              "      <td>107.720001</td>\n",
              "      <td>139.000000</td>\n",
              "      <td>116.989998</td>\n",
              "      <td>0.0</td>\n",
              "      <td>1.298955e+09</td>\n",
              "      <td>2013</td>\n",
              "      <td>5</td>\n",
              "      <td>1</td>\n",
              "      <td>23</td>\n",
              "      <td>59</td>\n",
              "      <td>59</td>\n",
              "    </tr>\n",
              "    <tr>\n",
              "      <th>3</th>\n",
              "      <td>125.599998</td>\n",
              "      <td>92.281898</td>\n",
              "      <td>116.379997</td>\n",
              "      <td>105.209999</td>\n",
              "      <td>0.0</td>\n",
              "      <td>1.168517e+09</td>\n",
              "      <td>2013</td>\n",
              "      <td>5</td>\n",
              "      <td>2</td>\n",
              "      <td>23</td>\n",
              "      <td>59</td>\n",
              "      <td>59</td>\n",
              "    </tr>\n",
              "    <tr>\n",
              "      <th>4</th>\n",
              "      <td>108.127998</td>\n",
              "      <td>79.099998</td>\n",
              "      <td>106.250000</td>\n",
              "      <td>97.750000</td>\n",
              "      <td>0.0</td>\n",
              "      <td>1.085995e+09</td>\n",
              "      <td>2013</td>\n",
              "      <td>5</td>\n",
              "      <td>3</td>\n",
              "      <td>23</td>\n",
              "      <td>59</td>\n",
              "      <td>59</td>\n",
              "    </tr>\n",
              "  </tbody>\n",
              "</table>\n",
              "</div>\n",
              "      <button class=\"colab-df-convert\" onclick=\"convertToInteractive('df-04d72968-c01f-49af-9b37-dfa37be3c47e')\"\n",
              "              title=\"Convert this dataframe to an interactive table.\"\n",
              "              style=\"display:none;\">\n",
              "        \n",
              "  <svg xmlns=\"http://www.w3.org/2000/svg\" height=\"24px\"viewBox=\"0 0 24 24\"\n",
              "       width=\"24px\">\n",
              "    <path d=\"M0 0h24v24H0V0z\" fill=\"none\"/>\n",
              "    <path d=\"M18.56 5.44l.94 2.06.94-2.06 2.06-.94-2.06-.94-.94-2.06-.94 2.06-2.06.94zm-11 1L8.5 8.5l.94-2.06 2.06-.94-2.06-.94L8.5 2.5l-.94 2.06-2.06.94zm10 10l.94 2.06.94-2.06 2.06-.94-2.06-.94-.94-2.06-.94 2.06-2.06.94z\"/><path d=\"M17.41 7.96l-1.37-1.37c-.4-.4-.92-.59-1.43-.59-.52 0-1.04.2-1.43.59L10.3 9.45l-7.72 7.72c-.78.78-.78 2.05 0 2.83L4 21.41c.39.39.9.59 1.41.59.51 0 1.02-.2 1.41-.59l7.78-7.78 2.81-2.81c.8-.78.8-2.07 0-2.86zM5.41 20L4 18.59l7.72-7.72 1.47 1.35L5.41 20z\"/>\n",
              "  </svg>\n",
              "      </button>\n",
              "      \n",
              "  <style>\n",
              "    .colab-df-container {\n",
              "      display:flex;\n",
              "      flex-wrap:wrap;\n",
              "      gap: 12px;\n",
              "    }\n",
              "\n",
              "    .colab-df-convert {\n",
              "      background-color: #E8F0FE;\n",
              "      border: none;\n",
              "      border-radius: 50%;\n",
              "      cursor: pointer;\n",
              "      display: none;\n",
              "      fill: #1967D2;\n",
              "      height: 32px;\n",
              "      padding: 0 0 0 0;\n",
              "      width: 32px;\n",
              "    }\n",
              "\n",
              "    .colab-df-convert:hover {\n",
              "      background-color: #E2EBFA;\n",
              "      box-shadow: 0px 1px 2px rgba(60, 64, 67, 0.3), 0px 1px 3px 1px rgba(60, 64, 67, 0.15);\n",
              "      fill: #174EA6;\n",
              "    }\n",
              "\n",
              "    [theme=dark] .colab-df-convert {\n",
              "      background-color: #3B4455;\n",
              "      fill: #D2E3FC;\n",
              "    }\n",
              "\n",
              "    [theme=dark] .colab-df-convert:hover {\n",
              "      background-color: #434B5C;\n",
              "      box-shadow: 0px 1px 3px 1px rgba(0, 0, 0, 0.15);\n",
              "      filter: drop-shadow(0px 1px 2px rgba(0, 0, 0, 0.3));\n",
              "      fill: #FFFFFF;\n",
              "    }\n",
              "  </style>\n",
              "\n",
              "      <script>\n",
              "        const buttonEl =\n",
              "          document.querySelector('#df-04d72968-c01f-49af-9b37-dfa37be3c47e button.colab-df-convert');\n",
              "        buttonEl.style.display =\n",
              "          google.colab.kernel.accessAllowed ? 'block' : 'none';\n",
              "\n",
              "        async function convertToInteractive(key) {\n",
              "          const element = document.querySelector('#df-04d72968-c01f-49af-9b37-dfa37be3c47e');\n",
              "          const dataTable =\n",
              "            await google.colab.kernel.invokeFunction('convertToInteractive',\n",
              "                                                     [key], {});\n",
              "          if (!dataTable) return;\n",
              "\n",
              "          const docLinkHtml = 'Like what you see? Visit the ' +\n",
              "            '<a target=\"_blank\" href=https://colab.research.google.com/notebooks/data_table.ipynb>data table notebook</a>'\n",
              "            + ' to learn more about interactive tables.';\n",
              "          element.innerHTML = '';\n",
              "          dataTable['output_type'] = 'display_data';\n",
              "          await google.colab.output.renderOutput(dataTable, element);\n",
              "          const docLink = document.createElement('div');\n",
              "          docLink.innerHTML = docLinkHtml;\n",
              "          element.appendChild(docLink);\n",
              "        }\n",
              "      </script>\n",
              "    </div>\n",
              "  </div>\n",
              "  "
            ]
          },
          "metadata": {},
          "execution_count": 19
        }
      ]
    },
    {
      "cell_type": "code",
      "source": [
        "X=bitcoin.drop([\"Marketcap\"], axis=1)\n",
        "Y=bitcoin[\"Marketcap\"]\n",
        "X.head()"
      ],
      "metadata": {
        "colab": {
          "base_uri": "https://localhost:8080/",
          "height": 206
        },
        "id": "pdQaAY5TT0e9",
        "outputId": "35872669-65ae-46e6-8671-71d1535ef6ec"
      },
      "execution_count": 20,
      "outputs": [
        {
          "output_type": "execute_result",
          "data": {
            "text/plain": [
              "         High         Low        Open       Close  Volume  Date_year  \\\n",
              "0  147.488007  134.000000  134.444000  144.539993     0.0       2013   \n",
              "1  146.929993  134.050003  144.000000  139.000000     0.0       2013   \n",
              "2  139.889999  107.720001  139.000000  116.989998     0.0       2013   \n",
              "3  125.599998   92.281898  116.379997  105.209999     0.0       2013   \n",
              "4  108.127998   79.099998  106.250000   97.750000     0.0       2013   \n",
              "\n",
              "   Date_month  Date_day  Date_hour  Date_minute  Date_seconde  \n",
              "0           4        29         23           59            59  \n",
              "1           4        30         23           59            59  \n",
              "2           5         1         23           59            59  \n",
              "3           5         2         23           59            59  \n",
              "4           5         3         23           59            59  "
            ],
            "text/html": [
              "\n",
              "  <div id=\"df-548b399d-6e15-4e85-a943-2c3acacc660c\">\n",
              "    <div class=\"colab-df-container\">\n",
              "      <div>\n",
              "<style scoped>\n",
              "    .dataframe tbody tr th:only-of-type {\n",
              "        vertical-align: middle;\n",
              "    }\n",
              "\n",
              "    .dataframe tbody tr th {\n",
              "        vertical-align: top;\n",
              "    }\n",
              "\n",
              "    .dataframe thead th {\n",
              "        text-align: right;\n",
              "    }\n",
              "</style>\n",
              "<table border=\"1\" class=\"dataframe\">\n",
              "  <thead>\n",
              "    <tr style=\"text-align: right;\">\n",
              "      <th></th>\n",
              "      <th>High</th>\n",
              "      <th>Low</th>\n",
              "      <th>Open</th>\n",
              "      <th>Close</th>\n",
              "      <th>Volume</th>\n",
              "      <th>Date_year</th>\n",
              "      <th>Date_month</th>\n",
              "      <th>Date_day</th>\n",
              "      <th>Date_hour</th>\n",
              "      <th>Date_minute</th>\n",
              "      <th>Date_seconde</th>\n",
              "    </tr>\n",
              "  </thead>\n",
              "  <tbody>\n",
              "    <tr>\n",
              "      <th>0</th>\n",
              "      <td>147.488007</td>\n",
              "      <td>134.000000</td>\n",
              "      <td>134.444000</td>\n",
              "      <td>144.539993</td>\n",
              "      <td>0.0</td>\n",
              "      <td>2013</td>\n",
              "      <td>4</td>\n",
              "      <td>29</td>\n",
              "      <td>23</td>\n",
              "      <td>59</td>\n",
              "      <td>59</td>\n",
              "    </tr>\n",
              "    <tr>\n",
              "      <th>1</th>\n",
              "      <td>146.929993</td>\n",
              "      <td>134.050003</td>\n",
              "      <td>144.000000</td>\n",
              "      <td>139.000000</td>\n",
              "      <td>0.0</td>\n",
              "      <td>2013</td>\n",
              "      <td>4</td>\n",
              "      <td>30</td>\n",
              "      <td>23</td>\n",
              "      <td>59</td>\n",
              "      <td>59</td>\n",
              "    </tr>\n",
              "    <tr>\n",
              "      <th>2</th>\n",
              "      <td>139.889999</td>\n",
              "      <td>107.720001</td>\n",
              "      <td>139.000000</td>\n",
              "      <td>116.989998</td>\n",
              "      <td>0.0</td>\n",
              "      <td>2013</td>\n",
              "      <td>5</td>\n",
              "      <td>1</td>\n",
              "      <td>23</td>\n",
              "      <td>59</td>\n",
              "      <td>59</td>\n",
              "    </tr>\n",
              "    <tr>\n",
              "      <th>3</th>\n",
              "      <td>125.599998</td>\n",
              "      <td>92.281898</td>\n",
              "      <td>116.379997</td>\n",
              "      <td>105.209999</td>\n",
              "      <td>0.0</td>\n",
              "      <td>2013</td>\n",
              "      <td>5</td>\n",
              "      <td>2</td>\n",
              "      <td>23</td>\n",
              "      <td>59</td>\n",
              "      <td>59</td>\n",
              "    </tr>\n",
              "    <tr>\n",
              "      <th>4</th>\n",
              "      <td>108.127998</td>\n",
              "      <td>79.099998</td>\n",
              "      <td>106.250000</td>\n",
              "      <td>97.750000</td>\n",
              "      <td>0.0</td>\n",
              "      <td>2013</td>\n",
              "      <td>5</td>\n",
              "      <td>3</td>\n",
              "      <td>23</td>\n",
              "      <td>59</td>\n",
              "      <td>59</td>\n",
              "    </tr>\n",
              "  </tbody>\n",
              "</table>\n",
              "</div>\n",
              "      <button class=\"colab-df-convert\" onclick=\"convertToInteractive('df-548b399d-6e15-4e85-a943-2c3acacc660c')\"\n",
              "              title=\"Convert this dataframe to an interactive table.\"\n",
              "              style=\"display:none;\">\n",
              "        \n",
              "  <svg xmlns=\"http://www.w3.org/2000/svg\" height=\"24px\"viewBox=\"0 0 24 24\"\n",
              "       width=\"24px\">\n",
              "    <path d=\"M0 0h24v24H0V0z\" fill=\"none\"/>\n",
              "    <path d=\"M18.56 5.44l.94 2.06.94-2.06 2.06-.94-2.06-.94-.94-2.06-.94 2.06-2.06.94zm-11 1L8.5 8.5l.94-2.06 2.06-.94-2.06-.94L8.5 2.5l-.94 2.06-2.06.94zm10 10l.94 2.06.94-2.06 2.06-.94-2.06-.94-.94-2.06-.94 2.06-2.06.94z\"/><path d=\"M17.41 7.96l-1.37-1.37c-.4-.4-.92-.59-1.43-.59-.52 0-1.04.2-1.43.59L10.3 9.45l-7.72 7.72c-.78.78-.78 2.05 0 2.83L4 21.41c.39.39.9.59 1.41.59.51 0 1.02-.2 1.41-.59l7.78-7.78 2.81-2.81c.8-.78.8-2.07 0-2.86zM5.41 20L4 18.59l7.72-7.72 1.47 1.35L5.41 20z\"/>\n",
              "  </svg>\n",
              "      </button>\n",
              "      \n",
              "  <style>\n",
              "    .colab-df-container {\n",
              "      display:flex;\n",
              "      flex-wrap:wrap;\n",
              "      gap: 12px;\n",
              "    }\n",
              "\n",
              "    .colab-df-convert {\n",
              "      background-color: #E8F0FE;\n",
              "      border: none;\n",
              "      border-radius: 50%;\n",
              "      cursor: pointer;\n",
              "      display: none;\n",
              "      fill: #1967D2;\n",
              "      height: 32px;\n",
              "      padding: 0 0 0 0;\n",
              "      width: 32px;\n",
              "    }\n",
              "\n",
              "    .colab-df-convert:hover {\n",
              "      background-color: #E2EBFA;\n",
              "      box-shadow: 0px 1px 2px rgba(60, 64, 67, 0.3), 0px 1px 3px 1px rgba(60, 64, 67, 0.15);\n",
              "      fill: #174EA6;\n",
              "    }\n",
              "\n",
              "    [theme=dark] .colab-df-convert {\n",
              "      background-color: #3B4455;\n",
              "      fill: #D2E3FC;\n",
              "    }\n",
              "\n",
              "    [theme=dark] .colab-df-convert:hover {\n",
              "      background-color: #434B5C;\n",
              "      box-shadow: 0px 1px 3px 1px rgba(0, 0, 0, 0.15);\n",
              "      filter: drop-shadow(0px 1px 2px rgba(0, 0, 0, 0.3));\n",
              "      fill: #FFFFFF;\n",
              "    }\n",
              "  </style>\n",
              "\n",
              "      <script>\n",
              "        const buttonEl =\n",
              "          document.querySelector('#df-548b399d-6e15-4e85-a943-2c3acacc660c button.colab-df-convert');\n",
              "        buttonEl.style.display =\n",
              "          google.colab.kernel.accessAllowed ? 'block' : 'none';\n",
              "\n",
              "        async function convertToInteractive(key) {\n",
              "          const element = document.querySelector('#df-548b399d-6e15-4e85-a943-2c3acacc660c');\n",
              "          const dataTable =\n",
              "            await google.colab.kernel.invokeFunction('convertToInteractive',\n",
              "                                                     [key], {});\n",
              "          if (!dataTable) return;\n",
              "\n",
              "          const docLinkHtml = 'Like what you see? Visit the ' +\n",
              "            '<a target=\"_blank\" href=https://colab.research.google.com/notebooks/data_table.ipynb>data table notebook</a>'\n",
              "            + ' to learn more about interactive tables.';\n",
              "          element.innerHTML = '';\n",
              "          dataTable['output_type'] = 'display_data';\n",
              "          await google.colab.output.renderOutput(dataTable, element);\n",
              "          const docLink = document.createElement('div');\n",
              "          docLink.innerHTML = docLinkHtml;\n",
              "          element.appendChild(docLink);\n",
              "        }\n",
              "      </script>\n",
              "    </div>\n",
              "  </div>\n",
              "  "
            ]
          },
          "metadata": {},
          "execution_count": 20
        }
      ]
    },
    {
      "cell_type": "code",
      "source": [
        "bitcoin.to_csv(r'./bitcoin_update.csv')"
      ],
      "metadata": {
        "id": "QVSoiMlgT3VZ"
      },
      "execution_count": 21,
      "outputs": []
    },
    {
      "cell_type": "code",
      "source": [
        "from sklearn.linear_model import LinearRegression\n",
        "LR=LinearRegression()"
      ],
      "metadata": {
        "id": "BwfxdC2LT86F"
      },
      "execution_count": 22,
      "outputs": []
    },
    {
      "cell_type": "code",
      "source": [
        "from sklearn.model_selection import train_test_split\n",
        "xtrain,xtest,ytrain,ytest=train_test_split(X,Y,test_size=0.2)"
      ],
      "metadata": {
        "id": "9_TPW2ZZT975"
      },
      "execution_count": 23,
      "outputs": []
    },
    {
      "cell_type": "code",
      "source": [
        "LR.fit(xtrain,ytrain)"
      ],
      "metadata": {
        "colab": {
          "base_uri": "https://localhost:8080/"
        },
        "id": "TYAzTHvaT_57",
        "outputId": "10052ff9-afea-4990-c21f-98910df4e894"
      },
      "execution_count": 24,
      "outputs": [
        {
          "output_type": "execute_result",
          "data": {
            "text/plain": [
              "LinearRegression()"
            ]
          },
          "metadata": {},
          "execution_count": 24
        }
      ]
    },
    {
      "cell_type": "code",
      "source": [
        "ypred=LR.predict(xtest)"
      ],
      "metadata": {
        "id": "pEwgpjsrUBEK"
      },
      "execution_count": 25,
      "outputs": []
    },
    {
      "cell_type": "code",
      "source": [
        "ypred\n"
      ],
      "metadata": {
        "colab": {
          "base_uri": "https://localhost:8080/"
        },
        "id": "pqhwdjOPUCbz",
        "outputId": "27c1008b-afec-4efa-b61b-20b2b846c553"
      },
      "execution_count": 26,
      "outputs": [
        {
          "output_type": "execute_result",
          "data": {
            "text/plain": [
              "array([ 1.94992645e+11,  6.18538124e+09,  2.15073554e+10,  6.81957621e+08,\n",
              "        5.99356817e+08,  2.08790530e+11,  8.96150150e+11,  1.03146412e+10,\n",
              "        3.83200845e+09,  1.71605872e+11,  7.96529098e+11,  1.14196463e+10,\n",
              "        1.71029867e+11,  1.17909828e+12,  1.19419237e+11,  4.88286597e+11,\n",
              "        4.29350948e+10,  8.91311316e+08,  1.34783788e+11,  5.85532640e+09,\n",
              "        8.66921480e+09,  1.03811852e+11,  1.23393250e+11,  1.98233254e+11,\n",
              "        1.14044656e+11,  4.56417084e+10,  9.47979210e+09,  1.57766372e+11,\n",
              "        1.29912566e+11,  2.21247630e+09,  2.08585675e+11,  6.33003001e+09,\n",
              "        3.83146236e+08,  6.16246580e+10,  1.71350555e+11,  4.28612259e+11,\n",
              "        9.78048765e+09,  4.56543361e+10,  1.73426696e+11,  4.13865692e+09,\n",
              "        6.69877817e+10,  1.59575253e+11,  1.78482066e+09,  6.89731613e+10,\n",
              "        1.41591557e+11,  1.16062933e+09,  6.04554063e+08,  6.75789686e+09,\n",
              "        1.33432893e+11,  6.71281675e+09,  6.92843277e+10,  7.11880014e+11,\n",
              "        2.14956803e+09,  8.93341277e+08,  5.99473278e+11,  1.38529329e+10,\n",
              "        7.56846649e+11,  1.68741014e+11,  1.15416512e+11,  2.04822786e+11,\n",
              "        6.18438090e+09,  1.44733397e+11,  3.53049781e+09,  4.49052611e+09,\n",
              "        1.35673576e+10,  1.58972801e+11,  2.42938456e+11,  1.03554870e+12,\n",
              "        1.32390633e+11,  3.42695279e+09,  6.94422290e+08,  8.37658937e+09,\n",
              "        2.98498484e+11,  6.48803508e+09,  3.97403729e+09,  2.11337791e+09,\n",
              "        3.79941112e+09,  8.38668273e+09,  1.29810304e+11,  5.07251124e+11,\n",
              "        7.88350227e+09,  3.39875731e+11,  9.19460484e+09,  1.78081363e+11,\n",
              "        1.39435022e+11,  8.55591902e+10,  1.14697038e+11,  1.44270132e+10,\n",
              "        1.72666674e+11,  1.00494275e+10,  1.32775021e+11,  1.62302529e+09,\n",
              "        6.04911848e+09,  1.12305001e+11,  4.08394752e+09,  1.06359328e+09,\n",
              "        1.29761848e+11,  6.17251697e+09,  8.70997742e+09,  5.46033625e+11,\n",
              "        2.80911083e+09,  7.90779643e+09,  1.91414847e+11,  1.33196881e+11,\n",
              "        9.75377880e+09,  8.95539712e+09,  4.22847613e+09,  3.14239773e+09,\n",
              "        1.35517586e+09,  1.08687309e+12,  7.02940247e+08,  7.68762903e+09,\n",
              "        1.04014696e+10,  2.03097043e+09,  3.02223595e+11,  3.58540025e+11,\n",
              "        6.21081398e+11,  7.21187735e+08,  8.00064829e+09,  6.60685688e+08,\n",
              "        2.85753291e+09,  1.01589600e+09,  6.19700426e+08,  6.31612582e+09,\n",
              "        1.33296173e+11,  2.08681592e+11,  1.19274443e+11,  7.40059960e+09,\n",
              "        5.58227293e+08,  1.32715747e+09,  1.93651241e+11,  4.29896290e+08,\n",
              "        2.11231104e+11,  1.91196424e+11,  1.33448130e+11,  6.74159200e+11,\n",
              "        3.48084610e+09,  4.65648494e+09,  5.64594740e+08,  9.43325584e+10,\n",
              "        1.37214429e+11,  2.48062777e+11,  9.52056112e+09,  1.41561614e+11,\n",
              "        1.16279398e+09,  5.41793064e+10,  1.90890826e+11, -2.23333795e+07,\n",
              "        1.16647505e+11,  5.22867016e+08,  6.79343212e+08,  2.87916595e+11,\n",
              "        9.28595338e+10,  7.20663005e+08,  6.23807942e+08,  2.18612351e+09,\n",
              "        1.49577914e+11,  2.00844583e+11,  1.24197184e+11,  1.10814884e+11,\n",
              "        4.31567825e+11,  1.87629789e+11,  2.71673606e+11,  1.22391823e+11,\n",
              "        9.64936879e+09,  9.64521601e+08,  1.11890060e+12,  1.49387897e+11,\n",
              "        5.93782541e+11,  1.48020996e+11,  2.07090631e+11,  1.30822208e+11,\n",
              "        8.79996776e+08,  1.24497071e+11,  1.16536148e+10,  6.21018651e+09,\n",
              "        1.49541620e+11,  4.30129618e+09,  5.00405646e+08,  2.67101261e+09,\n",
              "        1.91843194e+11,  1.67244713e+11,  3.39970772e+09,  4.39483551e+09,\n",
              "        1.42633710e+10,  9.58712301e+09,  2.92715940e+11,  6.83653500e+09,\n",
              "        9.25241877e+10,  5.63479850e+08,  1.73029721e+11,  3.22680573e+09,\n",
              "        9.03067118e+11,  5.87801515e+09,  8.41789736e+09,  9.09164510e+09,\n",
              "        1.32486311e+11,  7.07725266e+10,  1.71234512e+11,  6.36295844e+09,\n",
              "        1.02307113e+11,  8.09572175e+09,  1.59858847e+11,  2.10688370e+11,\n",
              "        5.28819700e+08,  1.85109494e+11,  6.15886722e+10,  1.00759879e+09,\n",
              "        3.91224730e+09,  6.81056666e+08,  9.69022770e+09,  1.67769331e+11,\n",
              "        3.37736301e+09,  1.67304927e+10,  1.32066242e+10,  7.47781802e+09,\n",
              "        1.54684671e+11,  6.69497224e+10,  1.09845604e+09,  1.08697826e+11,\n",
              "        1.20120634e+11,  1.48701942e+11,  4.39218828e+10,  3.24279274e+11,\n",
              "        4.67828294e+08,  1.25659635e+10,  3.31966893e+11,  1.12967170e+11,\n",
              "        6.04817034e+10,  3.53916057e+08,  7.59570936e+10,  1.46614323e+11,\n",
              "        1.10502624e+09,  7.90598395e+09,  1.94133496e+10,  3.88444564e+09,\n",
              "        5.44129172e+08,  1.48083429e+11,  5.73424928e+09,  7.30512929e+10,\n",
              "        1.56875499e+11,  5.93042345e+08,  6.86046729e+10,  3.45992861e+09,\n",
              "        1.48296463e+09,  1.69873769e+11,  1.42384624e+11,  6.07272798e+09,\n",
              "        2.09716828e+09,  1.19544332e+11,  2.14974612e+11,  3.44792079e+11,\n",
              "        9.09784493e+11,  2.11905399e+11,  1.68513339e+11,  1.13499202e+12,\n",
              "        1.07741189e+09,  1.15607373e+11,  2.13933779e+09,  3.04996867e+11,\n",
              "        7.58566317e+09,  1.65169720e+11,  1.06925989e+12,  3.89847804e+09,\n",
              "        3.43614364e+09,  1.06964674e+12,  2.80521639e+11,  1.78704507e+09,\n",
              "        8.82243319e+09,  1.31795027e+11,  1.64891284e+11,  4.86577959e+08,\n",
              "        2.72754567e+09,  8.19865487e+08,  9.59275663e+10,  3.66141073e+09,\n",
              "        1.15689590e+11,  8.68262487e+10,  1.57414321e+11,  3.58334955e+09,\n",
              "        1.49408630e+11,  1.34445853e+10,  5.95052208e+09,  1.19175276e+11,\n",
              "        6.18566489e+10,  3.90745958e+09,  1.26968730e+10,  5.47771580e+08,\n",
              "        2.14610859e+11,  7.13183790e+11,  6.82570782e+09,  1.66977305e+11,\n",
              "        4.97641305e+08,  1.65922163e+11,  8.64580431e+09,  8.67806489e+09,\n",
              "        3.34686742e+09,  1.95609835e+11,  1.63082533e+11,  1.77079980e+11,\n",
              "        1.46903848e+11,  9.71273718e+11,  7.11043719e+11,  1.77996129e+11,\n",
              "        4.24080518e+09,  8.40149122e+09,  9.53875681e+10,  6.98500847e+09,\n",
              "        1.13266447e+11,  1.06221166e+09,  6.88356706e+11,  7.03596785e+10,\n",
              "        1.29452502e+11,  1.00906680e+10,  8.62905968e+10,  2.04898228e+09,\n",
              "        1.04079390e+10,  7.05758848e+08,  1.07226754e+10,  1.43060539e+11,\n",
              "        7.14055653e+08,  1.47885601e+11,  1.92350135e+09,  6.93924223e+10,\n",
              "        9.68343993e+10,  1.11023001e+11,  6.29038760e+09,  1.97154118e+11,\n",
              "        1.54660739e+10,  2.82369119e+09,  2.40318231e+09,  5.39241523e+11,\n",
              "        1.56938684e+11,  2.17109565e+09,  2.09563010e+11,  6.18640469e+11,\n",
              "        7.65671552e+10,  7.47104376e+10,  9.72539229e+11,  2.85661175e+09,\n",
              "        1.32472992e+11,  1.10570380e+12,  6.40133013e+09,  1.60999118e+11,\n",
              "        2.45870193e+09,  1.23713956e+09,  7.32890413e+11,  9.00523152e+09,\n",
              "        1.87063844e+11,  1.79488353e+11,  1.30482478e+11,  3.99214132e+09,\n",
              "        1.36581278e+11,  7.95173499e+09,  4.39826440e+11,  1.22954896e+11,\n",
              "        1.10401072e+11,  3.52011036e+09,  1.64370132e+11,  3.46557445e+09,\n",
              "        3.41762781e+09,  3.36917580e+11,  1.51600738e+09,  3.11093250e+09,\n",
              "        8.31034481e+08,  1.35363633e+11,  1.38636527e+10,  1.04583391e+10,\n",
              "        1.43817517e+11,  1.08881581e+12,  3.53657136e+09,  2.00785639e+09,\n",
              "        1.67474048e+11,  9.81969038e+09,  3.33932374e+09,  3.25901200e+09,\n",
              "        5.81947563e+10,  2.74213858e+09,  1.85038797e+11,  7.18211246e+09,\n",
              "        2.91302017e+09,  1.49872486e+11,  1.99116893e+11,  1.59241003e+11,\n",
              "        1.67684362e+11,  1.15703330e+10,  1.30164935e+09,  2.88445417e+09,\n",
              "        1.81439148e+11,  6.59138931e+09,  1.16068187e+11,  3.34896132e+09,\n",
              "        6.69515550e+10,  1.62632401e+11,  7.50216776e+10,  7.74859577e+08,\n",
              "        7.15187941e+10,  6.22525602e+10,  1.35571398e+11,  1.64838303e+09,\n",
              "        6.47319479e+08,  6.29912736e+11,  6.83852372e+09,  6.30739208e+10,\n",
              "        6.88270058e+11,  9.02141805e+10,  9.68632417e+08,  1.59106067e+11,\n",
              "        7.29691278e+10,  1.63120041e+11,  1.10692232e+11,  7.96050402e+10,\n",
              "        1.05176749e+09,  1.44015674e+09,  1.59109933e+11,  2.29850466e+09,\n",
              "        1.32478262e+11,  9.21826286e+09,  1.40133635e+11,  3.93357328e+09,\n",
              "        2.26639670e+09,  3.42997919e+09,  1.77037770e+11,  2.88915961e+09,\n",
              "        8.54289626e+08,  1.40244243e+09,  2.50025857e+11,  1.92156926e+11,\n",
              "        1.01318961e+10,  1.94817897e+11,  8.87747402e+10,  3.22399140e+08,\n",
              "        6.99449459e+09,  1.34115707e+10,  1.98158972e+11,  1.45466675e+10,\n",
              "        3.99840235e+09,  1.18592348e+09,  4.24698140e+09,  1.58546903e+11,\n",
              "        3.66153669e+08,  1.42513603e+11,  1.03767762e+09,  6.21588883e+10,\n",
              "        6.78293210e+10,  6.18242975e+09,  2.69302066e+09,  7.17085255e+10,\n",
              "        7.62440099e+10,  1.21250408e+11,  3.95821266e+09,  2.85473054e+09,\n",
              "        1.20881665e+10,  5.02211109e+08,  1.06711274e+09,  7.20899572e+10,\n",
              "        1.08715220e+11,  4.00038409e+08,  3.00315576e+11,  7.24345570e+09,\n",
              "        1.17873737e+11,  8.64763818e+09,  9.60036894e+09,  3.50362196e+09,\n",
              "        1.42443020e+10,  1.07109141e+12,  4.37388688e+09,  1.51068049e+11,\n",
              "        9.70922724e+09,  9.36316232e+09,  1.59333207e+11,  5.37302006e+09,\n",
              "        6.38316374e+09,  1.25341354e+10,  1.09771843e+12,  8.09036315e+11,\n",
              "        2.01808578e+11,  6.22227251e+10,  6.68397583e+10,  7.19850440e+09,\n",
              "        7.37471012e+09,  2.09110895e+11,  6.65049609e+08,  1.77992184e+11,\n",
              "        5.85193927e+09,  3.49453916e+10,  1.03690916e+09,  1.88562749e+11,\n",
              "        6.45062258e+08,  3.57404859e+09,  6.40739466e+09,  2.23543567e+11,\n",
              "        2.06456298e+11,  8.90871778e+08,  1.12700760e+11,  4.74592173e+08,\n",
              "        2.14807500e+11,  1.29156691e+11,  1.91461438e+11,  6.35443984e+09,\n",
              "        5.39567679e+08,  1.53109649e+11,  1.50013249e+11,  1.08845653e+11,\n",
              "        1.12660082e+11,  7.98609577e+09,  3.92895186e+09,  1.72137442e+11,\n",
              "        5.24809597e+09,  1.45986104e+11,  6.83203284e+11,  1.34754147e+11,\n",
              "        9.58220538e+08,  1.33771640e+11,  1.83008105e+11,  1.15284766e+11,\n",
              "        8.45888200e+08,  6.08776376e+09,  1.98337343e+11,  6.20122071e+10,\n",
              "        7.37382419e+09,  7.01152095e+09,  1.67231999e+11,  5.76696415e+09,\n",
              "        1.39757788e+11,  3.46837610e+10,  3.57510356e+10,  3.19930213e+09,\n",
              "        1.62081116e+11,  3.52033829e+09,  1.88248541e+11,  2.85358958e+09,\n",
              "        1.59024388e+11,  1.65766620e+11,  1.59265421e+11,  2.86988471e+11,\n",
              "        3.68233891e+09,  8.50912252e+08,  4.73773740e+08,  1.45656737e+10,\n",
              "        3.52906696e+10,  9.36294247e+10,  9.40158282e+09,  1.70032885e+10,\n",
              "        1.42831720e+09,  3.90597457e+09,  8.72111298e+09,  3.67178308e+09,\n",
              "        1.50973226e+10,  1.69360155e+11,  1.64044644e+11,  1.78309212e+11,\n",
              "        1.66949533e+10,  1.52236348e+10,  1.74509878e+11,  2.07633599e+11,\n",
              "        6.44074587e+08,  5.93415066e+11,  1.28812558e+10,  8.82596925e+08,\n",
              "        1.95714755e+11,  8.64326793e+09,  1.10187579e+09,  6.53223832e+10,\n",
              "        2.01187295e+11,  4.53381641e+09,  2.02107105e+11,  4.66883267e+10,\n",
              "        6.89275381e+10,  3.94017651e+09,  9.40020599e+09,  6.87879851e+09,\n",
              "        1.17511335e+10,  1.82315826e+11,  3.37960386e+09,  2.79336290e+09,\n",
              "        1.08669920e+11,  4.73650752e+09,  1.53815644e+10,  1.31797354e+11,\n",
              "        1.48453238e+11,  3.22059966e+11,  6.80323413e+10,  3.68968369e+10,\n",
              "        1.75440006e+11,  1.16645175e+10,  1.30492976e+10,  1.99901064e+09,\n",
              "        1.85531522e+11,  5.88993974e+10,  1.74468813e+11,  7.63413371e+09,\n",
              "        1.13431678e+11,  1.52753900e+09,  8.55415679e+09,  1.02226054e+11,\n",
              "        1.06525010e+11,  1.68518764e+11,  1.67258209e+11])"
            ]
          },
          "metadata": {},
          "execution_count": 26
        }
      ]
    },
    {
      "cell_type": "code",
      "source": [
        "print(pd.DataFrame({'real_value':ytest,'pred_value':ypred}))"
      ],
      "metadata": {
        "colab": {
          "base_uri": "https://localhost:8080/"
        },
        "id": "Z4YOMIfRUD__",
        "outputId": "68cc12ee-0c1b-4073-9ab8-9e751df31829"
      },
      "execution_count": 27,
      "outputs": [
        {
          "output_type": "stream",
          "name": "stdout",
          "text": [
            "        real_value    pred_value\n",
            "2714  1.952332e+11  1.949926e+11\n",
            "1199  9.358441e+09  6.185381e+09\n",
            "1464  2.369144e+10  2.150736e+10\n",
            "44    1.219970e+09  6.819576e+08\n",
            "763   3.171173e+09  5.993568e+08\n",
            "...            ...           ...\n",
            "1310  1.178066e+10  8.554157e+09\n",
            "2195  1.019862e+11  1.022261e+11\n",
            "1880  1.040888e+11  1.065250e+11\n",
            "1836  1.587589e+11  1.685188e+11\n",
            "2580  1.688076e+11  1.672582e+11\n",
            "\n",
            "[599 rows x 2 columns]\n"
          ]
        }
      ]
    },
    {
      "cell_type": "code",
      "source": [
        "from sklearn.metrics import mean_absolute_error\n",
        "mean_absolute_error(ytest, ypred)"
      ],
      "metadata": {
        "colab": {
          "base_uri": "https://localhost:8080/"
        },
        "id": "-UvZywCaUMq8",
        "outputId": "fc323718-61cc-47a5-c4c5-7ab174eab044"
      },
      "execution_count": 28,
      "outputs": [
        {
          "output_type": "execute_result",
          "data": {
            "text/plain": [
              "3102726347.6006684"
            ]
          },
          "metadata": {},
          "execution_count": 28
        }
      ]
    },
    {
      "cell_type": "code",
      "source": [
        "LR.score(xtest,ytest)"
      ],
      "metadata": {
        "colab": {
          "base_uri": "https://localhost:8080/"
        },
        "id": "iu9bU16cUPaX",
        "outputId": "b545b275-b26d-4a0c-e872-4eb8afa954ac"
      },
      "execution_count": 29,
      "outputs": [
        {
          "output_type": "execute_result",
          "data": {
            "text/plain": [
              "0.999473336518217"
            ]
          },
          "metadata": {},
          "execution_count": 29
        }
      ]
    },
    {
      "cell_type": "code",
      "source": [
        "from sklearn.linear_model import Lasso\n",
        "Ls=Lasso()\n",
        "Ls.fit(xtrain,ytrain)\n",
        "ypred=Ls.predict(xtest)\n",
        "Ls.score(xtest,ytest)"
      ],
      "metadata": {
        "colab": {
          "base_uri": "https://localhost:8080/"
        },
        "id": "kBMOOxnxUSd4",
        "outputId": "21ba8e2e-b720-44e8-b064-8808c8340c19"
      },
      "execution_count": 30,
      "outputs": [
        {
          "output_type": "stream",
          "name": "stderr",
          "text": [
            "/usr/local/lib/python3.8/dist-packages/sklearn/linear_model/_coordinate_descent.py:647: ConvergenceWarning: Objective did not converge. You might want to increase the number of iterations, check the scale of the features or consider increasing regularisation. Duality gap: 3.278e+22, tolerance: 1.077e+22\n",
            "  model = cd_fast.enet_coordinate_descent(\n"
          ]
        },
        {
          "output_type": "execute_result",
          "data": {
            "text/plain": [
              "0.9992944014178033"
            ]
          },
          "metadata": {},
          "execution_count": 30
        }
      ]
    },
    {
      "cell_type": "code",
      "source": [
        "from sklearn.metrics import mean_absolute_error\n",
        "mean_absolute_error(ytest, ypred)"
      ],
      "metadata": {
        "colab": {
          "base_uri": "https://localhost:8080/"
        },
        "id": "6M2MGrocUTrb",
        "outputId": "399976b1-da05-435d-a53e-1a43a846f36a"
      },
      "execution_count": 31,
      "outputs": [
        {
          "output_type": "execute_result",
          "data": {
            "text/plain": [
              "3498625419.980748"
            ]
          },
          "metadata": {},
          "execution_count": 31
        }
      ]
    },
    {
      "cell_type": "code",
      "source": [
        "from sklearn.tree import DecisionTreeRegressor\n",
        "mytre=DecisionTreeRegressor(max_depth=5)\n",
        "mytre.fit(xtrain,ytrain)\n",
        "ypredd=mytre.predict(xtest)\n",
        "mytre.score(xtest,ytest)"
      ],
      "metadata": {
        "colab": {
          "base_uri": "https://localhost:8080/"
        },
        "id": "F6WAmg8OUVCv",
        "outputId": "646fbb9b-5ca4-4007-af34-118db08a3fb8"
      },
      "execution_count": 32,
      "outputs": [
        {
          "output_type": "execute_result",
          "data": {
            "text/plain": [
              "0.9979392453526412"
            ]
          },
          "metadata": {},
          "execution_count": 32
        }
      ]
    },
    {
      "cell_type": "code",
      "source": [
        "from sklearn.metrics import mean_absolute_error\n",
        "mean_absolute_error(ytest, ypredd)"
      ],
      "metadata": {
        "colab": {
          "base_uri": "https://localhost:8080/"
        },
        "id": "Pdueef2aUY3t",
        "outputId": "fccfcf5e-46da-4aa7-e8c7-48df4122b78d"
      },
      "execution_count": 33,
      "outputs": [
        {
          "output_type": "execute_result",
          "data": {
            "text/plain": [
              "5276474593.704398"
            ]
          },
          "metadata": {},
          "execution_count": 33
        }
      ]
    },
    {
      "cell_type": "code",
      "source": [
        "df=pd.read_csv('coin_Bitcoin.csv')\n",
        "df\n",
        "data=df.head(10)\n",
        "data"
      ],
      "metadata": {
        "colab": {
          "base_uri": "https://localhost:8080/",
          "height": 363
        },
        "id": "nyUp2jQDUtp7",
        "outputId": "d66f62aa-dfdd-48f5-8e10-c3848b83f51c"
      },
      "execution_count": 35,
      "outputs": [
        {
          "output_type": "execute_result",
          "data": {
            "text/plain": [
              "   SNo     Name Symbol                 Date        High         Low  \\\n",
              "0    1  Bitcoin    BTC  2013-04-29 23:59:59  147.488007  134.000000   \n",
              "1    2  Bitcoin    BTC  2013-04-30 23:59:59  146.929993  134.050003   \n",
              "2    3  Bitcoin    BTC  2013-05-01 23:59:59  139.889999  107.720001   \n",
              "3    4  Bitcoin    BTC  2013-05-02 23:59:59  125.599998   92.281898   \n",
              "4    5  Bitcoin    BTC  2013-05-03 23:59:59  108.127998   79.099998   \n",
              "5    6  Bitcoin    BTC  2013-05-04 23:59:59  115.000000   92.500000   \n",
              "6    7  Bitcoin    BTC  2013-05-05 23:59:59  118.800003  107.142998   \n",
              "7    8  Bitcoin    BTC  2013-05-06 23:59:59  124.663002  106.639999   \n",
              "8    9  Bitcoin    BTC  2013-05-07 23:59:59  113.444000   97.699997   \n",
              "9   10  Bitcoin    BTC  2013-05-08 23:59:59  115.779999  109.599998   \n",
              "\n",
              "         Open       Close  Volume     Marketcap  \n",
              "0  134.444000  144.539993     0.0  1.603769e+09  \n",
              "1  144.000000  139.000000     0.0  1.542813e+09  \n",
              "2  139.000000  116.989998     0.0  1.298955e+09  \n",
              "3  116.379997  105.209999     0.0  1.168517e+09  \n",
              "4  106.250000   97.750000     0.0  1.085995e+09  \n",
              "5   98.099998  112.500000     0.0  1.250317e+09  \n",
              "6  112.900002  115.910004     0.0  1.288693e+09  \n",
              "7  115.980003  112.300003     0.0  1.249023e+09  \n",
              "8  112.250000  111.500000     0.0  1.240594e+09  \n",
              "9  109.599998  113.566002     0.0  1.264049e+09  "
            ],
            "text/html": [
              "\n",
              "  <div id=\"df-cae9893f-a3d0-4169-b88d-f7973d8efb60\">\n",
              "    <div class=\"colab-df-container\">\n",
              "      <div>\n",
              "<style scoped>\n",
              "    .dataframe tbody tr th:only-of-type {\n",
              "        vertical-align: middle;\n",
              "    }\n",
              "\n",
              "    .dataframe tbody tr th {\n",
              "        vertical-align: top;\n",
              "    }\n",
              "\n",
              "    .dataframe thead th {\n",
              "        text-align: right;\n",
              "    }\n",
              "</style>\n",
              "<table border=\"1\" class=\"dataframe\">\n",
              "  <thead>\n",
              "    <tr style=\"text-align: right;\">\n",
              "      <th></th>\n",
              "      <th>SNo</th>\n",
              "      <th>Name</th>\n",
              "      <th>Symbol</th>\n",
              "      <th>Date</th>\n",
              "      <th>High</th>\n",
              "      <th>Low</th>\n",
              "      <th>Open</th>\n",
              "      <th>Close</th>\n",
              "      <th>Volume</th>\n",
              "      <th>Marketcap</th>\n",
              "    </tr>\n",
              "  </thead>\n",
              "  <tbody>\n",
              "    <tr>\n",
              "      <th>0</th>\n",
              "      <td>1</td>\n",
              "      <td>Bitcoin</td>\n",
              "      <td>BTC</td>\n",
              "      <td>2013-04-29 23:59:59</td>\n",
              "      <td>147.488007</td>\n",
              "      <td>134.000000</td>\n",
              "      <td>134.444000</td>\n",
              "      <td>144.539993</td>\n",
              "      <td>0.0</td>\n",
              "      <td>1.603769e+09</td>\n",
              "    </tr>\n",
              "    <tr>\n",
              "      <th>1</th>\n",
              "      <td>2</td>\n",
              "      <td>Bitcoin</td>\n",
              "      <td>BTC</td>\n",
              "      <td>2013-04-30 23:59:59</td>\n",
              "      <td>146.929993</td>\n",
              "      <td>134.050003</td>\n",
              "      <td>144.000000</td>\n",
              "      <td>139.000000</td>\n",
              "      <td>0.0</td>\n",
              "      <td>1.542813e+09</td>\n",
              "    </tr>\n",
              "    <tr>\n",
              "      <th>2</th>\n",
              "      <td>3</td>\n",
              "      <td>Bitcoin</td>\n",
              "      <td>BTC</td>\n",
              "      <td>2013-05-01 23:59:59</td>\n",
              "      <td>139.889999</td>\n",
              "      <td>107.720001</td>\n",
              "      <td>139.000000</td>\n",
              "      <td>116.989998</td>\n",
              "      <td>0.0</td>\n",
              "      <td>1.298955e+09</td>\n",
              "    </tr>\n",
              "    <tr>\n",
              "      <th>3</th>\n",
              "      <td>4</td>\n",
              "      <td>Bitcoin</td>\n",
              "      <td>BTC</td>\n",
              "      <td>2013-05-02 23:59:59</td>\n",
              "      <td>125.599998</td>\n",
              "      <td>92.281898</td>\n",
              "      <td>116.379997</td>\n",
              "      <td>105.209999</td>\n",
              "      <td>0.0</td>\n",
              "      <td>1.168517e+09</td>\n",
              "    </tr>\n",
              "    <tr>\n",
              "      <th>4</th>\n",
              "      <td>5</td>\n",
              "      <td>Bitcoin</td>\n",
              "      <td>BTC</td>\n",
              "      <td>2013-05-03 23:59:59</td>\n",
              "      <td>108.127998</td>\n",
              "      <td>79.099998</td>\n",
              "      <td>106.250000</td>\n",
              "      <td>97.750000</td>\n",
              "      <td>0.0</td>\n",
              "      <td>1.085995e+09</td>\n",
              "    </tr>\n",
              "    <tr>\n",
              "      <th>5</th>\n",
              "      <td>6</td>\n",
              "      <td>Bitcoin</td>\n",
              "      <td>BTC</td>\n",
              "      <td>2013-05-04 23:59:59</td>\n",
              "      <td>115.000000</td>\n",
              "      <td>92.500000</td>\n",
              "      <td>98.099998</td>\n",
              "      <td>112.500000</td>\n",
              "      <td>0.0</td>\n",
              "      <td>1.250317e+09</td>\n",
              "    </tr>\n",
              "    <tr>\n",
              "      <th>6</th>\n",
              "      <td>7</td>\n",
              "      <td>Bitcoin</td>\n",
              "      <td>BTC</td>\n",
              "      <td>2013-05-05 23:59:59</td>\n",
              "      <td>118.800003</td>\n",
              "      <td>107.142998</td>\n",
              "      <td>112.900002</td>\n",
              "      <td>115.910004</td>\n",
              "      <td>0.0</td>\n",
              "      <td>1.288693e+09</td>\n",
              "    </tr>\n",
              "    <tr>\n",
              "      <th>7</th>\n",
              "      <td>8</td>\n",
              "      <td>Bitcoin</td>\n",
              "      <td>BTC</td>\n",
              "      <td>2013-05-06 23:59:59</td>\n",
              "      <td>124.663002</td>\n",
              "      <td>106.639999</td>\n",
              "      <td>115.980003</td>\n",
              "      <td>112.300003</td>\n",
              "      <td>0.0</td>\n",
              "      <td>1.249023e+09</td>\n",
              "    </tr>\n",
              "    <tr>\n",
              "      <th>8</th>\n",
              "      <td>9</td>\n",
              "      <td>Bitcoin</td>\n",
              "      <td>BTC</td>\n",
              "      <td>2013-05-07 23:59:59</td>\n",
              "      <td>113.444000</td>\n",
              "      <td>97.699997</td>\n",
              "      <td>112.250000</td>\n",
              "      <td>111.500000</td>\n",
              "      <td>0.0</td>\n",
              "      <td>1.240594e+09</td>\n",
              "    </tr>\n",
              "    <tr>\n",
              "      <th>9</th>\n",
              "      <td>10</td>\n",
              "      <td>Bitcoin</td>\n",
              "      <td>BTC</td>\n",
              "      <td>2013-05-08 23:59:59</td>\n",
              "      <td>115.779999</td>\n",
              "      <td>109.599998</td>\n",
              "      <td>109.599998</td>\n",
              "      <td>113.566002</td>\n",
              "      <td>0.0</td>\n",
              "      <td>1.264049e+09</td>\n",
              "    </tr>\n",
              "  </tbody>\n",
              "</table>\n",
              "</div>\n",
              "      <button class=\"colab-df-convert\" onclick=\"convertToInteractive('df-cae9893f-a3d0-4169-b88d-f7973d8efb60')\"\n",
              "              title=\"Convert this dataframe to an interactive table.\"\n",
              "              style=\"display:none;\">\n",
              "        \n",
              "  <svg xmlns=\"http://www.w3.org/2000/svg\" height=\"24px\"viewBox=\"0 0 24 24\"\n",
              "       width=\"24px\">\n",
              "    <path d=\"M0 0h24v24H0V0z\" fill=\"none\"/>\n",
              "    <path d=\"M18.56 5.44l.94 2.06.94-2.06 2.06-.94-2.06-.94-.94-2.06-.94 2.06-2.06.94zm-11 1L8.5 8.5l.94-2.06 2.06-.94-2.06-.94L8.5 2.5l-.94 2.06-2.06.94zm10 10l.94 2.06.94-2.06 2.06-.94-2.06-.94-.94-2.06-.94 2.06-2.06.94z\"/><path d=\"M17.41 7.96l-1.37-1.37c-.4-.4-.92-.59-1.43-.59-.52 0-1.04.2-1.43.59L10.3 9.45l-7.72 7.72c-.78.78-.78 2.05 0 2.83L4 21.41c.39.39.9.59 1.41.59.51 0 1.02-.2 1.41-.59l7.78-7.78 2.81-2.81c.8-.78.8-2.07 0-2.86zM5.41 20L4 18.59l7.72-7.72 1.47 1.35L5.41 20z\"/>\n",
              "  </svg>\n",
              "      </button>\n",
              "      \n",
              "  <style>\n",
              "    .colab-df-container {\n",
              "      display:flex;\n",
              "      flex-wrap:wrap;\n",
              "      gap: 12px;\n",
              "    }\n",
              "\n",
              "    .colab-df-convert {\n",
              "      background-color: #E8F0FE;\n",
              "      border: none;\n",
              "      border-radius: 50%;\n",
              "      cursor: pointer;\n",
              "      display: none;\n",
              "      fill: #1967D2;\n",
              "      height: 32px;\n",
              "      padding: 0 0 0 0;\n",
              "      width: 32px;\n",
              "    }\n",
              "\n",
              "    .colab-df-convert:hover {\n",
              "      background-color: #E2EBFA;\n",
              "      box-shadow: 0px 1px 2px rgba(60, 64, 67, 0.3), 0px 1px 3px 1px rgba(60, 64, 67, 0.15);\n",
              "      fill: #174EA6;\n",
              "    }\n",
              "\n",
              "    [theme=dark] .colab-df-convert {\n",
              "      background-color: #3B4455;\n",
              "      fill: #D2E3FC;\n",
              "    }\n",
              "\n",
              "    [theme=dark] .colab-df-convert:hover {\n",
              "      background-color: #434B5C;\n",
              "      box-shadow: 0px 1px 3px 1px rgba(0, 0, 0, 0.15);\n",
              "      filter: drop-shadow(0px 1px 2px rgba(0, 0, 0, 0.3));\n",
              "      fill: #FFFFFF;\n",
              "    }\n",
              "  </style>\n",
              "\n",
              "      <script>\n",
              "        const buttonEl =\n",
              "          document.querySelector('#df-cae9893f-a3d0-4169-b88d-f7973d8efb60 button.colab-df-convert');\n",
              "        buttonEl.style.display =\n",
              "          google.colab.kernel.accessAllowed ? 'block' : 'none';\n",
              "\n",
              "        async function convertToInteractive(key) {\n",
              "          const element = document.querySelector('#df-cae9893f-a3d0-4169-b88d-f7973d8efb60');\n",
              "          const dataTable =\n",
              "            await google.colab.kernel.invokeFunction('convertToInteractive',\n",
              "                                                     [key], {});\n",
              "          if (!dataTable) return;\n",
              "\n",
              "          const docLinkHtml = 'Like what you see? Visit the ' +\n",
              "            '<a target=\"_blank\" href=https://colab.research.google.com/notebooks/data_table.ipynb>data table notebook</a>'\n",
              "            + ' to learn more about interactive tables.';\n",
              "          element.innerHTML = '';\n",
              "          dataTable['output_type'] = 'display_data';\n",
              "          await google.colab.output.renderOutput(dataTable, element);\n",
              "          const docLink = document.createElement('div');\n",
              "          docLink.innerHTML = docLinkHtml;\n",
              "          element.appendChild(docLink);\n",
              "        }\n",
              "      </script>\n",
              "    </div>\n",
              "  </div>\n",
              "  "
            ]
          },
          "metadata": {},
          "execution_count": 35
        }
      ]
    },
    {
      "cell_type": "code",
      "source": [
        "import plotly.graph_objects as go\n",
        "fig = go.Figure(data=[go.Candlestick(x=df['Date'],\n",
        "                open=df['Open'],\n",
        "                high=df['High'],\n",
        "                low=df['Low'],\n",
        "                close=df['Close'])])\n",
        "\n",
        "\n",
        "fig.show()"
      ],
      "metadata": {
        "colab": {
          "base_uri": "https://localhost:8080/",
          "height": 542
        },
        "id": "gbbAJQd0U4vM",
        "outputId": "295ff63f-2262-44e4-9a1f-59e33969b84b"
      },
      "execution_count": 36,
      "outputs": [
        {
          "output_type": "display_data",
          "data": {
            "text/html": [
              "<html>\n",
              "<head><meta charset=\"utf-8\" /></head>\n",
              "<body>\n",
              "    <div>            <script src=\"https://cdnjs.cloudflare.com/ajax/libs/mathjax/2.7.5/MathJax.js?config=TeX-AMS-MML_SVG\"></script><script type=\"text/javascript\">if (window.MathJax) {MathJax.Hub.Config({SVG: {font: \"STIX-Web\"}});}</script>                <script type=\"text/javascript\">window.PlotlyConfig = {MathJaxConfig: 'local'};</script>\n",
              "        <script src=\"https://cdn.plot.ly/plotly-2.8.3.min.js\"></script>                <div id=\"d8a79d61-8c14-4cb6-94f8-c2f7d308effd\" class=\"plotly-graph-div\" style=\"height:525px; width:100%;\"></div>            <script type=\"text/javascript\">                                    window.PLOTLYENV=window.PLOTLYENV || {};                                    if (document.getElementById(\"d8a79d61-8c14-4cb6-94f8-c2f7d308effd\")) {                    Plotly.newPlot(                        \"d8a79d61-8c14-4cb6-94f8-c2f7d308effd\",                        [{\"close\":[144.5399932861328,139.0,116.98999786376952,105.20999908447266,97.75,112.5,115.91000366210938,112.3000030517578,111.5,113.56600189208984,112.66999816894533,117.1999969482422,115.24299621582033,115.0,117.9800033569336,111.5,114.22000122070312,118.76000213623048,123.01499938964844,123.4980010986328,121.98999786376952,122.0,122.87999725341795,123.88899993896484,126.6999969482422,133.1999969482422,131.97999572753906,133.47999572753906,129.7449951171875,129.0,132.3000030517578,128.7989959716797,129.0,129.3000030517578,122.29199981689452,122.22200012207033,121.41999816894533,121.6500015258789,118.0,111.5,108.3000030517578,100.0,106.3499984741211,108.9000015258789,108.1500015258789,104.0,99.97889709472656,99.98809814453124,99.51000213623048,101.6999969482422,107.4000015258789,108.25,110.1500015258789,109.5,108.3000030517578,107.5999984741211,102.73699951171876,103.9499969482422,104.0,101.43699645996094,94.64920043945312,94.99400329589844,96.61399841308594,88.05000305175781,90.13400268554688,77.52999877929688,80.52580261230469,68.43099975585938,70.27729797363281,74.56109619140625,76.51599884033203,76.69400024414062,86.76000213623047,88.9800033569336,93.59490203857422,98.13390350341795,94.69129943847656,98.40019989013672,97.45079803466795,98.5,90.58000183105467,92.16999816894533,89.39009857177734,90.7573013305664,91.61000061035156,95.55850219726562,94.51000213623048,96.9000015258789,96.02020263671876,94.11599731445312,99.75599670410156,101.1999969482422,107.98999786376952,106.08999633789062,104.0,104.5009994506836,104.00499725341795,105.1439971923828,106.22000122070312,106.75,106.75,103.0,102.8000030517578,103.0,105.0,106.63600158691406,109.0,112.56199645996094,109.98999786376952,108.99400329589844,113.5,113.5,119.0,121.20500183105467,123.3000030517578,121.1500015258789,118.5009994506836,120.04499816894533,122.11100006103516,120.05599975585938,126.5,122.62000274658205,122.38999938964844,133.49000549316406,135.35000610351562,138.33999633789062,135.85000610351562,136.77000427246094,126.73999786376952,126.43000030517578,119.1500015258789,124.1500015258789,121.66000366210938,127.11000061035156,125.91000366210938,135.25,133.1300048828125,134.97999572753906,129.22000122070312,130.3699951171875,131.72000122070312,131.66000366210938,131.47000122070312,129.64999389648438,127.04000091552734,127.43000030517578,129.1199951171875,125.9499969482422,127.25,128.22000122070312,128.3800048828125,133.77999877929688,134.77999877929688,137.33999633789062,133.0,132.17999267578125,114.12999725341795,123.62999725341795,129.00999450683594,128.5500030517578,129.0,126.94000244140624,126.0,130.69000244140625,130.58999633789062,130.89999389648438,135.19000244140625,138.1300048828125,140.52000427246094,145.24000549316406,142.5500030517578,146.25,155.9600067138672,172.4199981689453,174.61000061035156,182.2100067138672,193.75999450683597,213.6199951171875,198.22999572753903,186.69000244140625,177.32000732421875,196.44000244140625,198.5500030517578,204.38999938964844,199.97000122070312,204.0,206.17999267578125,206.22000122070312,215.0500030517578,229.1000061035156,245.2400054931641,262.5,296.4100036621094,338.1099853515625,339.1099853515625,326.6199951171875,342.44000244140625,360.3299865722656,407.3699951171875,420.2000122070313,417.9500122070313,440.2200012207031,492.1099853515625,703.5599975585938,584.6099853515625,590.8300170898438,722.4299926757812,771.4400024414062,797.8200073242188,774.25,799.1099853515625,928.0999755859376,1001.9600219726562,1031.949951171875,1131.969970703125,1129.4300537109375,955.8499755859376,1043.3299560546875,1078.280029296875,1151.1700439453125,1045.1099853515625,829.4500122070312,698.22998046875,795.8699951171875,893.1900024414062,988.510009765625,878.47998046875,873.260009765625,892.5800170898438,872.5999755859375,876.1199951171875,705.969970703125,682.1199951171875,522.7000122070312,691.9600219726562,625.3200073242188,605.6599731445312,617.1799926757812,673.4099731445312,665.5800170898438,682.2100219726562,761.97998046875,735.0700073242188,727.8300170898438,745.0499877929688,756.1300048828125,754.010009765625,771.4000244140625,802.3900146484375,818.719970703125,859.510009765625,933.530029296875,953.2899780273438,802.0,842.719970703125,846.8599853515625,868.47998046875,913.9500122070312,863.219970703125,841.2000122070312,833.27001953125,860.9000244140625,835.6300048828125,814.6400146484375,840.0,870.9600219726562,870.2000122070312,863.9099731445312,845.5900268554688,822.0399780273438,797.0700073242188,853.6099853515625,885.280029296875,771.3900146484375,812.510009765625,826.0,819.030029296875,829.9199829101562,832.5800170898438,825.3699951171875,823.8300170898438,827.9600219726562,811.9099731445312,781.5499877929688,712.4000244140625,673.9199829101562,682.9000244140625,681.030029296875,672.1699829101562,651.719970703125,605.239990234375,661.989990234375,650.9199829101562,616.6300048828125,626.27001953125,626.5999755859375,623.030029296875,556.1400146484375,574.1599731445312,605.4199829101562,605.8200073242188,546.3200073242188,538.7100219726562,582.6900024414062,578.77001953125,549.260009765625,565.6099853515625,559.7899780273438,667.760009765625,666.780029296875,665.510009765625,663.8599853515625,629.1500244140625,617.4500122070312,636.9600219726562,627.7899780273438,634.1099853515625,632.0999755859375,638.1400146484375,628.7999877929688,636.1199951171875,631.1099853515625,622.3729858398438,614.8319702148438,609.8880004882812,588.77001953125,571.489990234375,565.0399780273438,561.27197265625,583.4119873046875,583.9169921875,580.8270263671875,471.239013671875,495.6659851074219,491.1719970703125,460.2730102539063,457.0010070800781,478.375,437.1400146484375,444.7179870605469,447.5260009765625,461.9070129394531,460.4989929199219,449.4230041503906,453.08599853515625,442.7250061035156,365.1759948730469,420.9469909667969,421.1159973144531,414.06298828125,458.7869873046875,515.5859985351562,527.39501953125,495.9630126953125,479.6449890136719,501.5650024414063,498.1679992675781,495.7730102539063,487.9240112304688,491.3030090332031,500.4649963378906,461.4490051269531,458.60101318359375,436.3900146484375,440.2850036621094,447.2090148925781,447.6449890136719,457.760009765625,449.37701416015625,437.7619934082031,436.4030151367188,433.4819946289063,428.9620056152344,438.8210144042969,440.16900634765625,449.46099853515625,454.4330139160156,438.885986328125,441.4620056152344,440.6709899902344,443.9719848632813,447.25201416015625,448.0580139160156,448.9030151367188,446.2640075683594,446.1809997558594,485.7239990234375,491.7699890136719,524.5789794921875,520.2219848632812,525.1380004882812,571.5880126953125,583.4240112304688,571.2440185546875,577.06201171875,568.1799926757812,615.3250122070312,623.677001953125,630.22900390625,660.6179809570312,667.60498046875,641.614013671875,659.2579956054688,653.7020263671875,654.968994140625,656.1400146484375,649.1589965820312,653.1500244140625,633.02001953125,586.9520263671875,600.1630249023438,577.3579711914062,592.93701171875,592.18798828125,610.864013671875,607.9580078125,598.0709838867188,594.14599609375,594.9920043945312,602.2730102539062,593.9840087890625,582.3569946289062,566.3359985351562,581.1370239257812,597.260986328125,596.5490112304688,602.7150268554688,639.7969970703125,640.8060302734375,650.8790283203125,645.156005859375,630.6920166015625,631.4569702148438,635.8070068359375,624.0859985351562,624.8179931640625,624.5089721679688,616.7620239257812,632.0029907226562,633.7130126953125,626.4970092773438,619.3150024414062,621.5859985351562,616.7999877929688,623.0889892578125,628.7789916992188,628.5150146484375,623.9000244140625,622.2109985351562,621.551025390625,619.4149780273438,601.7329711914062,601.0889892578125,595.81298828125,593.8519897460938,585.6909790039062,584.7249755859375,567.2930297851562,586.2349853515625,594.916015625,589.3330078125,586.666015625,588.781982421875,585.4359741210938,584.6530151367188,588.8690185546875,592.5770263671875,589.3720092773438,591.0609741210938,576.3679809570312,569.6420288085938,546.6580200195312,505.9739990234375,497.010009765625,519.7080078125,491.7950134277344,461.4599914550781,485.2449951171875,511.9800109863281,517.2369995117188,514.0430297851562,498.0750122070313,508.2860107421875,502.4960021972656,511.5700073242188,511.1530151367188,507.8150024414063,508.5169982910156,504.2489929199219,477.7630004882813,474.8789978027344,477.4259948730469,477.58599853515625,489.6600036621094,483.3420104980469,484.8299865722656,482.2780151367188,474.6000061035156,475.260009765625,479.3590087890625,479.7489929199219,477.75299072265625,479.00201416015625,477.8919982910156,475.3710021972656,466.0570068359375,457.3340148925781,424.4400024414063,394.7959899902344,408.9039916992188,398.8210144042969,402.1520080566406,435.7909851074219,423.2049865722656,411.5740051269531,404.4249877929688,399.5199890136719,377.1809997558594,375.4670104980469,386.9440002441406,383.614990234375,375.0719909667969,359.5119934082031,328.8659973144531,320.510009765625,330.0790100097656,336.18701171875,352.94000244140625,365.0260009765625,361.56201171875,362.2990112304688,378.5490112304688,390.41400146484375,400.8699951171875,394.7730102539063,382.5559997558594,383.7579956054688,391.4419860839844,389.5459899902344,382.8450012207031,386.4750061035156,383.1579895019531,358.4169921875,358.3450012207031,347.27099609375,354.7040100097656,352.989013671875,357.6180114746094,335.59100341796875,345.30499267578125,338.3210144042969,325.7489929199219,325.8919982910156,327.5539855957031,330.49200439453125,339.4859924316406,349.2900085449219,342.4150085449219,345.4880065917969,363.2640075683594,366.9240112304688,367.6950073242188,423.5610046386719,420.7349853515625,397.8179931640625,376.1329956054688,387.8819885253906,387.4079895019531,375.197998046875,380.5549926757813,357.8399963378906,350.8479919433594,352.9200134277344,367.572998046875,376.9010009765625,375.3479919433594,368.3699951171875,369.6700134277344,376.4469909667969,375.4909973144531,378.0469970703125,379.2449951171875,381.3150024414063,375.010009765625,369.60400390625,376.85400390625,374.7850036621094,375.0950012207031,361.9089965820313,352.218994140625,346.364990234375,350.5060119628906,352.5419921875,347.3760070800781,351.6319885253906,345.3450012207031,327.06201171875,319.7760009765625,311.39599609375,317.8429870605469,329.9559936523437,320.8429870605469,331.885986328125,334.5719909667969,322.53399658203125,319.00799560546875,327.92401123046875,315.8630065917969,317.239013671875,312.6700134277344,310.73699951171875,320.1929931640625,314.2489929199219,315.0320129394531,281.0820007324219,264.19500732421875,274.4739990234375,286.1889953613281,294.3370056152344,283.3489990234375,290.4079895019531,274.7959899902344,265.6600036621094,267.7959899902344,225.86099243164065,178.10299682617188,209.843994140625,208.0970001220703,199.25999450683597,210.3390045166016,214.86099243164065,211.31500244140625,226.89700317382807,233.406005859375,232.8789978027344,247.8470001220703,253.71800231933597,273.4729919433594,263.4750061035156,233.9149932861328,233.51300048828125,226.4250030517578,217.4640045166016,226.9720001220703,238.22900390625,227.26800537109372,226.85299682617188,217.11099243164065,222.26600646972656,227.7539978027344,223.41200256347656,220.1100006103516,219.8390045166016,219.18499755859372,221.76400756835935,235.427001953125,257.3210144042969,234.8249969482422,233.84300231933597,243.6100006103516,236.3260040283203,240.2830047607422,243.7790069580078,244.53399658203125,235.9770050048828,238.8919982910156,238.7350006103516,237.47000122070312,236.42599487304688,253.8280029296875,254.26300048828125,260.2019958496094,275.6700134277344,281.7019958496094,273.0920104980469,276.1780090332031,272.7229919433594,276.260986328125,274.35400390625,289.60699462890625,291.760009765625,296.3789978027344,294.35400390625,285.3370056152344,281.885009765625,286.3930053710937,290.5929870605469,285.5050048828125,256.29901123046875,260.9280090332031,261.7489929199219,260.0249938964844,267.9599914550781,266.739990234375,245.59500122070312,246.19700622558597,248.5319976806641,247.0290069580078,252.79800415039065,242.71299743652344,247.5260009765625,244.2239990234375,247.27200317382807,253.0050048828125,254.32200622558597,253.69700622558597,260.5979919433594,255.49200439453125,253.17999267578125,245.02200317382807,243.67599487304688,236.07200622558597,236.552001953125,236.1529998779297,224.5870056152344,219.15899658203125,223.8329925537109,228.572998046875,222.8820037841797,223.3560028076172,222.6000061035156,224.62600708007807,235.2689971923828,234.17599487304688,236.4620056152344,231.26800537109372,226.38999938964844,219.42999267578125,229.28599548339844,225.85499572753903,225.80799865722656,236.1450042724609,232.07899475097656,234.92999267578125,240.3580017089844,239.01800537109372,236.1210021972656,229.7819976806641,237.33399963378903,243.86300659179688,241.83200073242188,240.29600524902344,242.1580047607422,241.11199951171875,236.3769989013672,236.9290008544922,237.60499572753903,236.1529998779297,236.802001953125,233.1280059814453,231.94700622558597,234.01800537109372,235.343994140625,240.34800720214844,238.8719940185547,240.9530029296875,237.1100006103516,237.11599731445312,237.2830047607422,237.4080047607422,237.0959930419922,233.34500122070312,230.19000244140625,222.92599487304688,225.8029937744141,225.87399291992188,224.32400512695312,224.95199584960935,225.61900329589844,222.8809967041016,228.48899841308597,229.04800415039065,228.8029937744141,229.7050018310547,229.98199462890625,232.4019927978516,233.54299926757807,236.822998046875,250.8950042724609,249.28399658203125,249.0070037841797,244.6060028076172,245.2120056152344,243.94400024414065,246.9900054931641,244.29600524902344,240.51499938964844,242.7989959716797,243.593994140625,250.9900054931641,249.0110015869141,257.0639953613281,263.0719909667969,258.6210021972656,255.41200256347656,256.33599853515625,260.885986328125,271.9129943847656,269.0299987792969,266.2070007324219,270.7850036621094,269.2279968261719,284.8940124511719,293.114990234375,310.86700439453125,292.0539855957031,287.4639892578125,285.8290100097656,278.0889892578125,279.47198486328125,274.9010009765625,273.614013671875,278.9809875488281,275.8330078125,277.22198486328125,276.04901123046875,288.27801513671875,288.6969909667969,292.6860046386719,293.6239929199219,294.427001953125,289.5899963378906,287.72198486328125,284.6499938964844,281.6010131835937,282.614013671875,281.2269897460937,285.2179870605469,281.8819885253906,278.5769958496094,279.5849914550781,260.9970092773437,265.0830078125,264.4700012207031,270.385986328125,266.3760070800781,264.0799865722656,265.67999267578125,261.5509948730469,258.5069885253906,257.9760131835937,211.07899475097656,226.6840057373047,235.3500061035156,232.56900024414065,230.38999938964844,228.16900634765625,210.4949951171875,221.60899353027344,225.83099365234372,224.7689971923828,231.39599609375,229.77999877929688,228.7610015869141,230.05599975585935,228.1210021972656,229.28399658203125,227.18299865722656,230.29800415039065,235.0189971923828,239.83999633789065,239.8470001220703,243.60699462890625,238.16799926757807,238.4770050048828,240.10699462890625,235.22900390625,230.51199340820312,230.6439971923828,230.3040008544922,229.09100341796875,229.80999755859372,232.9750061035156,231.4929962158203,231.2120056152344,227.0850067138672,230.6179962158203,230.2830047607422,234.5290069580078,235.1439971923828,234.33999633789065,232.7570037841797,239.1419982910156,236.6869964599609,236.05999755859372,237.5489959716797,237.29299926757807,238.72999572753903,238.25900268554688,240.38299560546875,246.06300354003903,242.968994140625,242.3040008544922,243.93099975585935,244.9409942626953,247.0500030517578,245.30799865722656,249.50799560546875,251.98899841308597,254.32000732421875,262.8689880371094,270.6400146484375,261.6430053710937,263.43701171875,269.4630126953125,266.2720031738281,274.02301025390625,276.4960021972656,281.65399169921875,283.67999267578125,285.29998779296875,293.7879943847656,304.6180114746094,313.8550109863281,328.0150146484375,314.1659851074219,325.4309997558594,361.1889953613281,403.4169921875,411.56298828125,386.35400390625,374.4700012207031,386.4819946289063,373.3680114746094,380.2569885253906,336.8190002441406,311.0840148925781,338.1520080566406,336.75299072265625,332.906005859375,320.1659851074219,330.7510070800781,335.093994140625,334.5899963378906,326.14898681640625,322.0220031738281,326.927001953125,324.5360107421875,323.0459899902344,320.0459899902344,328.2059936523437,352.6839904785156,358.0419921875,357.3810119628906,371.29400634765625,377.3210144042969,362.4880065917969,359.18701171875,361.0459899902344,363.1830139160156,388.9490051269531,388.7829895019531,395.5360107421875,415.56298828125,417.56298828125,415.47900390625,451.93798828125,434.99700927734375,433.7550048828125,444.1820068359375,465.3210144042969,454.9339904785156,456.0780029296875,463.6159973144531,462.3219909667969,442.68499755859375,438.6390075683594,436.5719909667969,442.4010009765625,454.9849853515625,455.6530151367188,417.2739868164063,422.822998046875,422.2789916992188,432.9830017089844,426.6199951171875,430.5669860839844,434.3340148925781,433.43798828125,430.010986328125,433.0910034179688,431.9599914550781,429.1050109863281,458.0480041503906,453.2300109863281,447.6109924316406,447.9909973144531,448.4280090332031,435.6900024414063,432.3710021972656,430.3059997558594,364.33099365234375,387.5360107421875,382.2990112304688,387.1679992675781,380.1489868164063,420.2300109863281,410.2619934082031,382.4920043945313,387.4909973144531,402.9710083007813,391.72601318359375,392.1530151367188,394.9719848632813,380.28900146484375,379.4739990234375,378.2550048828125,368.7669982910156,373.0559997558594,374.447998046875,369.9490051269531,389.593994140625,386.5490112304688,376.5220031738281,376.6199951171875,373.4469909667969,376.0289916992188,381.6489868164063,379.6539916992188,384.2630004882813,391.8599853515625,407.2300109863281,400.18499755859375,407.4880065917969,416.3219909667969,422.37298583984375,420.7850036621094,437.16400146484375,438.7980041503906,437.74798583984375,420.7359924316406,424.9549865722656,424.54400634765625,432.1520080566406,432.5190124511719,433.5039978027344,437.6969909667969,435.12298583984375,423.989013671875,421.6510009765625,410.9389953613281,400.5700073242188,407.7070007324219,414.3210144042969,413.9719848632813,414.8599853515625,417.1310119628906,421.6900024414063,411.6239929199219,414.0650024414063,416.43798828125,416.8299865722656,417.010986328125,420.6210021972656,409.5480041503906,410.4440002441406,413.7550048828125,413.3070068359375,418.0889892578125,418.0409851074219,416.3940124511719,417.177001953125,417.9450073242188,426.7650146484375,424.2309875488281,416.5159912109375,414.8160095214844,416.72900390625,417.9599914550781,420.87298583984375,420.9039916992188,421.4440002441406,424.0299987792969,423.4129943847656,422.7449951171875,420.3489990234375,419.4110107421875,421.5639953613281,422.4830017089844,425.1900024414063,423.7340087890625,424.2820129394531,429.7130126953125,430.5719909667969,427.3989868164063,428.5910034179688,435.5090026855469,441.3890075683594,449.4249877929688,445.7369995117188,450.2820129394531,458.5549926757813,461.4259948730469,466.0889892578125,444.68701171875,449.010986328125,455.0969848632813,448.3179931640625,451.875,444.66900634765625,450.3039855957031,446.7219848632813,447.97601318359375,459.6029968261719,458.5360107421875,458.5480041503906,460.4830017089844,450.8949890136719,452.7279968261719,454.7659912109375,455.6700134277344,455.6709899902344,457.5679931640625,454.1629943847656,453.7829895019531,454.6189880371094,438.7149963378906,442.6759948730469,443.18798828125,439.322998046875,444.1549987792969,445.9809875488281,449.5989990234375,453.3840026855469,473.4639892578125,530.0399780273438,526.2329711914062,533.864013671875,531.385986328125,536.9199829101562,537.9719848632812,569.1939697265625,572.7269897460938,574.9769897460938,585.5369873046875,576.5969848632812,581.64501953125,574.6300048828125,577.469970703125,606.7269897460938,672.7839965820312,704.3759765625,685.5590209960938,694.468994140625,766.3079833984375,748.9089965820312,756.2269897460938,763.781005859375,737.2260131835938,666.6519775390625,596.1160278320312,623.9769897460938,665.2990112304688,665.1229858398438,629.3670043945312,655.2750244140625,647.0009765625,639.8900146484375,673.3369750976562,676.2960205078125,703.7020263671875,658.6640014648438,683.6619873046875,670.6270141601562,677.3309936523438,640.56201171875,666.5230102539062,650.9600219726562,649.3599853515625,647.6589965820312,664.551025390625,654.468017578125,658.0780029296875,663.2550048828125,660.7670288085938,679.458984375,673.1060180664062,672.864013671875,665.6849975585938,665.0120239257812,650.6190185546875,655.5560302734375,661.2849731445312,654.0969848632812,651.7839965820312,654.3519897460938,655.0349731445312,656.9920043945312,655.0469970703125,624.6810302734375,606.27197265625,547.4650268554688,566.35498046875,578.2890014648438,575.0430297851562,587.7780151367188,592.6900024414062,591.0540161132812,587.801025390625,592.10302734375,589.1199951171875,587.5590209960938,585.5880126953125,570.4730224609375,567.239990234375,577.4390258789062,573.2160034179688,574.3179931640625,575.6300048828125,581.697021484375,581.3079833984375,586.7529907226562,583.4149780273438,580.1820068359375,577.760986328125,579.6510009765625,569.947021484375,573.9119873046875,574.1069946289062,577.5029907226562,575.4719848632812,572.302978515625,575.5369873046875,598.2119750976562,608.6339721679688,606.5900268554688,610.4359741210938,614.5440063476562,626.3159790039062,622.8610229492188,623.5089721679688,606.718994140625,608.2429809570312,609.2410278320312,610.6840209960938,607.155029296875,606.9730224609375,605.9840087890625,609.8740234375,609.2269897460938,608.31201171875,597.1489868164062,596.2979736328125,602.8419799804688,602.625,600.8259887695312,608.0430297851562,606.166015625,604.72802734375,605.6929931640625,609.7349853515625,613.9829711914062,610.8920288085938,612.1329956054688,610.2039794921875,612.510986328125,613.02099609375,617.1209716796875,619.1079711914062,616.7520141601562,618.9940185546875,641.072021484375,636.1920166015625,636.7860107421875,640.3779907226562,638.64599609375,641.6309814453125,639.1929931640625,637.9600219726562,630.52001953125,630.8569946289062,632.8280029296875,657.2940063476562,657.0709838867188,653.760986328125,657.5880126953125,678.3040161132812,688.31298828125,689.6510009765625,714.47900390625,701.864013671875,700.9719848632812,729.7930297851562,740.8289794921875,688.7000122070312,703.2349853515625,703.4180297851562,711.52197265625,703.1309814453125,709.8480224609375,723.2730102539062,715.5339965820312,716.4110107421875,705.0540161132812,702.031005859375,705.02099609375,711.6190185546875,744.197998046875,740.9769897460938,751.5850219726562,751.6160278320312,731.0260009765625,739.2479858398438,751.3469848632812,744.593994140625,740.2890014648438,741.6489868164062,735.3820190429688,732.0349731445312,735.81298828125,735.60400390625,745.6909790039062,756.7739868164062,777.9439697265625,771.155029296875,773.8720092773438,758.7000122070312,764.2239990234375,768.1320190429688,770.8099975585938,772.7940063476562,774.6500244140625,769.7310180664062,780.0869750976562,780.5560302734375,781.4810180664062,778.0880126953125,784.906982421875,790.8289794921875,790.530029296875,792.7139892578125,800.8759765625,834.281005859375,864.5399780273438,921.9840087890624,898.822021484375,896.1829833984375,907.6099853515624,933.197998046875,975.9210205078124,973.4970092773438,961.2379760742188,963.7429809570312,998.3250122070312,1021.75,1043.8399658203125,1154.72998046875,1013.3800048828124,902.2009887695312,908.5850219726562,911.198974609375,902.8280029296876,907.6790161132812,777.7570190429688,804.833984375,823.9840087890625,818.4119873046875,821.7979736328125,831.5339965820312,907.93798828125,886.6179809570312,899.072998046875,895.0260009765625,921.7890014648438,924.6729736328124,921.0120239257812,892.68701171875,901.5419921875,917.5859985351562,919.75,921.5900268554688,919.4959716796876,920.3820190429688,970.4030151367188,989.0230102539062,1011.7999877929688,1029.9100341796875,1042.9000244140625,1027.3399658203125,1038.1500244140625,1061.3499755859375,1063.0699462890625,994.3829956054688,988.6740112304688,1004.4500122070312,999.1810302734376,990.6420288085938,1004.5499877929688,1007.47998046875,1027.43994140625,1046.2099609375,1054.4200439453125,1047.8699951171875,1079.97998046875,1115.300048828125,1117.43994140625,1166.719970703125,1173.6800537109375,1143.8399658203125,1165.199951171875,1179.969970703125,1179.969970703125,1222.5,1251.010009765625,1274.989990234375,1255.1500244140625,1267.1199951171875,1272.8299560546875,1223.5400390625,1150.0,1188.489990234375,1116.719970703125,1175.8299560546875,1221.3800048828125,1231.9200439453125,1240.0,1249.6099853515625,1187.81005859375,1100.22998046875,973.8179931640624,1036.739990234375,1054.22998046875,1120.5400390625,1049.1400146484375,1038.5899658203125,937.52001953125,972.7789916992188,966.7249755859376,1045.77001953125,1047.1500244140625,1039.969970703125,1026.4300537109375,1071.7900390625,1080.5,1102.1700439453125,1143.81005859375,1133.25,1124.780029296875,1182.6800537109375,1176.9000244140625,1175.949951171875,1187.8699951171875,1187.1300048828125,1205.010009765625,1200.3699951171875,1169.280029296875,1167.5400390625,1172.52001953125,1182.93994140625,1193.9100341796875,1211.6700439453125,1210.2900390625,1229.0799560546875,1222.050048828125,1231.7099609375,1207.2099609375,1250.1500244140625,1265.489990234375,1281.0799560546875,1317.72998046875,1316.47998046875,1321.7900390625,1347.8900146484375,1421.5999755859375,1452.8199462890625,1490.0899658203125,1537.6700439453125,1555.449951171875,1578.800048828125,1596.7099609375,1723.3499755859375,1755.3599853515625,1787.1300048828125,1848.5699462890625,1724.239990234375,1804.9100341796875,1808.9100341796875,1738.4300537109375,1734.449951171875,1839.0899658203125,1888.6500244140625,1987.7099609375,2084.72998046875,2041.199951171875,2173.39990234375,2320.419921875,2443.639892578125,2304.97998046875,2202.419921875,2038.8699951171875,2155.800048828125,2255.610107421875,2175.469970703125,2286.409912109375,2407.8798828125,2488.550048828125,2515.35009765625,2511.81005859375,2686.81005859375,2863.199951171875,2732.159912109375,2805.6201171875,2823.81005859375,2947.7099609375,2958.110107421875,2659.6298828125,2717.02001953125,2506.3701171875,2464.580078125,2518.56005859375,2655.8798828125,2548.2900390625,2589.60009765625,2721.7900390625,2689.10009765625,2705.409912109375,2744.909912109375,2608.719970703125,2589.409912109375,2478.449951171875,2552.449951171875,2574.7900390625,2539.320068359375,2480.840087890625,2434.550048828125,2506.469970703125,2564.06005859375,2601.639892578125,2601.989990234375,2608.56005859375,2518.659912109375,2571.340087890625,2518.43994140625,2372.56005859375,2337.7900390625,2398.840087890625,2357.89990234375,2233.340087890625,1998.8599853515625,1929.8199462890625,2228.409912109375,2318.8798828125,2273.429931640625,2817.60009765625,2667.760009765625,2810.1201171875,2730.39990234375,2754.860107421875,2576.47998046875,2529.449951171875,2671.780029296875,2809.010009765625,2726.449951171875,2757.179931640625,2875.340087890625,2718.260009765625,2710.669921875,2804.72998046875,2895.889892578125,3252.909912109375,3213.93994140625,3378.93994140625,3419.93994140625,3342.469970703125,3381.280029296875,3650.6201171875,3884.7099609375,4073.260009765625,4325.1298828125,4181.93017578125,4376.6298828125,4331.68994140625,4160.6201171875,4193.7001953125,4087.659912109375,4001.739990234375,4100.52001953125,4151.52001953125,4334.68017578125,4371.60009765625,4352.39990234375,4382.8798828125,4382.66015625,4579.02001953125,4565.2998046875,4703.39013671875,4892.009765625,4578.77001953125,4582.9599609375,4236.31005859375,4376.52978515625,4597.1201171875,4599.8798828125,4228.75,4226.06005859375,4122.93994140625,4161.27001953125,4130.81005859375,3882.590087890625,3154.949951171875,3637.52001953125,3625.0400390625,3582.8798828125,4065.199951171875,3924.969970703125,3905.949951171875,3631.0400390625,3630.699951171875,3792.39990234375,3682.840087890625,3926.070068359375,3892.35009765625,4200.669921875,4174.72998046875,4163.06982421875,4338.7099609375,4403.740234375,4409.31982421875,4317.47998046875,4229.35986328125,4328.41015625,4370.81005859375,4426.89013671875,4610.47998046875,4772.02001953125,4781.990234375,4826.47998046875,5446.91015625,5647.2099609375,5831.7900390625,5678.18994140625,5725.58984375,5605.509765625,5590.68994140625,5708.52001953125,6011.4501953125,6031.60009765625,6008.419921875,5930.31982421875,5526.64013671875,5750.7998046875,5904.830078125,5780.89990234375,5753.08984375,6153.85009765625,6130.52978515625,6468.39990234375,6767.31005859375,7078.5,7207.759765625,7379.9501953125,7407.41015625,7022.759765625,7144.3798828125,7459.68994140625,7143.580078125,6618.14013671875,6357.60009765625,5950.06982421875,6559.490234375,6635.75,7315.5400390625,7871.68994140625,7708.990234375,7790.14990234375,8036.490234375,8200.6396484375,8071.259765625,8253.5498046875,8038.77001953125,8253.6904296875,8790.919921875,9330.5498046875,9818.349609375,10058.7998046875,9888.6103515625,10233.599609375,10975.599609375,11074.599609375,11323.2001953125,11657.2001953125,11916.7001953125,14291.5,17899.69921875,16569.400390625,15178.2001953125,15455.400390625,16936.80078125,17415.400390625,16408.19921875,16564.0,17706.900390625,19497.400390625,19140.80078125,19114.19921875,17776.69921875,16624.599609375,15802.900390625,13831.7998046875,14699.2001953125,13925.7998046875,14026.599609375,16099.7998046875,15838.5,14606.5,14656.2001953125,12952.2001953125,14156.400390625,13657.2001953125,14982.099609375,15201.0,15599.2001953125,17429.5,17527.0,16477.599609375,15170.099609375,14595.400390625,14973.2998046875,13405.7998046875,13980.599609375,14360.2001953125,13772.0,13819.7998046875,11490.5,11188.599609375,11474.900390625,11607.400390625,12899.2001953125,11600.099609375,10931.400390625,10868.400390625,11359.400390625,11259.400390625,11171.400390625,11440.7001953125,11786.2998046875,11296.400390625,10106.2998046875,10221.099609375,9170.5400390625,8830.75,9174.91015625,8277.009765625,6955.27001953125,7754.0,7621.2998046875,8265.58984375,8736.98046875,8621.900390625,8129.97021484375,8926.5703125,8598.3095703125,9494.6298828125,10166.400390625,10233.900390625,11112.7001953125,10551.7998046875,11225.2998046875,11403.7001953125,10690.400390625,10005.0,10301.099609375,9813.0703125,9664.73046875,10366.7001953125,10725.599609375,10397.900390625,10951.0,11086.400390625,11489.7001953125,11512.599609375,11573.2998046875,10779.900390625,9965.5703125,9395.009765625,9337.5498046875,8866.0,9578.6298828125,9205.1201171875,9194.849609375,8269.8095703125,8300.8603515625,8338.349609375,7916.8798828125,8223.6796875,8630.650390625,8913.4697265625,8929.2802734375,8728.4697265625,8879.6201171875,8668.1201171875,8495.7802734375,8209.400390625,7833.0400390625,7954.47998046875,7165.7001953125,6890.52001953125,6973.52978515625,6844.22998046875,7083.7998046875,7456.10986328125,6853.83984375,6811.47021484375,6636.31982421875,6911.08984375,7023.52001953125,6770.72998046875,6834.759765625,6968.31982421875,7889.25,7895.9599609375,7986.240234375,8329.1103515625,8058.669921875,7902.08984375,8163.419921875,8294.3095703125,8845.830078125,8895.580078125,8802.4599609375,8930.8798828125,9697.5,8845.740234375,9281.509765625,8987.0498046875,9348.48046875,9419.080078125,9240.5498046875,9119.009765625,9235.919921875,9743.8603515625,9700.759765625,9858.150390625,9654.7998046875,9373.009765625,9234.8203125,9325.1796875,9043.9404296875,8441.490234375,8504.8896484375,8723.9404296875,8716.7900390625,8510.3798828125,8368.830078125,8094.31982421875,8250.9697265625,8247.1796875,8513.25,8418.990234375,8041.77978515625,7557.81982421875,7587.33984375,7480.14013671875,7355.8798828125,7368.22021484375,7135.990234375,7472.58984375,7406.52001953125,7494.169921875,7541.4501953125,7643.4501953125,7720.25,7514.47021484375,7633.759765625,7653.97998046875,7678.240234375,7624.919921875,7531.97998046875,6786.02001953125,6906.919921875,6582.35986328125,6349.89990234375,6675.35009765625,6456.580078125,6550.16015625,6499.27001953125,6734.81982421875,6769.93994140625,6776.5498046875,6729.740234375,6083.68994140625,6162.47998046875,6173.22998046875,6249.18017578125,6093.669921875,6157.1298828125,5903.43994140625,6218.2998046875,6404.0,6385.81982421875,6614.18017578125,6529.58984375,6597.5498046875,6639.14013671875,6673.5,6856.93017578125,6773.8798828125,6741.75,6329.9501953125,6394.7099609375,6228.81005859375,6238.0498046875,6276.1201171875,6359.64013671875,6741.75,7321.0400390625,7370.77978515625,7466.85986328125,7354.1298828125,7419.2900390625,7418.490234375,7711.10986328125,8424.26953125,8181.39013671875,7951.580078125,8165.009765625,8192.150390625,8218.4599609375,8180.48,7780.44,7624.91,7567.15,7434.39,7032.85,7068.48,6951.8,6753.12,6305.8,6568.23,6184.71,6295.73,6322.69,6297.57,6199.71,6308.52,6334.73,6580.63,6423.76,6506.07,6308.53,6488.76,6376.71,6534.88,6719.96,6763.19,6707.26,6884.64,7096.28,7047.16,6978.23,7037.58,7193.25,7272.72,7260.06,7361.66,6792.83,6529.17,6467.07,6225.98,6300.86,6329.7,6321.2,6351.8,6517.31,6512.71,6543.2,6517.18,6281.2,6371.3,6398.54,6519.67,6734.95,6721.98,6710.63,6595.41,6446.47,6495.0,6676.75,6644.13,6601.96,6625.56,6589.62,6556.1,6502.59,6576.69,6622.48,6588.31,6602.95,6652.23,6642.64,6585.53,6256.24,6274.58,6285.99,6290.93,6596.54,6596.11,6544.43,6476.71,6465.41,6489.19,6482.35,6487.16,6475.74,6495.84,6476.29,6474.75,6480.38,6486.39,6332.63,6334.27,6317.61,6377.78,6388.44,6361.26,6376.13,6419.66,6461.01,6530.14,6453.72,6385.62,6409.22,6411.27,6371.27,6359.49,5738.35,5648.03,5575.55,5554.33,5623.54,4871.49,4451.87,4602.17,4365.94,4347.11,3880.76,4009.97,3779.13,3820.72,4257.42,4278.84645524,4017.26845712,4214.67193177,4139.8780641,3894.1309069,3956.89386975,3753.99482663,3521.10172384,3419.93720035,3476.11471452,3614.23427278,3502.65599577,3424.58807495,3486.95014412,3313.67725772,3242.48476281,3236.76164502,3252.83902595,3545.86476058,3696.05912776,3745.95076478,4134.44120304,3896.54371704,4014.18251388,3998.98034184,4078.59919478,3815.49060966,3857.29751969,3654.83353854,3923.91859424,3820.40868219,3865.95257679,3742.70033544,3843.51996727,3943.40933686,3836.74131867,3857.71761887,3845.19446017,4076.63268458,4025.24828708,4030.84799935,4035.29636921,3678.92468128,3687.3654818,3661.30098975,3552.95306759,3706.05222041,3630.67522467,3655.00688578,3678.56397636,3657.83943502,3728.56836493,3601.0135915,3576.03243928,3604.57705248,3585.12306636,3600.86550122,3599.7658879,3602.46043861,3583.96576317,3470.45054223,3448.11702209,3486.18175093,3457.79274724,3487.94538683,3521.06078726,3464.01332586,3459.15414635,3466.35743916,3413.7677183,3399.47164359,3666.78035061,3671.20370545,3690.18824383,3648.43062774,3653.52864497,3632.07060268,3616.88097021,3620.81075285,3629.78749138,3673.83629289,3915.71447331,3947.09440657,3999.82050882,3954.1182433,4005.52660406,4142.52692999,3810.42743065,3882.69629339,3854.35793575,3851.04747978,3854.78528208,3859.58375221,3864.41510673,3847.17569934,3761.55701842,3896.37502308,3903.9425832,3911.4842891,3901.13162355,3963.31374243,3951.59982769,3905.22731979,3909.15620907,3906.71716859,3924.369118,3960.91118728,4048.72590374,4025.22897966,4032.50738522,4071.19020004,4087.47629856,4029.32690706,4023.96816173,4035.82635079,4022.1682822,3963.07065416,3985.08080287,4087.06622992,4069.10714977,4098.37454059,4106.66008466,4105.40429618,4158.18307045,4879.87782845,4973.02181522,4922.79878778,5036.68110011,5059.81718799,5198.89699014,5289.77104039,5204.95837847,5324.5518687,5064.48767243,5089.53891201,5096.58656276,5167.72236684,5067.10847228,5235.55941893,5251.93818854,5298.38569881,5303.81261613,5337.8861323,5314.5314532,5399.36541009,5572.36206051,5464.86664182,5210.51555862,5279.34821147,5268.29106346,5285.13900822,5247.35253746,5350.72669668,5402.69709069,5505.28367176,5768.28940693,5831.16747167,5795.70842926,5746.80700343,5829.50151628,5982.45732286,6174.52868876,6378.8489737,7204.77169716,6972.37152291,7814.91513992,7994.41615632,8205.16749484,7884.90929094,7343.89571659,7271.20790408,8197.68969114,7978.30907244,7963.32777911,7680.06654589,7881.84672105,7987.37156583,8052.54385907,8673.21603511,8805.7783766,8719.9617362,8659.48775584,8319.47222898,8574.50164907,8564.01647182,8742.95810038,8208.99482964,7707.77077085,7824.23153913,7822.02338228,8043.95135807,7954.12772355,7688.07711075,8000.32982299,7927.71435114,8145.85747373,8230.92383068,8693.83281543,8838.37523367,8994.48801293,9320.35218253,9081.76285149,9273.52176614,9527.16035008,10144.5567168,10701.691013,10855.3710156,11011.1024485,11790.916533,13016.2317442,11182.8062855,12407.331998,11959.3709764,10817.1555981,10583.1345195,10801.6779238,11961.2693412,11215.4375483,10978.4599518,11208.5508454,11450.8467553,12285.958217,12573.8129407,12156.5126313,11358.661752,11815.9866867,11392.3793357,10256.0582756,10895.0893874,9477.64204235,9693.80272448,10666.4828491,10530.7326264,10767.1395226,10599.1053965,10343.1061684,9900.76801058,9811.92618837,9911.84226491,9870.30353766,9477.67767811,9552.86043541,9519.14591371,9607.42368665,10085.6277491,10399.6694229,10518.1746772,10821.7265103,10970.1842157,11805.6537253,11478.1693461,11941.9683406,11966.407405,11862.93676,11354.0242177,11523.5793784,11382.6159562,10895.8304358,10051.7039313,10311.545429,10374.3393471,10231.7438454,10345.8103795,10916.0538702,10763.2326304,10138.049355,10131.0561021,10407.965329,10159.9605385,10138.517665,10370.8201605,10185.4998997,9754.42327325,9510.20054413,9598.17364826,9630.66384768,9757.97031807,10346.7607927,10623.5401172,10594.4933536,10575.533284,10353.3025592,10517.254784,10441.275979,10334.9741628,10115.9757913,10178.3718893,10410.1268031,10360.5472773,10358.0491621,10347.7129074,10276.7935649,10241.2721545,10198.2484072,10266.4149694,10181.6413094,10019.7169101,10070.3921064,9729.32376435,8620.56642733,8486.99297206,8118.96756783,8251.84555744,8245.91515478,8104.18567564,8293.86774062,8343.2766814,8393.04164486,8259.99197863,8205.93924121,8151.50052921,7988.15595888,8245.622933,8228.7831528,8595.73981722,8586.47342543,8321.75671178,8336.55527417,8321.00574668,8374.6864467,8205.36931588,8047.52686305,8103.91137325,7973.20744597,7988.56044241,8222.07826034,8243.72113905,8078.20332194,7514.67201276,7493.48873154,8660.70063696,9244.97220867,9551.7149631,9256.14838876,9427.68758384,9205.72655905,9199.58483269,9261.104352,9324.71776331,9235.35487947,9412.61187106,9342.52717939,9360.87991187,9267.56114253,8804.88071936,8813.58248677,9055.52605732,8757.78854226,8815.66253925,8808.2625823,8708.09509517,8491.99201234,8550.76055694,8577.9757816,8309.28598342,8206.14591807,8027.26824331,7642.74994484,7296.57756843,7397.7968154,7047.91688176,7146.13390214,7218.37133433,7531.6636446,7463.1061283,7761.24360172,7569.63012202,7424.29226516,7321.98811242,7320.1454684,7252.03458617,7448.30752084,7546.99669772,7556.23803387,7564.3454032,7400.89935576,7278.1197833,7217.4271152,7243.13436273,7269.68455922,7124.67396997,7152.30184412,6932.48038982,6640.51524608,7276.80277047,7202.84436364,7218.81638679,7191.15846913,7511.58904232,7355.62826671,7322.5324589,7275.15572845,7238.96702501,7290.08851803,7317.99003408,7422.65258898,7292.99507783,7193.59897843,7200.17439274,6985.47000061,7344.88418341,7410.65656642,7411.31732676,7769.21903905,8163.69223944,8079.86277673,7879.07152428,8166.55414039,8037.53738872,8192.49400532,8144.19451744,8827.76442606,8807.01027532,8723.78576573,8929.0376776,8942.80890321,8706.24512993,8657.64293942,8745.89478833,8680.87604222,8406.5160678,8445.43428152,8367.84777344,8596.82983316,8909.81917753,9358.59031703,9316.62950445,9508.9935947,9350.52936518,9392.87536841,9344.36529292,9293.52108908,9180.9629665,9613.42428895,9729.80223149,9795.94377253,9865.11946905,10116.673759,9856.61149362,10208.2362609,10326.0545246,10214.3794638,10312.1160909,9889.42462838,9934.43339025,9690.14261814,10141.9963705,9633.38688518,9608.47590343,9686.44119763,9663.18182933,9924.51522822,9650.17480677,9341.70516876,8820.52220005,8784.49384867,8672.45534996,8599.50861972,8562.45405008,8869.67031078,8787.78645576,8755.24589461,9078.76279174,9122.54557333,8909.9536515,8108.11629101,7923.6447033,7909.72939346,7911.43012933,4970.78790105,5563.70689169,5200.36626392,5392.31488002,5014.47997748,5225.62919259,5238.43857664,6191.19295222,6198.77820508,6185.06651501,5830.25479765,6416.31475839,6734.80378045,6681.06312656,6716.44054866,6469.79813509,6242.1938684,5922.0431227,6429.84193389,6438.64476637,6606.77626829,6793.62459642,6733.3873906,6867.52731596,6791.12944093,7271.7811527,7176.41450049,7334.09845346,7302.0895105,6865.49337195,6859.08296343,6971.09159108,6845.03769683,6842.42786097,6642.10989286,7116.80421777,7096.18465879,7257.66485847,7189.42482356,6881.95869275,6880.32347375,7117.20747869,7429.72464927,7550.90102725,7569.93603405,7679.86720422,7795.60083451,7807.05845106,8801.03776688,8658.55417975,8864.76680793,8988.5962069,8897.46850985,8912.65460539,9003.07017834,9268.76208066,9951.5187451,9842.66636785,9593.89673363,8756.43114193,8601.79620238,8804.47781074,9269.98770576,9733.72147137,9328.19722645,9377.0140257,9670.73937122,9726.5748149,9729.0379192,9522.98115678,9081.76202252,9182.57751787,9209.28742769,8790.36800074,8906.93476142,8835.05306073,9181.01794762,9525.7510947,9439.12439045,9700.41407169,9461.05891806,10167.2681012,9529.80414872,9656.71776526,9800.63659532,9665.53278908,9653.67926335,9758.8524174,9771.48948366,9795.70019463,9870.09445278,9321.78129819,9480.84378943,9475.27733834,9386.78789214,9450.70198692,9538.0243743,9480.25536624,9411.84046197,9288.01871603,9332.340762,9303.62971409,9648.71760979,9629.65836578,9313.61034868,9264.81304308,9162.91760386,9045.39095672,9143.58219104,9190.85446467,9137.99340026,9228.32559024,9123.41015432,9087.30391103,9132.48795051,9073.94286936,9375.47475925,9252.27750386,9428.3330848,9277.96790642,9278.8078672,9240.34632654,9276.49985018,9243.61385509,9243.21341642,9192.83736784,9132.22786293,9151.39223963,9159.03990531,9185.81691242,9164.2313647,9374.88752808,9525.36344997,9581.07201141,9536.89268563,9677.11349729,9905.16724705,10990.8733998,10912.8230505,11100.4681253,11111.2142899,11323.4664207,11759.5927707,11053.613901,11246.3487749,11205.8929179,11747.0228312,11779.7732574,11601.4727146,11754.0458135,11675.7393433,11878.1113253,11410.5256775,11584.9345762,11784.1373895,11768.8706193,11865.69857,11892.8040631,12254.4019083,11991.2332456,11758.2835921,11878.3716211,11592.4890449,11681.8255623,11664.8479948,11774.5958414,11366.1350817,11488.3634896,11323.3970324,11542.4997333,11506.8653177,11711.506161,11680.8204905,11970.4787405,11414.0337325,10245.296686,10511.8138807,10169.567221,10280.3517032,10369.5637386,10131.5166457,10242.3477803,10363.1390401,10400.9146854,10442.1706031,10323.7557975,10680.8374328,10796.9509861,10974.9048915,10948.9899152,10944.5858045,11094.3462761,10938.2712894,10462.2596185,10538.4603213,10246.18649281,10760.06625677,10692.71721234,10750.72357903,10775.26937624,10709.65218175,10844.64098118,10784.49157795,10619.45190766,10575.97504191,10549.32889962,10669.58254327,10793.33942751,10604.40588882,10668.96895539,10915.68573098,11064.45759247,11296.3614282,11384.1819535,11555.3628878,11425.8994007,11429.50688675,11495.34965037,11322.12268618,11358.10156733,11483.35971184,11742.03715033,11916.33514058,12823.68918938,12965.89129043,12931.53902256,13108.06261161,13031.17431056,13075.24769656,13654.21844012,13271.28536861,13437.8832414,13546.52226938,13780.99470249,13737.10982864,13550.4893841,13950.30084729,14133.70715301,15579.84846029,15565.88058083,14833.7541075,15479.56703842,15332.31559743,15290.90268148,15701.33973237,16276.34394919,16317.80819009,16068.13870685,15955.58743887,16716.11132377,17645.40576746,17804.00563217,17817.09024754,18621.31436938,18642.23276593,18370.00252365,18364.12159134,19107.46444977,18732.1207774,17150.62357809,17108.40172774,17717.4150112,18177.48341979,19625.83502949,18802.99829969,19201.09115697,19445.39847988,18699.76561337,19154.231131,19345.12095871,19191.63128698,18321.14491611,18553.91537685,18264.99210672,18058.90334725,18803.65687045,19142.3825335,19246.64434137,19417.07603342,21310.59813054,22805.16149213,23137.96056165,23869.83196434,23477.29519711,22803.0814087,23783.02850288,23241.34486501,23735.94972763,24664.79027412,26437.0375091,26272.29456706,27084.80788628,27362.4365573,28840.95341968,29001.71982218,29374.15188907,32127.26793922,32782.02446581,31971.91352155,33992.42934365,36824.36441009,39371.04235311,40797.61071993,40254.54649816,38356.43950662,35566.65594049,33922.9605815,37316.35939997,39187.32812109,36825.36585131,36178.13890106,35791.27792129,36630.07568284,36069.80639361,35547.7508855,30825.69850603,33005.76356216,32067.64288212,32289.37808687,32366.39304887,32569.84955679,30432.54707881,33466.09635821,34316.38765032,34269.52154165,33114.35774753,33537.1768196,35510.28903716,37472.09010368,36926.06446515,38144.30686267,39266.01073494,38903.44147971,46196.46371944,46481.10423596,44918.18449192,47909.33119483,47504.85118326,47105.51747252,48717.2902111,47945.05683234,49199.87134362,52149.00753587,51679.79669449,55888.13368221,56099.52051348,57539.9436679,54207.31906543,48824.42686909,49705.33331637,47093.85301914,46339.76008289,46188.45127539,45137.77046805,49631.24137077,48378.98805435,50538.24341445,48561.1661539,48927.3045548,48912.38173056,51206.69295308,52246.52230995,54824.11781138,56008.54940114,57805.12301924,57332.08896391,61243.08476552,59302.31697742,55907.20022619,56804.90123161,58870.89333325,57858.92070527,58346.65297359,58313.64260857,57523.42098673,54529.14561107,54738.94493032,52774.26369049,51704.1619252,55137.31372578,55973.51084173,55950.7457745,57750.19987147,58917.6930451,58918.83271375,59095.80797806,59384.3133586,57603.88917376,58758.55629127,59057.87896588,58192.35868406,56048.93781271,58323.95357975,58245.00300108,59793.23541009,60204.96491379,59893.45188869,63503.45793019,63109.69593464,63314.01084504,61572.78960116,60683.82123331,56216.18500243,55724.26709807,56473.0322808,53906.08804584,51762.27205146,51093.65070999,50050.86821565,49004.25326318,54021.75478737,55033.11801332,54824.70489507,53555.10849133,57750.17734563,57828.05063222,56631.07741255,57200.29122289,53333.53775274,57424.00594813,56396.51416376,57356.40187692,58803.77580865,58232.3161419,55859.79754454,56704.5730585,49150.53387514,49716.19160254,49880.53342038,46760.18656071,46456.05847448,43537.51138918,42909.40092517,37002.4404659,40782.73826245,37304.69067136,37536.63111241,34770.58362292,38705.97863723,38402.22385137,39294.19738214,38436.96853505,35697.60639024,34616.06800347,35678.12920411,37332.85368874,36684.92451667,37575.17957566,39208.76599489,36894.40532994,35551.95872588,35862.37772747,33560.70783776,33472.63174808,37345.12148619,36702.59937466,37334.39952553,35552.51714847,39097.86089667,40218.47785943,40406.26898673,38347.06322666,38053.50417253,35787.24478177,35615.86927002,35698.29644336,31676.69373254,32505.6598245,33723.0289781,34662.43589358,31637.78005541,32186.27767093,34649.64458753,34434.33531428,35867.77773549,35040.83724889,33572.11765253,33897.04858963,34668.54840182,35287.77976616,33746.00245614,34235.19345116],\"high\":[147.48800659179688,146.92999267578125,139.88999938964844,125.5999984741211,108.12799835205078,115.0,118.8000030517578,124.66300201416016,113.44400024414062,115.77999877929688,113.45999908447266,122.0,118.6790008544922,117.4489974975586,118.6989974975586,119.8000030517578,115.80999755859376,118.76000213623048,125.3000030517578,125.25,124.5,123.62100219726562,123.0,124.0009994506836,126.93399810791016,133.85000610351562,133.218994140625,136.0,135.46499633789062,130.5800018310547,132.58999633789062,132.25,129.89999389648438,129.77999877929688,129.39999389648438,122.5,123.83999633789062,123.46900177001952,123.0999984741211,119.0,111.41500091552734,108.98999786376952,110.10099792480467,109.5999984741211,111.78700256347656,110.3000030517578,104.6999969482422,103.6999969482422,101.5999984741211,102.20999908447266,111.11100006103516,110.2249984741211,114.3000030517578,114.98999786376952,109.95600128173828,108.8000030517578,108.33399963378906,106.47000122070312,105.48899841308594,104.0,101.73699951171876,99.98999786376952,98.12229919433594,97.66490173339844,92.3000030517578,90.981201171875,83.1050033569336,80.0,75.0,74.56109619140625,80.0,78.30000305175781,87.0,90.27999877929688,104.0,98.25,98.6999969482422,101.9000015258789,99.86229705810548,99.97000122070312,98.8000030517578,95.20010375976562,93.0999984741211,91.9499969482422,91.9980010986328,96.81929779052734,95.98999786376952,97.33000183105467,97.46910095214844,96.99500274658205,100.5770034790039,102.5,107.98999786376952,111.34400177001952,108.0,108.0,105.77999877929688,105.9499969482422,107.7699966430664,107.38200378417967,106.75,106.75,105.75,103.9000015258789,105.19000244140624,108.0,109.3499984741211,114.99500274658205,113.24500274658205,112.3000030517578,113.75,114.68800354003906,123.06199645996094,123.01100158691406,124.91400146484376,123.5,122.0,121.38999938964844,122.98699951171876,122.75499725341795,127.23999786376952,127.31999969482422,123.6999969482422,135.75,140.88999938964844,145.80999755859375,146.5,138.33999633789062,144.5,131.44000244140625,127.33999633789062,125.94000244140624,124.72000122070312,129.05999755859375,129.74000549316406,137.8300018310547,136.0800018310547,137.5800018310547,135.85000610351562,131.44000244140625,132.72000122070312,132.75999450683594,133.1999969482422,131.77000427246094,135.6199951171875,128.61000061035156,133.94000244140625,132.72500610351562,127.45999908447266,129.69000244140625,134.9340057373047,134.74000549316406,135.6300048828125,140.61000061035156,138.35000610351562,134.6300048828125,133.58999633789062,123.62999725341795,130.08999633789062,130.44000244140625,129.66000366210938,130.27000427246094,127.47000122070312,131.75,131.5,131.80999755859375,135.66000366210938,138.66000366210938,144.1199951171875,145.38999938964844,152.22999572753906,147.4199981689453,155.9600067138672,177.47999572753906,174.91000366210938,184.82000732421875,196.2700042724609,213.6199951171875,217.4199981689453,198.8699951171875,188.41000366210935,196.44000244140625,198.6199951171875,204.7899932861328,209.16000366210935,205.17999267578125,206.6499938964844,207.75999450683597,215.0500030517578,231.00999450683597,250.66000366210935,263.0,304.1700134277344,338.6600036621094,370.8200073242188,350.70001220703125,351.2699890136719,362.80999755859375,414.0499877929688,425.8999938964844,437.8900146484375,450.260009765625,500.5799865722656,703.780029296875,806.1099853515625,599.6500244140625,733.4000244140625,780.8499755859375,844.969970703125,807.3599853515625,810.6799926757812,928.5399780273438,1001.9600219726562,1077.56005859375,1146.969970703125,1156.1400146484375,1133.0799560546875,1055.4200439453125,1096.0,1156.1199951171875,1154.3599853515625,1042.3800048828125,854.6400146484375,802.510009765625,921.9299926757812,997.22998046875,1001.5800170898438,901.9400024414062,941.7899780273438,904.6500244140624,886.1599731445312,882.25,754.8300170898438,679.3200073242188,707.22998046875,729.1599731445312,654.27001953125,666.739990234375,680.9099731445312,684.3900146484375,682.7000122070312,777.75,777.510009765625,747.0599975585938,748.6099853515625,766.5999755859375,760.5800170898438,775.3499755859375,820.3099975585938,834.1500244140625,859.510009765625,952.4000244140624,1017.1199951171876,965.739990234375,870.6799926757812,864.3599853515625,871.1900024414062,921.47998046875,928.52001953125,861.2899780273438,855.6900024414062,872.8099975585938,866.1599731445312,842.9099731445312,841.489990234375,870.9600219726562,886.3900146484375,881.2000122070312,870.1500244140625,851.5700073242188,822.4299926757812,861.4500122070312,897.02001953125,893.0,832.5,836.8699951171875,830.5,831.8699951171875,853.52001953125,844.719970703125,826.47998046875,840.1699829101562,837.3200073242188,819.8099975585938,783.2000122070312,721.8200073242188,712.27001953125,703.7100219726562,712.4600219726562,672.9000244140625,657.989990234375,691.719970703125,661.8400268554688,665.0999755859375,656.9500122070312,645.760009765625,631.77001953125,627.72998046875,582.9600219726562,614.47998046875,639.9099731445312,607.6099853515625,541.3800048828125,603.7999877929688,594.0499877929688,584.1400146484375,573.3800048828125,570.47998046875,702.9099731445312,696.219970703125,674.280029296875,669.77001953125,665.3400268554688,635.1400146484375,643.9500122070312,644.760009765625,638.4199829101562,648.030029296875,644.2000122070312,639.530029296875,639.1400146484375,637.52001953125,632.6799926757812,622.3909912109375,622.0,609.7449951171875,604.5919799804688,572.5479736328125,570.2379760742188,586.56201171875,585.43798828125,590.0280151367188,580.5599975585938,526.0230102539062,504.8590087890625,492.37200927734375,483.0220031738281,495.3429870605469,495.0450134277344,449.5650024414063,454.6520080566406,463.5710144042969,466.3190002441406,462.5639953613281,457.4240112304688,455.7279968261719,443.3659973144531,429.7669982910156,439.6059875488281,427.3980102539063,469.7510070800781,518.9959716796875,542.3779907226562,533.5170288085938,498.60101318359375,503.5549926757813,510.8710021972656,510.5679931640625,503.2219848632813,493.2489929199219,500.4649963378906,500.2990112304688,464.5429992675781,459.3299865722656,447.5339965820313,451.635986328125,451.0989990234375,460.614013671875,457.9289855957031,449.4030151367188,439.7690124511719,440.9739990234375,448.0379943847656,446.12799072265625,448.3989868164063,452.6919860839844,455.77099609375,455.3389892578125,442.260009765625,441.97601318359375,446.6589965820313,449.7990112304688,450.6610107421875,451.9800109863281,449.7669982910156,447.5549926757813,491.4440002441406,494.3689880371094,525.3560180664062,541.9559936523438,525.1699829101562,576.47802734375,588.3889770507812,589.5170288085938,578.6240234375,577.0960083007812,618.4580078125,624.7150268554688,671.5130004882812,665.4979858398438,674.1110229492188,668.56298828125,663.5260009765625,661.3660278320312,656.9439697265625,658.8839721679688,657.7030029296875,659.614990234375,657.0399780273438,638.1090087890625,615.1370239257812,601.27001953125,592.93701171875,608.719970703125,610.8889770507812,615.8809814453125,612.2410278320312,599.7540283203125,599.4619750976562,605.9970092773438,603.2119750976562,596.9710083007812,583.5989990234375,581.6290283203125,600.1240234375,604.4730224609375,604.0759887695312,645.155029296875,657.8579711914062,656.677978515625,650.7689819335938,648.4329833984375,633.2219848632812,638.6530151367188,637.156982421875,626.6950073242188,626.9979858398438,626.1160278320312,632.0859985351562,636.6580200195312,634.7269897460938,627.3419799804688,625.1409912109375,623.0919799804688,626.2899780273438,629.2130126953125,629.166015625,628.5590209960938,624.0900268554688,624.2979736328125,624.4310302734375,620.4290161132812,607.0650024414062,602.0880126953125,598.9420166015625,594.572998046875,588.385009765625,585.1220092773438,586.2349853515625,597.9219970703125,594.9099731445312,589.1510009765625,591.9459838867188,589.864990234375,587.4860229492188,591.10400390625,598.1160278320312,592.469970703125,594.4600219726562,591.5070190429688,576.947998046875,573.0330200195312,546.2440185546875,518.1790161132812,521.4749755859375,520.1900024414062,499.3699951171875,485.7099914550781,518.2849731445312,531.9000244140625,521.47900390625,514.2990112304688,512.8880004882812,508.2200012207031,512.68798828125,520.708984375,516.156982421875,511.6950073242188,509.3080139160156,504.8789978027344,485.3059997558594,482.9880065917969,481.7120056152344,493.9280090332031,490.64300537109375,488.5950012207031,488.0660095214844,489.8340148925781,477.37701416015625,487.4679870605469,482.35101318359375,479.62799072265625,482.1170043945313,479.8529968261719,478.6199951171875,475.6419982910156,468.1740112304688,456.8599853515625,427.8349914550781,423.2959899902344,412.4259948730469,406.9159851074219,441.5570068359375,436.1119995117188,423.5199890136719,414.93798828125,406.62298583984375,401.0169982910156,385.21099853515625,390.97698974609375,391.3789978027344,385.49700927734375,377.6950073242188,364.4869995117188,341.8009948730469,345.1340026855469,339.2470092773437,354.364013671875,382.72601318359375,375.0669860839844,367.1910095214844,379.4330139160156,397.22601318359375,411.697998046875,402.22698974609375,398.8070068359375,385.4779968261719,395.1579895019531,393.9389953613281,390.0840148925781,392.64599609375,388.5759887695313,385.0480041503906,364.3450012207031,359.8609924316406,359.22100830078125,358.6319885253906,359.9840087890625,357.8330078125,350.9129943847656,348.0450134277344,340.52899169921875,329.04998779296875,334.00201416015625,331.7669982910156,343.3689880371094,352.96600341796875,352.73199462890625,347.0320129394531,363.6260070800781,374.8160095214844,371.30999755859375,429.7179870605469,457.0929870605469,419.25201416015625,405.5280151367188,390.7990112304688,410.1990051269531,392.4020080566406,386.4809875488281,382.0249938964844,357.8789978027344,364.8410034179688,370.8450012207031,387.2090148925781,394.7009887695313,377.697998046875,373.9920043945313,382.8380126953125,387.60101318359375,382.5270080566406,383.6619873046875,384.0379943847656,383.0260009765625,378.6549987792969,379.1919860839844,378.447998046875,376.2919921875,376.0289916992188,363.0669860839844,352.3840026855469,361.3569946289063,352.9830017089844,352.3810119628906,353.3160095214844,351.81500244140625,345.8590087890625,333.9540100097656,323.7090148925781,318.5329895019531,330.32501220703125,329.6289978027344,334.11700439453125,336.2869873046875,334.7409973144531,322.6700134277344,331.42401123046875,328.9110107421875,320.02801513671875,320.2669982910156,314.8089904785156,320.1929931640625,320.4349975585937,315.8389892578125,315.1499938964844,287.2300109863281,278.34100341796875,287.5530090332031,298.7539978027344,294.135009765625,291.114013671875,288.12701416015625,279.63800048828125,272.2030029296875,268.2770080566406,223.8939971923828,229.06700134277344,221.59100341796875,211.7310028076172,218.69500732421875,216.72799682617188,215.24099731445312,227.7879943847656,237.0189971923828,234.84500122070312,248.2100067138672,255.07400512695312,309.3840026855469,275.4800109863281,266.5350036621094,238.70599365234372,242.8509979248047,233.5039978027344,231.57400512695312,242.1750030517578,245.95700073242188,230.05799865722656,239.40499877929688,230.50999450683597,230.2989959716797,229.43800354003903,223.9770050048828,221.8070068359375,223.406005859375,222.19900512695312,240.25900268554688,259.8080139160156,265.6109924316406,239.52099609375,245.7749938964844,244.25100708007807,242.6719970703125,247.1009979248047,255.32000732421875,246.3919982910156,240.10899353027344,239.9010009765625,239.33999633789065,237.7100067138672,256.65301513671875,254.69200134277344,261.6600036621094,276.3009948730469,285.7959899902344,284.2250061035156,281.6669921875,277.6080017089844,277.85400390625,277.8580017089844,292.70098876953125,300.04400634765625,297.3909912109375,297.0880126953125,294.4979858398437,286.3420104980469,286.52899169921875,294.11199951171875,292.364990234375,285.33599853515625,264.2439880371094,264.8479919433594,262.1960144042969,269.7470092773437,277.2969970703125,267.00299072265625,249.19000244140625,254.35400390625,256.8110046386719,254.2050018310547,253.13900756835935,249.24200439453125,248.72999572753903,247.5410003662109,254.46099853515625,256.0429992675781,255.25799560546875,260.67498779296875,261.7980041503906,255.80499267578125,253.8470001220703,246.1179962158203,243.69400024414065,239.53700256347656,237.72799682617188,236.93499755859372,224.9759979248047,223.8329925537109,229.6719970703125,228.906005859375,224.3159942626953,226.35299682617188,226.3509979248047,235.2689971923828,237.90899658203125,236.4750061035156,236.30499267578125,232.56100463867188,226.94400024414065,233.30499267578125,229.4949951171875,227.0399932861328,239.56300354003903,238.96600341796875,235.7270050048828,243.2400054931641,242.63800048828125,239.20399475097656,236.45399475097656,239.10499572753903,246.2749938964844,247.8040008544922,244.0679931640625,244.2700042724609,242.8809967041016,243.70399475097656,237.7989959716797,238.7530059814453,237.69700622558597,238.0249938964844,237.2100067138672,234.1510009765625,234.68299865722656,236.24200439453125,240.968994140625,241.0249938964844,241.97799682617188,241.02099609375,238.24200439453125,238.6360015869141,237.82400512695312,237.52200317382807,237.09300231933597,233.2519989013672,231.71299743652344,226.4160003662109,227.4040069580078,226.58099365234372,225.96800231933597,225.718994140625,226.19400024414065,229.4640045166016,230.95399475097656,229.7819976806641,230.28700256347656,231.0570068359375,232.6519927978516,234.8580017089844,237.83599853515625,251.74200439453125,256.8529968261719,252.1080017089844,250.9770050048828,245.8280029296875,245.2239990234375,247.91700744628903,247.3040008544922,244.34100341796875,243.33200073242188,243.74899291992188,251.3390045166016,251.1719970703125,257.1730041503906,267.86700439453125,265.1719970703125,261.6310119628906,257.0769958496094,261.4570007324219,274.5060119628906,277.4219970703125,271.34100341796875,272.97100830078125,272.3349914550781,294.59100341796875,298.5060119628906,314.3940124511719,310.947998046875,296.1470031738281,293.2479858398437,291.1830139160156,280.2799987792969,282.5270080566406,275.6700134277344,278.9809875488281,280.5469970703125,277.6659851074219,278.1109924316406,289.25299072265625,290.7330017089844,293.052001953125,297.77398681640625,296.64898681640625,294.5360107421875,290.1260070800781,288.9590148925781,284.9320068359375,283.0320129394531,285.47100830078125,285.7149963378906,285.5010070800781,281.906005859375,280.3919982910156,279.9280090332031,267.00299072265625,267.0320129394531,270.385986328125,270.6730041503906,266.23199462890625,267.46600341796875,266.6669921875,262.44000244140625,260.5050048828125,257.9930114746094,237.40899658203125,237.3650054931641,236.4320068359375,234.95700073242188,232.7050018310547,228.13900756835935,226.3209991455078,231.18299865722656,228.64300537109372,235.218994140625,233.2220001220703,232.0679931640625,231.95599365234372,231.21600341796875,230.57699584960935,229.60499572753903,230.8999938964844,236.14300537109372,242.91200256347656,242.1060028076172,245.781005859375,244.4160003662109,241.29299926757807,241.16900634765625,240.12399291992188,235.93499755859372,232.44000244140625,259.1820068359375,231.21499633789065,230.28500366210935,234.35299682617188,233.2050018310547,232.3650054931641,231.2169952392578,232.3860015869141,231.8350067138672,235.6490020751953,237.427001953125,235.4029998779297,234.5260009765625,239.3390045166016,239.802001953125,237.73399353027344,238.44500732421875,238.5410003662109,239.31500244140625,238.96800231933597,240.38299560546875,246.93499755859372,246.68099975585935,244.25100708007807,244.22799682617188,245.31900024414065,247.2429962158203,247.45399475097656,250.23599243164065,254.2749938964844,255.9620056152344,266.135009765625,273.5780029296875,271.6679992675781,264.82000732421875,270.8349914550781,270.7699890136719,276.510009765625,278.6839904785156,281.7059936523437,294.0589904785156,285.29998779296875,296.2120056152344,306.3309936523437,318.1700134277344,334.16900634765625,332.7770080566406,327.47198486328125,365.3599853515625,417.8999938964844,495.56201171875,447.5610046386719,395.83599853515625,390.58599853515625,389.8949890136719,385.2780151367188,381.3869934082031,340.5849914550781,345.0809936523437,340.9140014648437,338.1809997558594,334.6619873046875,331.6260070800781,338.3500061035156,336.531005859375,335.3340148925781,326.4729919433594,328.15899658203125,327.010009765625,325.1180114746094,323.0580139160156,329.1340026855469,366.7569885253906,363.5889892578125,359.5360107421875,371.9389953613281,382.3630065917969,378.9309997558594,362.2319946289063,370.2749938964844,363.5159912109375,389.7850036621094,402.8089904785156,399.968994140625,415.56298828125,423.1199951171875,419.5090026855469,451.93798828125,469.1029968261719,441.6799926757813,447.1419982910156,465.3210144042969,465.2080078125,457.8599853515625,465.177001953125,465.58099365234375,462.6449890136719,444.72900390625,443.68798828125,444.5289916992188,458.45599365234375,458.3049926757813,457.489013671875,424.0069885253906,429.7690124511719,432.9830017089844,434.3869934082031,432.9209899902344,436.2460021972656,436.06201171875,433.7430114746094,434.5169982910156,434.1820068359375,431.8559875488281,458.7659912109375,462.9339904785156,454.6400146484375,448.3089904785156,450.6619873046875,448.1820068359375,435.1860046386719,433.3240051269531,430.2550048828125,390.5570068359375,390.9649963378906,388.10400390625,387.7300109863281,425.2669982910156,422.87701416015625,410.4100036621094,394.5429992675781,405.4849853515625,402.3169860839844,397.7659912109375,396.8429870605469,395.50201416015625,384.3789978027344,380.9169921875,380.3469848632813,378.0719909667969,375.8829956054688,374.9500122070313,391.6080017089844,391.093994140625,386.6310119628906,380.8710021972656,379.8789978027344,377.2460021972656,385.4830017089844,383.1300048828125,384.9540100097656,391.8599853515625,407.2300109863281,410.3810119628906,408.9450073242188,421.1669921875,425.9960021972656,423.10400390625,441.9840087890625,448.0459899902344,439.0450134277344,439.8580017089844,425.5499877929688,427.718994140625,432.1520080566406,434.2309875488281,435.6830139160156,441.5069885253906,439.6530151367188,435.9169921875,425.37298583984375,425.1780090332031,411.2569885253906,411.9070129394531,415.9169921875,416.2430114746094,416.0320129394531,417.5119934082031,423.9259948730469,421.7950134277344,416.60400390625,416.6839904785156,418.1310119628906,417.6860046386719,420.99700927734375,420.5469970703125,410.9840087890625,414.625,413.4179992675781,418.375,419.26800537109375,418.6799926757813,418.0799865722656,418.9869995117188,428.7969970703125,426.8569946289063,426.2030029296875,416.8340148925781,418.3689880371094,418.1730041503906,422.08099365234375,421.5799865722656,422.3429870605469,424.2569885253906,424.5270080566406,423.6570129394531,425.3609924316406,420.8909912109375,422.43499755859375,422.739013671875,427.2770080566406,426.6579895019531,425.3710021972656,429.9280090332031,432.625,431.3710021972656,429.2739868164063,436.0199890136719,443.0539855957031,450.5480041503906,449.80999755859375,450.2820129394531,460.14599609375,466.6199951171875,467.9649963378906,467.0790100097656,449.5509948730469,455.3840026855469,455.5870056152344,452.47900390625,452.4450073242188,451.0969848632813,450.37799072265625,448.5060119628906,461.375,460.6749877929688,459.4169921875,462.4809875488281,461.9289855957031,454.5759887695313,454.9490051269531,457.0549926757813,456.83599853515625,458.6919860839844,458.2000122070313,455.0719909667969,455.99798583984375,454.6329956054688,444.0539855957031,443.7780151367188,443.427001953125,444.3450012207031,447.1000061035156,450.2980041503906,453.6440124511719,478.1489868164063,533.4730224609375,553.9600219726562,544.3489990234375,546.6179809570312,543.0800170898438,540.3519897460938,574.6380004882812,590.1320190429688,582.8079833984375,586.469970703125,590.2589721679688,582.8389892578125,582.2030029296875,579.1270141601562,607.1160278320312,684.843994140625,716.0040283203125,704.5040283203125,696.302978515625,773.7219848632812,775.3560180664062,777.989990234375,766.6209716796875,764.083984375,735.8829956054688,678.6699829101562,629.3270263671875,681.7269897460938,691.7310180664062,665.97998046875,655.2750244140625,659.2479858398438,644.6820068359375,675.4030151367188,686.1539916992188,703.7020263671875,704.968017578125,683.6619873046875,683.4910278320312,681.8980102539062,682.4320068359375,666.7069702148438,666.3839721679688,652.2940063476562,659.6290283203125,675.2589721679688,668.7000122070312,662.9019775390625,667.0770263671875,666.4600219726562,682.364990234375,681.5549926757812,673.2769775390625,672.9290161132812,666.218994140625,666.5830078125,656.3660278320312,663.1099853515625,661.8280029296875,656.2249755859375,657.4559936523438,657.594970703125,657.7960205078125,658.2230224609375,655.2849731445312,626.1190185546875,612.8480224609375,573.3599853515625,579.4959716796875,578.281005859375,588.39599609375,597.5130004882812,592.9940185546875,591.0910034179688,599.9840087890625,597.5419921875,589.9099731445312,589.7739868164062,585.666015625,573.5800170898438,581.7379760742188,580.8939819335938,577.7919921875,578.2379760742188,582.8179931640625,584.1580200195312,588.447998046875,589.4739990234375,583.5900268554688,580.4509887695312,580.6229858398438,579.844970703125,574.0380249023438,576.2780151367188,578.3569946289062,577.8610229492188,576.3109741210938,575.6430053710938,599.5,611.8369750976562,609.0549926757812,610.8300170898438,614.5449829101562,628.77001953125,626.8300170898438,625.094970703125,628.8179931640625,608.458984375,611.1929931640625,611.9520263671875,611.0859985351562,609.260986328125,607.8599853515625,610.1580200195312,610.9320068359375,609.5250244140625,603.5880126953125,598.4869995117188,603.2050170898438,604.5800170898438,603.3809814453125,608.1430053710938,608.2479858398438,606.5900268554688,606.823974609375,609.7349853515625,615.2369995117188,614.0050048828125,612.5679931640625,612.0540161132812,613.8140258789062,613.8189697265625,617.9119873046875,619.8489990234375,619.197998046875,621.3179931640625,642.0800170898438,641.3369750976562,638.8330078125,641.2849731445312,642.1019897460938,642.8980102539062,642.3280029296875,640.7360229492188,638.8740234375,631.9169921875,634.093994140625,658.197021484375,661.1290283203125,657.2520141601562,664.4240112304688,679.72802734375,688.593994140625,690.4439697265625,720.4019775390625,714.1179809570312,709.2890014648438,736.4520263671875,740.8289794921875,745.7730102539062,706.9299926757812,707.510009765625,714.2579956054688,710.7360229492188,712.9869995117188,740.0460205078125,723.0180053710938,718.3179931640625,717.1480102539062,705.2570190429688,706.2839965820312,715.718017578125,747.614990234375,755.64501953125,752.8820190429688,756.2369995117188,755.47998046875,741.7219848632812,753.8699951171875,752.25,746.8319702148438,741.6489868164062,742.2139892578125,739.0180053710938,738.0059814453125,737.4710083007812,747.9290161132812,758.2750244140625,781.2960205078125,778.2479858398438,773.8720092773438,773.468017578125,765.6220092773438,771.5430297851562,774.697998046875,774.5280151367188,777.0919799804688,774.7979736328125,781.9219970703125,788.4600219726562,782.0339965820312,781.4349975585938,785.031982421875,792.5089721679688,794.7369995117188,793.6110229492188,801.3369750976562,834.281005859375,875.781982421875,925.1170043945312,923.47900390625,899.6519775390625,913.1840209960938,940.0479736328124,975.9210205078124,979.39697265625,972.5349731445312,963.7429809570312,1003.0800170898438,1031.3900146484375,1044.0799560546875,1159.4200439453125,1191.0999755859375,1046.81005859375,908.5850219726562,942.7239990234376,913.6859741210938,914.8729858398438,919.447998046875,826.2459716796875,829.0009765625,835.0850219726562,823.3070068359375,834.530029296875,910.5609741210938,917.4990234375,904.614013671875,899.3980102539062,927.3670043945312,937.5250244140624,928.2659912109376,924.14501953125,903.2520141601562,919.3259887695312,923.2230224609376,923.9110107421876,923.4180297851562,923.0479736328124,972.0189819335938,989.114013671875,1013.52001953125,1033.8699951171875,1045.9000244140625,1043.6300048828125,1044.6400146484375,1061.9300537109375,1078.969970703125,1088.989990234375,998.905029296875,1009.2899780273438,1004.760009765625,1002.0999755859376,1011.510009765625,1008.8400268554688,1033.3699951171875,1053.1700439453125,1061.0999755859375,1056.81005859375,1080.489990234375,1117.25,1125.3900146484375,1176.6199951171875,1200.3900146484375,1174.8499755859375,1167.469970703125,1181.97998046875,1193.25,1222.5,1262.1300048828125,1280.31005859375,1279.4000244140625,1267.2900390625,1276.0,1275.550048828125,1232.1600341796875,1197.4599609375,1270.469970703125,1193.8299560546875,1226.97998046875,1237.3699951171875,1244.81005859375,1251.6099853515625,1257.97998046875,1180.1600341796875,1114.0699462890625,1069.9100341796875,1063.030029296875,1122.4300537109375,1120.6500244140625,1058.010009765625,1040.469970703125,975.760986328125,1007.9600219726562,1046.4000244140625,1064.6500244140625,1055.1300048828125,1049.2900390625,1074.9200439453125,1091.719970703125,1107.5899658203125,1151.739990234375,1156.43994140625,1135.0899658203125,1188.3699951171875,1186.5799560546875,1184.97998046875,1197.2099609375,1190.3399658203125,1208.0699462890625,1207.1400146484375,1205.8900146484375,1190.800048828125,1188.0,1187.219970703125,1194.9000244140625,1217.5699462890625,1215.510009765625,1240.7900390625,1235.93994140625,1235.56005859375,1232.199951171875,1250.93994140625,1267.5799560546875,1294.8299560546875,1319.699951171875,1331.280029296875,1327.199951171875,1347.9100341796875,1434.3199462890625,1473.9000244140625,1492.77001953125,1608.9100341796875,1618.030029296875,1578.800048828125,1596.719970703125,1723.3499755859375,1833.489990234375,1788.43994140625,1873.9300537109373,1856.1500244140625,1812.989990234375,1831.4200439453125,1812.800048828125,1785.93994140625,1864.050048828125,1904.47998046875,2004.52001953125,2084.72998046875,2119.080078125,2303.89990234375,2320.820068359375,2523.719970703125,2763.7099609375,2573.7900390625,2260.199951171875,2267.340087890625,2307.050048828125,2301.9599609375,2311.080078125,2448.389892578125,2488.550048828125,2581.909912109375,2585.889892578125,2686.81005859375,2999.909912109375,2869.3798828125,2815.300048828125,2901.7099609375,2950.989990234375,2996.60009765625,2997.260009765625,2789.0400390625,2786.830078125,2534.7099609375,2539.919921875,2685.18994140625,2662.10009765625,2662.85009765625,2763.449951171875,2772.010009765625,2723.739990234375,2765.169921875,2757.93994140625,2682.260009765625,2615.25,2552.449951171875,2603.97998046875,2588.830078125,2559.25,2515.27001953125,2514.280029296875,2595.0,2631.590087890625,2622.64990234375,2616.719970703125,2916.139892578125,2571.340087890625,2635.489990234375,2537.159912109375,2413.469970703125,2423.7099609375,2425.219970703125,2363.25,2231.139892578125,2058.77001953125,2230.489990234375,2387.610107421875,2397.169921875,2900.699951171875,2838.409912109375,2862.419921875,2832.179931640625,2777.260009765625,2768.080078125,2610.760009765625,2693.320068359375,2897.449951171875,2808.760009765625,2758.530029296875,2889.6201171875,2921.35009765625,2762.530029296875,2813.31005859375,2899.330078125,3290.010009765625,3293.2900390625,3397.679931640625,3484.85009765625,3422.760009765625,3453.449951171875,3679.719970703125,3949.919921875,4208.39013671875,4325.1298828125,4455.97021484375,4381.22998046875,4484.7001953125,4370.1298828125,4243.259765625,4196.2900390625,4109.14013671875,4128.759765625,4255.77978515625,4376.39013671875,4455.7001953125,4379.27978515625,4416.58984375,4403.93017578125,4625.68017578125,4626.52001953125,4736.0498046875,4892.009765625,4975.0400390625,4714.080078125,4591.6298828125,4427.83984375,4617.25,4655.0400390625,4661.0,4308.81982421875,4245.43994140625,4261.669921875,4344.64990234375,4131.97998046875,3920.60009765625,3733.449951171875,3808.840087890625,3664.81005859375,4079.22998046875,4094.070068359375,4031.389892578125,3916.419921875,3758.27001953125,3819.2099609375,3796.14990234375,3950.25,3969.889892578125,4210.0498046875,4279.31005859375,4214.6298828125,4358.43017578125,4403.740234375,4470.22998046875,4432.47021484375,4352.31005859375,4362.64013671875,4413.27001953125,4443.8798828125,4624.14013671875,4878.7099609375,4922.169921875,4873.72998046875,5446.91015625,5840.2998046875,5837.7001953125,5852.47998046875,5776.22998046875,5800.35009765625,5603.81982421875,5744.35009765625,6060.10986328125,6194.8798828125,6076.259765625,6075.58984375,5935.52001953125,5754.330078125,5976.7998046875,5988.39013671875,5876.72021484375,6255.7099609375,6214.990234375,6470.43017578125,6767.31005859375,7367.330078125,7461.2900390625,7492.85986328125,7617.47998046875,7445.77001953125,7253.31982421875,7776.419921875,7446.830078125,7312.0,6873.14990234375,6625.0498046875,6811.18994140625,6764.97998046875,7342.25,7967.3798828125,8004.58984375,7884.990234375,8101.91015625,8336.8603515625,8348.66015625,8302.259765625,8267.400390625,8374.16015625,8790.919921875,9522.9296875,9818.349609375,10125.7001953125,11517.400390625,10801.0,11046.7001953125,11320.2001953125,11858.7001953125,11657.2001953125,12032.0,14369.099609375,17899.69921875,18353.400390625,16783.0,15850.599609375,17513.900390625,17781.80078125,17653.099609375,17085.80078125,18154.099609375,19716.69921875,20089.0,19371.0,19177.80078125,17934.69921875,17567.69921875,15943.400390625,15603.2001953125,14626.0,14593.0,16461.19921875,16930.900390625,15888.400390625,15279.0,14681.900390625,14377.400390625,14112.2001953125,15444.599609375,15572.7998046875,15739.7001953125,17705.19921875,17712.400390625,17579.599609375,16537.900390625,15497.5,14973.2998046875,15018.7998046875,14229.900390625,14659.5,14511.7998046875,14445.5,13843.099609375,11678.0,12107.2998046875,11992.7998046875,13103.0,12895.900390625,11966.400390625,11377.599609375,11501.400390625,11785.7001953125,11656.7001953125,11614.900390625,12040.2998046875,11875.599609375,11307.2001953125,10381.599609375,10288.7998046875,9142.2802734375,9430.75,9334.8701171875,8364.83984375,7850.7001953125,8509.1103515625,8558.76953125,8736.98046875,9122.5498046875,8616.1298828125,8985.919921875,8958.4697265625,9518.5400390625,10234.7998046875,10324.099609375,11139.5,11349.7998046875,11273.7998046875,11958.5,11418.5,11039.099609375,10487.2998046875,10597.2001953125,9923.2197265625,10475.0,10878.5,11089.7998046875,11052.2998046875,11189.0,11528.2001953125,11512.599609375,11704.099609375,11500.099609375,10929.5,10147.400390625,9466.349609375,9531.3203125,9711.8896484375,9937.5,9470.3798828125,9355.849609375,8428.349609375,8585.150390625,8346.5302734375,8245.509765625,8675.8701171875,9051.01953125,9177.3701171875,9100.7099609375,8879.6201171875,8996.1796875,8682.009765625,8530.080078125,8232.7802734375,8122.89013671875,7994.330078125,7276.66015625,7207.85009765625,7060.9501953125,7135.47021484375,7530.93994140625,7469.8798828125,6933.81982421875,6857.490234375,7050.5400390625,7111.56005859375,7178.10986328125,6872.41015625,6968.31982421875,7899.22998046875,8183.9599609375,8140.7099609375,8338.419921875,8371.150390625,8285.9599609375,8197.7998046875,8298.6904296875,8880.23046875,8997.5703125,9001.6396484375,8958.5498046875,9732.6103515625,9745.3203125,9281.509765625,9375.4697265625,9412.08984375,9531.490234375,9477.1396484375,9255.8798828125,9256.51953125,9798.330078125,9779.2001953125,9964.5,9940.1396484375,9665.849609375,9462.75,9374.759765625,9396.0400390625,9052.9599609375,8664.8603515625,8773.5498046875,8881.1201171875,8836.1904296875,8508.4296875,8445.5400390625,8274.1201171875,8372.0595703125,8562.41015625,8557.51953125,8423.25,8054.66015625,7738.60009765625,7659.14013671875,7595.16015625,7381.740234375,7419.0498046875,7526.419921875,7573.77001953125,7608.89990234375,7604.72998046875,7695.830078125,7754.89013671875,7753.81982421875,7643.22998046875,7680.43017578125,7741.27001953125,7698.18994140625,7683.580078125,7499.5498046875,6910.18017578125,6907.9599609375,6631.66015625,6707.14013671875,6681.080078125,6592.490234375,6589.10986328125,6781.14013671875,6822.5,6821.56005859375,6810.93994140625,6747.080078125,6224.81982421875,6223.77978515625,6327.3701171875,6290.16015625,6180.0,6170.41015625,6261.66015625,6465.509765625,6432.85009765625,6683.85986328125,6671.3701171875,6771.919921875,6749.5400390625,6700.93994140625,6863.990234375,6885.91015625,6838.68017578125,6767.740234375,6444.9599609375,6397.10009765625,6310.5498046875,6298.18994140625,6403.4599609375,6741.75,7387.240234375,7534.990234375,7494.4599609375,7594.669921875,7437.64013671875,7537.9501953125,7771.5,8424.26953125,8416.8701171875,8290.330078125,8262.66015625,8222.849609375,8272.259765625,8235.5,8181.53,7769.04,7712.77,7562.14,7497.49,7102.77,7166.55,7146.56,6746.85,6625.73,6591.26,6455.74,6409.85,6537.05,6287.94,6588.49,6473.5,6582.5,6617.35,6537.98,6536.92,6500.87,6816.79,6546.54,6719.96,6789.63,6774.75,6884.64,7109.56,7113.3,7072.69,7057.17,7242.29,7306.31,7317.94,7388.26,7388.43,6755.14,6555.29,6534.25,6446.26,6374.98,6398.92,6363.87,6535.41,6596.1,6561.72,6544.33,6540.21,6384.18,6448.46,6529.26,6794.33,6814.56,6766.15,6713.56,6603.64,6585.91,6712.1,6785.03,6643.1,6643.78,6653.3,6611.84,6571.46,6603.31,6623.62,6628.54,6641.49,6675.06,6661.41,6640.29,6586.74,6328.5,6308.51,6363.21,6965.06,6673.59,6601.21,6567.54,6493.68,6497.72,6556.38,6543.8,6506.01,6521.99,6504.65,6498.29,6507.41,6502.28,6503.6,6364.99,6349.16,6547.14,6396.86,6400.07,6388.63,6480.59,6463.55,6552.16,6536.92,6456.46,6437.28,6423.25,6434.21,6395.27,6371.55,5774.82,5657.02,5578.58,5653.61,5620.78,4951.61,4675.73,4629.64,4396.42,4413.09,4120.87,4107.14,3862.96,4385.9,4413.02046804,4322.97639207,4309.37731216,4301.51941165,4155.97928378,4075.62765492,3969.53585216,3874.96603127,3512.59040851,3506.04339159,3685.30559965,3647.33258231,3513.18494093,3534.22857953,3489.73939494,3329.55602092,3275.37782696,3305.75310795,3597.9178885,3701.34942887,3949.32295089,4191.22870639,4198.42957996,4014.18251388,4085.72358463,4271.79245,4089.56159334,3893.35973112,3874.41687968,3956.13609361,3963.75880829,3901.9090157,3868.74298842,3850.91376479,3947.9812729,3935.68513083,3865.93453193,3904.90309592,4093.29744447,4092.61343706,4109.02106516,4068.40358144,4064.06655088,3713.88184691,3698.9783488,3674.75998688,3727.83629128,3720.15341533,3685.77705953,3680.13601133,3682.52000204,3758.53352345,3743.38797121,3608.84084892,3620.74655094,3623.06775216,3616.08741447,3612.92766233,3654.93319305,3612.67142766,3586.75087826,3476.06536415,3495.1748876,3504.80488538,3501.95413455,3523.28733174,3521.38822007,3476.22377768,3478.14811641,3469.09170088,3427.94560955,3695.61397521,3679.94151048,3695.03601276,3695.61303928,3668.58683348,3669.74651062,3646.25659694,3647.7950639,3652.84126709,3680.53728847,3936.66500089,4010.87942178,4000.48629461,4010.009483,4006.53838667,4166.28616128,4210.64175454,3913.70726513,3891.57896247,3888.80258758,3906.0584282,3907.79548566,3874.60748448,3875.48371414,3867.38181147,3903.91675352,3919.51051824,3939.37339556,3950.43223806,3987.23778458,3966.1742332,3966.38473672,3926.88908293,3926.59772853,3946.50428698,3968.54286634,4077.03628216,4054.12201368,4071.55673145,4082.21601126,4089.46189246,4097.35995254,4053.90667736,4049.88248617,4040.69962534,4038.84089385,3985.08080287,4087.06622992,4094.90217427,4113.50083216,4296.8066502,4113.02361297,4164.95332383,4905.95443266,5307.00360895,5063.1597258,5053.50997402,5205.82193076,5235.1864351,5318.83648777,5289.91798137,5421.65146794,5354.22546556,5103.27440858,5127.12209428,5184.01606396,5196.60679923,5238.9452381,5274.27555335,5319.98611387,5336.68000293,5358.49049306,5359.92503038,5422.68742206,5633.80205461,5642.04459312,5542.23830474,5383.63441532,5310.75014488,5326.23201477,5311.27468235,5363.25752308,5418.004045,5522.26255673,5865.88207851,5886.8934994,5833.86291815,5802.95753492,5988.17834158,5989.98114696,6183.03929388,6434.61766164,7333.00312262,7503.87183327,8047.41300187,8268.71267944,8216.42381116,8320.82435452,7929.14555093,7447.2717408,8261.94116696,8200.96799673,8062.16804044,7997.61243859,7943.79138993,8140.71991773,8117.92594496,8687.52079924,8907.17444077,8807.01613958,8755.85207898,9008.31456846,8586.65937818,8625.60025901,8809.30399136,8743.50012386,8210.98582388,7901.8489052,7937.34087946,8126.15348327,8076.89110147,7975.97432619,8031.90989621,8026.3942184,8196.64825685,8311.56742951,8710.63642127,8859.12746691,9335.86694232,9416.40744016,9348.37442796,9299.62104446,9594.42027595,10144.5567168,11157.3455164,11246.1441834,11065.8960178,11790.916533,13796.4890807,13311.1443049,12445.1752203,12400.910221,12178.3833598,11206.4398606,10912.1886159,11968.0776971,12006.0753559,11395.6613596,11620.9651525,11541.6198726,12345.8331464,12779.1320971,13129.5289339,12144.6227945,11905.4870064,11841.9572004,11451.2037673,11052.7667966,10996.6332798,9963.13442838,10736.8430131,10716.9806727,11048.6623461,10841.8877848,10651.7912019,10346.7477047,9908.7972369,10154.2540296,9916.51772964,10167.3205575,9575.54534858,9681.64800826,9701.7593939,10085.6277491,10446.9203303,10657.95271,10946.7813264,11009.2069143,11895.0919275,12273.8213783,12036.9898905,11979.4201746,11970.4577149,11915.6552603,11523.5793784,11528.1893667,11420.0498609,10889.5569207,10437.4106507,10524.3498284,10452.6246924,10487.070244,10916.0538702,10947.0417192,10798.7297949,10232.9960286,10442.4435166,10418.0204345,10304.6222586,10512.3277534,10381.3283434,10279.3659944,9756.78570735,9656.12392624,9673.22043974,9796.75596805,10396.5913249,10736.1047208,10762.6442123,10627.2698685,10898.7621803,10558.673705,10595.6380804,10450.3115318,10394.3539227,10215.9477875,10442.2538742,10441.4890164,10422.1334739,10387.0348987,10386.8668661,10296.7717172,10275.9290823,10295.6689895,10285.8722648,10188.0979122,10074.4444155,10074.238246,9804.31716645,8744.82844926,8515.68528527,8271.52075751,8285.6167637,8261.70737338,8314.23099666,8497.6920351,8393.04164486,8414.22717061,8260.05563096,8215.52593054,8161.41016074,8308.45022135,8332.71517142,8627.70620766,8625.27283353,8721.78072149,8415.24222171,8470.98789038,8390.20904169,8410.71471368,8216.81221666,8134.8314486,8138.41371165,8082.62930791,8281.81863723,8296.69397668,8296.65115115,8092.99949202,7532.86765606,8691.53999754,10021.743983,9749.52966634,9805.11808945,9516.18104772,9426.87421747,9383.16089153,9275.65727074,9377.48656728,9379.80687235,9505.05167619,9457.41843455,9423.23703723,9368.47622343,9272.75941894,8891.81831071,9103.82584426,9081.27928096,8853.76817777,8836.84179047,8826.94365923,8730.8734266,8591.99724097,8727.78922661,8653.28015751,8408.51612757,8237.23987375,8110.09813105,7697.38271398,7442.25893278,7408.57736944,7319.85680403,7320.23035135,7619.6935852,7730.07266616,7781.1796785,7836.10181158,7571.61619421,7474.81886382,7418.85890799,7539.78474641,7743.43172474,7546.99669772,7589.95176549,7634.60664192,7618.09166983,7424.02286377,7324.15640741,7266.6394584,7293.56066067,7308.83632746,7181.0755288,7171.16870269,6964.07495829,7324.98487298,7346.60239301,7257.92191888,7223.22627792,7518.03306263,7656.17619127,7535.71669352,7357.01996276,7388.30253592,7363.52923526,7399.04088941,7513.94840873,7454.82402731,7335.2900508,7254.33061134,7212.15525252,7413.71509934,7427.38579435,7544.49687224,7781.86718275,8178.21587336,8396.73788064,8082.29607413,8166.55414039,8218.3589373,8200.06347027,8197.78817891,8879.51152651,8890.11741953,8846.46109861,8958.12195167,9012.19810645,9164.36225977,8745.59079709,8755.70629569,8792.9938714,8687.74708842,8514.66703526,8458.45301525,8602.40124618,8977.7269618,9358.59031703,9406.43179329,9553.12613251,9521.70592625,9439.323332,9468.79761797,9540.37173779,9331.26581712,9701.30003735,9824.61926061,9834.71678972,9876.74934121,10129.4351603,10165.765355,10210.0526411,10393.6117227,10457.6271997,10321.9957973,10341.5559017,10053.9690091,9938.81578,10161.9353141,10191.6758471,9643.21673144,9723.01498512,9698.23112312,9937.40410608,9951.74614899,9652.73686506,9354.77831023,8932.89304727,8890.45600513,8775.63201232,8726.79676016,8921.30839546,8901.59868323,8843.36574975,9142.05429624,9167.69579623,9163.22109566,8914.34415498,8177.79322362,8136.9452227,7950.81435628,7929.11601884,5838.11493749,5625.22650517,5836.64500618,5385.22952159,5371.34851644,5331.83385967,6329.73594838,6844.26152806,6378.13517055,6359.69729033,6443.93454693,6789.02272423,6892.51135949,6735.4638794,6793.83619652,6467.501165,6250.46730894,6517.19578925,6504.51532416,6612.57379089,7088.24732438,7003.22078432,6878.95351761,6883.41414332,7271.7811527,7427.93933989,7356.22386412,7341.44831412,7303.81519824,6926.0696338,7119.94706176,6965.61663772,6958.55722441,6928.66436972,7134.45052778,7167.18298759,7269.95653094,7280.52178187,7240.29059686,6934.55187057,7145.86574462,7491.78492971,7574.19602617,7641.36397705,7700.59429483,7795.60083451,7814.52714133,8871.75372738,9440.65067326,9048.02383263,9007.18780321,9167.7813443,8956.90651911,9062.41456364,9411.46787039,9992.66392105,9996.74335304,9913.86299284,9595.58062909,9033.47117613,8949.89797874,9317.87855411,9793.26820869,9755.82849814,9564.20498908,9823.0022878,9906.03020325,9836.04752405,9804.79388786,9555.24217533,9232.93609283,9302.50164919,9288.40401564,8951.00563809,8991.9676255,9203.32051535,9546.31960175,9573.66681733,9704.03030928,9700.34389507,10199.5649719,10182.3407084,9682.85947041,9887.6106294,9869.2369055,9773.43201601,9768.49790176,9782.30649673,9836.36896869,9908.89655918,9938.29767389,9540.46539289,9493.21171489,9482.27093599,9504.86006526,9579.43037458,9540.42327076,9482.78198635,9440.87603373,9394.97159448,9401.10749682,9655.07321812,9670.54076171,9680.36714624,9340.16150568,9310.51638223,9207.81098342,9197.54701677,9237.57275525,9217.83601269,9309.75486362,9274.96292273,9202.34438443,9183.29558274,9162.18323157,9375.47475925,9360.61757468,9450.33567174,9431.37858131,9287.47159361,9293.53268075,9319.41941671,9306.40492983,9283.84214229,9275.32512547,9214.31269823,9182.25430793,9230.98350533,9201.39848305,9214.27062879,9407.26305599,9530.5190089,9610.24712467,9623.33703153,9704.55701308,10023.807661,11298.2217576,11204.327602,11304.3970694,11169.3566691,11415.8638958,11794.7753933,12034.1441504,11453.0787225,11385.3815713,11786.6168994,11902.3359717,11898.0384141,11800.0648506,11806.0562765,12045.1403178,11932.7111738,11748.3964937,11796.3961941,12150.9936677,11963.2030649,11934.9009151,12359.0570221,12335.7070704,12028.9234443,11900.4111753,11899.2593199,11689.4073895,11713.4297949,11807.6323164,11778.2998953,11530.0530661,11570.7863091,11545.6154059,11585.6406794,11715.2648492,11768.8767439,12067.0812887,11964.8228043,11443.0227947,10663.9200452,10581.5714107,10353.928072,10399.1534283,10414.7752084,10350.5427324,10503.9125262,10434.9225461,10578.8382504,10577.2152413,10800.0110604,10938.6320402,11100.1243423,11037.4211271,11034.908069,11134.0927157,11095.8697916,10988.304783,10568.0767512,10537.82809054,10771.05620224,10777.69586388,10772.99865956,10803.97608005,10945.34790707,10860.00069783,10847.25699325,10933.62430944,10657.83798611,10598.94080319,10686.00009766,10793.50785056,10797.57808729,10680.50819786,10945.73703324,11102.67150545,11442.2111099,11428.81376969,11698.4677363,11548.98483187,11539.97794666,11569.91418955,11540.06192994,11386.26157113,11483.35971184,11799.0929777,11999.91801959,13184.56617255,13161.5941072,13015.96144265,13145.06668559,13329.18403245,13225.29776076,13759.66872521,13837.69545246,13612.04801658,13651.51626952,14028.21429317,13862.03362917,13808.32287396,13984.98192782,14218.76646779,15706.40445571,15903.43797604,15737.09557115,15637.32033788,15785.13687202,15450.32935034,15916.26081024,16305.00422517,16463.17783998,16317.80834223,16123.11045585,16816.18144902,17782.92055432,18393.94914579,18119.54784964,18773.22751179,18936.62068806,18688.96913465,18711.42673061,19348.27096299,19390.96555566,18866.28612952,17445.02428555,17853.93919131,18283.62817317,19749.26369425,19845.97548328,19308.33066301,19566.19188355,19511.40471415,19160.44926489,19390.49989515,19411.82767631,19283.47833933,18626.29265152,18553.29972814,18268.4528447,18919.55122775,19381.53577302,19305.10044332,19525.0075905,21458.90789704,23642.66010576,23238.60062331,24085.85537123,24209.65988828,24059.98230987,23789.90284154,24024.48959027,23768.3385448,24710.10155607,26718.07089319,28288.84002225,27389.11206428,27370.7200843,28937.74000401,29244.87668786,29600.6269503,33155.11881942,34608.55673797,33440.21856853,34437.5905918,36879.69856854,40180.3679073,41946.73935079,41436.35000639,41420.19103255,38346.52950301,36568.52697414,37599.96059774,39966.40524241,39577.71118833,37864.36887891,36722.34987621,37299.28580604,37755.89185872,36378.32670045,35552.67949732,33811.85156014,33360.97818593,32944.00894195,34802.74297839,32794.5495902,32564.03024112,33858.31099229,38406.26096472,34834.70830094,34288.33147504,34638.21348502,35896.88214463,37480.18789413,38592.17637724,38225.90594551,40846.54690329,39621.8354917,46203.93143652,48003.72396182,47145.56819859,48463.46712511,48745.73380014,48047.74459107,49487.64087275,48875.57161074,50341.10325246,52533.91431173,52474.10724863,56113.65054685,57505.22818745,58330.57214185,57533.38932549,54204.92975578,51290.13669492,51948.96698227,48370.78525976,48253.27010115,46716.43099302,49784.01528954,50127.50988383,52535.1357839,51735.09105293,49396.43086209,49147.21821972,51384.36601025,52314.06880137,54824.11781138,57258.25497592,58091.0627026,57996.61948977,61683.86401412,61597.91839583,60540.99271158,56833.17978025,58969.81634559,60116.24964434,59498.37646021,60031.2869743,58767.89678899,58471.47864713,55985.44014058,57262.38293272,53392.38600133,55137.31372578,56568.2160496,56610.31196825,58342.09641112,59447.22403098,59930.02716002,59586.0722493,60267.18765009,60110.26846076,58913.74779189,59891.2969082,59479.57855171,58731.14290107,58338.73822544,58937.04651601,61276.66536564,60790.55531507,61253.0369158,63742.28333718,64863.0989077,63821.67219266,63594.72091303,62572.17605057,61057.45650886,57520.05477733,57062.1502465,56757.97158884,55410.22866494,52120.79164545,51167.56335742,50506.01909839,54288.00215537,55416.96405761,56227.20564809,55115.84415438,57900.71998842,58448.33881062,57902.59217082,58973.30843091,57214.17876121,57911.36359718,58363.3146181,58606.63396719,59464.61249257,59210.88178942,59519.35442559,56872.54492059,57939.36241484,51330.84358607,51438.11908462,50639.66532796,49720.04462248,46623.55822816,45812.45840792,43546.1164845,42462.98498552,42172.17361572,38831.05443914,38289.21812026,39835.13982978,39776.34979796,40782.07818311,40379.61767161,38856.96788502,37234.49847965,36400.66888165,37468.24899082,37896.73619262,38231.3391761,39478.95118167,39242.48626197,37917.71414924,36436.42096405,36790.57215572,34017.38797859,37537.37115028,38334.32544308,37608.69429327,37408.92559512,39322.78021188,40978.36447697,41295.26857449,40516.77682766,39513.67016412,38187.26016042,36457.79628009,36059.48351685,35721.63963385,33292.45476399,34753.40850285,35228.85261084,35487.2480035,32637.58719331,34656.12735553,35219.89179129,36542.11101765,36074.75975718,35035.98271227,33939.58869924,34909.25989883,35937.56714724,35284.34443007,35038.53636342],\"low\":[134.0,134.0500030517578,107.72000122070312,92.28189849853516,79.0999984741211,92.5,107.14299774169922,106.63999938964844,97.6999969482422,109.5999984741211,109.26000213623048,111.5510025024414,113.01000213623048,113.43499755859376,114.5,110.25,103.5,112.1999969482422,116.5709991455078,122.3000030517578,119.5709991455078,120.12000274658205,121.20999908447266,122.0,123.0999984741211,125.71900177001952,128.89999389648438,130.61500549316406,124.6999969482422,125.5999984741211,127.66200256347656,127.0,126.4000015258789,127.1989974975586,115.0500030517578,116.0,119.0999984741211,119.89900207519533,117.25,106.41999816894533,107.3000030517578,88.5,95.0019989013672,104.0,106.73400115966795,100.52999877929688,98.0,98.0,98.94660186767578,99.0,101.03299713134766,105.75499725341795,107.5,107.68499755859376,107.51399993896484,106.23400115966795,100.9800033569336,101.01000213623048,102.79199981689452,101.0999984741211,92.33300018310548,93.0,94.22229766845705,86.29720306396484,87.51000213623047,76.97920227050781,72.0,65.5260009765625,66.81999969482422,66.62000274658203,72.5999984741211,72.5199966430664,76.19999694824219,85.07990264892578,88.16600036621094,88.06220245361328,92.86000061035156,93.11000061035156,96.1416015625,96.18000030517578,86.19999694824219,87.80000305175781,89.27110290527344,88.0,90.07540130615234,91.5999984741211,93.0,93.8656997680664,96.0,93.0,94.0,98.45500183105467,100.47000122070312,103.87999725341795,103.01100158691406,101.21099853515624,102.0019989013672,103.52300262451172,105.0,105.55699920654295,106.75,101.26000213623048,101.93499755859376,102.41000366210938,102.75499725341795,103.5,104.6500015258789,108.0009994506836,109.0,108.51699829101562,108.2249984741211,112.0,111.77100372314452,117.50800323486328,119.68199920654295,120.5999984741211,118.44400024414062,118.0199966430664,119.16999816894533,119.93000030517578,120.06999969482422,122.62000274658205,122.20999908447266,120.98999786376952,132.72000122070312,134.80999755859375,134.88999938964844,133.0,123.61000061035156,121.83000183105467,119.1500015258789,118.45999908447266,120.48999786376952,119.75,125.9000015258789,123.2699966430664,131.80999755859375,132.27000427246094,128.8699951171875,128.25999450683594,129.77000427246094,124.88999938964844,130.5399932861328,128.4499969482422,126.68000030517578,126.23999786376952,126.58999633789062,125.66000366210938,125.38999938964844,127.33000183105467,127.31999969482422,128.49000549316406,132.55999755859375,134.7100067138672,130.27000427246094,131.5500030517578,102.25,111.81999969482422,123.41000366210938,128.02999877929688,126.1500015258789,126.36000061035156,124.70999908447266,125.58000183105467,129.25999450683594,129.63999938964844,130.55999755859375,134.5500030517578,138.89999389648438,139.1300048828125,142.42999267578125,142.41000366210938,145.57000732421875,155.6999969482422,168.9499969482422,174.8000030517578,182.6499938964844,192.3800048828125,168.52000427246094,168.5,175.75,176.60000610351562,192.05999755859372,198.5500030517578,199.97000122070312,198.8500061035156,202.1300048828125,201.6499938964844,203.9900054931641,213.94000244140625,226.22000122070312,244.77999877929688,261.54998779296875,296.92999267578125,319.7099914550781,277.239990234375,311.7799987792969,342.79998779296875,359.79998779296875,395.1900024414063,396.1099853515625,415.5700073242188,440.239990234375,494.9400024414063,456.3900146484375,448.4500122070313,577.2899780273438,668.1300048828125,771.7000122070312,722.8699951171875,754.4299926757812,800.7999877929688,891.6799926757812,962.1699829101562,1000.6400146484376,1106.6099853515625,801.8200073242188,938.4099731445312,1011.2100219726562,1070.1600341796875,897.1099853515625,829.4500122070312,640.219970703125,670.8800048828125,780.9000244140625,892.3200073242188,834.22998046875,844.9500122070312,860.0499877929688,858.3599853515625,825.0,668.25,630.8800048828125,420.510009765625,502.8900146484375,595.3300170898438,579.1699829101562,585.6400146484375,611.0399780273438,645.7100219726562,649.47998046875,683.9400024414062,713.5999755859375,705.3499755859375,714.4400024414062,740.239990234375,738.1699829101562,754.969970703125,767.2100219726562,789.1199951171875,801.6699829101562,854.52001953125,905.7100219726562,802.0,776.1799926757812,804.1400146484375,822.5999755859375,861.719970703125,851.1699829101562,806.0499877929688,825.6599731445312,830.8599853515625,835.6300048828125,797.6300048828125,816.0700073242188,825.530029296875,853.8699951171875,855.9299926757812,837.3599853515625,819.3200073242188,783.5800170898438,792.9600219726562,844.8599853515625,757.1099853515625,766.97998046875,809.8499755859375,799.0599975585938,812.5999755859375,827.1099853515625,820.6699829101562,807.219970703125,820.9400024414062,811.9099731445312,770.5900268554688,654.3499755859375,661.8699951171875,655.25,550.5,636.6599731445312,643.0399780273438,601.9099731445312,541.0399780273438,632.8400268554688,584.1699829101562,607.3099975585938,612.5399780273438,618.7000122070312,556.1400146484375,530.469970703125,558.5800170898438,599.7000122070312,538.7000122070312,420.4100036621094,532.5800170898438,566.6199951171875,545.1699829101562,539.2899780273438,553.27001953125,560.52001953125,655.6799926757812,646.280029296875,649.7899780273438,616.3499755859375,604.4600219726562,612.3499755859375,615.02001953125,618.8400268554688,629.510009765625,630.8499755859375,627.2100219726562,627.2999877929688,628.1099853515625,616.85498046875,603.7960205078125,609.0960083007812,587.4929809570312,561.81298828125,554.3909912109375,560.8779907226562,551.77197265625,572.60498046875,570.9630126953125,471.239013671875,473.2340087890625,489.7340087890625,444.1789855957031,443.364990234375,457.0,431.2690124511719,414.8900146484375,429.0910034179688,444.1969909667969,452.9700012207031,445.12200927734375,446.114013671875,441.9330139160156,358.73199462890625,351.2720031738281,415.78900146484375,395.2539978027344,407.37298583984375,453.5429992675781,502.781005859375,484.8739929199219,472.7409973144531,470.5610046386719,490.8399963378906,493.2009887695313,487.5799865722656,485.8169860839844,482.9519958496094,442.9509887695313,449.1029968261719,436.3900146484375,422.9419860839844,435.1809997558594,436.6990051269531,447.6329956054688,443.4030151367188,430.6820068359375,430.0539855957031,427.6170043945313,423.2510070800781,428.4509887695313,438.14300537109375,440.14300537109375,448.4679870605469,433.4010009765625,434.2309875488281,436.9670104980469,440.50299072265625,443.6300048828125,444.9639892578125,447.3009948730469,444.7839965820313,443.1000061035156,446.0069885253906,483.489013671875,490.1910095214844,520.0759887695312,516.281005859375,525.22802734375,565.3319702148438,554.4340209960938,564.0869750976562,561.5960083007812,568.156982421875,604.4710083007812,619.906005859375,618.7449951171875,650.7839965820312,624.0889892578125,640.0900268554688,652.3040161132812,644.906982421875,653.469970703125,644.3930053710938,646.5640258789062,632.5469970703125,573.27197265625,585.6959838867188,549.8209838867188,554.8909912109375,587.0679931640625,590.4000244140625,604.39599609375,597.0180053710938,587.7559814453125,587.7369995117188,594.6270141601562,586.343017578125,582.3569946289062,565.625,564.7310180664062,579.885009765625,595.9180297851562,596.1619873046875,599.8829956054688,640.1069946289062,638.3389892578125,641.302978515625,629.4030151367188,628.0040283203125,631.1599731445312,617.0070190429688,620.906982421875,622.5960083007812,612.3460083007812,615.7689819335938,626.9819946289062,624.9089965820312,617.322021484375,619.635009765625,615.3250122070312,608.3989868164062,620.4719848632812,624.5969848632812,622.7750244140625,619.1090087890625,620.9569702148438,618.2930297851562,595.5659790039062,597.2260131835938,593.9639892578125,593.4299926757812,575.1849975585938,581.6950073242188,564.89599609375,564.510986328125,583.6339721679688,586.155029296875,581.6500244140625,583.739990234375,584.1019897460938,583.0980224609375,584.052001953125,588.791015625,587.6329956054688,587.9420166015625,574.051025390625,566.594970703125,532.6669921875,498.7250061035156,487.9259948730469,487.7439880371094,483.6260070800781,443.85101318359375,455.53900146484375,467.510986328125,510.4490051269531,501.2749938964844,492.114013671875,497.35101318359375,499.2330017089844,502.54400634765625,510.9219970703125,506.87701416015625,503.8169860839844,501.635986328125,474.8139953613281,471.9100036621094,472.3240051269531,476.2080078125,477.08599853515625,481.6090087890625,482.99798583984375,482.2780151367188,468.7900085449219,467.7780151367188,475.1449890136719,474.6099853515625,473.0090026855469,475.0979919433594,476.1189880371094,474.0220031738281,465.12799072265625,452.4219970703125,413.10400390625,384.5320129394531,389.8829956054688,393.1809997558594,397.1300048828125,396.1969909667969,421.1319885253906,409.4679870605469,400.0090026855469,397.37200927734375,374.3320007324219,372.239990234375,373.4429931640625,380.7799987792969,372.9460144042969,357.8590087890625,325.885986328125,289.2959899902344,302.5599975585937,320.48199462890625,327.18798828125,347.68701171875,352.9630126953125,355.95098876953125,356.1440124511719,368.8970031738281,391.3240051269531,388.7659912109375,373.0700073242188,375.3890075683594,378.9710083007813,386.4570007324219,378.25201416015625,380.8340148925781,382.2489929199219,356.4469909667969,353.30499267578125,342.87701416015625,343.9309997558594,349.8089904785156,352.6789855957031,335.3429870605469,335.0719909667969,337.1419982910156,321.05499267578125,320.6260070800781,325.4809875488281,325.0769958496094,330.6830139160156,338.42401123046875,341.7760009765625,342.15399169921875,344.2550048828125,357.5610046386719,363.7349853515625,367.9849853515625,401.12298583984375,384.78900146484375,371.0079956054688,374.60198974609375,377.50201416015625,371.1170043945313,373.89599609375,356.781005859375,344.11199951171875,350.87799072265625,353.17498779296875,366.66900634765625,374.7839965820313,365.8160095214844,368.2820129394531,358.4549865722656,372.1449890136719,373.3089904785156,376.66900634765625,377.8630065917969,374.3460083007813,367.7590026855469,365.7560119628906,370.9450073242188,373.2749938964844,361.885986328125,344.95098876953125,346.364990234375,338.76300048828125,349.2909851074219,346.5880126953125,345.4179992675781,344.9339904785156,327.06201171875,315.1520080566406,304.23199462890625,306.7690124511719,316.04400634765625,318.90301513671875,320.42498779296875,329.6019897460937,321.35699462890625,316.9580078125,316.62701416015625,312.6300048828125,311.0780029296875,312.3070068359375,309.3729858398437,310.21099853515625,314.00299072265625,313.56500244140625,281.0820007324219,257.61199951171875,265.0840148925781,272.6960144042969,283.0790100097656,282.17498779296875,280.5329895019531,273.96600341796875,265.0390014648437,265.20001220703125,219.906005859375,171.50999450683594,176.89700317382812,199.77099609375,194.875,194.5059967041016,207.3179931640625,205.1529998779297,211.2120056152344,226.4340057373047,225.1959991455078,230.02200317382807,243.88999938964844,254.07899475097656,250.6529998779297,227.04600524902344,220.7120056152344,225.8390045166016,216.3090057373047,212.01499938964844,222.65899658203125,224.4830017089844,221.11300659179688,214.7250061035156,216.23199462890625,222.60699462890625,221.07699584960935,217.0189971923828,215.33200073242188,218.07400512695312,217.61399841308597,221.26199340820312,235.5279998779297,227.6840057373047,229.02200317382807,232.31399536132807,232.33999633789065,235.5919952392578,239.2989959716797,243.1840057373047,233.8509979248047,232.42100524902344,236.4019927978516,235.52999877929688,234.2570037841797,236.43600463867188,249.47900390625,245.93299865722656,258.31298828125,268.1610107421875,268.1260070800781,264.7690124511719,270.0150146484375,270.13299560546875,272.56500244140625,273.8930053710937,289.7430114746094,290.50799560546875,292.4129943847656,285.3370056152344,280.9760131835937,280.9960021972656,285.6849975585937,284.3739929199219,249.8699951171875,248.6360015869141,259.1619873046875,255.6499938964844,259.5899963378906,261.7449951171875,244.15499877929688,236.51499938964844,244.90499877929688,245.21299743652344,246.9750061035156,240.8500061035156,239.2140045166016,242.73899841308597,241.16000366210935,245.4160003662109,251.8789978027344,251.1000061035156,251.94200134277344,254.5749969482422,252.2050018310547,244.21499633789065,239.3999938964844,232.77099609375,234.1750030517578,233.4949951171875,221.9960021972656,216.322998046875,218.6490020751953,223.91700744628903,221.94200134277344,220.87600708007807,222.3730010986328,221.9770050048828,224.30099487304688,233.4759979248047,233.19900512695312,229.93299865722656,226.3370056152344,214.87399291992188,218.0229949951172,223.06900024414065,223.42999267578125,224.9929962158203,232.07899475097656,232.34100341796875,234.0829925537109,237.80999755859372,232.0540008544922,229.2310028076172,228.572998046875,236.2740020751953,239.63900756835935,238.8489990234375,239.37600708007807,240.0989990234375,235.0449981689453,234.0570068359375,236.7949981689453,235.2949981689453,236.00999450683597,232.4600067138672,231.81700134277344,231.8419952392578,233.8350067138672,235.05999755859372,238.6909942626953,238.81100463867188,236.63699340820312,235.69200134277344,236.69500732421875,236.6519927978516,235.7310028076172,232.04600524902344,229.54200744628903,221.29600524902344,222.41900634765625,223.92999267578125,224.0540008544922,223.1790008544922,224.3789978027344,222.6519927978516,222.8390045166016,227.9290008544922,228.00999450683597,228.7669982910156,229.31300354003903,229.2100067138672,232.0039978027344,233.4219970703125,236.1219940185547,246.4759979248047,244.1269989013672,243.78700256347656,240.6269989013672,241.8820037841797,243.7790069580078,243.13299560546875,240.51499938964844,240.3650054931641,241.5529937744141,243.11700439453125,247.4340057373047,248.58099365234372,255.9459991455078,255.7740020751953,254.11599731445312,253.5050048828125,254.1999969482422,258.70098876953125,267.6000061035156,264.8320007324219,264.385986328125,267.08599853515625,268.802001953125,283.5299987792969,292.5050048828125,281.010986328125,286.63800048828125,285.36700439453125,275.239990234375,272.0429992675781,274.07501220703125,272.51300048828125,272.9599914550781,275.41900634765625,274.3810119628906,275.71600341796875,275.2539978027344,286.00201416015625,287.7059936523437,287.45001220703125,293.4230041503906,288.7770080566406,286.5679931640625,282.343994140625,278.11199951171875,277.52899169921875,280.2330017089844,281.2250061035156,281.4880065917969,278.40301513671875,276.3659973144531,260.7099914550781,260.4679870605469,262.59600830078125,264.093994140625,265.468994140625,262.84100341796875,261.4779968261719,261.2959899902344,257.0409851074219,257.11700439453125,211.07899475097656,222.76600646972656,226.8990020751953,231.7239990234375,222.70399475097656,225.5800018310547,210.4429931640625,199.56700134277344,220.20399475097656,223.6840057373047,220.92599487304688,227.3300018310547,226.2469940185547,225.9149932861328,226.8600006103516,226.4750061035156,226.66700744628903,227.05099487304688,229.4429931640625,234.68099975585935,238.7220001220703,239.6779937744141,237.8209991455078,235.7910003662109,238.32899475097656,234.7539978027344,229.33200073242188,227.96099853515625,229.82200622558597,227.4019927978516,228.92599487304688,232.18499755859372,231.0890045166016,230.91000366210935,226.52099609375,225.11700439453125,229.59100341796875,230.2949981689453,233.6840057373047,233.3580017089844,232.4759979248047,232.4669952392578,235.9279937744141,235.6289978027344,235.61599731445312,236.60299682617188,236.94400024414065,237.94000244140625,237.03500366210935,240.1360015869141,242.5850067138672,242.1790008544922,242.1219940185547,243.07400512695312,244.1519927978516,245.1790008544922,243.7570037841797,248.9029998779297,252.04600524902344,253.92599487304688,262.36700439453125,260.7770080566406,260.95098876953125,263.2269897460937,263.8389892578125,266.135009765625,273.5429992675781,276.5039978027344,281.44500732421875,280.510009765625,285.00799560546875,293.7030029296875,301.822998046875,313.94000244140625,309.2510070800781,311.8810119628906,323.2090148925781,357.6470031738281,380.5480041503906,374.58099365234375,354.0249938964844,372.4330139160156,368.7000122070313,362.8949890136719,329.1080017089844,300.9970092773437,313.3559875488281,326.07501220703125,329.9700012207031,317.489990234375,315.9049987792969,329.614013671875,330.6400146484375,325.27301025390625,312.2170104980469,319.5950012207031,321.2590026855469,321.2900085449219,318.1180114746094,316.7699890136719,328.22900390625,347.8699951171875,352.1719970703125,355.6659851074219,370.3829956054688,356.56298828125,349.4649963378906,357.4119873046875,355.7569885253906,363.22900390625,387.0889892578125,385.4110107421875,389.9500122070313,406.2909851074219,411.5480041503906,415.281005859375,410.7409973144531,426.26800537109375,430.45599365234375,443.87799072265625,443.85101318359375,448.8580017089844,454.9400024414063,456.7650146484375,434.3380126953125,427.31201171875,435.5159912109375,436.6189880371094,443.0769958496094,452.0750122070313,405.760009765625,408.8829956054688,418.4809875488281,420.62701416015625,422.0840148925781,418.7349853515625,427.5150146484375,431.8699951171875,424.70599365234375,429.0840148925781,429.6759948730469,426.3410034179688,429.0769958496094,447.93798828125,446.8890075683594,440.35101318359375,443.8550109863281,435.6900024414063,424.4429931640625,427.8450012207031,364.33099365234375,354.9140014648437,380.0920104980469,376.6650085449219,378.9719848632813,376.5989990234375,406.2999877929688,375.2820129394531,381.9809875488281,387.510009765625,388.5539855957031,390.5750122070313,391.7820129394531,379.7349853515625,365.4519958496094,376.4909973144531,367.8349914550781,367.9570007324219,372.9200134277344,368.0450134277344,369.9930114746094,385.5719909667969,372.3869934082031,374.9030151367188,373.3340148925781,372.8980102539063,375.7829895019531,376.3989868164063,379.6000061035156,384.6409912109375,392.9320068359375,397.7489929199219,401.4320068359375,406.7839965820313,415.6380004882813,417.60400390625,421.60101318359375,429.0769958496094,432.9169921875,417.8210144042969,413.9070129394531,420.4150085449219,421.6199951171875,428.1029968261719,423.8200073242188,431.6929931640625,432.3190002441406,423.989013671875,419.4110107421875,410.9389953613281,394.0350036621094,395.7780151367188,406.3089904785156,411.093994140625,411.6059875488281,413.2510070800781,417.0130004882813,410.093994140625,411.6419982910156,414.2009887695313,414.9849853515625,415.9119873046875,417.8890075683594,406.1369934082031,407.2300109863281,410.4010009765625,410.3810119628906,412.531005859375,417.364013671875,415.4859924316406,415.5580139160156,416.2590026855469,417.71099853515625,423.2929992675781,412.6809997558594,412.4960021972656,415.2569885253906,415.83099365234375,418.4219970703125,419.6969909667969,419.60101318359375,420.614013671875,422.72900390625,420.51800537109375,419.635009765625,416.5150146484375,419.2569885253906,420.5329895019531,422.8429870605469,422.9159851074219,423.0130004882813,424.427001953125,428.9840087890625,426.0790100097656,427.08599853515625,428.10400390625,434.406005859375,440.9519958496094,444.1499938964844,444.33099365234375,448.9280090332031,453.5920104980469,461.6210021972656,444.1340026855469,436.6499938964844,446.0169982910156,447.6969909667969,447.927001953125,441.7760009765625,442.6170043945313,445.6300048828125,445.8829956054688,447.0679931640625,457.3240051269531,455.9830017089844,456.531005859375,448.9540100097656,450.864013671875,449.25,453.4530029296875,454.7860107421875,455.4590148925781,452.9450073242188,453.6050109863281,453.2990112304688,438.7149963378906,437.3890075683594,441.70599365234375,439.0350036621094,438.822998046875,443.9299926757813,446.06201171875,447.89599609375,453.52099609375,472.6990051269531,512.1790161132812,522.9630126953125,520.6619873046875,525.635986328125,533.0780029296875,536.9199829101562,564.2379760742188,569.177978515625,574.6019897460938,567.5139770507812,573.1300048828125,570.9509887695312,573.3250122070312,578.6740112304688,607.0390014648438,664.4869995117188,662.8040161132812,672.5609741210938,696.5230102539062,716.5560302734375,733.9290161132812,745.6279907226562,732.7269897460938,639.0700073242188,587.4829711914062,558.1389770507812,625.27197265625,646.5590209960938,616.9340209960938,620.5239868164062,637.7730102539062,628.2839965820312,636.6079711914062,669.593994140625,676.3989868164062,649.0089721679688,650.5079956054688,665.0659790039062,670.4180297851562,611.833984375,636.4669799804688,633.3989868164062,641.2639770507812,644.97998046875,646.7789916992188,654.468017578125,652.9229736328125,659.0399780273438,659.333984375,661.9929809570312,668.625,667.6320190429688,663.3599853515625,660.4149780273438,646.7219848632812,648.5239868164062,652.7930297851562,653.39501953125,645.8790283203125,648.447021484375,654.4920043945312,654.7860107421875,654.208984375,624.364990234375,605.8839721679688,531.333984375,541.5469970703125,565.7769775390625,569.9819946289062,569.468994140625,586.8159790039062,588.0469970703125,584.7930297851562,586.3709716796875,589.1199951171875,583.8109741210938,584.97900390625,564.781005859375,563.239990234375,566.7160034179688,571.4299926757812,573.4299926757812,574.1820068359375,575.4569702148438,580.218017578125,580.593994140625,581.6339721679688,579.85498046875,575.1669921875,576.8579711914062,568.6300048828125,569.739990234375,573.4650268554688,574.114013671875,573.6420288085938,571.8140258789062,570.8109741210938,574.0560302734375,596.8480224609375,602.2420043945312,605.0910034179688,608.5130004882812,613.843994140625,620.2630004882812,622.39501953125,600.5059814453125,605.4110107421875,606.9249877929688,608.4099731445312,607.155029296875,606.7349853515625,605.1920166015625,605.8560180664062,608.27001953125,607.93798828125,595.8829956054688,596.2130126953125,595.7860107421875,602.0449829101562,599.7109985351562,600.3489990234375,604.1099853515625,604.6069946289062,604.8480224609375,604.1420288085938,609.9290161132812,609.6820068359375,610.4550170898438,609.47900390625,609.6170043945312,611.468994140625,611.8209838867188,617.3410034179688,616.6069946289062,616.197021484375,618.5,635.9650268554688,635.0289916992188,637.0079956054688,637.3900146484375,638.9010009765625,638.6630249023438,635.9959716796875,628.0130004882812,628.2579956054688,630.6939697265625,632.8499755859375,653.885986328125,652.594970703125,653.697998046875,657.677978515625,678.0399780273438,684.1619873046875,690.052001953125,696.4749755859375,691.6820068359375,701.3369750976562,722.3489990234375,678.156005859375,685.56298828125,697.739013671875,699.5599975585938,699.9030151367188,702.3900146484375,708.6099853515625,711.2100219726562,714.4099731445312,704.0349731445312,687.3150024414062,699.8079833984375,705.260009765625,709.0390014648438,739.510986328125,736.8900146484375,744.4669799804688,717.9439697265625,730.510009765625,736.5269775390625,738.9240112304688,733.489990234375,734.5910034179688,729.625,731.0850219726562,732.4840087890625,734.5590209960938,736.2650146484375,746.0460205078125,757.5449829101562,764.8560180664062,768.1610107421875,751.7130126953125,758.719970703125,759.75,765.9459838867188,769.6489868164062,772.9099731445312,765.4119873046875,770.0399780273438,777.9619750976562,776.8389892578125,777.802001953125,778.9630126953125,784.864013671875,788.0260009765625,790.3200073242188,791.4970092773438,799.405029296875,834.1489868164062,864.677001953125,886.3350219726562,862.4240112304688,896.8980102539062,904.2550048828124,934.8309936523438,954.5029907226562,934.8330078125,947.2360229492188,958.698974609375,996.7020263671876,1021.5999755859376,1044.4000244140625,910.4169921875,883.9439697265625,823.5560302734375,887.2490234375,879.8070068359375,901.0599975585938,762.7650146484375,755.7559814453125,780.0029907226562,812.4559936523438,812.8709716796875,820.27099609375,830.7960205078125,858.3040161132812,884.3380126953125,887.0079956054688,895.5349731445312,897.5640258789062,916.7379760742188,892.2860107421875,891.68701171875,902.2239990234376,915.8460083007812,919.8109741210938,919.1480102539062,919.4739990234376,920.958984375,970.7420043945312,983.2210083007812,1008.7899780273438,1015.1599731445312,1022.3699951171876,1028.1600341796875,1040.1400146484375,1037.489990234375,953.343994140625,946.6909790039062,982.8300170898438,996.9210205078124,976.0020141601562,986.4710083007812,1001.5800170898438,1007.6500244140624,1025.6400146484375,1046.9599609375,1043.4599609375,1041.68994140625,1076.9300537109375,1100.550048828125,1116.9599609375,1131.9599609375,1124.5899658203125,1130.199951171875,1163.3800048828125,1171.8199462890625,1179.68994140625,1215.6199951171875,1250.7099609375,1230.510009765625,1238.06005859375,1264.5999755859375,1204.800048828125,1148.0799560546875,1141.22998046875,1077.25,1116.3199462890625,1175.3599853515625,1217.030029296875,1220.719970703125,1239.75,1152.43994140625,1099.5699462890625,957.655029296875,976.72998046875,1036.6800537109375,1055.3599853515625,1014.2100219726562,1028.9300537109375,934.3579711914062,903.7130126953124,954.1859741210938,971.9840087890624,1027.72998046875,1015.8800048828124,1020.0399780273438,1026.6400146484375,1061.0899658203125,1075.449951171875,1102.949951171875,1120.52001953125,1113.6300048828125,1125.81005859375,1163.3900146484375,1162.5799560546875,1171.8599853515625,1179.0400390625,1187.4599609375,1196.760009765625,1156.43994140625,1159.7900390625,1164.9599609375,1172.6099853515625,1172.6500244140625,1193.77001953125,1205.0799560546875,1208.4100341796875,1215.56005859375,1208.469970703125,1203.93994140625,1209.6300048828125,1249.969970703125,1265.9300537109375,1281.300048828125,1292.3699951171875,1315.2099609375,1314.9200439453125,1348.300048828125,1415.68994140625,1447.489990234375,1490.719970703125,1530.31005859375,1542.5,1559.760009765625,1596.9200439453125,1716.300048828125,1719.0999755859375,1755.3499755859375,1694.010009765625,1651.0799560546875,1776.6199951171875,1708.5400390625,1686.5400390625,1661.9100341796875,1807.1199951171875,1890.25,1974.9200439453125,2037.5,2017.8699951171875,2178.5,2321.3701171875,2285.300048828125,2071.989990234375,1855.8299560546875,2054.080078125,2107.169921875,2124.570068359375,2145.570068359375,2288.330078125,2373.320068359375,2423.570068359375,2452.5400390625,2510.219970703125,2690.840087890625,2700.56005859375,2670.949951171875,2795.6201171875,2746.550048828125,2840.530029296875,2518.56005859375,2650.3798828125,2412.93994140625,2212.9599609375,2385.14990234375,2484.9599609375,2516.330078125,2549.030029296875,2589.820068359375,2660.39990234375,2642.360107421875,2706.3701171875,2583.18994140625,2552.1201171875,2376.2900390625,2332.989990234375,2484.419921875,2510.47998046875,2478.429931640625,2419.22998046875,2394.840087890625,2480.469970703125,2559.35009765625,2538.550048828125,2581.68994140625,2498.8701171875,2492.31005859375,2517.590087890625,2321.1298828125,2296.81005859375,2275.139892578125,2340.830078125,2183.219970703125,1990.4100341796875,1843.030029296875,1932.6199951171875,2164.77001953125,2260.22998046875,2269.889892578125,2621.85009765625,2657.7099609375,2653.93994140625,2699.18994140625,2480.9599609375,2450.800048828125,2529.340087890625,2679.72998046875,2692.800048828125,2644.85009765625,2720.610107421875,2685.610107421875,2668.590087890625,2685.139892578125,2743.719970703125,2874.830078125,3155.60009765625,3180.889892578125,3345.830078125,3247.669921875,3319.469970703125,3372.1201171875,3613.699951171875,3857.800048828125,3989.159912109375,3906.179931640625,3994.419921875,4243.7099609375,4015.39990234375,3970.550048828125,4069.8798828125,3988.60009765625,3674.580078125,4078.409912109375,4130.259765625,4307.35009765625,4269.52001953125,4317.2900390625,4224.64013671875,4352.1298828125,4471.41015625,4549.39990234375,4678.52978515625,4469.240234375,4417.58984375,4108.39990234375,3998.110107421875,4376.58984375,4491.330078125,4075.179931640625,4114.10986328125,3951.0400390625,4099.39990234375,4085.219970703125,3789.919921875,3153.860107421875,2946.6201171875,3487.7900390625,3445.639892578125,3591.090087890625,3868.8701171875,3857.72998046875,3613.6298828125,3553.530029296875,3594.580078125,3666.89990234375,3681.580078125,3869.89990234375,3884.820068359375,4109.7001953125,4039.2900390625,4160.85986328125,4269.81005859375,4377.4599609375,4258.89013671875,4210.419921875,4164.0498046875,4320.52978515625,4321.0498046875,4405.64013671875,4564.25,4765.10009765625,4751.6298828125,4822.0,5436.85009765625,5591.64013671875,5478.60986328125,5544.2099609375,5472.72021484375,5151.43994140625,5531.06005859375,5627.22998046875,5965.06982421875,5792.33984375,5732.47021484375,5504.18017578125,5397.8798828125,5721.22021484375,5728.81982421875,5689.18994140625,5724.580078125,6040.85009765625,6103.330078125,6377.8798828125,6758.72021484375,7002.93994140625,7031.27978515625,7333.18994140625,7007.31005859375,7023.10009765625,7114.02001953125,7101.52001953125,6436.8701171875,6204.22021484375,5519.009765625,5844.2900390625,6461.75,6634.759765625,7176.580078125,7561.08984375,7463.43994140625,7694.10009765625,7949.35986328125,7762.7099609375,8075.47021484375,8038.77001953125,7940.93017578125,8191.14990234375,8775.58984375,9352.7197265625,9736.2998046875,9601.0302734375,9202.0498046875,9694.650390625,10905.099609375,10862.0,11081.7998046875,11604.599609375,11923.400390625,14057.2998046875,14336.900390625,13674.900390625,13226.599609375,15404.7998046875,16571.599609375,16039.7001953125,16185.900390625,16601.30078125,17515.30078125,18974.099609375,18355.900390625,17275.400390625,16077.7001953125,15342.7001953125,11833.0,13828.7998046875,12747.7001953125,13448.900390625,14028.900390625,15114.2998046875,13937.2998046875,14307.0,12350.099609375,12755.599609375,13154.7001953125,13163.599609375,14844.5,14522.2001953125,15202.7998046875,16764.599609375,16087.7001953125,14208.2001953125,14424.0,13691.2001953125,13105.900390625,13158.099609375,13952.400390625,13268.0,13641.7001953125,10194.900390625,9402.2900390625,10942.5,11172.099609375,11656.2001953125,11288.2001953125,10240.2001953125,10129.7001953125,10639.7998046875,11057.400390625,10470.2998046875,10989.2001953125,11475.2998046875,11179.2001953125,10036.2001953125,9777.419921875,8812.2802734375,7796.490234375,8251.6298828125,8031.22021484375,6756.68017578125,6048.259765625,7236.7900390625,7637.85986328125,7884.7099609375,8295.4697265625,7931.10009765625,8141.43017578125,8455.41015625,8599.919921875,9395.580078125,9824.8203125,10149.400390625,10326.0,10513.2001953125,11231.7998046875,10479.099609375,9939.08984375,9734.5595703125,9546.9697265625,9407.0595703125,9501.73046875,10246.099609375,10393.099609375,10352.7001953125,10850.099609375,11002.400390625,11136.099609375,11443.900390625,10694.2998046875,9692.1201171875,9335.8701171875,8513.0302734375,8828.4697265625,8607.1201171875,8956.4296875,8958.1904296875,8068.58984375,7783.0498046875,8005.31005859375,7812.81982421875,7397.990234375,8182.39990234375,8389.8896484375,8846.330078125,8564.900390625,8360.6201171875,8665.7001953125,8449.099609375,7921.43017578125,7797.27978515625,7809.169921875,7081.3798828125,6683.93017578125,6863.52001953125,6526.8701171875,6816.580078125,7072.490234375,6803.8798828125,6644.7998046875,6575.0,6630.509765625,6919.97998046875,6661.990234375,6704.14990234375,6817.58984375,6806.509765625,7758.93017578125,7846.0,7999.330078125,7925.72998046875,7881.72021484375,7886.009765625,8138.77978515625,8244.5400390625,8652.150390625,8779.6103515625,8788.8095703125,8927.830078125,8799.83984375,8727.08984375,8987.0498046875,8931.990234375,9193.7099609375,9166.8095703125,8891.0498046875,9015.1396484375,9188.150390625,9585.9599609375,9695.1201171875,9465.25,9231.5302734375,9127.76953125,9031.6201171875,9040.51953125,8394.4599609375,8223.5,8395.1201171875,8367.9697265625,8456.4501953125,8175.490234375,8054.1201171875,7974.81982421875,8183.35009765625,8205.240234375,8365.1201171875,8004.580078125,7507.8798828125,7331.14013671875,7392.64990234375,7349.1201171875,7270.9599609375,7100.89013671875,7090.68017578125,7313.60009765625,7361.1298828125,7407.33984375,7497.259765625,7613.0400390625,7474.0400390625,7397.0,7502.009765625,7650.81982421875,7558.39990234375,7531.97998046875,6709.06982421875,6706.6298828125,6542.080078125,6285.6298828125,6334.4599609375,6433.8701171875,6402.2900390625,6499.27001953125,6446.68017578125,6709.919921875,6611.8798828125,6715.169921875,6006.60009765625,6071.81005859375,5826.41015625,6119.68017578125,6093.669921875,6052.85009765625,5873.0498046875,5835.75,6214.22021484375,6289.2900390625,6305.7001953125,6447.75,6450.4599609375,6546.64990234375,6533.5498046875,6579.240234375,6747.97998046875,6724.33984375,6320.72021484375,6330.47021484375,6136.419921875,6192.240234375,6212.22021484375,6256.509765625,6357.009765625,6684.169921875,7280.47021484375,7295.4599609375,7323.259765625,7262.41015625,7383.81982421875,7409.10009765625,7705.5,8086.35986328125,7878.7099609375,7839.759765625,8110.77001953125,8141.18017578125,7917.5,7696.93,7504.95,7523.44,7328.65,6984.07,6940.7,6890.54,6748.24,6226.22,6249.07,6124.52,6109.03,6237.5,6225.72,5971.05,6221.42,6276.41,6324.97,6353.73,6361.55,6297.93,6298.24,6310.11,6371.34,6498.64,6700.96,6620.75,6689.71,6882.34,6970.82,6834.69,6920.16,7038.05,7132.16,7208.15,7255.44,6792.83,6404.72,6396.87,6197.52,6201.22,6292.76,6260.21,6265.09,6354.24,6456.17,6493.55,6460.1,6257.52,6265.71,6208.34,6395.95,6496.36,6616.8,6679.42,6580.9,6381.86,6397.89,6464.95,6598.32,6511.65,6566.54,6549.08,6537.9,6454.03,6497.91,6557.41,6577.8,6557.04,6576.04,6606.94,6538.96,6243.74,6236.47,6259.81,6280.15,6258.68,6571.37,6517.45,6450.04,6445.31,6449.0,6476.0,6462.98,6451.27,6468.86,6447.03,6449.61,6453.53,6447.91,6306.99,6310.14,6316.88,6311.83,6327.38,6342.37,6294.57,6363.62,6408.16,6468.31,6438.53,6373.37,6385.31,6350.17,6360.47,6342.67,5544.09,5358.38,5498.94,5519.56,5559.74,4842.91,4272.11,4343.98,4365.64,4195.68,3795.16,3585.06,3643.92,3661.01,3822.47,4145.76513671875,3942.82208559,3969.71064261,4110.97847302,3840.44626837,3832.74993843,3753.99482663,3521.10172384,3280.22875211,3350.65070337,3469.09435766,3470.14441964,3392.2500529,3413.48135271,3298.13196161,3206.54229103,3191.30356157,3233.81979097,3253.12299273,3487.16920219,3687.23002226,3728.97463571,3850.94616856,3855.73893391,3976.4057328,4000.33178206,3760.02039224,3769.86381605,3645.44843766,3642.63210325,3820.40868219,3797.21912198,3725.86749335,3707.23130258,3817.40949569,3826.22287069,3783.8536653,3836.90012599,3826.51306238,4020.89395079,3996.95525626,4022.66280883,3659.17453883,3653.06980474,3653.81085703,3544.92722821,3552.28515158,3619.94912664,3624.67338834,3621.96099215,3637.08086521,3652.37783507,3583.01948596,3558.53714829,3539.72132372,3565.31403323,3569.09284671,3575.59733314,3593.34583728,3567.24575778,3439.23300929,3400.81972619,3429.38794807,3447.91581548,3431.59149165,3467.57468262,3447.92431416,3442.5869204,3451.93695191,3398.56538208,3394.21860755,3391.02375248,3646.55933455,3640.97995463,3642.28773261,3618.55692543,3617.2464285,3607.69780014,3608.20643294,3615.27026725,3619.18213016,3669.98232379,3908.15296756,3926.24692473,3940.10818712,3950.81642747,3968.72669838,3793.70900544,3807.00244566,3837.98643789,3787.05877702,3845.82138085,3851.69234979,3832.12797211,3836.90573367,3733.74966077,3745.18318172,3871.46059394,3894.11295638,3875.22842393,3892.39046739,3924.38105934,3889.23913266,3863.55909997,3891.90419153,3901.2968769,3914.01535654,3961.6575267,4006.41114819,4009.11722623,4023.81254521,4031.11074047,4005.15127452,4021.54243412,4015.96469723,4006.19284731,3934.03136241,3944.75317214,3977.81046621,4040.26644055,4034.09716136,4053.90965067,4094.10084931,4096.90125463,4155.31667828,4876.62131112,4836.79382246,4919.49163361,4992.22200103,5050.41230153,5148.21181354,5167.41905834,5193.38250879,5017.29640976,4955.85259984,5061.58936959,5053.56858614,5024.06937381,5055.19496077,5219.20559934,5250.50665911,5233.33520521,5295.87771212,5257.33953186,5280.27672867,5389.40888788,5418.26332858,5181.33901806,5177.36851375,5233.63572083,5255.68374555,5216.48796096,5224.18984511,5347.6461061,5394.21751696,5490.2018629,5645.46932165,5708.03512399,5653.68761092,5741.39591074,5794.71564865,5982.31627033,6161.51907243,6375.69861161,6815.77092608,6898.2824267,7696.39104325,7899.10688404,7729.60838515,7038.12453946,7251.50451112,7267.96301884,7678.78158711,7843.33978307,7615.98748467,7533.196693,7824.44888684,7965.97621163,7924.67019111,8668.70492015,8634.72130428,8482.72893785,8221.27336604,8172.55084356,8481.57822194,8561.23513935,8204.18581516,7564.48860353,7668.6687003,7571.47097209,7788.3733918,7837.61096128,7583.21971271,7586.73084679,7772.80393035,7862.3597896,8087.06116595,8183.39293312,8618.39596373,8814.55645906,8988.92370914,9004.90174624,9070.39599386,9232.48426293,9525.07460809,10107.0352041,10556.095932,10610.4280819,11007.2020736,11755.597775,10491.8523044,10914.4948615,11508.3784271,10799.0085788,10089.3143739,9737.88454398,10818.1558221,11166.5688601,10874.9649233,10982.5439142,11148.8048129,11393.3743129,12233.2620314,11710.9784147,11158.9228142,11179.1448437,10908.4793185,10234.5764143,9992.00724951,9448.1067483,9163.13464449,9376.79846015,10229.6289244,10451.2760142,10389.5998035,10154.9215831,9883.59513007,9614.30658327,9773.95670972,9717.9822414,9411.52180812,9252.2968633,9472.94833737,9437.3362874,9598.09768275,9922.01981608,10371.0139875,10503.5043975,10620.2782517,10960.7357349,11290.7316542,11433.701205,11556.1684508,11709.7453788,11323.8987573,11248.2948234,11320.9515001,10830.3269144,10028.1353635,9675.3164202,9855.47883007,10086.6979603,10119.0946079,10313.2044338,10618.9606782,9962.7216442,9831.46262049,10078.1927261,9982.29685483,10008.7887534,10126.2995187,10087.3005576,9716.65581044,9421.63015965,9428.30239699,9531.79983914,9582.94463078,9730.65071681,10308.5478807,10434.7103971,10516.4182336,10292.3001305,10348.9192522,10409.091259,10144.929455,10020.5734003,9980.77667261,10099.2419536,10226.5969003,10291.6944928,10313.092448,10189.7445857,10199.7397431,10191.4695236,9851.69215634,10132.1861639,10000.7080483,9922.53339543,9727.14357367,8370.80138242,8325.39633159,7895.6296228,7965.92265351,8125.43166316,7990.49716007,7830.75876126,8232.67960132,8227.69570267,8146.43684146,8151.23660841,8071.12083379,7958.85083002,7905.76589842,8185.7629675,8169.29898629,8471.93362208,8316.18140086,8313.34130028,8276.61224603,8284.13119151,8182.70662559,7985.08963712,8000.94263465,7902.16409743,7944.7770508,7949.43922655,8196.41634287,8074.46280468,7469.32269922,7446.98855091,7479.98432283,8662.62237955,9112.54182017,9256.14838876,9232.64808578,9085.3703568,9028.71744031,9132.04757639,9249.58772699,9141.25199093,9191.48573922,9256.93201502,9305.90931362,9202.35313712,8775.53408279,8793.16349154,8806.16233361,8700.60878725,8685.42814321,8761.6511216,8692.55188007,8484.84418485,8473.97406353,8500.96788688,8273.57288734,8099.96336899,8010.51190064,7597.38160764,6936.70659892,7151.41781411,7029.28912726,6617.1670508,7098.57229752,6974.17436987,7454.12179377,7460.75621581,7515.84946647,7291.34195468,7233.39953789,7229.35711475,7170.92266087,7232.67698855,7392.17506274,7525.71133898,7476.09125491,7365.98519914,7246.04375293,7195.52739606,7164.7412448,7227.12274448,7097.20887996,6924.37592187,6903.68277313,6587.97426228,6540.04927709,7041.3820191,7086.12400862,7112.73608254,7167.17911959,7326.19251983,7269.52874884,7220.99109225,7200.38659835,7189.93393524,7286.90517228,7279.86546765,7276.30814028,7169.77768628,7174.94415256,6935.26997193,6914.99590793,7309.5140117,7400.5355609,7409.29318246,7768.22771944,7956.77421957,7842.4036134,7726.77498918,8029.64210795,8009.0588841,8079.70074107,8140.93309605,8657.18744654,8612.09583682,8677.3163483,8827.33234474,8620.0799932,8560.47404294,8544.52045256,8636.7474349,8333.63787363,8266.84057849,8296.21900672,8325.49808268,8597.30877926,8908.44692853,9269.46813861,9230.89727886,9230.77618023,9313.2387904,9217.82397728,9248.63423233,9112.8114171,9163.70413921,9539.8180851,9726.00315742,9678.90979138,9850.39221314,9784.563802,9729.33489054,10202.3876541,10116.1614999,10125.5337907,9874.4275077,9722.38715745,9507.63799409,9632.38276334,9611.22354001,9507.90006137,9589.74360064,9600.72878571,9657.79114467,9537.04322252,9305.02118582,8704.4265506,8577.19930942,8492.93215312,8599.50861972,8471.21262606,8532.63094465,8704.99029396,8712.43181192,8757.25403405,9032.07958273,8890.74417157,8105.25280434,7690.09818591,7814.76324378,7642.81243049,4860.35383012,4106.98075029,5125.06934725,5169.28339052,4575.35788665,4981.90941273,5069.3361519,5236.96875288,5865.78196437,5932.82338618,5823.71407014,5785.00445322,6411.06651215,6536.92618369,6590.96271561,6466.70180578,6117.83774851,5920.08601757,5903.23434726,6374.16217148,6202.37351173,6595.91827654,6673.33575767,6696.48466818,6715.9292996,6782.88974461,7136.71418613,7153.30567428,7179.0943407,6802.47496589,6789.9207024,6811.07790015,6668.25976411,6793.82120931,6633.40269245,6555.50427487,7050.33182989,7089.24716763,7167.05456229,6835.50314462,6834.44232463,6867.78168929,7081.5946281,7434.18155636,7521.67241878,7561.40785333,7679.41895085,7730.80654225,7786.04929564,8533.25593295,8667.76321655,8811.36632956,8830.97125528,8645.02412633,8856.82715528,8966.70598977,9138.32257195,9767.17307027,9580.64449235,8395.10745112,8374.32297508,8569.64398804,8805.38781338,9255.03484619,9261.3979997,9260.69416318,9349.5460711,9570.35898532,9539.62405543,9447.20154126,8869.93110855,9008.63827133,9118.10885548,8787.251002,8719.66836224,8757.29380384,8834.15742919,9148.45714843,9379.33894613,9366.72941775,9432.29679512,9450.89911148,9460.57137098,9471.84640611,9525.24667912,9663.21633712,9591.02453467,9458.1504702,9675.88590718,9664.72013333,9728.29114041,9263.06958826,9285.85140439,9396.00939365,9347.59379317,8990.1759467,9400.44500832,9327.33958675,9328.39559548,9274.29612136,9247.37967261,9300.43050848,9296.87166573,9547.24708412,9278.23354695,9095.32457939,9101.73845201,8998.21670066,8975.52585473,9041.87625573,9084.83749244,9104.73487906,9036.6234943,9058.79478198,9053.62967104,8977.01563525,9058.6644583,9201.81538154,9249.49994806,9234.99945975,9118.00240742,9199.48551044,9197.4503198,9224.29284137,9171.66111846,9171.93355443,9088.94740241,9089.20245471,9100.82441002,9097.63308598,9137.50962153,9149.3899187,9319.65339503,9483.00401906,9481.45392527,9530.21219614,9652.84720642,9903.97011125,10632.6317033,10856.1413409,10895.4554062,10987.0535485,11239.6827355,11018.1300423,11012.4147398,11094.1453896,11158.2851945,11598.7138024,11408.5940427,11558.4316317,11548.7844464,11662.2569338,11195.7092716,11249.6054441,11216.8725398,11685.4554805,11768.6971443,11737.1885988,11806.6958823,11954.5257491,11687.3328305,11710.0633726,11564.9793191,11448.8060449,11559.9212608,11623.2504376,11189.8510492,11296.993373,11185.9418123,11316.4224397,11466.2933646,11492.381773,11598.3184963,11601.1286113,11290.7942647,10182.4650856,10207.9402189,9946.67532811,10056.8857496,9916.49293063,9945.11015892,10017.2510729,10238.1358906,10140.8366858,10292.3865099,10224.3299006,10266.008771,10656.4603435,10704.8843495,10774.6276667,10829.6568158,10909.6183675,10814.4770514,10380.2607189,10382.7262965,10197.86492469,10231.49011991,10578.91424754,10667.28093407,10622.92175798,10703.89325099,10649.49543862,10669.32109268,10472.35651799,10416.68920469,10511.12977968,10534.39183687,10634.60016313,10528.890831,10562.50712617,10562.60610109,10846.8504295,11056.94053325,11288.62766113,11240.68699569,11321.22451322,11307.8308683,11303.60351126,11223.01278163,11285.34551243,11347.57856324,11408.29011785,11681.48002079,11900.92861734,12717.09345651,12752.64702492,12885.74662851,12910.06108914,12822.38232695,13060.83803686,12932.25058412,12980.0592813,13136.19868838,13457.52983298,13628.37821941,13243.159866,13325.44138201,13580.47207098,14102.08909494,15226.8393924,14423.20290926,14744.10989581,14865.52927664,15124.95988876,15290.00681729,15534.7718061,15992.1528006,15749.19296725,15793.53391679,15880.7056812,16564.54499204,17352.906612,17382.55398903,17765.79576896,18444.3589249,17671.38482599,18000.79611004,18128.65617407,18581.14653195,16351.03485441,16526.42352825,16910.65271094,17559.11762249,18178.32211783,18321.92093045,18347.71783787,18925.78443384,18697.19291384,18590.19367526,18897.89407205,18931.14291942,18269.94544375,17935.54781966,17957.06521319,17619.53238938,18046.04072366,18734.33288842,19012.70940762,19079.84237737,19298.31727724,21234.67652917,22399.81280236,22826.47216789,23147.71102921,22159.36806298,22430.60469165,22802.64570202,22777.59680778,23463.67427254,24522.68948211,25922.76976496,26207.63993146,25987.29807483,27360.08970906,28201.99199364,28803.58501355,29091.18119088,32052.31707551,28722.75527058,30221.1867389,33514.03374162,36491.18981083,36838.63599637,38980.87690625,35984.62712175,30549.59876946,32697.97662163,32584.66767186,36868.5632453,34659.58974449,35633.55401669,34069.32218533,34883.84404829,36069.80639361,33570.47780293,30250.74963896,28953.372751,31493.15966789,31106.68577002,32087.78796567,31030.26596571,29367.13921776,30023.2068317,32064.81418675,32940.18691419,32270.17602471,32384.22810648,33489.21867158,35443.98272623,36317.49880728,36658.76353663,38138.38833975,37446.15388489,38076.32280719,45166.96004492,43881.1525986,44187.7623505,46424.97781781,46392.28233345,47114.50958649,46347.47709171,47201.30375472,49072.3771403,51015.76455379,50937.27572157,54626.5597762,55672.60951328,48967.56518819,45290.59026818,47213.49816173,47093.85301914,44454.84211387,45269.0257658,43241.61822653,45115.09311478,47228.84534569,48274.32049678,47656.92904603,46542.51494044,47257.5269076,48918.6802649,49506.05345768,51981.83131223,53290.89116852,54484.59308946,55376.6500885,56217.97238151,59302.31697742,55393.16536281,53555.02773503,54528.62716687,54253.58000473,56643.70148588,58213.29736375,56005.61700987,54288.1580282,53470.6933802,52514.33339864,50856.5686854,51579.85505711,54242.90967619,55071.11199378,55139.34175909,57251.5506051,57726.41877444,58505.27905354,58869.27996831,57603.88917376,57168.67578229,57694.82602134,57646.80889002,55604.02359245,55879.08419515,57807.86384217,58038.70627787,59289.79563078,59589.87375623,59869.95629306,61554.79669042,62208.96436559,60222.53207871,60361.35217909,52829.53592647,54368.59365509,53448.04838457,53695.4703347,50583.81405608,47714.66215249,48805.2846976,47159.48584083,48852.79684295,53319.18665411,53887.91781682,52418.02844504,53129.6008774,57052.2741756,56141.90651506,56590.86914497,53191.42503284,52969.05536281,55382.50610418,55321.84671038,56975.21065264,56482.00354511,54071.45537889,54608.65245902,49150.53387514,46980.01875184,48868.57828576,46664.141871,43963.35018635,42207.28810587,42367.83145309,30681.49691178,35050.61582451,33616.45388421,35383.68375136,31227.33943257,34551.08054976,36581.42891576,37905.8348536,37247.90367644,34779.0394272,33693.92945797,33520.73795924,34241.94356094,35787.08596532,35966.30715642,37243.97372784,35717.72230304,34900.41223702,35304.58007817,33480.64124099,31114.44247046,32475.86603066,35847.5936407,36044.44991066,34728.19010076,34864.10993969,38757.28412199,39609.4691963,38176.03417592,37439.67410798,35255.85491821,34933.06225074,33432.07604413,31295.93552923,28893.62165844,31772.63235532,32385.21469567,31350.88385819,30184.50179358,32071.75714808,33902.0758922,34252.48489199,34086.15187806,32883.78122635,32770.68078046,33402.69653615,34396.47745754,33213.66103397,33599.91616924],\"open\":[134.44400024414062,144.0,139.0,116.37999725341795,106.25,98.0999984741211,112.9000015258789,115.9800033569336,112.25,109.5999984741211,113.1999969482422,112.79900360107422,117.6999969482422,115.63999938964844,114.81999969482422,117.9800033569336,111.4000015258789,114.22000122070312,118.20999908447266,123.5,123.21099853515624,122.5,122.0199966430664,122.88999938964844,123.8000030517578,126.3000030517578,133.10000610351562,131.98599243164062,133.5,129.77000427246094,129.0,132.25,128.7989959716797,128.81500244140625,129.3000030517578,122.5,120.73699951171876,121.4000015258789,121.9000015258789,118.97000122070312,111.0,107.89199829101562,100.43699645996094,106.3499984741211,109.0,108.7760009765625,103.9489974975586,100.0,99.8000030517578,99.9000015258789,101.9499969482422,107.0500030517578,108.2509994506836,111.29000091552734,109.5,108.1999969482422,107.9000015258789,102.08999633789062,103.3290023803711,104.0,101.73699951171876,94.66000366210938,94.9990005493164,97.51000213623048,88.05000305175781,90.40499877929688,78.88999938964844,79.98999786376953,68.50499725341797,68.7490005493164,76.5,76.0,76.72000122070312,88.0,88.97899627685547,93.98989868164062,98.6999969482422,93.6050033569336,98.89029693603516,96.70999908447266,98.5,90.06890106201172,92.0,89.82140350341797,91.9980010986328,91.5999984741211,95.55850219726562,94.50499725341795,96.9499969482422,96.02010345458984,94.4000015258789,98.5999984741211,101.48899841308594,107.9499969482422,106.21299743652344,104.8560028076172,104.5009994506836,104.9499969482422,105.12000274658205,106.72000122070312,106.75,106.75,103.06999969482422,102.8000030517578,103.0,105.0,106.98999786376952,109.55500030517578,112.56199645996094,109.99500274658205,108.99400329589844,112.75,113.37999725341795,119.0,121.20999908447266,123.3000030517578,122.0,118.51000213623048,119.60299682617188,122.11100006103516,120.06999969482422,126.4800033569336,122.62000274658205,122.3499984741211,133.08999633789062,135.13999938964844,138.6300048828125,135.61000061035156,136.52999877929688,126.76000213623048,126.48999786376952,118.88999938964844,124.12999725341795,121.86000061035156,127.2699966430664,125.88999938964844,135.5500030517578,132.8300018310547,135.00999450683594,129.39999389648438,130.86000061035156,131.58999633789062,131.7100067138672,131.3699951171875,129.6999969482422,126.9499969482422,127.87000274658205,128.97999572753906,126.0500030517578,127.37999725341795,128.2100067138672,128.94000244140625,133.77000427246094,134.89999389648438,137.14999389648438,132.67999267578125,132.0500030517578,114.4499969482422,123.41000366210938,128.6300048828125,128.36000061035156,129.42999267578125,126.73999786376952,125.8499984741211,130.6699981689453,130.75,130.89999389648438,135.19000244140625,139.27000427246094,140.77000427246094,145.64999389648438,142.41000366210938,146.3699951171875,155.91000366210938,171.66000366210938,174.8000030517578,182.6499938964844,193.3600006103516,214.3000030517578,197.69000244140625,187.4499969482422,176.60000610351562,196.2100067138672,198.5500030517578,204.38999938964844,199.8300018310547,203.8999938964844,205.80999755859372,205.9900054931641,214.66000366210935,229.2100067138672,244.77999877929688,261.67999267578125,297.8500061035156,338.5799865722656,348.82000732421875,325.4100036621094,343.0599975585937,360.9700012207031,406.4100036621094,419.4100036621094,417.2799987792969,440.9599914550781,496.5799865722656,712.760009765625,577.97998046875,594.3200073242188,724.0700073242188,771.7000122070312,795.6300048828125,773.02001953125,805.72998046875,923.8499755859376,1003.3800048828124,1042.010009765625,1129.3699951171875,1128.9200439453125,951.4199829101562,1046.4000244140625,1077.5799560546875,1152.72998046875,1042.3800048828125,835.3200073242188,697.3099975585938,793.7999877929688,892.3200073242188,989.0700073242188,882.780029296875,874.97998046875,899.8499755859375,875.2899780273438,880.3300170898438,706.3699951171875,678.2000122070312,519.0599975585938,694.219970703125,619.9000244140625,601.780029296875,613.0599975585938,672.3599853515625,666.3099975585938,683.9400024414062,763.280029296875,737.97998046875,728.0499877929688,741.3499755859375,760.3200073242188,754.969970703125,773.4400024414062,802.8499755859375,823.27001953125,858.5499877929688,936.0499877929688,946.489990234375,795.989990234375,841.469970703125,846.6900024414062,867.3200073242188,919.5999755859376,860.1900024414062,843.1699829101562,833.1199951171875,860.2899780273438,834.489990234375,816.0700073242188,839.6599731445312,871.3900146484375,869.6500244140625,867.2100219726562,845.4600219726562,822.4299926757812,796.239990234375,853.6799926757812,884.5999755859375,774.02001953125,809.9600219726562,826.02001953125,818.4299926757812,828.6099853515625,832.9000244140625,824.0800170898438,823.77001953125,829.9600219726562,815.5900268554688,783.2000122070312,699.5700073242188,671.4600219726562,681.3200073242188,683.5,672.3800048828125,651.0800170898438,601.1699829101562,660.9000244140625,651.2999877929688,614.22998046875,627.1599731445312,625.969970703125,623.0900268554688,556.8800048828125,574.239990234375,606.469970703125,606.0399780273438,540.239990234375,537.0399780273438,581.6500244140625,579.7000122070312,549.9199829101562,567.22998046875,562.5599975585938,668.239990234375,666.239990234375,664.52001953125,664.3099975585938,629.6599731445312,616.3099975585938,636.3300170898438,627.9500122070312,631.9099731445312,633.6199951171875,638.1400146484375,629.3699951171875,636.5,630.9199829101562,621.8380126953125,613.89599609375,609.7449951171875,588.2940063476562,571.1799926757812,565.7639770507812,562.5070190429688,585.0260009765625,583.4819946289062,580.2570190429688,477.14300537109375,501.7130126953125,492.37200927734375,462.2990112304688,457.0,479.1369934082031,436.4440002441406,445.66400146484375,446.6749877929688,463.3970031738281,461.4739990234375,447.6130065917969,453.177001953125,442.2560119628906,363.7099914550781,420.8890075683594,421.46099853515625,414.8280029296875,458.37298583984375,522.1849975585938,529.0670166015625,495.7980041503906,479.5820007324219,501.7510070800781,497.739013671875,495.4549865722656,488.3590087890625,490.8250122070313,500.0870056152344,461.7049865722656,457.2420043945313,430.7160034179688,439.9830017089844,446.8900146484375,447.6329956054688,457.364013671875,449.4030151367188,438.5169982910156,434.7820129394531,433.364013671875,429.3410034179688,438.6789855957031,440.1780090332031,450.45599365234375,453.9200134277344,438.3030090332031,441.531005859375,440.5920104980469,444.135986328125,447.385986328125,448.1170043945313,448.7009887695313,446.0759887695313,446.3049926757813,485.7999877929688,492.0490112304688,525.7150268554688,521.051025390625,525.22802734375,571.3930053710938,582.5880126953125,571.9149780273438,576.3300170898438,568.177001953125,615.68701171875,623.6929931640625,629.64501953125,660.5499877929688,666.7739868164062,641.072021484375,659.2830200195312,653.52197265625,654.9940185546875,655.6400146484375,650.0419921875,653.18798828125,633.427978515625,585.6959838867188,600.7459716796875,575.927978515625,592.6489868164062,591.5859985351562,609.7670288085938,608.0700073242188,597.4019775390625,593.677978515625,595.9039916992188,602.1610107421875,593.969970703125,581.8090209960938,566.1370239257812,581.2969970703125,599.0770263671875,596.3319702148438,602.6199951171875,641.3909912109375,641.0369873046875,650.7689819335938,644.64599609375,629.9509887695312,631.77197265625,635.4630126953125,622.5700073242188,625.2210083007812,624.8259887695312,616.6619873046875,631.8809814453125,634.2169799804688,626.56201171875,619.9959716796875,622.0130004882812,616.5390014648438,622.3690185546875,629.166015625,628.5590209960938,623.9500122070312,622.2730102539062,621.1229858398438,619.4959716796875,601.5120239257812,601.5419921875,595.6719970703125,594.1370239257812,585.552001953125,584.7420043945312,567.3679809570312,586.2020263671875,594.8980102539062,588.8930053710938,586.2329711914062,589.010986328125,585.9520263671875,584.64599609375,588.875,592.469970703125,589.1719970703125,591.281982421875,576.5120239257812,570.3770141601562,546.1810302734375,511.1380004882813,497.8259887695313,519.1420288085938,491.5069885253906,461.4800109863281,485.0719909667969,510.4490051269531,517.5809936523438,513.3939819335938,498.2850036621094,508.2200012207031,502.54400634765625,512.1890258789062,510.8840026855469,508.4249877929688,508.5899963378906,502.9049987792969,477.7869873046875,474.4750061035156,476.8710021972656,477.6799926757813,489.6650085449219,483.3410034179688,485.1289978027344,481.8110046386719,474.8800048828125,475.4840087890625,479.6170043945313,479.5820007324219,477.7929992675781,479.1170043945313,477.7650146484375,474.8619995117188,465.864013671875,456.8599853515625,424.1029968261719,394.6730041503906,408.0849914550781,399.1000061035156,402.0920104980469,435.7510070800781,423.156005859375,411.4289855957031,403.5559997558594,399.4710083007813,376.9280090332031,376.0880126953125,387.427001953125,383.9880065917969,375.1809997558594,359.8919982910156,328.9159851074219,320.3890075683594,330.5840148925781,336.1159973144531,352.7479858398437,364.68701171875,361.3619995117188,362.6059875488281,377.9209899902344,391.6919860839844,400.9549865722656,394.51800537109375,382.7560119628906,383.97601318359375,391.2539978027344,389.2309875488281,382.4209899902344,386.1180114746094,382.9620056152344,358.59100341796875,358.6109924316406,347.48699951171875,354.7770080566406,353.2149963378906,357.0889892578125,335.7090148925781,345.0090026855469,338.6499938964844,326.07501220703125,325.5690002441406,327.1610107421875,330.6830139160156,339.4580078125,349.8179931640625,342.15399169921875,345.3760070800781,362.2650146484375,365.8569946289063,367.9849853515625,427.2730102539063,418.4169921875,399.6499938964844,374.7300109863281,388.3489990234375,387.7850036621094,373.89599609375,380.3070068359375,357.8789978027344,351.60400390625,353.17498779296875,366.947998046875,376.885986328125,376.0190124511719,370.50201416015625,369.3739929199219,376.1520080566406,375.510009765625,378.2489929199219,379.25,381.7219848632813,375.7179870605469,369.4419860839844,376.7569885253906,374.83599853515625,374.9649963378906,361.8949890136719,352.2049865722656,344.3399963378906,350.8330078125,352.3810119628906,346.7269897460937,351.3609924316406,345.6730041503906,326.8550109863281,319.7850036621094,311.1789855957031,317.6189880371094,329.5429992675781,321.0679931640625,332.0169982910156,334.385009765625,322.2860107421875,319.1520080566406,327.5830078125,316.1600036621094,317.70098876953125,312.718994140625,310.9140014648437,320.4349975585937,314.0790100097656,314.84600830078125,281.14599609375,265.0840148925781,274.6109924316406,286.0769958496094,294.135009765625,282.38299560546875,287.3030090332031,274.6080017089844,266.14599609375,267.3940124511719,223.8939971923828,176.89700317382812,209.07000732421875,207.83399963378903,200.0500030517578,211.4709930419922,212.9069976806641,211.3780059814453,227.32200622558597,233.5169982910156,232.6999969482422,247.3520050048828,254.07899475097656,273.1669921875,263.3510131835937,233.34800720214844,232.77200317382807,226.4409942626953,216.86700439453125,226.49099731445312,237.45399475097656,227.5110015869141,227.6649932861328,216.92300415039065,222.63299560546875,227.6929931640625,223.38900756835935,220.2819976806641,219.73199462890625,219.2079925537109,221.968994140625,235.5279998779297,257.5069885253906,234.8249969482422,233.4219970703125,243.77999877929688,236.41000366210935,240.25100708007807,243.7519989013672,244.54400634765625,235.9949951171875,238.9980010986328,238.88999938964844,237.3370056152344,236.43600463867188,253.5200042724609,254.2830047607422,260.35699462890625,275.0459899902344,281.989990234375,272.739013671875,275.6000061035156,272.29400634765625,276.4330139160156,274.81201171875,289.86199951171875,291.5249938964844,296.12701416015625,294.1180114746094,284.4419860839844,281.42498779296875,285.6849975585937,290.5950012207031,285.0669860839844,255.8800048828125,260.9559936523437,261.6440124511719,259.9169921875,267.8949890136719,266.5769958496094,247.4720001220703,246.2760009765625,248.5659942626953,246.9750061035156,252.7400054931641,242.8789978027344,247.45399475097656,244.22300720214844,247.0890045166016,253.07400512695312,254.2910003662109,253.7610015869141,260.72100830078125,255.2740020751953,253.06399536132807,244.75100708007807,243.69400024414065,236.01600646972656,236.53500366210935,235.9499969482422,224.75900268554688,219.072998046875,223.91700744628903,228.5749969482422,222.85299682617188,223.45599365234372,222.61199951171875,224.6199951171875,235.6020050048828,234.0529937744141,235.97000122070312,231.2350006103516,226.41000366210935,219.4290008544922,228.968994140625,225.59100341796875,225.6929931640625,235.93899536132807,232.34100341796875,234.8800048828125,240.3560028076172,238.8520050048828,236.24899291992188,229.66200256347656,237.20399475097656,243.7689971923828,241.72900390625,240.2989959716797,242.1450042724609,241.3979949951172,236.2140045166016,236.9550018310547,237.6439971923828,236.00999450683597,236.88699340820312,233.03700256347656,231.88999938964844,234.01600646972656,235.3209991455078,240.28599548339844,238.9759979248047,240.927001953125,237.10400390625,237.06500244140625,237.2570037841797,237.3769989013672,237.0919952392578,233.13499450683597,230.2330017089844,222.8939971923828,225.73599243164065,225.77200317382807,224.1540069580078,225.0050048828125,225.5959930419922,222.8789978027344,228.5379943847656,228.9949951171875,228.85499572753903,229.7050018310547,229.9199981689453,232.44200134277344,233.4219970703125,236.76499938964844,250.822998046875,249.4279937744141,249.04299926757807,244.52999877929688,245.1000061035156,243.968994140625,246.927001953125,244.2819976806641,240.3650054931641,242.60400390625,243.5489959716797,250.9550018310547,248.7209930419922,257.0360107421875,263.3450012207031,258.552001953125,255.45899963378903,256.4909973144531,260.80499267578125,271.1080017089844,269.9630126953125,265.98199462890625,270.8269958496094,269.156005859375,284.8800048828125,293.1400146484375,310.8269958496094,292.03399658203125,288.0450134277344,286.0419921875,278.09100341796875,279.3309936523437,274.7669982910156,273.4989929199219,278.8819885253906,275.6570129394531,277.34100341796875,276.0050048828125,288.1640014648437,288.6400146484375,292.6390075683594,293.63299560546875,294.4840087890625,289.1029968261719,287.6960144042969,284.6860046386719,280.4490051269531,282.8059997558594,281.2250061035156,284.84698486328125,281.906005859375,278.7409973144531,279.74200439453125,261.1159973144531,265.4779968261719,264.3420104980469,270.5979919433594,266.1830139160156,264.1319885253906,265.52899169921875,261.8659973144531,258.489990234375,257.9259948730469,225.67100524902344,226.8990020751953,235.35499572753903,232.66200256347656,230.37600708007807,228.11199951171875,210.0679931640625,222.0760040283203,226.0500030517578,224.7010040283203,231.5489959716797,229.8950042724609,229.11399841308597,230.2559967041016,228.0269927978516,229.32400512695312,227.21499633789065,230.19900512695312,234.8699951171875,239.9340057373047,239.8459930419922,243.4149932861328,238.33599853515625,238.32899475097656,239.85499572753903,235.24200439453125,230.60899353027344,230.49200439453125,230.25,229.0760040283203,233.52099609375,232.8580017089844,231.3990020751953,231.2169952392578,226.968994140625,230.93600463867188,230.3580017089844,234.36199951171875,235.0760040283203,234.13900756835935,232.83599853515625,239.01600646972656,236.63999938964844,236.0039978027344,237.26400756835935,237.20199584960935,238.531005859375,238.14700317382807,240.36399841308597,246.1699981689453,243.0749969482422,242.4980010986328,243.7400054931641,244.74200439453125,246.875,245.1999969482422,249.4929962158203,252.10699462890625,254.29600524902344,262.7470092773437,270.9070129394531,261.8609924316406,263.5719909667969,269.3059997558594,266.4960021972656,273.64898681640625,276.5039978027344,281.44500732421875,283.62799072265625,285.1809997558594,293.7030029296875,304.3240051269531,313.9429931640625,328.5119934082031,315.0050048828125,325.9419860839844,361.87298583984375,403.66400146484375,408.0769958496094,388.0469970703125,374.2690124511719,384.2780151367188,374.3240051269531,379.9840087890625,339.82000732421875,314.0790100097656,338.4979858398437,336.6239929199219,333.0509948730469,319.7349853515625,330.36199951171875,334.5929870605469,334.6789855957031,326.4110107421875,322.0920104980469,326.9750061035156,324.3500061035156,323.0140075683594,320.0450134277344,328.3030090332031,351.8609924316406,357.1409912109375,357.47198486328125,371.43701171875,377.41400146484375,361.8450012207031,359.3309936523437,361.2619934082031,363.7210083007813,389.5549926757813,389.9779968261719,395.7539978027344,414.4410095214844,417.9880065917969,415.281005859375,452.3349914550781,431.6600036621094,433.2720031738281,443.87799072265625,465.2080078125,454.7770080566406,455.8469848632813,463.552001953125,462.2340087890625,442.8380126953125,437.4360046386719,436.7200012207031,443.0910034179688,454.8550109863281,455.7560119628906,416.5140075683594,423.3429870605469,422.0979919433594,433.2999877929688,425.875,430.7210083007813,434.62200927734375,433.5780029296875,430.0610046386719,433.0690002441406,431.8559875488281,430.010986328125,457.5379943847656,453.3829956054688,448.2380065917969,448.697998046875,448.1820068359375,434.6650085449219,432.2879943847656,430.2550048828125,365.072998046875,387.1520080566406,381.7330017089844,387.0260009765625,379.739990234375,419.6319885253906,409.7510070800781,382.4339904785156,388.10198974609375,402.3169860839844,392.00201416015625,392.4440002441406,395.14599609375,380.1080017089844,378.864990234375,378.2929992675781,369.3500061035156,372.9200134277344,374.64599609375,370.1740112304688,388.8980102539063,386.5889892578125,376.5140075683594,376.7569885253906,373.4230041503906,376.14599609375,382.114013671875,379.6860046386719,384.6409912109375,392.9320068359375,407.5679931640625,401.4320068359375,407.656005859375,416.5719909667969,422.7300109863281,421.60101318359375,437.7730102539063,438.989013671875,438.2550048828125,420.95599365234375,425.0369873046875,424.6289978027344,432.8389892578125,432.5710144042969,433.43798828125,437.9169921875,435.1310119628906,423.9119873046875,421.83599853515625,410.781005859375,400.5249938964844,407.7569885253906,414.4649963378906,413.8940124511719,414.7439880371094,417.2380065917969,421.6050109863281,411.6480102539063,414.2009887695313,416.3880004882813,416.8880004882813,417.8890075683594,420.5469970703125,409.2650146484375,410.4010009765625,413.4179992675781,413.1319885253906,418.1610107421875,418.4240112304688,416.5079956054688,417.364990234375,418.1400146484375,426.5480041503906,424.3039855957031,416.8340148925781,415.2569885253906,416.760009765625,418.4219970703125,421.1730041503906,421.2990112304688,421.0169982910156,424.2839965820313,423.6199951171875,422.9070129394531,420.8110046386719,419.5920104980469,421.87200927734375,422.8429870605469,425.6319885253906,423.93499755859375,424.427001953125,429.5750122070313,430.635986328125,427.6109924316406,428.7030029296875,435.3240051269531,441.4159851074219,449.68798828125,445.8609924316406,450.55999755859375,459.1210021972656,461.6480102539063,466.2619934082031,445.0379943847656,449.4079895019531,455.1780090332031,448.4840087890625,451.9330139160156,444.72698974609375,450.1830139160156,446.71099853515625,447.9419860839844,459.6390075683594,458.4289855957031,458.20599365234375,460.51800537109375,450.864013671875,452.4469909667969,454.8500061035156,455.822998046875,455.7590026855469,457.58599853515625,454.0090026855469,453.6910095214844,454.5239868164063,437.7929992675781,442.9660034179688,443.2179870605469,439.3479919433594,444.2909851074219,446.06201171875,449.6719970703125,453.52099609375,473.0289916992188,527.4769897460938,528.4710083007812,534.1909790039062,531.1069946289062,536.5150146484375,537.6820068359375,569.7050170898438,573.3079833984375,574.6019897460938,585.4450073242188,577.1669921875,582.2030029296875,575.8369750976562,578.6740112304688,609.6840209960938,671.6539916992188,704.5040283203125,685.6849975585938,696.5230102539062,768.4869995117188,748.7559814453125,756.68798828125,763.927001953125,735.8829956054688,665.9149780273438,597.4429931640625,625.5750122070312,665.281005859375,665.9310302734375,629.3489990234375,658.1019897460938,644.1220092773438,640.5910034179688,672.5150146484375,676.7340087890625,704.968017578125,658.8040161132812,683.208984375,670.4180297851562,678.0900268554688,640.68798828125,666.3839721679688,650.5989990234375,648.4840087890625,648.2830200195312,664.7969970703125,652.9229736328125,659.1710205078125,663.781005859375,661.9929809570312,679.8090209960938,672.7379760742188,672.8060302734375,665.22802734375,664.9219970703125,650.7260131835938,655.4099731445312,661.2630004882812,654.2260131835938,651.6270141601562,654.4920043945312,655.1110229492188,657.0120239257812,655.0999755859375,624.6019897460938,606.39697265625,548.656005859375,566.3289794921875,578.281005859375,575.030029296875,587.77099609375,592.7360229492188,591.0380249023438,587.6480102539062,592.1240234375,588.7979736328125,587.3569946289062,585.5889892578125,570.4940185546875,567.2429809570312,577.760986328125,573.7069702148438,574.3389892578125,576.083984375,581.9390258789062,581.3109741210938,586.77099609375,583.4119873046875,580.1799926757812,577.7529907226562,579.4520263671875,569.8300170898438,574.0709838867188,574.114013671875,577.5910034179688,575.5460205078125,572.4099731445312,575.5549926757812,598.5900268554688,608.989990234375,606.5059814453125,610.572998046875,614.635009765625,626.3519897460938,622.927001953125,623.4240112304688,607.0050048828125,608.0250244140625,608.8410034179688,610.5880126953125,607.2459716796875,607.218017578125,606.2830200195312,609.8709716796875,609.2540283203125,603.5880126953125,597.2789916992188,596.198974609375,602.9609985351562,602.7490234375,600.8070068359375,608.02197265625,606.2429809570312,605.0189819335938,605.7150268554688,609.9290161132812,613.947998046875,610.968017578125,612.052001953125,610.218017578125,612.469970703125,612.6079711914062,617.3410034179688,619.1719970703125,616.822021484375,619.2379760742188,640.8709716796875,636.030029296875,637.0079956054688,640.3109741210938,639.0830078125,641.8179931640625,639.4110107421875,638.1339721679688,630.6630249023438,630.8250122070312,633.135986328125,657.6209716796875,657.1610107421875,654.0020141601562,657.677978515625,678.2139892578125,688.0,690.2890014648438,714.1179809570312,702.6400146484375,701.3369750976562,730.0659790039062,742.3460083007812,689.1240234375,703.5250244140625,703.81201171875,710.7360229492188,703.0889892578125,709.8250122070312,722.843994140625,715.5549926757812,716.7520141601562,705.1959838867188,701.9970092773438,705.7940063476562,711.1669921875,744.8759765625,740.7050170898438,751.8330078125,751.8790283203125,731.2650146484375,739.6430053710938,751.7410278320312,744.6199951171875,740.4420166015625,741.510986328125,735.43701171875,732.4840087890625,736.3289794921875,736.2839965820312,746.0460205078125,757.5449829101562,778.2479858398438,771.6380004882812,773.3939819335938,758.719970703125,764.2109985351562,768.0759887695312,769.9439697265625,773.0230102539062,774.7520141601562,770.0399780273438,780.64697265625,780.0050048828125,780.0700073242188,778.9630126953125,785.166015625,791.0079956054688,790.6920166015625,792.2470092773438,800.6439819335938,834.1799926757812,864.8880004882812,922.1799926757812,899.6519775390625,896.905029296875,908.35400390625,934.8309936523438,975.125,972.5349731445312,960.6270141601562,963.6580200195312,998.6170043945312,1021.5999755859376,1044.4000244140625,1156.72998046875,1014.239990234375,903.4869995117188,908.1749877929688,913.2440185546876,902.4400024414062,908.114990234375,775.177978515625,803.7369995117188,825.1420288085938,818.1420288085938,821.7830200195312,830.9459838867188,909.3729858398438,888.3350219726562,898.1719970703125,895.5490112304688,922.2050170898438,925.4990234375,910.677001953125,891.9240112304688,902.39501953125,918.3590087890624,919.8109741210938,922.0670166015624,920.1510009765624,920.958984375,970.9409790039062,990.0009765625,1011.4600219726562,1031.3299560546875,1043.52001953125,1028.4000244140625,1040.1400146484375,1062.3199462890625,1064.699951171875,995.6320190429688,988.8980102539062,1003.52001953125,998.885009765625,991.7349853515624,1006.2100219726562,1007.6500244140624,1026.1199951171875,1049.2099609375,1054.760009765625,1048.68994140625,1079.280029296875,1114.800048828125,1117.27001953125,1172.7099609375,1170.4100341796875,1144.27001953125,1163.780029296875,1180.719970703125,1180.0400390625,1224.6800537109375,1250.7099609375,1277.4300537109375,1254.2900390625,1267.469970703125,1273.2099609375,1223.22998046875,1150.3499755859375,1189.3599853515625,1116.3199462890625,1176.6199951171875,1221.780029296875,1232.1600341796875,1240.1600341796875,1251.3299560546875,1180.1600341796875,1099.68994140625,976.72998046875,1037.239990234375,1055.3599853515625,1120.6500244140625,1050.050048828125,1038.449951171875,936.5399780273438,974.0150146484376,972.0549926757812,1044.5799560546875,1046.0799560546875,1042.2099609375,1026.6400146484375,1071.7099609375,1080.6099853515625,1102.949951171875,1145.52001953125,1134.1400146484375,1125.81005859375,1178.93994140625,1172.6500244140625,1176.5699462890625,1187.300048828125,1187.4599609375,1204.81005859375,1201.02001953125,1170.3299560546875,1167.300048828125,1172.6099853515625,1183.25,1193.77001953125,1212.1300048828125,1211.0799560546875,1229.4200439453125,1222.7099609375,1231.9200439453125,1209.6300048828125,1250.449951171875,1265.989990234375,1281.8800048828125,1317.739990234375,1317.8399658203125,1321.8699951171875,1348.300048828125,1421.030029296875,1453.780029296875,1490.719970703125,1540.8699951171875,1556.81005859375,1579.469970703125,1596.9200439453125,1723.8900146484375,1756.52001953125,1780.3699951171875,1845.760009765625,1723.1199951171875,1800.8599853515625,1808.43994140625,1741.699951171875,1726.72998046875,1818.699951171875,1897.3699951171875,1984.239990234375,2067.030029296875,2043.18994140625,2191.56005859375,2321.3701171875,2446.239990234375,2320.889892578125,2196.27001953125,2054.080078125,2159.429931640625,2255.360107421875,2187.18994140625,2288.330078125,2404.030029296875,2493.719970703125,2547.7900390625,2512.39990234375,2690.840087890625,2869.3798828125,2720.489990234375,2807.43994140625,2828.139892578125,2942.409912109375,2953.219970703125,2680.909912109375,2716.8798828125,2499.580078125,2469.570068359375,2514.010009765625,2655.35009765625,2549.030029296875,2591.260009765625,2709.429931640625,2691.030029296875,2707.340087890625,2738.52001953125,2607.25,2590.570068359375,2478.449951171875,2553.030029296875,2567.56005859375,2539.239990234375,2492.60009765625,2436.39990234375,2498.56005859375,2561.0,2602.8701171875,2608.10009765625,2608.590087890625,2520.27001953125,2572.610107421875,2525.25,2385.889892578125,2332.77001953125,2402.699951171875,2360.590087890625,2230.1201171875,1991.97998046875,1932.6199951171875,2233.52001953125,2323.080078125,2269.889892578125,2838.409912109375,2668.6298828125,2808.10009765625,2732.699951171875,2757.5,2577.77001953125,2538.7099609375,2679.72998046875,2807.02001953125,2724.389892578125,2763.239990234375,2871.300048828125,2727.1298828125,2709.56005859375,2806.929931640625,2897.6298828125,3257.610107421875,3212.780029296875,3370.219970703125,3420.39990234375,3341.840087890625,3373.820068359375,3650.6298828125,3880.0400390625,4066.10009765625,4326.990234375,4200.33984375,4384.43994140625,4324.33984375,4137.75,4189.31005859375,4090.47998046875,3998.35009765625,4089.010009765625,4137.60009765625,4332.81982421875,4372.06005859375,4345.10009765625,4384.4501953125,4389.2099609375,4570.35986328125,4555.58984375,4701.759765625,4901.419921875,4585.27001953125,4591.6298828125,4228.2900390625,4376.58984375,4589.14013671875,4605.16015625,4229.81005859375,4229.33984375,4122.47021484375,4168.8798828125,4131.97998046875,3875.3701171875,3166.300048828125,3637.75,3606.280029296875,3591.090087890625,4073.7900390625,3916.360107421875,3901.469970703125,3628.02001953125,3629.919921875,3796.14990234375,3681.580078125,3928.409912109375,3892.93994140625,4197.1298828125,4171.6201171875,4166.10986328125,4341.0498046875,4395.81005859375,4408.4599609375,4319.3701171875,4229.8798828125,4324.4599609375,4369.35009765625,4429.669921875,4614.52001953125,4776.2099609375,4789.25,4829.580078125,5464.16015625,5643.52978515625,5835.9599609375,5687.56982421875,5741.580078125,5603.81982421875,5583.740234375,5708.10986328125,5996.7900390625,6036.66015625,6006.0,5935.52001953125,5524.60009765625,5747.9501953125,5899.740234375,5787.81982421875,5754.43994140625,6114.85009765625,6132.02001953125,6440.97021484375,6777.77001953125,7087.52978515625,7164.47998046875,7404.52001953125,7403.22021484375,7023.10009765625,7141.3798828125,7446.830078125,7173.72998046875,6618.60986328125,6295.4501953125,5938.25,6561.47998046875,6634.759765625,7323.240234375,7853.56982421875,7697.2099609375,7766.02978515625,8039.06982421875,8205.740234375,8077.9501953125,8232.3798828125,8074.02001953125,8241.7099609375,8789.0400390625,9352.7197265625,9823.4296875,10077.400390625,9906.7900390625,10198.599609375,10978.2998046875,11082.7001953125,11315.400390625,11685.7001953125,11923.400390625,14266.099609375,17802.900390625,16523.30078125,15168.400390625,15427.400390625,16919.80078125,17500.0,16384.599609375,16601.30078125,17760.30078125,19475.80078125,19106.400390625,19118.30078125,17760.30078125,16642.400390625,15898.0,13948.7001953125,14608.2001953125,13995.900390625,14036.599609375,16163.5,15864.099609375,14695.7998046875,14681.900390625,12897.7001953125,14112.2001953125,13625.0,14978.2001953125,15270.7001953125,15477.2001953125,17462.099609375,17527.30078125,16476.19921875,15123.7001953125,14588.5,14968.2001953125,13453.900390625,13952.400390625,14370.7998046875,13767.2998046875,13836.099609375,11431.099609375,11198.7998046875,11429.7998046875,11656.2001953125,12889.2001953125,11633.099609375,10944.5,10903.400390625,11421.7001953125,11256.0,11174.900390625,11475.2998046875,11755.5,11306.7998046875,10108.2001953125,10237.2998046875,9142.2802734375,8852.1201171875,9175.7001953125,8270.5400390625,7051.75,7755.490234375,7637.85986328125,8271.83984375,8720.080078125,8616.1298828125,8141.43017578125,8926.7197265625,8599.919921875,9488.3203125,10135.7001953125,10207.5,11123.400390625,10552.599609375,11231.7998046875,11372.2001953125,10660.400390625,9937.0703125,10287.7001953125,9796.419921875,9669.4296875,10393.900390625,10687.2001953125,10385.0,10977.400390625,11101.900390625,11497.400390625,11532.400390625,11500.099609375,10803.900390625,9951.4404296875,9414.6904296875,9350.58984375,8852.7802734375,9602.9296875,9173.0400390625,9214.650390625,8290.759765625,8322.91015625,8321.91015625,7890.52001953125,8344.1201171875,8619.669921875,8937.48046875,8939.4404296875,8736.25,8901.9501953125,8612.8095703125,8498.4697265625,8200.0,7836.830078125,7979.06982421875,7171.4501953125,6892.47998046875,7003.06005859375,6844.85986328125,7102.259765625,7456.41015625,6848.64990234375,6815.9599609375,6630.509765625,6919.97998046875,7044.31982421875,6795.43994140625,6843.47021484375,6955.3798828125,7901.08984375,7874.669921875,7999.330078125,8337.5703125,8071.66015625,7944.43017578125,8159.27001953125,8286.8798828125,8848.7900390625,8925.0595703125,8794.3896484375,8934.33984375,9701.0302734375,8867.3203125,9290.6298828125,8939.26953125,9346.41015625,9426.1103515625,9251.4697265625,9104.599609375,9233.9697265625,9695.5,9700.2802734375,9845.3095703125,9645.669921875,9380.8701171875,9223.73046875,9325.9599609375,9052.9599609375,8441.4404296875,8515.490234375,8713.099609375,8705.1904296875,8504.41015625,8370.0498046875,8091.830078125,8255.73046875,8246.990234375,8522.330078125,8419.8701171875,8037.080078125,7561.1201171875,7592.2998046875,7486.47998046875,7362.080078125,7371.31005859375,7129.4599609375,7469.72998046875,7406.14990234375,7500.7001953125,7536.72021484375,7632.08984375,7722.52978515625,7500.89990234375,7625.97021484375,7650.81982421875,7685.14013671875,7632.52001953125,7499.5498046875,6799.2900390625,6905.81982421875,6596.8798828125,6342.75,6674.080078125,6455.4501953125,6545.52978515625,6510.06982421875,6742.39013671875,6770.759765625,6780.08984375,6737.8798828125,6090.10009765625,6164.27978515625,6171.97021484375,6253.5498046875,6084.39990234375,6153.16015625,5898.1298828125,6214.22021484375,6411.68017578125,6380.3798828125,6596.66015625,6550.8701171875,6599.7099609375,6638.68994140625,6668.7099609375,6857.7998046875,6775.080078125,6739.2099609375,6330.77001953125,6396.77978515625,6235.02978515625,6247.5,6272.7001953125,6357.009765625,6739.64990234375,7315.31982421875,7378.2001953125,7467.39990234375,7352.72021484375,7417.7998046875,7414.7099609375,7716.509765625,8379.66015625,8176.85009765625,7950.39990234375,8169.06005859375,8205.8203125,8221.58,8181.2,7769.04,7634.19,7562.14,7438.67,7031.08,7062.94,6958.32,6746.85,6305.56,6571.42,6185.79,6283.65,6341.36,6287.66,6221.42,6294.23,6340.91,6583.43,6422.57,6500.51,6301.07,6486.25,6371.34,6551.52,6719.95,6754.64,6710.8,6891.08,7091.71,7043.76,6973.97,7044.81,7189.58,7279.03,7263.0,7361.46,6755.14,6528.92,6460.17,6223.38,6301.57,6331.88,6317.01,6354.24,6515.41,6509.4,6536.68,6514.06,6280.91,6371.85,6398.85,6513.87,6735.05,6715.32,6704.77,6603.64,6452.79,6495.29,6678.75,6643.1,6604.71,6619.85,6593.24,6553.86,6497.91,6574.15,6622.45,6590.68,6600.19,6653.08,6640.29,6586.74,6239.25,6278.08,6288.49,6292.64,6601.41,6590.52,6542.33,6478.07,6460.92,6490.09,6486.05,6472.36,6478.89,6484.65,6468.44,6480.84,6482.66,6492.35,6337.04,6336.99,6318.14,6378.92,6387.24,6365.47,6363.62,6433.38,6468.5,6522.27,6442.6,6386.13,6413.63,6411.76,6373.19,6351.24,5736.15,5645.32,5578.58,5559.74,5620.78,4863.93,4465.54,4611.57,4360.7,4347.69,3880.78,4015.07,3765.95,3822.47,4269.00439453125,4289.08896703,4024.46424203,4200.73317961,4147.32376691,3886.2948763,3958.89472485,3754.07446712,3512.59040851,3421.9104035,3473.22762038,3612.04639531,3497.5547337,3421.4583733,3487.87935755,3311.75191371,3243.99754038,3236.2747733,3253.12299273,3544.76156472,3706.82484989,3742.19518335,4133.703587,3898.08367671,4020.99467354,4000.33178206,4081.03047102,3819.66669066,3854.68857317,3653.13192864,3932.49180904,3822.38483485,3866.83899926,3746.71338747,3849.21640853,3931.04863841,3832.03996811,3851.97396457,3836.51915828,4078.58505461,4028.47207166,4031.55201569,4034.41144545,3674.01543102,3686.97309735,3658.86811698,3557.31113168,3704.21630768,3631.5098712,3651.87098588,3677.99058389,3652.37783507,3725.44612463,3600.37273885,3575.08123989,3605.55702187,3584.5003014,3607.3903841,3599.7153629,3604.68726747,3584.28327917,3468.87015541,3443.89706175,3485.40928952,3460.54712403,3484.62588008,3516.13956776,3467.2116661,3454.9508136,3469.09170088,3414.92953864,3401.37643333,3671.58595682,3673.20153682,3695.61303928,3642.75185939,3653.60399078,3631.17019256,3617.36836687,3615.27026725,3633.35947964,3671.36998898,3911.66152075,3946.68498546,4000.25678662,3952.4063737,3998.91627262,4145.45786231,3807.00244566,3878.6973183,3857.47978186,3848.2620255,3853.75713203,3855.31822217,3862.26616642,3845.09155774,3759.83244114,3897.08106256,3903.3847998,3913.22593587,3894.55252613,3966.1742332,3953.74017402,3903.75829416,3913.047443,3905.57699911,3926.66323109,3963.90011952,4047.71957111,4029.96845808,4032.69200717,4070.7940175,4083.95389256,4028.51456305,4022.71330744,4035.16354472,4024.11267975,3969.22885592,3984.24481868,4087.584591,4068.29989093,4092.13616358,4105.45617673,4105.36242087,4156.91964324,4879.95813337,4971.30774104,4922.80611783,5036.79302365,5062.79376134,5199.83537777,5289.91798137,5204.10530845,5325.08155529,5061.20088735,5088.84997329,5095.75863359,5167.32198286,5066.57760057,5236.13523984,5251.48069196,5298.15452927,5304.1605399,5335.87896599,5312.49464201,5399.36570489,5571.50817669,5466.52427676,5210.30491981,5279.47114181,5271.74639378,5284.85852173,5247.72588172,5350.91450555,5402.42286531,5505.55237976,5769.20253322,5831.06846097,5791.69326658,5745.59904909,5849.48135039,5982.31627033,6175.82273778,6379.66690526,7203.50752166,6971.17820581,7807.88444936,7989.37450547,8194.50090343,7886.92599261,7341.66441915,7267.96301884,8196.92393539,7977.96936984,7956.29214912,7677.26883391,7881.6953208,7991.88503911,8055.20591925,8674.07240318,8802.75819975,8718.59132866,8661.76050606,8320.28637611,8573.83972489,8565.47326214,8741.74721596,8210.98582388,7704.34318039,7819.63337781,7826.90126518,8036.774936,7949.67470562,7692.28467885,8004.24354228,7925.43410401,8145.54523047,8230.89877378,8689.74641372,8841.44078361,8988.92370914,9335.46690152,9078.72760253,9273.06078283,9525.07460809,10175.9239561,10696.6909289,10853.7438384,11007.2020736,11778.5811328,13017.1248668,11162.1678255,12400.7636934,11931.990728,10796.9306183,10588.6836947,10818.1558221,11972.7185797,11203.1024876,10982.5439142,11217.6159338,11446.5971553,12284.3264649,12571.5371616,12139.7138379,11354.299624,11813.1273165,11381.0208987,10257.8385363,10896.6533265,9471.21400074,9698.50274016,10653.956443,10525.819,10777.5296892,10596.9480747,10346.7477047,9887.73084418,9809.09690775,9913.12718948,9871.16499086,9491.62688749,9548.17889422,9522.32895542,9604.05115871,10077.442592,10402.0434274,10519.278349,10821.6329392,10960.7357349,11811.5450274,11476.1934394,11954.0403364,11953.4695395,11861.5566954,11349.7398943,11528.1893667,11385.0524972,10889.4877427,10038.4217089,10319.4203458,10358.7225407,10233.0062966,10350.283631,10916.3467171,10764.5727493,10142.52143,10136.3095336,10407.6442328,10160.7370213,10126.2995187,10372.8263035,10203.4268025,9756.78570735,9514.84485249,9597.5394476,9630.59319616,9757.47323681,10345.7251399,10621.1803306,10588.1840215,10578.1978276,10353.9315807,10518.1141171,10443.2285007,10336.4084054,10123.0347321,10176.8193616,10415.3625333,10345.4037591,10356.4657676,10347.2222579,10281.5133161,10247.7960832,10200.4958846,10266.3185338,10183.6480972,10024.1152629,10067.9626513,9729.32139737,8603.42867242,8487.66958635,8113.10095,8251.27362342,8246.03737695,8104.22636732,8299.72110496,8344.21264933,8390.77428822,8259.49447523,8210.14909246,8149.87688203,7989.12044675,8246.84962925,8229.84046087,8585.2798473,8585.26280768,8315.66465289,8336.90223051,8320.83224411,8373.45825537,8204.67452005,8047.81274259,8100.93361588,7973.8037681,7997.8070221,8225.11518823,8243.40209165,8076.22846601,7509.72818274,7490.70317641,8667.57715496,9241.70707513,9565.10188348,9248.4405622,9422.4633254,9202.45758879,9193.99198943,9259.78300285,9324.78683223,9235.60706498,9413.00494286,9340.86427973,9352.39346741,9265.36833744,8809.46919831,8812.48953287,9056.91770059,8759.75190096,8812.03362864,8811.93633174,8705.70810061,8491.16631667,8549.47090893,8573.98009164,8305.13429095,8203.61317991,8023.64468729,7643.56942455,7296.16442479,7398.63390574,7039.97703454,7145.1590862,7220.88064968,7536.82010358,7466.72728957,7764.05726187,7571.61619421,7424.03619682,7323.97540332,7320.12506594,7253.24189285,7450.56165667,7547.26544276,7551.33900507,7561.79517117,7397.13422776,7277.19769871,7216.73886245,7244.66223669,7268.90271202,7124.23952463,7153.66322803,6931.31521843,6647.69846901,7277.59099229,7208.63695894,7220.59355274,7191.18870288,7508.90255573,7354.39283808,7325.75589098,7274.79942782,7238.14118032,7289.0311303,7317.64758783,7420.27278806,7294.4388956,7194.89197053,7202.55112207,6984.4286123,7345.37527527,7410.45169373,7410.45216807,7768.68189098,8161.93547734,8082.29607413,7878.30753815,8162.1911379,8033.26184596,8189.77206362,8140.93309605,8825.34368451,8812.48149122,8725.20996387,8927.21225983,8941.44574506,8704.63181434,8658.99118302,8744.21075075,8680.65055954,8405.56773288,8440.11958702,8364.41006958,8597.30877926,8912.52433979,9357.47037892,9316.01697842,9508.31314184,9346.35762761,9389.82059095,9344.68367852,9292.84190002,9183.41577743,9617.8210448,9726.00315742,9793.07042002,9863.89488145,10115.559686,9855.89170857,10202.3876541,10323.9604932,10211.5503892,10313.8568369,9889.17970534,9936.56026014,9691.23094489,10143.7983568,9629.32531033,9611.78201954,9687.70676008,9663.31864201,9921.58346055,9651.31279866,9338.29028024,8825.09351775,8788.72854689,8671.21254207,8599.7583441,8563.26425933,8865.38796487,8788.54218625,8760.28504049,9078.30852906,9121.60053553,8908.20601509,8111.14639164,7922.1470416,7910.08980669,7913.61638784,5017.83083939,5573.07764952,5201.06668673,5385.22952159,5002.5781383,5227.1136885,5245.4166032,6191.65372133,6206.52165025,6185.55790292,5831.37473534,6436.64245088,6738.71663989,6675.17065538,6719.38897407,6467.25404592,6245.62462695,5925.53848884,6430.60652809,6437.31921486,6606.77626829,6797.39659183,6738.38301967,6862.53782636,6788.04980287,7273.64421075,7179.28341821,7337.9661825,7303.81519824,6867.4404519,6858.06802459,6965.61663772,6843.28177662,6845.56171696,6640.45388894,7116.55260865,7092.29152293,7260.92257873,7186.8737411,6879.78434985,6879.44029975,7121.30605911,7434.18155636,7550.48301195,7570.13893823,7679.41895085,7796.97044056,7806.71256355,8797.67005044,8672.7819143,8869.05761887,8983.61414879,8895.74487399,8912.8321603,9007.44125582,9261.89505826,9936.16248196,9840.90638396,9591.16923131,8755.5356389,8610.38621232,8805.38781338,9271.32863776,9734.29077525,9333.23987276,9374.92998661,9675.69498013,9727.06360375,9725.32936525,9522.74008319,9080.33473763,9185.06272737,9212.28340427,8786.10769511,8909.58607327,8837.3812128,9184.94499772,9528.35562913,9438.91400926,9700.10569689,9463.6056622,10162.9731448,9533.76049336,9655.85445253,9800.21547674,9664.90477464,9653.00332503,9760.0632524,9774.35993635,9794.11951106,9870.07852908,9320.69085457,9480.73574979,9477.55403706,9386.03529073,9454.26643056,9533.78375101,9481.56706237,9410.29434848,9290.96027975,9330.9264778,9300.91545819,9644.07594221,9632.14957943,9314.12688901,9260.99499378,9167.82427849,9048.46083712,9140.02907078,9185.58126105,9145.98505502,9231.13965322,9124.84264611,9084.23373428,9126.090803,9072.85007426,9349.16137441,9253.02015436,9427.99387728,9273.35699507,9277.51196283,9241.0550437,9277.2046601,9238.7032275,9241.89699957,9191.9802336,9131.8121414,9151.18404834,9158.00603543,9187.22037014,9162.51448207,9375.08046428,9527.14199636,9585.51480236,9539.48551544,9680.23483128,9905.21791377,11017.4638476,10912.9529611,11099.8328914,11110.2109424,11322.5705008,11758.7646653,11043.7688847,11246.2032469,11203.8230991,11749.8713321,11778.8942824,11604.5533476,11737.3252342,11662.2569338,11881.64754,11404.5968775,11588.4055125,11772.6593859,11768.6971443,11866.6855801,11895.6577737,12251.8959698,11990.8847804,11761.499735,11878.026439,11585.4775342,11679.6959587,11663.6895523,11773.58935,11366.8949329,11485.6083964,11325.2956031,11541.0543254,11508.7139745,11713.3062719,11679.3166637,11964.8228043,11407.1910772,10230.3651615,10512.5301954,10167.2167634,10280.9976217,10369.3069685,10134.1515061,10242.3301347,10369.0283892,10409.8617874,10452.3990309,10328.7341116,10677.7548513,10797.7620187,10973.2522347,10951.8200208,10933.7526485,11095.8697916,10934.9255349,10459.6245084,10535.49244237,10248.78655955,10761.10978907,10695.57508179,10746.89275768,10776.6136391,10709.65002191,10843.87075063,10795.25474253,10619.8212156,10575.10063586,10550.44067126,10676.52895637,10796.30685484,10603.35546589,10669.37115892,10927.91292433,11059.14269142,11296.08178425,11392.63621516,11548.71975926,11429.04780192,11426.60259823,11502.82812628,11322.1226857,11355.98226642,11495.03793859,11745.97493298,11913.07748936,12801.63536307,12971.54847683,12931.57391476,13108.06314181,13031.20124688,13075.24249433,13654.21446094,13271.29897868,13437.87353717,13546.5326493,13780.99480514,13737.03221087,13550.450882,13950.4879059,14133.73388336,15579.72923853,15565.88058298,14833.75408424,15479.59572319,15332.350373,15290.90879034,15701.29906726,16276.4404772,16317.80834223,16068.13999417,15955.57698439,16685.69093058,17645.19047404,17803.86174661,17817.08366299,18621.31587778,18642.232992,18370.01733874,18365.01468531,19104.40961035,18729.84058731,17153.91312468,17112.93423773,17719.63461354,18178.32211783,19633.77044727,18801.74359314,19205.92540409,19446.96642246,18698.38527851,19154.18059333,19343.12879819,19191.52946283,18320.88478403,18553.29972814,18263.92925463,18051.31998973,18806.76647897,19144.49245994,19246.91998427,19418.81840055,21308.35140371,22806.79637266,23132.86511797,23861.7657379,23474.45540815,22794.03960022,23781.97438638,23240.20362271,23733.56954677,24677.01605649,26439.37328852,26280.82141511,27081.80972919,27360.08970906,28841.57375811,28994.00891641,29376.45583414,32129.4073556,32810.94764381,31977.04113228,34013.614533,36833.87435728,39381.76584266,40788.64052286,40254.21779758,38346.52950301,35516.36114084,33915.11958124,37325.10763475,39156.7080858,36821.64873201,36163.64923243,35792.23666766,36642.23272357,36050.11269824,35549.39740902,30817.62519242,32985.75691326,32064.37631516,32285.79891345,32358.6131737,32564.03024112,30441.0418168,34318.6716924,34295.9350435,34270.87759214,33114.57724298,33533.20067102,35510.82121346,37475.10402915,36931.54564785,38138.38833975,39250.1905137,38886.82728995,46184.99146609,46469.76120204,44898.71161149,47877.03437451,47491.20255503,47114.50958649,48696.53665993,47944.45800728,49207.27643233,52140.97271656,51675.98128513,55887.33571358,56068.56824551,57532.73886407,54204.92975578,48835.08766112,49709.08242476,47180.4640539,46344.77223734,46194.01635186,45159.50305253,49612.10703748,48415.8149783,50522.30503036,48527.03198074,48899.23078213,48918.6802649,51174.1169466,52272.96978194,54824.01119917,55963.18008858,57821.21874746,57343.37024739,61221.13429704,59267.4290492,55840.78651437,56825.82889756,58893.078058,57850.44063985,58332.26220538,58309.91303265,57517.89148833,54511.66203198,54710.48908407,52726.7455686,51683.0100897,55137.56723702,55974.94118696,55947.8989665,57750.13284273,58930.27778393,58926.56414734,59098.87907036,59397.40846193,57604.83861776,58760.87326121,59171.93202224,58186.50853398,56099.91311078,58326.56361984,58253.77680886,59846.23078558,60175.94475711,59890.01779033,63523.75486927,63075.19622093,63258.50517438,61529.92099734,60701.88609331,56191.5841095,55681.79251074,56471.12771923,53857.10689483,51739.80692966,51143.22627463,50052.83164893,49077.79236302,54030.30371848,55036.63741947,54858.09149222,53568.66358369,57714.66485835,57825.86281955,56620.27262011,57214.17876121,53252.16476125,57441.30708417,56413.95355125,57352.7659529,58877.3886984,58250.87253094,55847.24104211,56714.53316738,49735.43206467,49682.9818555,49855.49465011,46716.63798759,46415.89925412,43488.05798819,42944.97544731,36753.66970802,40596.94832252,37371.02990629,37531.4484526,34700.363568,38795.7802497,38392.62365582,39316.88967818,38507.08307537,35684.1568817,34607.40597914,35658.59295707,37293.79237447,36699.92291982,37599.40994043,39242.48626197,36880.15597053,35538.60872998,35835.26550975,33589.52085635,33416.97785088,37389.51565087,36697.03129279,37340.14284419,35555.79014042,39016.9701778,40427.16992116,40168.69037027,38341.42380252,38099.47705463,35854.52922288,35563.13941499,35641.14606474,31622.37708528,32515.71430319,33682.80040376,34659.10449948,31594.66357132,32287.52321108,34679.12222205,34475.55969665,35908.38805414,35035.98271227,33549.6001774,33854.42136155,34665.56486608,35284.34443007,33723.50965515],\"x\":[\"2013-04-29 23:59:59\",\"2013-04-30 23:59:59\",\"2013-05-01 23:59:59\",\"2013-05-02 23:59:59\",\"2013-05-03 23:59:59\",\"2013-05-04 23:59:59\",\"2013-05-05 23:59:59\",\"2013-05-06 23:59:59\",\"2013-05-07 23:59:59\",\"2013-05-08 23:59:59\",\"2013-05-09 23:59:59\",\"2013-05-10 23:59:59\",\"2013-05-11 23:59:59\",\"2013-05-12 23:59:59\",\"2013-05-13 23:59:59\",\"2013-05-14 23:59:59\",\"2013-05-15 23:59:59\",\"2013-05-16 23:59:59\",\"2013-05-17 23:59:59\",\"2013-05-18 23:59:59\",\"2013-05-19 23:59:59\",\"2013-05-20 23:59:59\",\"2013-05-21 23:59:59\",\"2013-05-22 23:59:59\",\"2013-05-23 23:59:59\",\"2013-05-24 23:59:59\",\"2013-05-25 23:59:59\",\"2013-05-26 23:59:59\",\"2013-05-27 23:59:59\",\"2013-05-28 23:59:59\",\"2013-05-29 23:59:59\",\"2013-05-30 23:59:59\",\"2013-05-31 23:59:59\",\"2013-06-01 23:59:59\",\"2013-06-02 23:59:59\",\"2013-06-03 23:59:59\",\"2013-06-04 23:59:59\",\"2013-06-05 23:59:59\",\"2013-06-06 23:59:59\",\"2013-06-07 23:59:59\",\"2013-06-08 23:59:59\",\"2013-06-09 23:59:59\",\"2013-06-10 23:59:59\",\"2013-06-11 23:59:59\",\"2013-06-12 23:59:59\",\"2013-06-13 23:59:59\",\"2013-06-14 23:59:59\",\"2013-06-15 23:59:59\",\"2013-06-16 23:59:59\",\"2013-06-17 23:59:59\",\"2013-06-18 23:59:59\",\"2013-06-19 23:59:59\",\"2013-06-20 23:59:59\",\"2013-06-21 23:59:59\",\"2013-06-22 23:59:59\",\"2013-06-23 23:59:59\",\"2013-06-24 23:59:59\",\"2013-06-25 23:59:59\",\"2013-06-26 23:59:59\",\"2013-06-27 23:59:59\",\"2013-06-28 23:59:59\",\"2013-06-29 23:59:59\",\"2013-06-30 23:59:59\",\"2013-07-01 23:59:59\",\"2013-07-02 23:59:59\",\"2013-07-03 23:59:59\",\"2013-07-04 23:59:59\",\"2013-07-05 23:59:59\",\"2013-07-06 23:59:59\",\"2013-07-07 23:59:59\",\"2013-07-08 23:59:59\",\"2013-07-09 23:59:59\",\"2013-07-10 23:59:59\",\"2013-07-11 23:59:59\",\"2013-07-12 23:59:59\",\"2013-07-13 23:59:59\",\"2013-07-14 23:59:59\",\"2013-07-15 23:59:59\",\"2013-07-16 23:59:59\",\"2013-07-17 23:59:59\",\"2013-07-18 23:59:59\",\"2013-07-19 23:59:59\",\"2013-07-20 23:59:59\",\"2013-07-21 23:59:59\",\"2013-07-22 23:59:59\",\"2013-07-23 23:59:59\",\"2013-07-24 23:59:59\",\"2013-07-25 23:59:59\",\"2013-07-26 23:59:59\",\"2013-07-27 23:59:59\",\"2013-07-28 23:59:59\",\"2013-07-29 23:59:59\",\"2013-07-30 23:59:59\",\"2013-07-31 23:59:59\",\"2013-08-01 23:59:59\",\"2013-08-02 23:59:59\",\"2013-08-03 23:59:59\",\"2013-08-04 23:59:59\",\"2013-08-05 23:59:59\",\"2013-08-06 23:59:59\",\"2013-08-07 23:59:59\",\"2013-08-08 23:59:59\",\"2013-08-09 23:59:59\",\"2013-08-10 23:59:59\",\"2013-08-11 23:59:59\",\"2013-08-12 23:59:59\",\"2013-08-13 23:59:59\",\"2013-08-14 23:59:59\",\"2013-08-15 23:59:59\",\"2013-08-16 23:59:59\",\"2013-08-17 23:59:59\",\"2013-08-18 23:59:59\",\"2013-08-19 23:59:59\",\"2013-08-20 23:59:59\",\"2013-08-21 23:59:59\",\"2013-08-22 23:59:59\",\"2013-08-23 23:59:59\",\"2013-08-24 23:59:59\",\"2013-08-25 23:59:59\",\"2013-08-26 23:59:59\",\"2013-08-27 23:59:59\",\"2013-08-28 23:59:59\",\"2013-08-29 23:59:59\",\"2013-08-30 23:59:59\",\"2013-08-31 23:59:59\",\"2013-09-01 23:59:59\",\"2013-09-02 23:59:59\",\"2013-09-03 23:59:59\",\"2013-09-04 23:59:59\",\"2013-09-05 23:59:59\",\"2013-09-06 23:59:59\",\"2013-09-07 23:59:59\",\"2013-09-08 23:59:59\",\"2013-09-09 23:59:59\",\"2013-09-10 23:59:59\",\"2013-09-11 23:59:59\",\"2013-09-12 23:59:59\",\"2013-09-13 23:59:59\",\"2013-09-14 23:59:59\",\"2013-09-15 23:59:59\",\"2013-09-16 23:59:59\",\"2013-09-17 23:59:59\",\"2013-09-18 23:59:59\",\"2013-09-19 23:59:59\",\"2013-09-20 23:59:59\",\"2013-09-21 23:59:59\",\"2013-09-22 23:59:59\",\"2013-09-23 23:59:59\",\"2013-09-24 23:59:59\",\"2013-09-25 23:59:59\",\"2013-09-26 23:59:59\",\"2013-09-27 23:59:59\",\"2013-09-28 23:59:59\",\"2013-09-29 23:59:59\",\"2013-09-30 23:59:59\",\"2013-10-01 23:59:59\",\"2013-10-02 23:59:59\",\"2013-10-03 23:59:59\",\"2013-10-04 23:59:59\",\"2013-10-05 23:59:59\",\"2013-10-06 23:59:59\",\"2013-10-07 23:59:59\",\"2013-10-08 23:59:59\",\"2013-10-09 23:59:59\",\"2013-10-10 23:59:59\",\"2013-10-11 23:59:59\",\"2013-10-12 23:59:59\",\"2013-10-13 23:59:59\",\"2013-10-14 23:59:59\",\"2013-10-15 23:59:59\",\"2013-10-16 23:59:59\",\"2013-10-17 23:59:59\",\"2013-10-18 23:59:59\",\"2013-10-19 23:59:59\",\"2013-10-20 23:59:59\",\"2013-10-21 23:59:59\",\"2013-10-22 23:59:59\",\"2013-10-23 23:59:59\",\"2013-10-24 23:59:59\",\"2013-10-25 23:59:59\",\"2013-10-26 23:59:59\",\"2013-10-27 23:59:59\",\"2013-10-28 23:59:59\",\"2013-10-29 23:59:59\",\"2013-10-30 23:59:59\",\"2013-10-31 23:59:59\",\"2013-11-01 23:59:59\",\"2013-11-02 23:59:59\",\"2013-11-03 23:59:59\",\"2013-11-04 23:59:59\",\"2013-11-05 23:59:59\",\"2013-11-06 23:59:59\",\"2013-11-07 23:59:59\",\"2013-11-08 23:59:59\",\"2013-11-09 23:59:59\",\"2013-11-10 23:59:59\",\"2013-11-11 23:59:59\",\"2013-11-12 23:59:59\",\"2013-11-13 23:59:59\",\"2013-11-14 23:59:59\",\"2013-11-15 23:59:59\",\"2013-11-16 23:59:59\",\"2013-11-17 23:59:59\",\"2013-11-18 23:59:59\",\"2013-11-19 23:59:59\",\"2013-11-20 23:59:59\",\"2013-11-21 23:59:59\",\"2013-11-22 23:59:59\",\"2013-11-23 23:59:59\",\"2013-11-24 23:59:59\",\"2013-11-25 23:59:59\",\"2013-11-26 23:59:59\",\"2013-11-27 23:59:59\",\"2013-11-28 23:59:59\",\"2013-11-29 23:59:59\",\"2013-11-30 23:59:59\",\"2013-12-01 23:59:59\",\"2013-12-02 23:59:59\",\"2013-12-03 23:59:59\",\"2013-12-04 23:59:59\",\"2013-12-05 23:59:59\",\"2013-12-06 23:59:59\",\"2013-12-07 23:59:59\",\"2013-12-08 23:59:59\",\"2013-12-09 23:59:59\",\"2013-12-10 23:59:59\",\"2013-12-11 23:59:59\",\"2013-12-12 23:59:59\",\"2013-12-13 23:59:59\",\"2013-12-14 23:59:59\",\"2013-12-15 23:59:59\",\"2013-12-16 23:59:59\",\"2013-12-17 23:59:59\",\"2013-12-18 23:59:59\",\"2013-12-19 23:59:59\",\"2013-12-20 23:59:59\",\"2013-12-21 23:59:59\",\"2013-12-22 23:59:59\",\"2013-12-23 23:59:59\",\"2013-12-24 23:59:59\",\"2013-12-25 23:59:59\",\"2013-12-26 23:59:59\",\"2013-12-27 23:59:59\",\"2013-12-28 23:59:59\",\"2013-12-29 23:59:59\",\"2013-12-30 23:59:59\",\"2013-12-31 23:59:59\",\"2014-01-01 23:59:59\",\"2014-01-02 23:59:59\",\"2014-01-03 23:59:59\",\"2014-01-04 23:59:59\",\"2014-01-05 23:59:59\",\"2014-01-06 23:59:59\",\"2014-01-07 23:59:59\",\"2014-01-08 23:59:59\",\"2014-01-09 23:59:59\",\"2014-01-10 23:59:59\",\"2014-01-11 23:59:59\",\"2014-01-12 23:59:59\",\"2014-01-13 23:59:59\",\"2014-01-14 23:59:59\",\"2014-01-15 23:59:59\",\"2014-01-16 23:59:59\",\"2014-01-17 23:59:59\",\"2014-01-18 23:59:59\",\"2014-01-19 23:59:59\",\"2014-01-20 23:59:59\",\"2014-01-21 23:59:59\",\"2014-01-22 23:59:59\",\"2014-01-23 23:59:59\",\"2014-01-24 23:59:59\",\"2014-01-25 23:59:59\",\"2014-01-26 23:59:59\",\"2014-01-27 23:59:59\",\"2014-01-28 23:59:59\",\"2014-01-29 23:59:59\",\"2014-01-30 23:59:59\",\"2014-01-31 23:59:59\",\"2014-02-01 23:59:59\",\"2014-02-02 23:59:59\",\"2014-02-03 23:59:59\",\"2014-02-04 23:59:59\",\"2014-02-05 23:59:59\",\"2014-02-06 23:59:59\",\"2014-02-07 23:59:59\",\"2014-02-08 23:59:59\",\"2014-02-09 23:59:59\",\"2014-02-10 23:59:59\",\"2014-02-11 23:59:59\",\"2014-02-12 23:59:59\",\"2014-02-13 23:59:59\",\"2014-02-14 23:59:59\",\"2014-02-15 23:59:59\",\"2014-02-16 23:59:59\",\"2014-02-17 23:59:59\",\"2014-02-18 23:59:59\",\"2014-02-19 23:59:59\",\"2014-02-20 23:59:59\",\"2014-02-21 23:59:59\",\"2014-02-22 23:59:59\",\"2014-02-23 23:59:59\",\"2014-02-24 23:59:59\",\"2014-02-25 23:59:59\",\"2014-02-26 23:59:59\",\"2014-02-27 23:59:59\",\"2014-02-28 23:59:59\",\"2014-03-01 23:59:59\",\"2014-03-02 23:59:59\",\"2014-03-03 23:59:59\",\"2014-03-04 23:59:59\",\"2014-03-05 23:59:59\",\"2014-03-06 23:59:59\",\"2014-03-07 23:59:59\",\"2014-03-08 23:59:59\",\"2014-03-09 23:59:59\",\"2014-03-10 23:59:59\",\"2014-03-11 23:59:59\",\"2014-03-12 23:59:59\",\"2014-03-13 23:59:59\",\"2014-03-14 23:59:59\",\"2014-03-15 23:59:59\",\"2014-03-16 23:59:59\",\"2014-03-17 23:59:59\",\"2014-03-18 23:59:59\",\"2014-03-19 23:59:59\",\"2014-03-20 23:59:59\",\"2014-03-21 23:59:59\",\"2014-03-22 23:59:59\",\"2014-03-23 23:59:59\",\"2014-03-24 23:59:59\",\"2014-03-25 23:59:59\",\"2014-03-26 23:59:59\",\"2014-03-27 23:59:59\",\"2014-03-28 23:59:59\",\"2014-03-29 23:59:59\",\"2014-03-30 23:59:59\",\"2014-03-31 23:59:59\",\"2014-04-01 23:59:59\",\"2014-04-02 23:59:59\",\"2014-04-03 23:59:59\",\"2014-04-04 23:59:59\",\"2014-04-05 23:59:59\",\"2014-04-06 23:59:59\",\"2014-04-07 23:59:59\",\"2014-04-08 23:59:59\",\"2014-04-09 23:59:59\",\"2014-04-10 23:59:59\",\"2014-04-11 23:59:59\",\"2014-04-12 23:59:59\",\"2014-04-13 23:59:59\",\"2014-04-14 23:59:59\",\"2014-04-15 23:59:59\",\"2014-04-16 23:59:59\",\"2014-04-17 23:59:59\",\"2014-04-18 23:59:59\",\"2014-04-19 23:59:59\",\"2014-04-20 23:59:59\",\"2014-04-21 23:59:59\",\"2014-04-22 23:59:59\",\"2014-04-23 23:59:59\",\"2014-04-24 23:59:59\",\"2014-04-25 23:59:59\",\"2014-04-26 23:59:59\",\"2014-04-27 23:59:59\",\"2014-04-28 23:59:59\",\"2014-04-29 23:59:59\",\"2014-04-30 23:59:59\",\"2014-05-01 23:59:59\",\"2014-05-02 23:59:59\",\"2014-05-03 23:59:59\",\"2014-05-04 23:59:59\",\"2014-05-05 23:59:59\",\"2014-05-06 23:59:59\",\"2014-05-07 23:59:59\",\"2014-05-08 23:59:59\",\"2014-05-09 23:59:59\",\"2014-05-10 23:59:59\",\"2014-05-11 23:59:59\",\"2014-05-12 23:59:59\",\"2014-05-13 23:59:59\",\"2014-05-14 23:59:59\",\"2014-05-15 23:59:59\",\"2014-05-16 23:59:59\",\"2014-05-17 23:59:59\",\"2014-05-18 23:59:59\",\"2014-05-19 23:59:59\",\"2014-05-20 23:59:59\",\"2014-05-21 23:59:59\",\"2014-05-22 23:59:59\",\"2014-05-23 23:59:59\",\"2014-05-24 23:59:59\",\"2014-05-25 23:59:59\",\"2014-05-26 23:59:59\",\"2014-05-27 23:59:59\",\"2014-05-28 23:59:59\",\"2014-05-29 23:59:59\",\"2014-05-30 23:59:59\",\"2014-05-31 23:59:59\",\"2014-06-01 23:59:59\",\"2014-06-02 23:59:59\",\"2014-06-03 23:59:59\",\"2014-06-04 23:59:59\",\"2014-06-05 23:59:59\",\"2014-06-06 23:59:59\",\"2014-06-07 23:59:59\",\"2014-06-08 23:59:59\",\"2014-06-09 23:59:59\",\"2014-06-10 23:59:59\",\"2014-06-11 23:59:59\",\"2014-06-12 23:59:59\",\"2014-06-13 23:59:59\",\"2014-06-14 23:59:59\",\"2014-06-15 23:59:59\",\"2014-06-16 23:59:59\",\"2014-06-17 23:59:59\",\"2014-06-18 23:59:59\",\"2014-06-19 23:59:59\",\"2014-06-20 23:59:59\",\"2014-06-21 23:59:59\",\"2014-06-22 23:59:59\",\"2014-06-23 23:59:59\",\"2014-06-24 23:59:59\",\"2014-06-25 23:59:59\",\"2014-06-26 23:59:59\",\"2014-06-27 23:59:59\",\"2014-06-28 23:59:59\",\"2014-06-29 23:59:59\",\"2014-06-30 23:59:59\",\"2014-07-01 23:59:59\",\"2014-07-02 23:59:59\",\"2014-07-03 23:59:59\",\"2014-07-04 23:59:59\",\"2014-07-05 23:59:59\",\"2014-07-06 23:59:59\",\"2014-07-07 23:59:59\",\"2014-07-08 23:59:59\",\"2014-07-09 23:59:59\",\"2014-07-10 23:59:59\",\"2014-07-11 23:59:59\",\"2014-07-12 23:59:59\",\"2014-07-13 23:59:59\",\"2014-07-14 23:59:59\",\"2014-07-15 23:59:59\",\"2014-07-16 23:59:59\",\"2014-07-17 23:59:59\",\"2014-07-18 23:59:59\",\"2014-07-19 23:59:59\",\"2014-07-20 23:59:59\",\"2014-07-21 23:59:59\",\"2014-07-22 23:59:59\",\"2014-07-23 23:59:59\",\"2014-07-24 23:59:59\",\"2014-07-25 23:59:59\",\"2014-07-26 23:59:59\",\"2014-07-27 23:59:59\",\"2014-07-28 23:59:59\",\"2014-07-29 23:59:59\",\"2014-07-30 23:59:59\",\"2014-07-31 23:59:59\",\"2014-08-01 23:59:59\",\"2014-08-02 23:59:59\",\"2014-08-03 23:59:59\",\"2014-08-04 23:59:59\",\"2014-08-05 23:59:59\",\"2014-08-06 23:59:59\",\"2014-08-07 23:59:59\",\"2014-08-08 23:59:59\",\"2014-08-09 23:59:59\",\"2014-08-10 23:59:59\",\"2014-08-11 23:59:59\",\"2014-08-12 23:59:59\",\"2014-08-13 23:59:59\",\"2014-08-14 23:59:59\",\"2014-08-15 23:59:59\",\"2014-08-16 23:59:59\",\"2014-08-17 23:59:59\",\"2014-08-18 23:59:59\",\"2014-08-19 23:59:59\",\"2014-08-20 23:59:59\",\"2014-08-21 23:59:59\",\"2014-08-22 23:59:59\",\"2014-08-23 23:59:59\",\"2014-08-24 23:59:59\",\"2014-08-25 23:59:59\",\"2014-08-26 23:59:59\",\"2014-08-27 23:59:59\",\"2014-08-28 23:59:59\",\"2014-08-29 23:59:59\",\"2014-08-30 23:59:59\",\"2014-08-31 23:59:59\",\"2014-09-01 23:59:59\",\"2014-09-02 23:59:59\",\"2014-09-03 23:59:59\",\"2014-09-04 23:59:59\",\"2014-09-05 23:59:59\",\"2014-09-06 23:59:59\",\"2014-09-07 23:59:59\",\"2014-09-08 23:59:59\",\"2014-09-09 23:59:59\",\"2014-09-10 23:59:59\",\"2014-09-11 23:59:59\",\"2014-09-12 23:59:59\",\"2014-09-13 23:59:59\",\"2014-09-14 23:59:59\",\"2014-09-15 23:59:59\",\"2014-09-16 23:59:59\",\"2014-09-17 23:59:59\",\"2014-09-18 23:59:59\",\"2014-09-19 23:59:59\",\"2014-09-20 23:59:59\",\"2014-09-21 23:59:59\",\"2014-09-22 23:59:59\",\"2014-09-23 23:59:59\",\"2014-09-24 23:59:59\",\"2014-09-25 23:59:59\",\"2014-09-26 23:59:59\",\"2014-09-27 23:59:59\",\"2014-09-28 23:59:59\",\"2014-09-29 23:59:59\",\"2014-09-30 23:59:59\",\"2014-10-01 23:59:59\",\"2014-10-02 23:59:59\",\"2014-10-03 23:59:59\",\"2014-10-04 23:59:59\",\"2014-10-05 23:59:59\",\"2014-10-06 23:59:59\",\"2014-10-07 23:59:59\",\"2014-10-08 23:59:59\",\"2014-10-09 23:59:59\",\"2014-10-10 23:59:59\",\"2014-10-11 23:59:59\",\"2014-10-12 23:59:59\",\"2014-10-13 23:59:59\",\"2014-10-14 23:59:59\",\"2014-10-15 23:59:59\",\"2014-10-16 23:59:59\",\"2014-10-17 23:59:59\",\"2014-10-18 23:59:59\",\"2014-10-19 23:59:59\",\"2014-10-20 23:59:59\",\"2014-10-21 23:59:59\",\"2014-10-22 23:59:59\",\"2014-10-23 23:59:59\",\"2014-10-24 23:59:59\",\"2014-10-25 23:59:59\",\"2014-10-26 23:59:59\",\"2014-10-27 23:59:59\",\"2014-10-28 23:59:59\",\"2014-10-29 23:59:59\",\"2014-10-30 23:59:59\",\"2014-10-31 23:59:59\",\"2014-11-01 23:59:59\",\"2014-11-02 23:59:59\",\"2014-11-03 23:59:59\",\"2014-11-04 23:59:59\",\"2014-11-05 23:59:59\",\"2014-11-06 23:59:59\",\"2014-11-07 23:59:59\",\"2014-11-08 23:59:59\",\"2014-11-09 23:59:59\",\"2014-11-10 23:59:59\",\"2014-11-11 23:59:59\",\"2014-11-12 23:59:59\",\"2014-11-13 23:59:59\",\"2014-11-14 23:59:59\",\"2014-11-15 23:59:59\",\"2014-11-16 23:59:59\",\"2014-11-17 23:59:59\",\"2014-11-18 23:59:59\",\"2014-11-19 23:59:59\",\"2014-11-20 23:59:59\",\"2014-11-21 23:59:59\",\"2014-11-22 23:59:59\",\"2014-11-23 23:59:59\",\"2014-11-24 23:59:59\",\"2014-11-25 23:59:59\",\"2014-11-26 23:59:59\",\"2014-11-27 23:59:59\",\"2014-11-28 23:59:59\",\"2014-11-29 23:59:59\",\"2014-11-30 23:59:59\",\"2014-12-01 23:59:59\",\"2014-12-02 23:59:59\",\"2014-12-03 23:59:59\",\"2014-12-04 23:59:59\",\"2014-12-05 23:59:59\",\"2014-12-06 23:59:59\",\"2014-12-07 23:59:59\",\"2014-12-08 23:59:59\",\"2014-12-09 23:59:59\",\"2014-12-10 23:59:59\",\"2014-12-11 23:59:59\",\"2014-12-12 23:59:59\",\"2014-12-13 23:59:59\",\"2014-12-14 23:59:59\",\"2014-12-15 23:59:59\",\"2014-12-16 23:59:59\",\"2014-12-17 23:59:59\",\"2014-12-18 23:59:59\",\"2014-12-19 23:59:59\",\"2014-12-20 23:59:59\",\"2014-12-21 23:59:59\",\"2014-12-22 23:59:59\",\"2014-12-23 23:59:59\",\"2014-12-24 23:59:59\",\"2014-12-25 23:59:59\",\"2014-12-26 23:59:59\",\"2014-12-27 23:59:59\",\"2014-12-28 23:59:59\",\"2014-12-29 23:59:59\",\"2014-12-30 23:59:59\",\"2014-12-31 23:59:59\",\"2015-01-01 23:59:59\",\"2015-01-02 23:59:59\",\"2015-01-03 23:59:59\",\"2015-01-04 23:59:59\",\"2015-01-05 23:59:59\",\"2015-01-06 23:59:59\",\"2015-01-07 23:59:59\",\"2015-01-08 23:59:59\",\"2015-01-09 23:59:59\",\"2015-01-10 23:59:59\",\"2015-01-11 23:59:59\",\"2015-01-12 23:59:59\",\"2015-01-13 23:59:59\",\"2015-01-14 23:59:59\",\"2015-01-15 23:59:59\",\"2015-01-16 23:59:59\",\"2015-01-17 23:59:59\",\"2015-01-18 23:59:59\",\"2015-01-19 23:59:59\",\"2015-01-20 23:59:59\",\"2015-01-21 23:59:59\",\"2015-01-22 23:59:59\",\"2015-01-23 23:59:59\",\"2015-01-24 23:59:59\",\"2015-01-25 23:59:59\",\"2015-01-26 23:59:59\",\"2015-01-27 23:59:59\",\"2015-01-28 23:59:59\",\"2015-01-29 23:59:59\",\"2015-01-30 23:59:59\",\"2015-01-31 23:59:59\",\"2015-02-01 23:59:59\",\"2015-02-02 23:59:59\",\"2015-02-03 23:59:59\",\"2015-02-04 23:59:59\",\"2015-02-05 23:59:59\",\"2015-02-06 23:59:59\",\"2015-02-07 23:59:59\",\"2015-02-08 23:59:59\",\"2015-02-09 23:59:59\",\"2015-02-10 23:59:59\",\"2015-02-11 23:59:59\",\"2015-02-12 23:59:59\",\"2015-02-13 23:59:59\",\"2015-02-14 23:59:59\",\"2015-02-15 23:59:59\",\"2015-02-16 23:59:59\",\"2015-02-17 23:59:59\",\"2015-02-18 23:59:59\",\"2015-02-19 23:59:59\",\"2015-02-20 23:59:59\",\"2015-02-21 23:59:59\",\"2015-02-22 23:59:59\",\"2015-02-23 23:59:59\",\"2015-02-24 23:59:59\",\"2015-02-25 23:59:59\",\"2015-02-26 23:59:59\",\"2015-02-27 23:59:59\",\"2015-02-28 23:59:59\",\"2015-03-01 23:59:59\",\"2015-03-02 23:59:59\",\"2015-03-03 23:59:59\",\"2015-03-04 23:59:59\",\"2015-03-05 23:59:59\",\"2015-03-06 23:59:59\",\"2015-03-07 23:59:59\",\"2015-03-08 23:59:59\",\"2015-03-09 23:59:59\",\"2015-03-10 23:59:59\",\"2015-03-11 23:59:59\",\"2015-03-12 23:59:59\",\"2015-03-13 23:59:59\",\"2015-03-14 23:59:59\",\"2015-03-15 23:59:59\",\"2015-03-16 23:59:59\",\"2015-03-17 23:59:59\",\"2015-03-18 23:59:59\",\"2015-03-19 23:59:59\",\"2015-03-20 23:59:59\",\"2015-03-21 23:59:59\",\"2015-03-22 23:59:59\",\"2015-03-23 23:59:59\",\"2015-03-24 23:59:59\",\"2015-03-25 23:59:59\",\"2015-03-26 23:59:59\",\"2015-03-27 23:59:59\",\"2015-03-28 23:59:59\",\"2015-03-29 23:59:59\",\"2015-03-30 23:59:59\",\"2015-03-31 23:59:59\",\"2015-04-01 23:59:59\",\"2015-04-02 23:59:59\",\"2015-04-03 23:59:59\",\"2015-04-04 23:59:59\",\"2015-04-05 23:59:59\",\"2015-04-06 23:59:59\",\"2015-04-07 23:59:59\",\"2015-04-08 23:59:59\",\"2015-04-09 23:59:59\",\"2015-04-10 23:59:59\",\"2015-04-11 23:59:59\",\"2015-04-12 23:59:59\",\"2015-04-13 23:59:59\",\"2015-04-14 23:59:59\",\"2015-04-15 23:59:59\",\"2015-04-16 23:59:59\",\"2015-04-17 23:59:59\",\"2015-04-18 23:59:59\",\"2015-04-19 23:59:59\",\"2015-04-20 23:59:59\",\"2015-04-21 23:59:59\",\"2015-04-22 23:59:59\",\"2015-04-23 23:59:59\",\"2015-04-24 23:59:59\",\"2015-04-25 23:59:59\",\"2015-04-26 23:59:59\",\"2015-04-27 23:59:59\",\"2015-04-28 23:59:59\",\"2015-04-29 23:59:59\",\"2015-04-30 23:59:59\",\"2015-05-01 23:59:59\",\"2015-05-02 23:59:59\",\"2015-05-03 23:59:59\",\"2015-05-04 23:59:59\",\"2015-05-05 23:59:59\",\"2015-05-06 23:59:59\",\"2015-05-07 23:59:59\",\"2015-05-08 23:59:59\",\"2015-05-09 23:59:59\",\"2015-05-10 23:59:59\",\"2015-05-11 23:59:59\",\"2015-05-12 23:59:59\",\"2015-05-13 23:59:59\",\"2015-05-14 23:59:59\",\"2015-05-15 23:59:59\",\"2015-05-16 23:59:59\",\"2015-05-17 23:59:59\",\"2015-05-18 23:59:59\",\"2015-05-19 23:59:59\",\"2015-05-20 23:59:59\",\"2015-05-21 23:59:59\",\"2015-05-22 23:59:59\",\"2015-05-23 23:59:59\",\"2015-05-24 23:59:59\",\"2015-05-25 23:59:59\",\"2015-05-26 23:59:59\",\"2015-05-27 23:59:59\",\"2015-05-28 23:59:59\",\"2015-05-29 23:59:59\",\"2015-05-30 23:59:59\",\"2015-05-31 23:59:59\",\"2015-06-01 23:59:59\",\"2015-06-02 23:59:59\",\"2015-06-03 23:59:59\",\"2015-06-04 23:59:59\",\"2015-06-05 23:59:59\",\"2015-06-06 23:59:59\",\"2015-06-07 23:59:59\",\"2015-06-08 23:59:59\",\"2015-06-09 23:59:59\",\"2015-06-10 23:59:59\",\"2015-06-11 23:59:59\",\"2015-06-12 23:59:59\",\"2015-06-13 23:59:59\",\"2015-06-14 23:59:59\",\"2015-06-15 23:59:59\",\"2015-06-16 23:59:59\",\"2015-06-17 23:59:59\",\"2015-06-18 23:59:59\",\"2015-06-19 23:59:59\",\"2015-06-20 23:59:59\",\"2015-06-21 23:59:59\",\"2015-06-22 23:59:59\",\"2015-06-23 23:59:59\",\"2015-06-24 23:59:59\",\"2015-06-25 23:59:59\",\"2015-06-26 23:59:59\",\"2015-06-27 23:59:59\",\"2015-06-28 23:59:59\",\"2015-06-29 23:59:59\",\"2015-06-30 23:59:59\",\"2015-07-01 23:59:59\",\"2015-07-02 23:59:59\",\"2015-07-03 23:59:59\",\"2015-07-04 23:59:59\",\"2015-07-05 23:59:59\",\"2015-07-06 23:59:59\",\"2015-07-07 23:59:59\",\"2015-07-08 23:59:59\",\"2015-07-09 23:59:59\",\"2015-07-10 23:59:59\",\"2015-07-11 23:59:59\",\"2015-07-12 23:59:59\",\"2015-07-13 23:59:59\",\"2015-07-14 23:59:59\",\"2015-07-15 23:59:59\",\"2015-07-16 23:59:59\",\"2015-07-17 23:59:59\",\"2015-07-18 23:59:59\",\"2015-07-19 23:59:59\",\"2015-07-20 23:59:59\",\"2015-07-21 23:59:59\",\"2015-07-22 23:59:59\",\"2015-07-23 23:59:59\",\"2015-07-24 23:59:59\",\"2015-07-25 23:59:59\",\"2015-07-26 23:59:59\",\"2015-07-27 23:59:59\",\"2015-07-28 23:59:59\",\"2015-07-29 23:59:59\",\"2015-07-30 23:59:59\",\"2015-07-31 23:59:59\",\"2015-08-01 23:59:59\",\"2015-08-02 23:59:59\",\"2015-08-03 23:59:59\",\"2015-08-04 23:59:59\",\"2015-08-05 23:59:59\",\"2015-08-06 23:59:59\",\"2015-08-07 23:59:59\",\"2015-08-08 23:59:59\",\"2015-08-09 23:59:59\",\"2015-08-10 23:59:59\",\"2015-08-11 23:59:59\",\"2015-08-12 23:59:59\",\"2015-08-13 23:59:59\",\"2015-08-14 23:59:59\",\"2015-08-15 23:59:59\",\"2015-08-16 23:59:59\",\"2015-08-17 23:59:59\",\"2015-08-18 23:59:59\",\"2015-08-19 23:59:59\",\"2015-08-20 23:59:59\",\"2015-08-21 23:59:59\",\"2015-08-22 23:59:59\",\"2015-08-23 23:59:59\",\"2015-08-24 23:59:59\",\"2015-08-25 23:59:59\",\"2015-08-26 23:59:59\",\"2015-08-27 23:59:59\",\"2015-08-28 23:59:59\",\"2015-08-29 23:59:59\",\"2015-08-30 23:59:59\",\"2015-08-31 23:59:59\",\"2015-09-01 23:59:59\",\"2015-09-02 23:59:59\",\"2015-09-03 23:59:59\",\"2015-09-04 23:59:59\",\"2015-09-05 23:59:59\",\"2015-09-06 23:59:59\",\"2015-09-07 23:59:59\",\"2015-09-08 23:59:59\",\"2015-09-09 23:59:59\",\"2015-09-10 23:59:59\",\"2015-09-11 23:59:59\",\"2015-09-12 23:59:59\",\"2015-09-13 23:59:59\",\"2015-09-14 23:59:59\",\"2015-09-15 23:59:59\",\"2015-09-16 23:59:59\",\"2015-09-17 23:59:59\",\"2015-09-18 23:59:59\",\"2015-09-19 23:59:59\",\"2015-09-20 23:59:59\",\"2015-09-21 23:59:59\",\"2015-09-22 23:59:59\",\"2015-09-23 23:59:59\",\"2015-09-24 23:59:59\",\"2015-09-25 23:59:59\",\"2015-09-26 23:59:59\",\"2015-09-27 23:59:59\",\"2015-09-28 23:59:59\",\"2015-09-29 23:59:59\",\"2015-09-30 23:59:59\",\"2015-10-01 23:59:59\",\"2015-10-02 23:59:59\",\"2015-10-03 23:59:59\",\"2015-10-04 23:59:59\",\"2015-10-05 23:59:59\",\"2015-10-06 23:59:59\",\"2015-10-07 23:59:59\",\"2015-10-08 23:59:59\",\"2015-10-09 23:59:59\",\"2015-10-10 23:59:59\",\"2015-10-11 23:59:59\",\"2015-10-12 23:59:59\",\"2015-10-13 23:59:59\",\"2015-10-14 23:59:59\",\"2015-10-15 23:59:59\",\"2015-10-16 23:59:59\",\"2015-10-17 23:59:59\",\"2015-10-18 23:59:59\",\"2015-10-19 23:59:59\",\"2015-10-20 23:59:59\",\"2015-10-21 23:59:59\",\"2015-10-22 23:59:59\",\"2015-10-23 23:59:59\",\"2015-10-24 23:59:59\",\"2015-10-25 23:59:59\",\"2015-10-26 23:59:59\",\"2015-10-27 23:59:59\",\"2015-10-28 23:59:59\",\"2015-10-29 23:59:59\",\"2015-10-30 23:59:59\",\"2015-10-31 23:59:59\",\"2015-11-01 23:59:59\",\"2015-11-02 23:59:59\",\"2015-11-03 23:59:59\",\"2015-11-04 23:59:59\",\"2015-11-05 23:59:59\",\"2015-11-06 23:59:59\",\"2015-11-07 23:59:59\",\"2015-11-08 23:59:59\",\"2015-11-09 23:59:59\",\"2015-11-10 23:59:59\",\"2015-11-11 23:59:59\",\"2015-11-12 23:59:59\",\"2015-11-13 23:59:59\",\"2015-11-14 23:59:59\",\"2015-11-15 23:59:59\",\"2015-11-16 23:59:59\",\"2015-11-17 23:59:59\",\"2015-11-18 23:59:59\",\"2015-11-19 23:59:59\",\"2015-11-20 23:59:59\",\"2015-11-21 23:59:59\",\"2015-11-22 23:59:59\",\"2015-11-23 23:59:59\",\"2015-11-24 23:59:59\",\"2015-11-25 23:59:59\",\"2015-11-26 23:59:59\",\"2015-11-27 23:59:59\",\"2015-11-28 23:59:59\",\"2015-11-29 23:59:59\",\"2015-11-30 23:59:59\",\"2015-12-01 23:59:59\",\"2015-12-02 23:59:59\",\"2015-12-03 23:59:59\",\"2015-12-04 23:59:59\",\"2015-12-05 23:59:59\",\"2015-12-06 23:59:59\",\"2015-12-07 23:59:59\",\"2015-12-08 23:59:59\",\"2015-12-09 23:59:59\",\"2015-12-10 23:59:59\",\"2015-12-11 23:59:59\",\"2015-12-12 23:59:59\",\"2015-12-13 23:59:59\",\"2015-12-14 23:59:59\",\"2015-12-15 23:59:59\",\"2015-12-16 23:59:59\",\"2015-12-17 23:59:59\",\"2015-12-18 23:59:59\",\"2015-12-19 23:59:59\",\"2015-12-20 23:59:59\",\"2015-12-21 23:59:59\",\"2015-12-22 23:59:59\",\"2015-12-23 23:59:59\",\"2015-12-24 23:59:59\",\"2015-12-25 23:59:59\",\"2015-12-26 23:59:59\",\"2015-12-27 23:59:59\",\"2015-12-28 23:59:59\",\"2015-12-29 23:59:59\",\"2015-12-30 23:59:59\",\"2015-12-31 23:59:59\",\"2016-01-01 23:59:59\",\"2016-01-02 23:59:59\",\"2016-01-03 23:59:59\",\"2016-01-04 23:59:59\",\"2016-01-05 23:59:59\",\"2016-01-06 23:59:59\",\"2016-01-07 23:59:59\",\"2016-01-08 23:59:59\",\"2016-01-09 23:59:59\",\"2016-01-10 23:59:59\",\"2016-01-11 23:59:59\",\"2016-01-12 23:59:59\",\"2016-01-13 23:59:59\",\"2016-01-14 23:59:59\",\"2016-01-15 23:59:59\",\"2016-01-16 23:59:59\",\"2016-01-17 23:59:59\",\"2016-01-18 23:59:59\",\"2016-01-19 23:59:59\",\"2016-01-20 23:59:59\",\"2016-01-21 23:59:59\",\"2016-01-22 23:59:59\",\"2016-01-23 23:59:59\",\"2016-01-24 23:59:59\",\"2016-01-25 23:59:59\",\"2016-01-26 23:59:59\",\"2016-01-27 23:59:59\",\"2016-01-28 23:59:59\",\"2016-01-29 23:59:59\",\"2016-01-30 23:59:59\",\"2016-01-31 23:59:59\",\"2016-02-01 23:59:59\",\"2016-02-02 23:59:59\",\"2016-02-03 23:59:59\",\"2016-02-04 23:59:59\",\"2016-02-05 23:59:59\",\"2016-02-06 23:59:59\",\"2016-02-07 23:59:59\",\"2016-02-08 23:59:59\",\"2016-02-09 23:59:59\",\"2016-02-10 23:59:59\",\"2016-02-11 23:59:59\",\"2016-02-12 23:59:59\",\"2016-02-13 23:59:59\",\"2016-02-14 23:59:59\",\"2016-02-15 23:59:59\",\"2016-02-16 23:59:59\",\"2016-02-17 23:59:59\",\"2016-02-18 23:59:59\",\"2016-02-19 23:59:59\",\"2016-02-20 23:59:59\",\"2016-02-21 23:59:59\",\"2016-02-22 23:59:59\",\"2016-02-23 23:59:59\",\"2016-02-24 23:59:59\",\"2016-02-25 23:59:59\",\"2016-02-26 23:59:59\",\"2016-02-27 23:59:59\",\"2016-02-28 23:59:59\",\"2016-02-29 23:59:59\",\"2016-03-01 23:59:59\",\"2016-03-02 23:59:59\",\"2016-03-03 23:59:59\",\"2016-03-04 23:59:59\",\"2016-03-05 23:59:59\",\"2016-03-06 23:59:59\",\"2016-03-07 23:59:59\",\"2016-03-08 23:59:59\",\"2016-03-09 23:59:59\",\"2016-03-10 23:59:59\",\"2016-03-11 23:59:59\",\"2016-03-12 23:59:59\",\"2016-03-13 23:59:59\",\"2016-03-14 23:59:59\",\"2016-03-15 23:59:59\",\"2016-03-16 23:59:59\",\"2016-03-17 23:59:59\",\"2016-03-18 23:59:59\",\"2016-03-19 23:59:59\",\"2016-03-20 23:59:59\",\"2016-03-21 23:59:59\",\"2016-03-22 23:59:59\",\"2016-03-23 23:59:59\",\"2016-03-24 23:59:59\",\"2016-03-25 23:59:59\",\"2016-03-26 23:59:59\",\"2016-03-27 23:59:59\",\"2016-03-28 23:59:59\",\"2016-03-29 23:59:59\",\"2016-03-30 23:59:59\",\"2016-03-31 23:59:59\",\"2016-04-01 23:59:59\",\"2016-04-02 23:59:59\",\"2016-04-03 23:59:59\",\"2016-04-04 23:59:59\",\"2016-04-05 23:59:59\",\"2016-04-06 23:59:59\",\"2016-04-07 23:59:59\",\"2016-04-08 23:59:59\",\"2016-04-09 23:59:59\",\"2016-04-10 23:59:59\",\"2016-04-11 23:59:59\",\"2016-04-12 23:59:59\",\"2016-04-13 23:59:59\",\"2016-04-14 23:59:59\",\"2016-04-15 23:59:59\",\"2016-04-16 23:59:59\",\"2016-04-17 23:59:59\",\"2016-04-18 23:59:59\",\"2016-04-19 23:59:59\",\"2016-04-20 23:59:59\",\"2016-04-21 23:59:59\",\"2016-04-22 23:59:59\",\"2016-04-23 23:59:59\",\"2016-04-24 23:59:59\",\"2016-04-25 23:59:59\",\"2016-04-26 23:59:59\",\"2016-04-27 23:59:59\",\"2016-04-28 23:59:59\",\"2016-04-29 23:59:59\",\"2016-04-30 23:59:59\",\"2016-05-01 23:59:59\",\"2016-05-02 23:59:59\",\"2016-05-03 23:59:59\",\"2016-05-04 23:59:59\",\"2016-05-05 23:59:59\",\"2016-05-06 23:59:59\",\"2016-05-07 23:59:59\",\"2016-05-08 23:59:59\",\"2016-05-09 23:59:59\",\"2016-05-10 23:59:59\",\"2016-05-11 23:59:59\",\"2016-05-12 23:59:59\",\"2016-05-13 23:59:59\",\"2016-05-14 23:59:59\",\"2016-05-15 23:59:59\",\"2016-05-16 23:59:59\",\"2016-05-17 23:59:59\",\"2016-05-18 23:59:59\",\"2016-05-19 23:59:59\",\"2016-05-20 23:59:59\",\"2016-05-21 23:59:59\",\"2016-05-22 23:59:59\",\"2016-05-23 23:59:59\",\"2016-05-24 23:59:59\",\"2016-05-25 23:59:59\",\"2016-05-26 23:59:59\",\"2016-05-27 23:59:59\",\"2016-05-28 23:59:59\",\"2016-05-29 23:59:59\",\"2016-05-30 23:59:59\",\"2016-05-31 23:59:59\",\"2016-06-01 23:59:59\",\"2016-06-02 23:59:59\",\"2016-06-03 23:59:59\",\"2016-06-04 23:59:59\",\"2016-06-05 23:59:59\",\"2016-06-06 23:59:59\",\"2016-06-07 23:59:59\",\"2016-06-08 23:59:59\",\"2016-06-09 23:59:59\",\"2016-06-10 23:59:59\",\"2016-06-11 23:59:59\",\"2016-06-12 23:59:59\",\"2016-06-13 23:59:59\",\"2016-06-14 23:59:59\",\"2016-06-15 23:59:59\",\"2016-06-16 23:59:59\",\"2016-06-17 23:59:59\",\"2016-06-18 23:59:59\",\"2016-06-19 23:59:59\",\"2016-06-20 23:59:59\",\"2016-06-21 23:59:59\",\"2016-06-22 23:59:59\",\"2016-06-23 23:59:59\",\"2016-06-24 23:59:59\",\"2016-06-25 23:59:59\",\"2016-06-26 23:59:59\",\"2016-06-27 23:59:59\",\"2016-06-28 23:59:59\",\"2016-06-29 23:59:59\",\"2016-06-30 23:59:59\",\"2016-07-01 23:59:59\",\"2016-07-02 23:59:59\",\"2016-07-03 23:59:59\",\"2016-07-04 23:59:59\",\"2016-07-05 23:59:59\",\"2016-07-06 23:59:59\",\"2016-07-07 23:59:59\",\"2016-07-08 23:59:59\",\"2016-07-09 23:59:59\",\"2016-07-10 23:59:59\",\"2016-07-11 23:59:59\",\"2016-07-12 23:59:59\",\"2016-07-13 23:59:59\",\"2016-07-14 23:59:59\",\"2016-07-15 23:59:59\",\"2016-07-16 23:59:59\",\"2016-07-17 23:59:59\",\"2016-07-18 23:59:59\",\"2016-07-19 23:59:59\",\"2016-07-20 23:59:59\",\"2016-07-21 23:59:59\",\"2016-07-22 23:59:59\",\"2016-07-23 23:59:59\",\"2016-07-24 23:59:59\",\"2016-07-25 23:59:59\",\"2016-07-26 23:59:59\",\"2016-07-27 23:59:59\",\"2016-07-28 23:59:59\",\"2016-07-29 23:59:59\",\"2016-07-30 23:59:59\",\"2016-07-31 23:59:59\",\"2016-08-01 23:59:59\",\"2016-08-02 23:59:59\",\"2016-08-03 23:59:59\",\"2016-08-04 23:59:59\",\"2016-08-05 23:59:59\",\"2016-08-06 23:59:59\",\"2016-08-07 23:59:59\",\"2016-08-08 23:59:59\",\"2016-08-09 23:59:59\",\"2016-08-10 23:59:59\",\"2016-08-11 23:59:59\",\"2016-08-12 23:59:59\",\"2016-08-13 23:59:59\",\"2016-08-14 23:59:59\",\"2016-08-15 23:59:59\",\"2016-08-16 23:59:59\",\"2016-08-17 23:59:59\",\"2016-08-18 23:59:59\",\"2016-08-19 23:59:59\",\"2016-08-20 23:59:59\",\"2016-08-21 23:59:59\",\"2016-08-22 23:59:59\",\"2016-08-23 23:59:59\",\"2016-08-24 23:59:59\",\"2016-08-25 23:59:59\",\"2016-08-26 23:59:59\",\"2016-08-27 23:59:59\",\"2016-08-28 23:59:59\",\"2016-08-29 23:59:59\",\"2016-08-30 23:59:59\",\"2016-08-31 23:59:59\",\"2016-09-01 23:59:59\",\"2016-09-02 23:59:59\",\"2016-09-03 23:59:59\",\"2016-09-04 23:59:59\",\"2016-09-05 23:59:59\",\"2016-09-06 23:59:59\",\"2016-09-07 23:59:59\",\"2016-09-08 23:59:59\",\"2016-09-09 23:59:59\",\"2016-09-10 23:59:59\",\"2016-09-11 23:59:59\",\"2016-09-12 23:59:59\",\"2016-09-13 23:59:59\",\"2016-09-14 23:59:59\",\"2016-09-15 23:59:59\",\"2016-09-16 23:59:59\",\"2016-09-17 23:59:59\",\"2016-09-18 23:59:59\",\"2016-09-19 23:59:59\",\"2016-09-20 23:59:59\",\"2016-09-21 23:59:59\",\"2016-09-22 23:59:59\",\"2016-09-23 23:59:59\",\"2016-09-24 23:59:59\",\"2016-09-25 23:59:59\",\"2016-09-26 23:59:59\",\"2016-09-27 23:59:59\",\"2016-09-28 23:59:59\",\"2016-09-29 23:59:59\",\"2016-09-30 23:59:59\",\"2016-10-01 23:59:59\",\"2016-10-02 23:59:59\",\"2016-10-03 23:59:59\",\"2016-10-04 23:59:59\",\"2016-10-05 23:59:59\",\"2016-10-06 23:59:59\",\"2016-10-07 23:59:59\",\"2016-10-08 23:59:59\",\"2016-10-09 23:59:59\",\"2016-10-10 23:59:59\",\"2016-10-11 23:59:59\",\"2016-10-12 23:59:59\",\"2016-10-13 23:59:59\",\"2016-10-14 23:59:59\",\"2016-10-15 23:59:59\",\"2016-10-16 23:59:59\",\"2016-10-17 23:59:59\",\"2016-10-18 23:59:59\",\"2016-10-19 23:59:59\",\"2016-10-20 23:59:59\",\"2016-10-21 23:59:59\",\"2016-10-22 23:59:59\",\"2016-10-23 23:59:59\",\"2016-10-24 23:59:59\",\"2016-10-25 23:59:59\",\"2016-10-26 23:59:59\",\"2016-10-27 23:59:59\",\"2016-10-28 23:59:59\",\"2016-10-29 23:59:59\",\"2016-10-30 23:59:59\",\"2016-10-31 23:59:59\",\"2016-11-01 23:59:59\",\"2016-11-02 23:59:59\",\"2016-11-03 23:59:59\",\"2016-11-04 23:59:59\",\"2016-11-05 23:59:59\",\"2016-11-06 23:59:59\",\"2016-11-07 23:59:59\",\"2016-11-08 23:59:59\",\"2016-11-09 23:59:59\",\"2016-11-10 23:59:59\",\"2016-11-11 23:59:59\",\"2016-11-12 23:59:59\",\"2016-11-13 23:59:59\",\"2016-11-14 23:59:59\",\"2016-11-15 23:59:59\",\"2016-11-16 23:59:59\",\"2016-11-17 23:59:59\",\"2016-11-18 23:59:59\",\"2016-11-19 23:59:59\",\"2016-11-20 23:59:59\",\"2016-11-21 23:59:59\",\"2016-11-22 23:59:59\",\"2016-11-23 23:59:59\",\"2016-11-24 23:59:59\",\"2016-11-25 23:59:59\",\"2016-11-26 23:59:59\",\"2016-11-27 23:59:59\",\"2016-11-28 23:59:59\",\"2016-11-29 23:59:59\",\"2016-11-30 23:59:59\",\"2016-12-01 23:59:59\",\"2016-12-02 23:59:59\",\"2016-12-03 23:59:59\",\"2016-12-04 23:59:59\",\"2016-12-05 23:59:59\",\"2016-12-06 23:59:59\",\"2016-12-07 23:59:59\",\"2016-12-08 23:59:59\",\"2016-12-09 23:59:59\",\"2016-12-10 23:59:59\",\"2016-12-11 23:59:59\",\"2016-12-12 23:59:59\",\"2016-12-13 23:59:59\",\"2016-12-14 23:59:59\",\"2016-12-15 23:59:59\",\"2016-12-16 23:59:59\",\"2016-12-17 23:59:59\",\"2016-12-18 23:59:59\",\"2016-12-19 23:59:59\",\"2016-12-20 23:59:59\",\"2016-12-21 23:59:59\",\"2016-12-22 23:59:59\",\"2016-12-23 23:59:59\",\"2016-12-24 23:59:59\",\"2016-12-25 23:59:59\",\"2016-12-26 23:59:59\",\"2016-12-27 23:59:59\",\"2016-12-28 23:59:59\",\"2016-12-29 23:59:59\",\"2016-12-30 23:59:59\",\"2016-12-31 23:59:59\",\"2017-01-01 23:59:59\",\"2017-01-02 23:59:59\",\"2017-01-03 23:59:59\",\"2017-01-04 23:59:59\",\"2017-01-05 23:59:59\",\"2017-01-06 23:59:59\",\"2017-01-07 23:59:59\",\"2017-01-08 23:59:59\",\"2017-01-09 23:59:59\",\"2017-01-10 23:59:59\",\"2017-01-11 23:59:59\",\"2017-01-12 23:59:59\",\"2017-01-13 23:59:59\",\"2017-01-14 23:59:59\",\"2017-01-15 23:59:59\",\"2017-01-16 23:59:59\",\"2017-01-17 23:59:59\",\"2017-01-18 23:59:59\",\"2017-01-19 23:59:59\",\"2017-01-20 23:59:59\",\"2017-01-21 23:59:59\",\"2017-01-22 23:59:59\",\"2017-01-23 23:59:59\",\"2017-01-24 23:59:59\",\"2017-01-25 23:59:59\",\"2017-01-26 23:59:59\",\"2017-01-27 23:59:59\",\"2017-01-28 23:59:59\",\"2017-01-29 23:59:59\",\"2017-01-30 23:59:59\",\"2017-01-31 23:59:59\",\"2017-02-01 23:59:59\",\"2017-02-02 23:59:59\",\"2017-02-03 23:59:59\",\"2017-02-04 23:59:59\",\"2017-02-05 23:59:59\",\"2017-02-06 23:59:59\",\"2017-02-07 23:59:59\",\"2017-02-08 23:59:59\",\"2017-02-09 23:59:59\",\"2017-02-10 23:59:59\",\"2017-02-11 23:59:59\",\"2017-02-12 23:59:59\",\"2017-02-13 23:59:59\",\"2017-02-14 23:59:59\",\"2017-02-15 23:59:59\",\"2017-02-16 23:59:59\",\"2017-02-17 23:59:59\",\"2017-02-18 23:59:59\",\"2017-02-19 23:59:59\",\"2017-02-20 23:59:59\",\"2017-02-21 23:59:59\",\"2017-02-22 23:59:59\",\"2017-02-23 23:59:59\",\"2017-02-24 23:59:59\",\"2017-02-25 23:59:59\",\"2017-02-26 23:59:59\",\"2017-02-27 23:59:59\",\"2017-02-28 23:59:59\",\"2017-03-01 23:59:59\",\"2017-03-02 23:59:59\",\"2017-03-03 23:59:59\",\"2017-03-04 23:59:59\",\"2017-03-05 23:59:59\",\"2017-03-06 23:59:59\",\"2017-03-07 23:59:59\",\"2017-03-08 23:59:59\",\"2017-03-09 23:59:59\",\"2017-03-10 23:59:59\",\"2017-03-11 23:59:59\",\"2017-03-12 23:59:59\",\"2017-03-13 23:59:59\",\"2017-03-14 23:59:59\",\"2017-03-15 23:59:59\",\"2017-03-16 23:59:59\",\"2017-03-17 23:59:59\",\"2017-03-18 23:59:59\",\"2017-03-19 23:59:59\",\"2017-03-20 23:59:59\",\"2017-03-21 23:59:59\",\"2017-03-22 23:59:59\",\"2017-03-23 23:59:59\",\"2017-03-24 23:59:59\",\"2017-03-25 23:59:59\",\"2017-03-26 23:59:59\",\"2017-03-27 23:59:59\",\"2017-03-28 23:59:59\",\"2017-03-29 23:59:59\",\"2017-03-30 23:59:59\",\"2017-03-31 23:59:59\",\"2017-04-01 23:59:59\",\"2017-04-02 23:59:59\",\"2017-04-03 23:59:59\",\"2017-04-04 23:59:59\",\"2017-04-05 23:59:59\",\"2017-04-06 23:59:59\",\"2017-04-07 23:59:59\",\"2017-04-08 23:59:59\",\"2017-04-09 23:59:59\",\"2017-04-10 23:59:59\",\"2017-04-11 23:59:59\",\"2017-04-12 23:59:59\",\"2017-04-13 23:59:59\",\"2017-04-14 23:59:59\",\"2017-04-15 23:59:59\",\"2017-04-16 23:59:59\",\"2017-04-17 23:59:59\",\"2017-04-18 23:59:59\",\"2017-04-19 23:59:59\",\"2017-04-20 23:59:59\",\"2017-04-21 23:59:59\",\"2017-04-22 23:59:59\",\"2017-04-23 23:59:59\",\"2017-04-24 23:59:59\",\"2017-04-25 23:59:59\",\"2017-04-26 23:59:59\",\"2017-04-27 23:59:59\",\"2017-04-28 23:59:59\",\"2017-04-29 23:59:59\",\"2017-04-30 23:59:59\",\"2017-05-01 23:59:59\",\"2017-05-02 23:59:59\",\"2017-05-03 23:59:59\",\"2017-05-04 23:59:59\",\"2017-05-05 23:59:59\",\"2017-05-06 23:59:59\",\"2017-05-07 23:59:59\",\"2017-05-08 23:59:59\",\"2017-05-09 23:59:59\",\"2017-05-10 23:59:59\",\"2017-05-11 23:59:59\",\"2017-05-12 23:59:59\",\"2017-05-13 23:59:59\",\"2017-05-14 23:59:59\",\"2017-05-15 23:59:59\",\"2017-05-16 23:59:59\",\"2017-05-17 23:59:59\",\"2017-05-18 23:59:59\",\"2017-05-19 23:59:59\",\"2017-05-20 23:59:59\",\"2017-05-21 23:59:59\",\"2017-05-22 23:59:59\",\"2017-05-23 23:59:59\",\"2017-05-24 23:59:59\",\"2017-05-25 23:59:59\",\"2017-05-26 23:59:59\",\"2017-05-27 23:59:59\",\"2017-05-28 23:59:59\",\"2017-05-29 23:59:59\",\"2017-05-30 23:59:59\",\"2017-05-31 23:59:59\",\"2017-06-01 23:59:59\",\"2017-06-02 23:59:59\",\"2017-06-03 23:59:59\",\"2017-06-04 23:59:59\",\"2017-06-05 23:59:59\",\"2017-06-06 23:59:59\",\"2017-06-07 23:59:59\",\"2017-06-08 23:59:59\",\"2017-06-09 23:59:59\",\"2017-06-10 23:59:59\",\"2017-06-11 23:59:59\",\"2017-06-12 23:59:59\",\"2017-06-13 23:59:59\",\"2017-06-14 23:59:59\",\"2017-06-15 23:59:59\",\"2017-06-16 23:59:59\",\"2017-06-17 23:59:59\",\"2017-06-18 23:59:59\",\"2017-06-19 23:59:59\",\"2017-06-20 23:59:59\",\"2017-06-21 23:59:59\",\"2017-06-22 23:59:59\",\"2017-06-23 23:59:59\",\"2017-06-24 23:59:59\",\"2017-06-25 23:59:59\",\"2017-06-26 23:59:59\",\"2017-06-27 23:59:59\",\"2017-06-28 23:59:59\",\"2017-06-29 23:59:59\",\"2017-06-30 23:59:59\",\"2017-07-01 23:59:59\",\"2017-07-02 23:59:59\",\"2017-07-03 23:59:59\",\"2017-07-04 23:59:59\",\"2017-07-05 23:59:59\",\"2017-07-06 23:59:59\",\"2017-07-07 23:59:59\",\"2017-07-08 23:59:59\",\"2017-07-09 23:59:59\",\"2017-07-10 23:59:59\",\"2017-07-11 23:59:59\",\"2017-07-12 23:59:59\",\"2017-07-13 23:59:59\",\"2017-07-14 23:59:59\",\"2017-07-15 23:59:59\",\"2017-07-16 23:59:59\",\"2017-07-17 23:59:59\",\"2017-07-18 23:59:59\",\"2017-07-19 23:59:59\",\"2017-07-20 23:59:59\",\"2017-07-21 23:59:59\",\"2017-07-22 23:59:59\",\"2017-07-23 23:59:59\",\"2017-07-24 23:59:59\",\"2017-07-25 23:59:59\",\"2017-07-26 23:59:59\",\"2017-07-27 23:59:59\",\"2017-07-28 23:59:59\",\"2017-07-29 23:59:59\",\"2017-07-30 23:59:59\",\"2017-07-31 23:59:59\",\"2017-08-01 23:59:59\",\"2017-08-02 23:59:59\",\"2017-08-03 23:59:59\",\"2017-08-04 23:59:59\",\"2017-08-05 23:59:59\",\"2017-08-06 23:59:59\",\"2017-08-07 23:59:59\",\"2017-08-08 23:59:59\",\"2017-08-09 23:59:59\",\"2017-08-10 23:59:59\",\"2017-08-11 23:59:59\",\"2017-08-12 23:59:59\",\"2017-08-13 23:59:59\",\"2017-08-14 23:59:59\",\"2017-08-15 23:59:59\",\"2017-08-16 23:59:59\",\"2017-08-17 23:59:59\",\"2017-08-18 23:59:59\",\"2017-08-19 23:59:59\",\"2017-08-20 23:59:59\",\"2017-08-21 23:59:59\",\"2017-08-22 23:59:59\",\"2017-08-23 23:59:59\",\"2017-08-24 23:59:59\",\"2017-08-25 23:59:59\",\"2017-08-26 23:59:59\",\"2017-08-27 23:59:59\",\"2017-08-28 23:59:59\",\"2017-08-29 23:59:59\",\"2017-08-30 23:59:59\",\"2017-08-31 23:59:59\",\"2017-09-01 23:59:59\",\"2017-09-02 23:59:59\",\"2017-09-03 23:59:59\",\"2017-09-04 23:59:59\",\"2017-09-05 23:59:59\",\"2017-09-06 23:59:59\",\"2017-09-07 23:59:59\",\"2017-09-08 23:59:59\",\"2017-09-09 23:59:59\",\"2017-09-10 23:59:59\",\"2017-09-11 23:59:59\",\"2017-09-12 23:59:59\",\"2017-09-13 23:59:59\",\"2017-09-14 23:59:59\",\"2017-09-15 23:59:59\",\"2017-09-16 23:59:59\",\"2017-09-17 23:59:59\",\"2017-09-18 23:59:59\",\"2017-09-19 23:59:59\",\"2017-09-20 23:59:59\",\"2017-09-21 23:59:59\",\"2017-09-22 23:59:59\",\"2017-09-23 23:59:59\",\"2017-09-24 23:59:59\",\"2017-09-25 23:59:59\",\"2017-09-26 23:59:59\",\"2017-09-27 23:59:59\",\"2017-09-28 23:59:59\",\"2017-09-29 23:59:59\",\"2017-09-30 23:59:59\",\"2017-10-01 23:59:59\",\"2017-10-02 23:59:59\",\"2017-10-03 23:59:59\",\"2017-10-04 23:59:59\",\"2017-10-05 23:59:59\",\"2017-10-06 23:59:59\",\"2017-10-07 23:59:59\",\"2017-10-08 23:59:59\",\"2017-10-09 23:59:59\",\"2017-10-10 23:59:59\",\"2017-10-11 23:59:59\",\"2017-10-12 23:59:59\",\"2017-10-13 23:59:59\",\"2017-10-14 23:59:59\",\"2017-10-15 23:59:59\",\"2017-10-16 23:59:59\",\"2017-10-17 23:59:59\",\"2017-10-18 23:59:59\",\"2017-10-19 23:59:59\",\"2017-10-20 23:59:59\",\"2017-10-21 23:59:59\",\"2017-10-22 23:59:59\",\"2017-10-23 23:59:59\",\"2017-10-24 23:59:59\",\"2017-10-25 23:59:59\",\"2017-10-26 23:59:59\",\"2017-10-27 23:59:59\",\"2017-10-28 23:59:59\",\"2017-10-29 23:59:59\",\"2017-10-30 23:59:59\",\"2017-10-31 23:59:59\",\"2017-11-01 23:59:59\",\"2017-11-02 23:59:59\",\"2017-11-03 23:59:59\",\"2017-11-04 23:59:59\",\"2017-11-05 23:59:59\",\"2017-11-06 23:59:59\",\"2017-11-07 23:59:59\",\"2017-11-08 23:59:59\",\"2017-11-09 23:59:59\",\"2017-11-10 23:59:59\",\"2017-11-11 23:59:59\",\"2017-11-12 23:59:59\",\"2017-11-13 23:59:59\",\"2017-11-14 23:59:59\",\"2017-11-15 23:59:59\",\"2017-11-16 23:59:59\",\"2017-11-17 23:59:59\",\"2017-11-18 23:59:59\",\"2017-11-19 23:59:59\",\"2017-11-20 23:59:59\",\"2017-11-21 23:59:59\",\"2017-11-22 23:59:59\",\"2017-11-23 23:59:59\",\"2017-11-24 23:59:59\",\"2017-11-25 23:59:59\",\"2017-11-26 23:59:59\",\"2017-11-27 23:59:59\",\"2017-11-28 23:59:59\",\"2017-11-29 23:59:59\",\"2017-11-30 23:59:59\",\"2017-12-01 23:59:59\",\"2017-12-02 23:59:59\",\"2017-12-03 23:59:59\",\"2017-12-04 23:59:59\",\"2017-12-05 23:59:59\",\"2017-12-06 23:59:59\",\"2017-12-07 23:59:59\",\"2017-12-08 23:59:59\",\"2017-12-09 23:59:59\",\"2017-12-10 23:59:59\",\"2017-12-11 23:59:59\",\"2017-12-12 23:59:59\",\"2017-12-13 23:59:59\",\"2017-12-14 23:59:59\",\"2017-12-15 23:59:59\",\"2017-12-16 23:59:59\",\"2017-12-17 23:59:59\",\"2017-12-18 23:59:59\",\"2017-12-19 23:59:59\",\"2017-12-20 23:59:59\",\"2017-12-21 23:59:59\",\"2017-12-22 23:59:59\",\"2017-12-23 23:59:59\",\"2017-12-24 23:59:59\",\"2017-12-25 23:59:59\",\"2017-12-26 23:59:59\",\"2017-12-27 23:59:59\",\"2017-12-28 23:59:59\",\"2017-12-29 23:59:59\",\"2017-12-30 23:59:59\",\"2017-12-31 23:59:59\",\"2018-01-01 23:59:59\",\"2018-01-02 23:59:59\",\"2018-01-03 23:59:59\",\"2018-01-04 23:59:59\",\"2018-01-05 23:59:59\",\"2018-01-06 23:59:59\",\"2018-01-07 23:59:59\",\"2018-01-08 23:59:59\",\"2018-01-09 23:59:59\",\"2018-01-10 23:59:59\",\"2018-01-11 23:59:59\",\"2018-01-12 23:59:59\",\"2018-01-13 23:59:59\",\"2018-01-14 23:59:59\",\"2018-01-15 23:59:59\",\"2018-01-16 23:59:59\",\"2018-01-17 23:59:59\",\"2018-01-18 23:59:59\",\"2018-01-19 23:59:59\",\"2018-01-20 23:59:59\",\"2018-01-21 23:59:59\",\"2018-01-22 23:59:59\",\"2018-01-23 23:59:59\",\"2018-01-24 23:59:59\",\"2018-01-25 23:59:59\",\"2018-01-26 23:59:59\",\"2018-01-27 23:59:59\",\"2018-01-28 23:59:59\",\"2018-01-29 23:59:59\",\"2018-01-30 23:59:59\",\"2018-01-31 23:59:59\",\"2018-02-01 23:59:59\",\"2018-02-02 23:59:59\",\"2018-02-03 23:59:59\",\"2018-02-04 23:59:59\",\"2018-02-05 23:59:59\",\"2018-02-06 23:59:59\",\"2018-02-07 23:59:59\",\"2018-02-08 23:59:59\",\"2018-02-09 23:59:59\",\"2018-02-10 23:59:59\",\"2018-02-11 23:59:59\",\"2018-02-12 23:59:59\",\"2018-02-13 23:59:59\",\"2018-02-14 23:59:59\",\"2018-02-15 23:59:59\",\"2018-02-16 23:59:59\",\"2018-02-17 23:59:59\",\"2018-02-18 23:59:59\",\"2018-02-19 23:59:59\",\"2018-02-20 23:59:59\",\"2018-02-21 23:59:59\",\"2018-02-22 23:59:59\",\"2018-02-23 23:59:59\",\"2018-02-24 23:59:59\",\"2018-02-25 23:59:59\",\"2018-02-26 23:59:59\",\"2018-02-27 23:59:59\",\"2018-02-28 23:59:59\",\"2018-03-01 23:59:59\",\"2018-03-02 23:59:59\",\"2018-03-03 23:59:59\",\"2018-03-04 23:59:59\",\"2018-03-05 23:59:59\",\"2018-03-06 23:59:59\",\"2018-03-07 23:59:59\",\"2018-03-08 23:59:59\",\"2018-03-09 23:59:59\",\"2018-03-10 23:59:59\",\"2018-03-11 23:59:59\",\"2018-03-12 23:59:59\",\"2018-03-13 23:59:59\",\"2018-03-14 23:59:59\",\"2018-03-15 23:59:59\",\"2018-03-16 23:59:59\",\"2018-03-17 23:59:59\",\"2018-03-18 23:59:59\",\"2018-03-19 23:59:59\",\"2018-03-20 23:59:59\",\"2018-03-21 23:59:59\",\"2018-03-22 23:59:59\",\"2018-03-23 23:59:59\",\"2018-03-24 23:59:59\",\"2018-03-25 23:59:59\",\"2018-03-26 23:59:59\",\"2018-03-27 23:59:59\",\"2018-03-28 23:59:59\",\"2018-03-29 23:59:59\",\"2018-03-30 23:59:59\",\"2018-03-31 23:59:59\",\"2018-04-01 23:59:59\",\"2018-04-02 23:59:59\",\"2018-04-03 23:59:59\",\"2018-04-04 23:59:59\",\"2018-04-05 23:59:59\",\"2018-04-06 23:59:59\",\"2018-04-07 23:59:59\",\"2018-04-08 23:59:59\",\"2018-04-09 23:59:59\",\"2018-04-10 23:59:59\",\"2018-04-11 23:59:59\",\"2018-04-12 23:59:59\",\"2018-04-13 23:59:59\",\"2018-04-14 23:59:59\",\"2018-04-15 23:59:59\",\"2018-04-16 23:59:59\",\"2018-04-17 23:59:59\",\"2018-04-18 23:59:59\",\"2018-04-19 23:59:59\",\"2018-04-20 23:59:59\",\"2018-04-21 23:59:59\",\"2018-04-22 23:59:59\",\"2018-04-23 23:59:59\",\"2018-04-24 23:59:59\",\"2018-04-25 23:59:59\",\"2018-04-26 23:59:59\",\"2018-04-27 23:59:59\",\"2018-04-28 23:59:59\",\"2018-04-29 23:59:59\",\"2018-04-30 23:59:59\",\"2018-05-01 23:59:59\",\"2018-05-02 23:59:59\",\"2018-05-03 23:59:59\",\"2018-05-04 23:59:59\",\"2018-05-05 23:59:59\",\"2018-05-06 23:59:59\",\"2018-05-07 23:59:59\",\"2018-05-08 23:59:59\",\"2018-05-09 23:59:59\",\"2018-05-10 23:59:59\",\"2018-05-11 23:59:59\",\"2018-05-12 23:59:59\",\"2018-05-13 23:59:59\",\"2018-05-14 23:59:59\",\"2018-05-15 23:59:59\",\"2018-05-16 23:59:59\",\"2018-05-17 23:59:59\",\"2018-05-18 23:59:59\",\"2018-05-19 23:59:59\",\"2018-05-20 23:59:59\",\"2018-05-21 23:59:59\",\"2018-05-22 23:59:59\",\"2018-05-23 23:59:59\",\"2018-05-24 23:59:59\",\"2018-05-25 23:59:59\",\"2018-05-26 23:59:59\",\"2018-05-27 23:59:59\",\"2018-05-28 23:59:59\",\"2018-05-29 23:59:59\",\"2018-05-30 23:59:59\",\"2018-05-31 23:59:59\",\"2018-06-01 23:59:59\",\"2018-06-02 23:59:59\",\"2018-06-03 23:59:59\",\"2018-06-04 23:59:59\",\"2018-06-05 23:59:59\",\"2018-06-06 23:59:59\",\"2018-06-07 23:59:59\",\"2018-06-08 23:59:59\",\"2018-06-09 23:59:59\",\"2018-06-10 23:59:59\",\"2018-06-11 23:59:59\",\"2018-06-12 23:59:59\",\"2018-06-13 23:59:59\",\"2018-06-14 23:59:59\",\"2018-06-15 23:59:59\",\"2018-06-16 23:59:59\",\"2018-06-17 23:59:59\",\"2018-06-18 23:59:59\",\"2018-06-19 23:59:59\",\"2018-06-20 23:59:59\",\"2018-06-21 23:59:59\",\"2018-06-22 23:59:59\",\"2018-06-23 23:59:59\",\"2018-06-24 23:59:59\",\"2018-06-25 23:59:59\",\"2018-06-26 23:59:59\",\"2018-06-27 23:59:59\",\"2018-06-28 23:59:59\",\"2018-06-29 23:59:59\",\"2018-06-30 23:59:59\",\"2018-07-01 23:59:59\",\"2018-07-02 23:59:59\",\"2018-07-03 23:59:59\",\"2018-07-04 23:59:59\",\"2018-07-05 23:59:59\",\"2018-07-06 23:59:59\",\"2018-07-07 23:59:59\",\"2018-07-08 23:59:59\",\"2018-07-09 23:59:59\",\"2018-07-10 23:59:59\",\"2018-07-11 23:59:59\",\"2018-07-12 23:59:59\",\"2018-07-13 23:59:59\",\"2018-07-14 23:59:59\",\"2018-07-15 23:59:59\",\"2018-07-16 23:59:59\",\"2018-07-17 23:59:59\",\"2018-07-18 23:59:59\",\"2018-07-19 23:59:59\",\"2018-07-20 23:59:59\",\"2018-07-21 23:59:59\",\"2018-07-22 23:59:59\",\"2018-07-23 23:59:59\",\"2018-07-24 23:59:59\",\"2018-07-25 23:59:59\",\"2018-07-26 23:59:59\",\"2018-07-27 23:59:59\",\"2018-07-28 23:59:59\",\"2018-07-29 23:59:59\",\"2018-07-30 23:59:59\",\"2018-07-31 23:59:59\",\"2018-08-01 23:59:59\",\"2018-08-02 23:59:59\",\"2018-08-03 23:59:59\",\"2018-08-04 23:59:59\",\"2018-08-05 23:59:59\",\"2018-08-06 23:59:59\",\"2018-08-07 23:59:59\",\"2018-08-08 23:59:59\",\"2018-08-09 23:59:59\",\"2018-08-10 23:59:59\",\"2018-08-11 23:59:59\",\"2018-08-12 23:59:59\",\"2018-08-13 23:59:59\",\"2018-08-14 23:59:59\",\"2018-08-15 23:59:59\",\"2018-08-16 23:59:59\",\"2018-08-17 23:59:59\",\"2018-08-18 23:59:59\",\"2018-08-19 23:59:59\",\"2018-08-20 23:59:59\",\"2018-08-21 23:59:59\",\"2018-08-22 23:59:59\",\"2018-08-23 23:59:59\",\"2018-08-24 23:59:59\",\"2018-08-25 23:59:59\",\"2018-08-26 23:59:59\",\"2018-08-27 23:59:59\",\"2018-08-28 23:59:59\",\"2018-08-29 23:59:59\",\"2018-08-30 23:59:59\",\"2018-08-31 23:59:59\",\"2018-09-01 23:59:59\",\"2018-09-02 23:59:59\",\"2018-09-03 23:59:59\",\"2018-09-04 23:59:59\",\"2018-09-05 23:59:59\",\"2018-09-06 23:59:59\",\"2018-09-07 23:59:59\",\"2018-09-08 23:59:59\",\"2018-09-09 23:59:59\",\"2018-09-10 23:59:59\",\"2018-09-11 23:59:59\",\"2018-09-12 23:59:59\",\"2018-09-13 23:59:59\",\"2018-09-14 23:59:59\",\"2018-09-15 23:59:59\",\"2018-09-16 23:59:59\",\"2018-09-17 23:59:59\",\"2018-09-18 23:59:59\",\"2018-09-19 23:59:59\",\"2018-09-20 23:59:59\",\"2018-09-21 23:59:59\",\"2018-09-22 23:59:59\",\"2018-09-23 23:59:59\",\"2018-09-24 23:59:59\",\"2018-09-25 23:59:59\",\"2018-09-26 23:59:59\",\"2018-09-27 23:59:59\",\"2018-09-28 23:59:59\",\"2018-09-29 23:59:59\",\"2018-09-30 23:59:59\",\"2018-10-01 23:59:59\",\"2018-10-02 23:59:59\",\"2018-10-03 23:59:59\",\"2018-10-04 23:59:59\",\"2018-10-05 23:59:59\",\"2018-10-06 23:59:59\",\"2018-10-07 23:59:59\",\"2018-10-08 23:59:59\",\"2018-10-09 23:59:59\",\"2018-10-10 23:59:59\",\"2018-10-11 23:59:59\",\"2018-10-12 23:59:59\",\"2018-10-13 23:59:59\",\"2018-10-14 23:59:59\",\"2018-10-15 23:59:59\",\"2018-10-16 23:59:59\",\"2018-10-17 23:59:59\",\"2018-10-18 23:59:59\",\"2018-10-19 23:59:59\",\"2018-10-20 23:59:59\",\"2018-10-21 23:59:59\",\"2018-10-22 23:59:59\",\"2018-10-23 23:59:59\",\"2018-10-24 23:59:59\",\"2018-10-25 23:59:59\",\"2018-10-26 23:59:59\",\"2018-10-27 23:59:59\",\"2018-10-28 23:59:59\",\"2018-10-29 23:59:59\",\"2018-10-30 23:59:59\",\"2018-10-31 23:59:59\",\"2018-11-01 23:59:59\",\"2018-11-02 23:59:59\",\"2018-11-03 23:59:59\",\"2018-11-04 23:59:59\",\"2018-11-05 23:59:59\",\"2018-11-06 23:59:59\",\"2018-11-07 23:59:59\",\"2018-11-08 23:59:59\",\"2018-11-09 23:59:59\",\"2018-11-10 23:59:59\",\"2018-11-11 23:59:59\",\"2018-11-12 23:59:59\",\"2018-11-13 23:59:59\",\"2018-11-14 23:59:59\",\"2018-11-15 23:59:59\",\"2018-11-16 23:59:59\",\"2018-11-17 23:59:59\",\"2018-11-18 23:59:59\",\"2018-11-19 23:59:59\",\"2018-11-20 23:59:59\",\"2018-11-21 23:59:59\",\"2018-11-22 23:59:59\",\"2018-11-23 23:59:59\",\"2018-11-24 23:59:59\",\"2018-11-25 23:59:59\",\"2018-11-26 23:59:59\",\"2018-11-27 23:59:59\",\"2018-11-28 23:59:59\",\"2018-11-29 23:59:59\",\"2018-11-30 23:59:59\",\"2018-12-01 23:59:59\",\"2018-12-02 23:59:59\",\"2018-12-03 23:59:59\",\"2018-12-04 23:59:59\",\"2018-12-05 23:59:59\",\"2018-12-06 23:59:59\",\"2018-12-07 23:59:59\",\"2018-12-08 23:59:59\",\"2018-12-09 23:59:59\",\"2018-12-10 23:59:59\",\"2018-12-11 23:59:59\",\"2018-12-12 23:59:59\",\"2018-12-13 23:59:59\",\"2018-12-14 23:59:59\",\"2018-12-15 23:59:59\",\"2018-12-16 23:59:59\",\"2018-12-17 23:59:59\",\"2018-12-18 23:59:59\",\"2018-12-19 23:59:59\",\"2018-12-20 23:59:59\",\"2018-12-21 23:59:59\",\"2018-12-22 23:59:59\",\"2018-12-23 23:59:59\",\"2018-12-24 23:59:59\",\"2018-12-25 23:59:59\",\"2018-12-26 23:59:59\",\"2018-12-27 23:59:59\",\"2018-12-28 23:59:59\",\"2018-12-29 23:59:59\",\"2018-12-30 23:59:59\",\"2018-12-31 23:59:59\",\"2019-01-01 23:59:59\",\"2019-01-02 23:59:59\",\"2019-01-03 23:59:59\",\"2019-01-04 23:59:59\",\"2019-01-05 23:59:59\",\"2019-01-06 23:59:59\",\"2019-01-07 23:59:59\",\"2019-01-08 23:59:59\",\"2019-01-09 23:59:59\",\"2019-01-10 23:59:59\",\"2019-01-11 23:59:59\",\"2019-01-12 23:59:59\",\"2019-01-13 23:59:59\",\"2019-01-14 23:59:59\",\"2019-01-15 23:59:59\",\"2019-01-16 23:59:59\",\"2019-01-17 23:59:59\",\"2019-01-18 23:59:59\",\"2019-01-19 23:59:59\",\"2019-01-20 23:59:59\",\"2019-01-21 23:59:59\",\"2019-01-22 23:59:59\",\"2019-01-23 23:59:59\",\"2019-01-24 23:59:59\",\"2019-01-25 23:59:59\",\"2019-01-26 23:59:59\",\"2019-01-27 23:59:59\",\"2019-01-28 23:59:59\",\"2019-01-29 23:59:59\",\"2019-01-30 23:59:59\",\"2019-01-31 23:59:59\",\"2019-02-01 23:59:59\",\"2019-02-02 23:59:59\",\"2019-02-03 23:59:59\",\"2019-02-04 23:59:59\",\"2019-02-05 23:59:59\",\"2019-02-06 23:59:59\",\"2019-02-07 23:59:59\",\"2019-02-08 23:59:59\",\"2019-02-09 23:59:59\",\"2019-02-10 23:59:59\",\"2019-02-11 23:59:59\",\"2019-02-12 23:59:59\",\"2019-02-13 23:59:59\",\"2019-02-14 23:59:59\",\"2019-02-15 23:59:59\",\"2019-02-16 23:59:59\",\"2019-02-17 23:59:59\",\"2019-02-18 23:59:59\",\"2019-02-19 23:59:59\",\"2019-02-20 23:59:59\",\"2019-02-21 23:59:59\",\"2019-02-22 23:59:59\",\"2019-02-23 23:59:59\",\"2019-02-24 23:59:59\",\"2019-02-25 23:59:59\",\"2019-02-26 23:59:59\",\"2019-02-27 23:59:59\",\"2019-02-28 23:59:59\",\"2019-03-01 23:59:59\",\"2019-03-02 23:59:59\",\"2019-03-03 23:59:59\",\"2019-03-04 23:59:59\",\"2019-03-05 23:59:59\",\"2019-03-06 23:59:59\",\"2019-03-07 23:59:59\",\"2019-03-08 23:59:59\",\"2019-03-09 23:59:59\",\"2019-03-10 23:59:59\",\"2019-03-11 23:59:59\",\"2019-03-12 23:59:59\",\"2019-03-13 23:59:59\",\"2019-03-14 23:59:59\",\"2019-03-15 23:59:59\",\"2019-03-16 23:59:59\",\"2019-03-17 23:59:59\",\"2019-03-18 23:59:59\",\"2019-03-19 23:59:59\",\"2019-03-20 23:59:59\",\"2019-03-21 23:59:59\",\"2019-03-22 23:59:59\",\"2019-03-23 23:59:59\",\"2019-03-24 23:59:59\",\"2019-03-25 23:59:59\",\"2019-03-26 23:59:59\",\"2019-03-27 23:59:59\",\"2019-03-28 23:59:59\",\"2019-03-29 23:59:59\",\"2019-03-30 23:59:59\",\"2019-03-31 23:59:59\",\"2019-04-01 23:59:59\",\"2019-04-02 23:59:59\",\"2019-04-03 23:59:59\",\"2019-04-04 23:59:59\",\"2019-04-05 23:59:59\",\"2019-04-06 23:59:59\",\"2019-04-07 23:59:59\",\"2019-04-08 23:59:59\",\"2019-04-09 23:59:59\",\"2019-04-10 23:59:59\",\"2019-04-11 23:59:59\",\"2019-04-12 23:59:59\",\"2019-04-13 23:59:59\",\"2019-04-14 23:59:59\",\"2019-04-15 23:59:59\",\"2019-04-16 23:59:59\",\"2019-04-17 23:59:59\",\"2019-04-18 23:59:59\",\"2019-04-19 23:59:59\",\"2019-04-20 23:59:59\",\"2019-04-21 23:59:59\",\"2019-04-22 23:59:59\",\"2019-04-23 23:59:59\",\"2019-04-24 23:59:59\",\"2019-04-25 23:59:59\",\"2019-04-26 23:59:59\",\"2019-04-27 23:59:59\",\"2019-04-28 23:59:59\",\"2019-04-29 23:59:59\",\"2019-04-30 23:59:59\",\"2019-05-01 23:59:59\",\"2019-05-02 23:59:59\",\"2019-05-03 23:59:59\",\"2019-05-04 23:59:59\",\"2019-05-05 23:59:59\",\"2019-05-06 23:59:59\",\"2019-05-07 23:59:59\",\"2019-05-08 23:59:59\",\"2019-05-09 23:59:59\",\"2019-05-10 23:59:59\",\"2019-05-11 23:59:59\",\"2019-05-12 23:59:59\",\"2019-05-13 23:59:59\",\"2019-05-14 23:59:59\",\"2019-05-15 23:59:59\",\"2019-05-16 23:59:59\",\"2019-05-17 23:59:59\",\"2019-05-18 23:59:59\",\"2019-05-19 23:59:59\",\"2019-05-20 23:59:59\",\"2019-05-21 23:59:59\",\"2019-05-22 23:59:59\",\"2019-05-23 23:59:59\",\"2019-05-24 23:59:59\",\"2019-05-25 23:59:59\",\"2019-05-26 23:59:59\",\"2019-05-27 23:59:59\",\"2019-05-28 23:59:59\",\"2019-05-29 23:59:59\",\"2019-05-30 23:59:59\",\"2019-05-31 23:59:59\",\"2019-06-01 23:59:59\",\"2019-06-02 23:59:59\",\"2019-06-03 23:59:59\",\"2019-06-04 23:59:59\",\"2019-06-05 23:59:59\",\"2019-06-06 23:59:59\",\"2019-06-07 23:59:59\",\"2019-06-08 23:59:59\",\"2019-06-09 23:59:59\",\"2019-06-10 23:59:59\",\"2019-06-11 23:59:59\",\"2019-06-12 23:59:59\",\"2019-06-13 23:59:59\",\"2019-06-14 23:59:59\",\"2019-06-15 23:59:59\",\"2019-06-16 23:59:59\",\"2019-06-17 23:59:59\",\"2019-06-18 23:59:59\",\"2019-06-19 23:59:59\",\"2019-06-20 23:59:59\",\"2019-06-21 23:59:59\",\"2019-06-22 23:59:59\",\"2019-06-23 23:59:59\",\"2019-06-24 23:59:59\",\"2019-06-25 23:59:59\",\"2019-06-26 23:59:59\",\"2019-06-27 23:59:59\",\"2019-06-28 23:59:59\",\"2019-06-29 23:59:59\",\"2019-06-30 23:59:59\",\"2019-07-01 23:59:59\",\"2019-07-02 23:59:59\",\"2019-07-03 23:59:59\",\"2019-07-04 23:59:59\",\"2019-07-05 23:59:59\",\"2019-07-06 23:59:59\",\"2019-07-07 23:59:59\",\"2019-07-08 23:59:59\",\"2019-07-09 23:59:59\",\"2019-07-10 23:59:59\",\"2019-07-11 23:59:59\",\"2019-07-12 23:59:59\",\"2019-07-13 23:59:59\",\"2019-07-14 23:59:59\",\"2019-07-15 23:59:59\",\"2019-07-16 23:59:59\",\"2019-07-17 23:59:59\",\"2019-07-18 23:59:59\",\"2019-07-19 23:59:59\",\"2019-07-20 23:59:59\",\"2019-07-21 23:59:59\",\"2019-07-22 23:59:59\",\"2019-07-23 23:59:59\",\"2019-07-24 23:59:59\",\"2019-07-25 23:59:59\",\"2019-07-26 23:59:59\",\"2019-07-27 23:59:59\",\"2019-07-28 23:59:59\",\"2019-07-29 23:59:59\",\"2019-07-30 23:59:59\",\"2019-07-31 23:59:59\",\"2019-08-01 23:59:59\",\"2019-08-02 23:59:59\",\"2019-08-03 23:59:59\",\"2019-08-04 23:59:59\",\"2019-08-05 23:59:59\",\"2019-08-06 23:59:59\",\"2019-08-07 23:59:59\",\"2019-08-08 23:59:59\",\"2019-08-09 23:59:59\",\"2019-08-10 23:59:59\",\"2019-08-11 23:59:59\",\"2019-08-12 23:59:59\",\"2019-08-13 23:59:59\",\"2019-08-14 23:59:59\",\"2019-08-15 23:59:59\",\"2019-08-16 23:59:59\",\"2019-08-17 23:59:59\",\"2019-08-18 23:59:59\",\"2019-08-19 23:59:59\",\"2019-08-20 23:59:59\",\"2019-08-21 23:59:59\",\"2019-08-22 23:59:59\",\"2019-08-23 23:59:59\",\"2019-08-24 23:59:59\",\"2019-08-25 23:59:59\",\"2019-08-26 23:59:59\",\"2019-08-27 23:59:59\",\"2019-08-28 23:59:59\",\"2019-08-29 23:59:59\",\"2019-08-30 23:59:59\",\"2019-08-31 23:59:59\",\"2019-09-01 23:59:59\",\"2019-09-02 23:59:59\",\"2019-09-03 23:59:59\",\"2019-09-04 23:59:59\",\"2019-09-05 23:59:59\",\"2019-09-06 23:59:59\",\"2019-09-07 23:59:59\",\"2019-09-08 23:59:59\",\"2019-09-09 23:59:59\",\"2019-09-10 23:59:59\",\"2019-09-11 23:59:59\",\"2019-09-12 23:59:59\",\"2019-09-13 23:59:59\",\"2019-09-14 23:59:59\",\"2019-09-15 23:59:59\",\"2019-09-16 23:59:59\",\"2019-09-17 23:59:59\",\"2019-09-18 23:59:59\",\"2019-09-19 23:59:59\",\"2019-09-20 23:59:59\",\"2019-09-21 23:59:59\",\"2019-09-22 23:59:59\",\"2019-09-23 23:59:59\",\"2019-09-24 23:59:59\",\"2019-09-25 23:59:59\",\"2019-09-26 23:59:59\",\"2019-09-27 23:59:59\",\"2019-09-28 23:59:59\",\"2019-09-29 23:59:59\",\"2019-09-30 23:59:59\",\"2019-10-01 23:59:59\",\"2019-10-02 23:59:59\",\"2019-10-03 23:59:59\",\"2019-10-04 23:59:59\",\"2019-10-05 23:59:59\",\"2019-10-06 23:59:59\",\"2019-10-07 23:59:59\",\"2019-10-08 23:59:59\",\"2019-10-09 23:59:59\",\"2019-10-10 23:59:59\",\"2019-10-11 23:59:59\",\"2019-10-12 23:59:59\",\"2019-10-13 23:59:59\",\"2019-10-14 23:59:59\",\"2019-10-15 23:59:59\",\"2019-10-16 23:59:59\",\"2019-10-17 23:59:59\",\"2019-10-18 23:59:59\",\"2019-10-19 23:59:59\",\"2019-10-20 23:59:59\",\"2019-10-21 23:59:59\",\"2019-10-22 23:59:59\",\"2019-10-23 23:59:59\",\"2019-10-24 23:59:59\",\"2019-10-25 23:59:59\",\"2019-10-26 23:59:59\",\"2019-10-27 23:59:59\",\"2019-10-28 23:59:59\",\"2019-10-29 23:59:59\",\"2019-10-30 23:59:59\",\"2019-10-31 23:59:59\",\"2019-11-01 23:59:59\",\"2019-11-02 23:59:59\",\"2019-11-03 23:59:59\",\"2019-11-04 23:59:59\",\"2019-11-05 23:59:59\",\"2019-11-06 23:59:59\",\"2019-11-07 23:59:59\",\"2019-11-08 23:59:59\",\"2019-11-09 23:59:59\",\"2019-11-10 23:59:59\",\"2019-11-11 23:59:59\",\"2019-11-12 23:59:59\",\"2019-11-13 23:59:59\",\"2019-11-14 23:59:59\",\"2019-11-15 23:59:59\",\"2019-11-16 23:59:59\",\"2019-11-17 23:59:59\",\"2019-11-18 23:59:59\",\"2019-11-19 23:59:59\",\"2019-11-20 23:59:59\",\"2019-11-21 23:59:59\",\"2019-11-22 23:59:59\",\"2019-11-23 23:59:59\",\"2019-11-24 23:59:59\",\"2019-11-25 23:59:59\",\"2019-11-26 23:59:59\",\"2019-11-27 23:59:59\",\"2019-11-28 23:59:59\",\"2019-11-29 23:59:59\",\"2019-11-30 23:59:59\",\"2019-12-01 23:59:59\",\"2019-12-02 23:59:59\",\"2019-12-03 23:59:59\",\"2019-12-04 23:59:59\",\"2019-12-05 23:59:59\",\"2019-12-06 23:59:59\",\"2019-12-07 23:59:59\",\"2019-12-08 23:59:59\",\"2019-12-09 23:59:59\",\"2019-12-10 23:59:59\",\"2019-12-11 23:59:59\",\"2019-12-12 23:59:59\",\"2019-12-13 23:59:59\",\"2019-12-14 23:59:59\",\"2019-12-15 23:59:59\",\"2019-12-16 23:59:59\",\"2019-12-17 23:59:59\",\"2019-12-18 23:59:59\",\"2019-12-19 23:59:59\",\"2019-12-20 23:59:59\",\"2019-12-21 23:59:59\",\"2019-12-22 23:59:59\",\"2019-12-23 23:59:59\",\"2019-12-24 23:59:59\",\"2019-12-25 23:59:59\",\"2019-12-26 23:59:59\",\"2019-12-27 23:59:59\",\"2019-12-28 23:59:59\",\"2019-12-29 23:59:59\",\"2019-12-30 23:59:59\",\"2019-12-31 23:59:59\",\"2020-01-01 23:59:59\",\"2020-01-02 23:59:59\",\"2020-01-03 23:59:59\",\"2020-01-04 23:59:59\",\"2020-01-05 23:59:59\",\"2020-01-06 23:59:59\",\"2020-01-07 23:59:59\",\"2020-01-08 23:59:59\",\"2020-01-09 23:59:59\",\"2020-01-10 23:59:59\",\"2020-01-11 23:59:59\",\"2020-01-12 23:59:59\",\"2020-01-13 23:59:59\",\"2020-01-14 23:59:59\",\"2020-01-15 23:59:59\",\"2020-01-16 23:59:59\",\"2020-01-17 23:59:59\",\"2020-01-18 23:59:59\",\"2020-01-19 23:59:59\",\"2020-01-20 23:59:59\",\"2020-01-21 23:59:59\",\"2020-01-22 23:59:59\",\"2020-01-23 23:59:59\",\"2020-01-24 23:59:59\",\"2020-01-25 23:59:59\",\"2020-01-26 23:59:59\",\"2020-01-27 23:59:59\",\"2020-01-28 23:59:59\",\"2020-01-29 23:59:59\",\"2020-01-30 23:59:59\",\"2020-01-31 23:59:59\",\"2020-02-01 23:59:59\",\"2020-02-02 23:59:59\",\"2020-02-03 23:59:59\",\"2020-02-04 23:59:59\",\"2020-02-05 23:59:59\",\"2020-02-06 23:59:59\",\"2020-02-07 23:59:59\",\"2020-02-08 23:59:59\",\"2020-02-09 23:59:59\",\"2020-02-10 23:59:59\",\"2020-02-11 23:59:59\",\"2020-02-12 23:59:59\",\"2020-02-13 23:59:59\",\"2020-02-14 23:59:59\",\"2020-02-15 23:59:59\",\"2020-02-16 23:59:59\",\"2020-02-17 23:59:59\",\"2020-02-18 23:59:59\",\"2020-02-19 23:59:59\",\"2020-02-20 23:59:59\",\"2020-02-21 23:59:59\",\"2020-02-22 23:59:59\",\"2020-02-23 23:59:59\",\"2020-02-24 23:59:59\",\"2020-02-25 23:59:59\",\"2020-02-26 23:59:59\",\"2020-02-27 23:59:59\",\"2020-02-28 23:59:59\",\"2020-02-29 23:59:59\",\"2020-03-01 23:59:59\",\"2020-03-02 23:59:59\",\"2020-03-03 23:59:59\",\"2020-03-04 23:59:59\",\"2020-03-05 23:59:59\",\"2020-03-06 23:59:59\",\"2020-03-07 23:59:59\",\"2020-03-08 23:59:59\",\"2020-03-09 23:59:59\",\"2020-03-10 23:59:59\",\"2020-03-11 23:59:59\",\"2020-03-12 23:59:59\",\"2020-03-13 23:59:59\",\"2020-03-14 23:59:59\",\"2020-03-15 23:59:59\",\"2020-03-16 23:59:59\",\"2020-03-17 23:59:59\",\"2020-03-18 23:59:59\",\"2020-03-19 23:59:59\",\"2020-03-20 23:59:59\",\"2020-03-21 23:59:59\",\"2020-03-22 23:59:59\",\"2020-03-23 23:59:59\",\"2020-03-24 23:59:59\",\"2020-03-25 23:59:59\",\"2020-03-26 23:59:59\",\"2020-03-27 23:59:59\",\"2020-03-28 23:59:59\",\"2020-03-29 23:59:59\",\"2020-03-30 23:59:59\",\"2020-03-31 23:59:59\",\"2020-04-01 23:59:59\",\"2020-04-02 23:59:59\",\"2020-04-03 23:59:59\",\"2020-04-04 23:59:59\",\"2020-04-05 23:59:59\",\"2020-04-06 23:59:59\",\"2020-04-07 23:59:59\",\"2020-04-08 23:59:59\",\"2020-04-09 23:59:59\",\"2020-04-10 23:59:59\",\"2020-04-11 23:59:59\",\"2020-04-12 23:59:59\",\"2020-04-13 23:59:59\",\"2020-04-14 23:59:59\",\"2020-04-15 23:59:59\",\"2020-04-16 23:59:59\",\"2020-04-17 23:59:59\",\"2020-04-18 23:59:59\",\"2020-04-19 23:59:59\",\"2020-04-20 23:59:59\",\"2020-04-21 23:59:59\",\"2020-04-22 23:59:59\",\"2020-04-23 23:59:59\",\"2020-04-24 23:59:59\",\"2020-04-25 23:59:59\",\"2020-04-26 23:59:59\",\"2020-04-27 23:59:59\",\"2020-04-28 23:59:59\",\"2020-04-29 23:59:59\",\"2020-04-30 23:59:59\",\"2020-05-01 23:59:59\",\"2020-05-02 23:59:59\",\"2020-05-03 23:59:59\",\"2020-05-04 23:59:59\",\"2020-05-05 23:59:59\",\"2020-05-06 23:59:59\",\"2020-05-07 23:59:59\",\"2020-05-08 23:59:59\",\"2020-05-09 23:59:59\",\"2020-05-10 23:59:59\",\"2020-05-11 23:59:59\",\"2020-05-12 23:59:59\",\"2020-05-13 23:59:59\",\"2020-05-14 23:59:59\",\"2020-05-15 23:59:59\",\"2020-05-16 23:59:59\",\"2020-05-17 23:59:59\",\"2020-05-18 23:59:59\",\"2020-05-19 23:59:59\",\"2020-05-20 23:59:59\",\"2020-05-21 23:59:59\",\"2020-05-22 23:59:59\",\"2020-05-23 23:59:59\",\"2020-05-24 23:59:59\",\"2020-05-25 23:59:59\",\"2020-05-26 23:59:59\",\"2020-05-27 23:59:59\",\"2020-05-28 23:59:59\",\"2020-05-29 23:59:59\",\"2020-05-30 23:59:59\",\"2020-05-31 23:59:59\",\"2020-06-01 23:59:59\",\"2020-06-02 23:59:59\",\"2020-06-03 23:59:59\",\"2020-06-04 23:59:59\",\"2020-06-05 23:59:59\",\"2020-06-06 23:59:59\",\"2020-06-07 23:59:59\",\"2020-06-08 23:59:59\",\"2020-06-09 23:59:59\",\"2020-06-10 23:59:59\",\"2020-06-11 23:59:59\",\"2020-06-12 23:59:59\",\"2020-06-13 23:59:59\",\"2020-06-14 23:59:59\",\"2020-06-15 23:59:59\",\"2020-06-16 23:59:59\",\"2020-06-17 23:59:59\",\"2020-06-18 23:59:59\",\"2020-06-19 23:59:59\",\"2020-06-20 23:59:59\",\"2020-06-21 23:59:59\",\"2020-06-22 23:59:59\",\"2020-06-23 23:59:59\",\"2020-06-24 23:59:59\",\"2020-06-25 23:59:59\",\"2020-06-26 23:59:59\",\"2020-06-27 23:59:59\",\"2020-06-28 23:59:59\",\"2020-06-29 23:59:59\",\"2020-06-30 23:59:59\",\"2020-07-01 23:59:59\",\"2020-07-02 23:59:59\",\"2020-07-03 23:59:59\",\"2020-07-04 23:59:59\",\"2020-07-05 23:59:59\",\"2020-07-06 23:59:59\",\"2020-07-07 23:59:59\",\"2020-07-08 23:59:59\",\"2020-07-09 23:59:59\",\"2020-07-10 23:59:59\",\"2020-07-11 23:59:59\",\"2020-07-12 23:59:59\",\"2020-07-13 23:59:59\",\"2020-07-14 23:59:59\",\"2020-07-15 23:59:59\",\"2020-07-16 23:59:59\",\"2020-07-17 23:59:59\",\"2020-07-18 23:59:59\",\"2020-07-19 23:59:59\",\"2020-07-20 23:59:59\",\"2020-07-21 23:59:59\",\"2020-07-22 23:59:59\",\"2020-07-23 23:59:59\",\"2020-07-24 23:59:59\",\"2020-07-25 23:59:59\",\"2020-07-26 23:59:59\",\"2020-07-27 23:59:59\",\"2020-07-28 23:59:59\",\"2020-07-29 23:59:59\",\"2020-07-30 23:59:59\",\"2020-07-31 23:59:59\",\"2020-08-01 23:59:59\",\"2020-08-02 23:59:59\",\"2020-08-03 23:59:59\",\"2020-08-04 23:59:59\",\"2020-08-05 23:59:59\",\"2020-08-06 23:59:59\",\"2020-08-07 23:59:59\",\"2020-08-08 23:59:59\",\"2020-08-09 23:59:59\",\"2020-08-10 23:59:59\",\"2020-08-11 23:59:59\",\"2020-08-12 23:59:59\",\"2020-08-13 23:59:59\",\"2020-08-14 23:59:59\",\"2020-08-15 23:59:59\",\"2020-08-16 23:59:59\",\"2020-08-17 23:59:59\",\"2020-08-18 23:59:59\",\"2020-08-19 23:59:59\",\"2020-08-20 23:59:59\",\"2020-08-21 23:59:59\",\"2020-08-22 23:59:59\",\"2020-08-23 23:59:59\",\"2020-08-24 23:59:59\",\"2020-08-25 23:59:59\",\"2020-08-26 23:59:59\",\"2020-08-27 23:59:59\",\"2020-08-28 23:59:59\",\"2020-08-29 23:59:59\",\"2020-08-30 23:59:59\",\"2020-08-31 23:59:59\",\"2020-09-01 23:59:59\",\"2020-09-02 23:59:59\",\"2020-09-03 23:59:59\",\"2020-09-04 23:59:59\",\"2020-09-05 23:59:59\",\"2020-09-06 23:59:59\",\"2020-09-07 23:59:59\",\"2020-09-08 23:59:59\",\"2020-09-09 23:59:59\",\"2020-09-10 23:59:59\",\"2020-09-11 23:59:59\",\"2020-09-12 23:59:59\",\"2020-09-13 23:59:59\",\"2020-09-14 23:59:59\",\"2020-09-15 23:59:59\",\"2020-09-16 23:59:59\",\"2020-09-17 23:59:59\",\"2020-09-18 23:59:59\",\"2020-09-19 23:59:59\",\"2020-09-20 23:59:59\",\"2020-09-21 23:59:59\",\"2020-09-22 23:59:59\",\"2020-09-23 23:59:59\",\"2020-09-24 23:59:59\",\"2020-09-25 23:59:59\",\"2020-09-26 23:59:59\",\"2020-09-27 23:59:59\",\"2020-09-28 23:59:59\",\"2020-09-29 23:59:59\",\"2020-09-30 23:59:59\",\"2020-10-01 23:59:59\",\"2020-10-02 23:59:59\",\"2020-10-03 23:59:59\",\"2020-10-04 23:59:59\",\"2020-10-05 23:59:59\",\"2020-10-06 23:59:59\",\"2020-10-07 23:59:59\",\"2020-10-08 23:59:59\",\"2020-10-09 23:59:59\",\"2020-10-10 23:59:59\",\"2020-10-11 23:59:59\",\"2020-10-12 23:59:59\",\"2020-10-13 23:59:59\",\"2020-10-14 23:59:59\",\"2020-10-15 23:59:59\",\"2020-10-16 23:59:59\",\"2020-10-17 23:59:59\",\"2020-10-18 23:59:59\",\"2020-10-19 23:59:59\",\"2020-10-20 23:59:59\",\"2020-10-21 23:59:59\",\"2020-10-22 23:59:59\",\"2020-10-23 23:59:59\",\"2020-10-24 23:59:59\",\"2020-10-25 23:59:59\",\"2020-10-26 23:59:59\",\"2020-10-27 23:59:59\",\"2020-10-28 23:59:59\",\"2020-10-29 23:59:59\",\"2020-10-30 23:59:59\",\"2020-10-31 23:59:59\",\"2020-11-01 23:59:59\",\"2020-11-02 23:59:59\",\"2020-11-03 23:59:59\",\"2020-11-04 23:59:59\",\"2020-11-05 23:59:59\",\"2020-11-06 23:59:59\",\"2020-11-07 23:59:59\",\"2020-11-08 23:59:59\",\"2020-11-09 23:59:59\",\"2020-11-10 23:59:59\",\"2020-11-11 23:59:59\",\"2020-11-12 23:59:59\",\"2020-11-13 23:59:59\",\"2020-11-14 23:59:59\",\"2020-11-15 23:59:59\",\"2020-11-16 23:59:59\",\"2020-11-17 23:59:59\",\"2020-11-18 23:59:59\",\"2020-11-19 23:59:59\",\"2020-11-20 23:59:59\",\"2020-11-21 23:59:59\",\"2020-11-22 23:59:59\",\"2020-11-23 23:59:59\",\"2020-11-24 23:59:59\",\"2020-11-25 23:59:59\",\"2020-11-26 23:59:59\",\"2020-11-27 23:59:59\",\"2020-11-28 23:59:59\",\"2020-11-29 23:59:59\",\"2020-11-30 23:59:59\",\"2020-12-01 23:59:59\",\"2020-12-02 23:59:59\",\"2020-12-03 23:59:59\",\"2020-12-04 23:59:59\",\"2020-12-05 23:59:59\",\"2020-12-06 23:59:59\",\"2020-12-07 23:59:59\",\"2020-12-08 23:59:59\",\"2020-12-09 23:59:59\",\"2020-12-10 23:59:59\",\"2020-12-11 23:59:59\",\"2020-12-12 23:59:59\",\"2020-12-13 23:59:59\",\"2020-12-14 23:59:59\",\"2020-12-15 23:59:59\",\"2020-12-16 23:59:59\",\"2020-12-17 23:59:59\",\"2020-12-18 23:59:59\",\"2020-12-19 23:59:59\",\"2020-12-20 23:59:59\",\"2020-12-21 23:59:59\",\"2020-12-22 23:59:59\",\"2020-12-23 23:59:59\",\"2020-12-24 23:59:59\",\"2020-12-25 23:59:59\",\"2020-12-26 23:59:59\",\"2020-12-27 23:59:59\",\"2020-12-28 23:59:59\",\"2020-12-29 23:59:59\",\"2020-12-30 23:59:59\",\"2020-12-31 23:59:59\",\"2021-01-01 23:59:59\",\"2021-01-02 23:59:59\",\"2021-01-03 23:59:59\",\"2021-01-04 23:59:59\",\"2021-01-05 23:59:59\",\"2021-01-06 23:59:59\",\"2021-01-07 23:59:59\",\"2021-01-08 23:59:59\",\"2021-01-09 23:59:59\",\"2021-01-10 23:59:59\",\"2021-01-11 23:59:59\",\"2021-01-12 23:59:59\",\"2021-01-13 23:59:59\",\"2021-01-14 23:59:59\",\"2021-01-15 23:59:59\",\"2021-01-16 23:59:59\",\"2021-01-17 23:59:59\",\"2021-01-18 23:59:59\",\"2021-01-19 23:59:59\",\"2021-01-20 23:59:59\",\"2021-01-21 23:59:59\",\"2021-01-22 23:59:59\",\"2021-01-23 23:59:59\",\"2021-01-24 23:59:59\",\"2021-01-25 23:59:59\",\"2021-01-26 23:59:59\",\"2021-01-27 23:59:59\",\"2021-01-28 23:59:59\",\"2021-01-29 23:59:59\",\"2021-01-30 23:59:59\",\"2021-01-31 23:59:59\",\"2021-02-01 23:59:59\",\"2021-02-02 23:59:59\",\"2021-02-03 23:59:59\",\"2021-02-04 23:59:59\",\"2021-02-05 23:59:59\",\"2021-02-06 23:59:59\",\"2021-02-07 23:59:59\",\"2021-02-08 23:59:59\",\"2021-02-09 23:59:59\",\"2021-02-10 23:59:59\",\"2021-02-11 23:59:59\",\"2021-02-12 23:59:59\",\"2021-02-13 23:59:59\",\"2021-02-14 23:59:59\",\"2021-02-15 23:59:59\",\"2021-02-16 23:59:59\",\"2021-02-17 23:59:59\",\"2021-02-18 23:59:59\",\"2021-02-19 23:59:59\",\"2021-02-20 23:59:59\",\"2021-02-21 23:59:59\",\"2021-02-22 23:59:59\",\"2021-02-23 23:59:59\",\"2021-02-24 23:59:59\",\"2021-02-25 23:59:59\",\"2021-02-26 23:59:59\",\"2021-02-27 23:59:59\",\"2021-02-28 23:59:59\",\"2021-03-01 23:59:59\",\"2021-03-02 23:59:59\",\"2021-03-03 23:59:59\",\"2021-03-04 23:59:59\",\"2021-03-05 23:59:59\",\"2021-03-06 23:59:59\",\"2021-03-07 23:59:59\",\"2021-03-08 23:59:59\",\"2021-03-09 23:59:59\",\"2021-03-10 23:59:59\",\"2021-03-11 23:59:59\",\"2021-03-12 23:59:59\",\"2021-03-13 23:59:59\",\"2021-03-14 23:59:59\",\"2021-03-15 23:59:59\",\"2021-03-16 23:59:59\",\"2021-03-17 23:59:59\",\"2021-03-18 23:59:59\",\"2021-03-19 23:59:59\",\"2021-03-20 23:59:59\",\"2021-03-21 23:59:59\",\"2021-03-22 23:59:59\",\"2021-03-23 23:59:59\",\"2021-03-24 23:59:59\",\"2021-03-25 23:59:59\",\"2021-03-26 23:59:59\",\"2021-03-27 23:59:59\",\"2021-03-28 23:59:59\",\"2021-03-29 23:59:59\",\"2021-03-30 23:59:59\",\"2021-03-31 23:59:59\",\"2021-04-01 23:59:59\",\"2021-04-02 23:59:59\",\"2021-04-03 23:59:59\",\"2021-04-04 23:59:59\",\"2021-04-05 23:59:59\",\"2021-04-06 23:59:59\",\"2021-04-07 23:59:59\",\"2021-04-08 23:59:59\",\"2021-04-09 23:59:59\",\"2021-04-10 23:59:59\",\"2021-04-11 23:59:59\",\"2021-04-12 23:59:59\",\"2021-04-13 23:59:59\",\"2021-04-14 23:59:59\",\"2021-04-15 23:59:59\",\"2021-04-16 23:59:59\",\"2021-04-17 23:59:59\",\"2021-04-18 23:59:59\",\"2021-04-19 23:59:59\",\"2021-04-20 23:59:59\",\"2021-04-21 23:59:59\",\"2021-04-22 23:59:59\",\"2021-04-23 23:59:59\",\"2021-04-24 23:59:59\",\"2021-04-25 23:59:59\",\"2021-04-26 23:59:59\",\"2021-04-27 23:59:59\",\"2021-04-28 23:59:59\",\"2021-04-29 23:59:59\",\"2021-04-30 23:59:59\",\"2021-05-01 23:59:59\",\"2021-05-02 23:59:59\",\"2021-05-03 23:59:59\",\"2021-05-04 23:59:59\",\"2021-05-05 23:59:59\",\"2021-05-06 23:59:59\",\"2021-05-07 23:59:59\",\"2021-05-08 23:59:59\",\"2021-05-09 23:59:59\",\"2021-05-10 23:59:59\",\"2021-05-11 23:59:59\",\"2021-05-12 23:59:59\",\"2021-05-13 23:59:59\",\"2021-05-14 23:59:59\",\"2021-05-15 23:59:59\",\"2021-05-16 23:59:59\",\"2021-05-17 23:59:59\",\"2021-05-18 23:59:59\",\"2021-05-19 23:59:59\",\"2021-05-20 23:59:59\",\"2021-05-21 23:59:59\",\"2021-05-22 23:59:59\",\"2021-05-23 23:59:59\",\"2021-05-24 23:59:59\",\"2021-05-25 23:59:59\",\"2021-05-26 23:59:59\",\"2021-05-27 23:59:59\",\"2021-05-28 23:59:59\",\"2021-05-29 23:59:59\",\"2021-05-30 23:59:59\",\"2021-05-31 23:59:59\",\"2021-06-01 23:59:59\",\"2021-06-02 23:59:59\",\"2021-06-03 23:59:59\",\"2021-06-04 23:59:59\",\"2021-06-05 23:59:59\",\"2021-06-06 23:59:59\",\"2021-06-07 23:59:59\",\"2021-06-08 23:59:59\",\"2021-06-09 23:59:59\",\"2021-06-10 23:59:59\",\"2021-06-11 23:59:59\",\"2021-06-12 23:59:59\",\"2021-06-13 23:59:59\",\"2021-06-14 23:59:59\",\"2021-06-15 23:59:59\",\"2021-06-16 23:59:59\",\"2021-06-17 23:59:59\",\"2021-06-18 23:59:59\",\"2021-06-19 23:59:59\",\"2021-06-20 23:59:59\",\"2021-06-21 23:59:59\",\"2021-06-22 23:59:59\",\"2021-06-23 23:59:59\",\"2021-06-24 23:59:59\",\"2021-06-25 23:59:59\",\"2021-06-26 23:59:59\",\"2021-06-27 23:59:59\",\"2021-06-28 23:59:59\",\"2021-06-29 23:59:59\",\"2021-06-30 23:59:59\",\"2021-07-01 23:59:59\",\"2021-07-02 23:59:59\",\"2021-07-03 23:59:59\",\"2021-07-04 23:59:59\",\"2021-07-05 23:59:59\",\"2021-07-06 23:59:59\"],\"type\":\"candlestick\"}],                        {\"template\":{\"data\":{\"bar\":[{\"error_x\":{\"color\":\"#2a3f5f\"},\"error_y\":{\"color\":\"#2a3f5f\"},\"marker\":{\"line\":{\"color\":\"#E5ECF6\",\"width\":0.5},\"pattern\":{\"fillmode\":\"overlay\",\"size\":10,\"solidity\":0.2}},\"type\":\"bar\"}],\"barpolar\":[{\"marker\":{\"line\":{\"color\":\"#E5ECF6\",\"width\":0.5},\"pattern\":{\"fillmode\":\"overlay\",\"size\":10,\"solidity\":0.2}},\"type\":\"barpolar\"}],\"carpet\":[{\"aaxis\":{\"endlinecolor\":\"#2a3f5f\",\"gridcolor\":\"white\",\"linecolor\":\"white\",\"minorgridcolor\":\"white\",\"startlinecolor\":\"#2a3f5f\"},\"baxis\":{\"endlinecolor\":\"#2a3f5f\",\"gridcolor\":\"white\",\"linecolor\":\"white\",\"minorgridcolor\":\"white\",\"startlinecolor\":\"#2a3f5f\"},\"type\":\"carpet\"}],\"choropleth\":[{\"colorbar\":{\"outlinewidth\":0,\"ticks\":\"\"},\"type\":\"choropleth\"}],\"contour\":[{\"colorbar\":{\"outlinewidth\":0,\"ticks\":\"\"},\"colorscale\":[[0.0,\"#0d0887\"],[0.1111111111111111,\"#46039f\"],[0.2222222222222222,\"#7201a8\"],[0.3333333333333333,\"#9c179e\"],[0.4444444444444444,\"#bd3786\"],[0.5555555555555556,\"#d8576b\"],[0.6666666666666666,\"#ed7953\"],[0.7777777777777778,\"#fb9f3a\"],[0.8888888888888888,\"#fdca26\"],[1.0,\"#f0f921\"]],\"type\":\"contour\"}],\"contourcarpet\":[{\"colorbar\":{\"outlinewidth\":0,\"ticks\":\"\"},\"type\":\"contourcarpet\"}],\"heatmap\":[{\"colorbar\":{\"outlinewidth\":0,\"ticks\":\"\"},\"colorscale\":[[0.0,\"#0d0887\"],[0.1111111111111111,\"#46039f\"],[0.2222222222222222,\"#7201a8\"],[0.3333333333333333,\"#9c179e\"],[0.4444444444444444,\"#bd3786\"],[0.5555555555555556,\"#d8576b\"],[0.6666666666666666,\"#ed7953\"],[0.7777777777777778,\"#fb9f3a\"],[0.8888888888888888,\"#fdca26\"],[1.0,\"#f0f921\"]],\"type\":\"heatmap\"}],\"heatmapgl\":[{\"colorbar\":{\"outlinewidth\":0,\"ticks\":\"\"},\"colorscale\":[[0.0,\"#0d0887\"],[0.1111111111111111,\"#46039f\"],[0.2222222222222222,\"#7201a8\"],[0.3333333333333333,\"#9c179e\"],[0.4444444444444444,\"#bd3786\"],[0.5555555555555556,\"#d8576b\"],[0.6666666666666666,\"#ed7953\"],[0.7777777777777778,\"#fb9f3a\"],[0.8888888888888888,\"#fdca26\"],[1.0,\"#f0f921\"]],\"type\":\"heatmapgl\"}],\"histogram\":[{\"marker\":{\"pattern\":{\"fillmode\":\"overlay\",\"size\":10,\"solidity\":0.2}},\"type\":\"histogram\"}],\"histogram2d\":[{\"colorbar\":{\"outlinewidth\":0,\"ticks\":\"\"},\"colorscale\":[[0.0,\"#0d0887\"],[0.1111111111111111,\"#46039f\"],[0.2222222222222222,\"#7201a8\"],[0.3333333333333333,\"#9c179e\"],[0.4444444444444444,\"#bd3786\"],[0.5555555555555556,\"#d8576b\"],[0.6666666666666666,\"#ed7953\"],[0.7777777777777778,\"#fb9f3a\"],[0.8888888888888888,\"#fdca26\"],[1.0,\"#f0f921\"]],\"type\":\"histogram2d\"}],\"histogram2dcontour\":[{\"colorbar\":{\"outlinewidth\":0,\"ticks\":\"\"},\"colorscale\":[[0.0,\"#0d0887\"],[0.1111111111111111,\"#46039f\"],[0.2222222222222222,\"#7201a8\"],[0.3333333333333333,\"#9c179e\"],[0.4444444444444444,\"#bd3786\"],[0.5555555555555556,\"#d8576b\"],[0.6666666666666666,\"#ed7953\"],[0.7777777777777778,\"#fb9f3a\"],[0.8888888888888888,\"#fdca26\"],[1.0,\"#f0f921\"]],\"type\":\"histogram2dcontour\"}],\"mesh3d\":[{\"colorbar\":{\"outlinewidth\":0,\"ticks\":\"\"},\"type\":\"mesh3d\"}],\"parcoords\":[{\"line\":{\"colorbar\":{\"outlinewidth\":0,\"ticks\":\"\"}},\"type\":\"parcoords\"}],\"pie\":[{\"automargin\":true,\"type\":\"pie\"}],\"scatter\":[{\"marker\":{\"colorbar\":{\"outlinewidth\":0,\"ticks\":\"\"}},\"type\":\"scatter\"}],\"scatter3d\":[{\"line\":{\"colorbar\":{\"outlinewidth\":0,\"ticks\":\"\"}},\"marker\":{\"colorbar\":{\"outlinewidth\":0,\"ticks\":\"\"}},\"type\":\"scatter3d\"}],\"scattercarpet\":[{\"marker\":{\"colorbar\":{\"outlinewidth\":0,\"ticks\":\"\"}},\"type\":\"scattercarpet\"}],\"scattergeo\":[{\"marker\":{\"colorbar\":{\"outlinewidth\":0,\"ticks\":\"\"}},\"type\":\"scattergeo\"}],\"scattergl\":[{\"marker\":{\"colorbar\":{\"outlinewidth\":0,\"ticks\":\"\"}},\"type\":\"scattergl\"}],\"scattermapbox\":[{\"marker\":{\"colorbar\":{\"outlinewidth\":0,\"ticks\":\"\"}},\"type\":\"scattermapbox\"}],\"scatterpolar\":[{\"marker\":{\"colorbar\":{\"outlinewidth\":0,\"ticks\":\"\"}},\"type\":\"scatterpolar\"}],\"scatterpolargl\":[{\"marker\":{\"colorbar\":{\"outlinewidth\":0,\"ticks\":\"\"}},\"type\":\"scatterpolargl\"}],\"scatterternary\":[{\"marker\":{\"colorbar\":{\"outlinewidth\":0,\"ticks\":\"\"}},\"type\":\"scatterternary\"}],\"surface\":[{\"colorbar\":{\"outlinewidth\":0,\"ticks\":\"\"},\"colorscale\":[[0.0,\"#0d0887\"],[0.1111111111111111,\"#46039f\"],[0.2222222222222222,\"#7201a8\"],[0.3333333333333333,\"#9c179e\"],[0.4444444444444444,\"#bd3786\"],[0.5555555555555556,\"#d8576b\"],[0.6666666666666666,\"#ed7953\"],[0.7777777777777778,\"#fb9f3a\"],[0.8888888888888888,\"#fdca26\"],[1.0,\"#f0f921\"]],\"type\":\"surface\"}],\"table\":[{\"cells\":{\"fill\":{\"color\":\"#EBF0F8\"},\"line\":{\"color\":\"white\"}},\"header\":{\"fill\":{\"color\":\"#C8D4E3\"},\"line\":{\"color\":\"white\"}},\"type\":\"table\"}]},\"layout\":{\"annotationdefaults\":{\"arrowcolor\":\"#2a3f5f\",\"arrowhead\":0,\"arrowwidth\":1},\"autotypenumbers\":\"strict\",\"coloraxis\":{\"colorbar\":{\"outlinewidth\":0,\"ticks\":\"\"}},\"colorscale\":{\"diverging\":[[0,\"#8e0152\"],[0.1,\"#c51b7d\"],[0.2,\"#de77ae\"],[0.3,\"#f1b6da\"],[0.4,\"#fde0ef\"],[0.5,\"#f7f7f7\"],[0.6,\"#e6f5d0\"],[0.7,\"#b8e186\"],[0.8,\"#7fbc41\"],[0.9,\"#4d9221\"],[1,\"#276419\"]],\"sequential\":[[0.0,\"#0d0887\"],[0.1111111111111111,\"#46039f\"],[0.2222222222222222,\"#7201a8\"],[0.3333333333333333,\"#9c179e\"],[0.4444444444444444,\"#bd3786\"],[0.5555555555555556,\"#d8576b\"],[0.6666666666666666,\"#ed7953\"],[0.7777777777777778,\"#fb9f3a\"],[0.8888888888888888,\"#fdca26\"],[1.0,\"#f0f921\"]],\"sequentialminus\":[[0.0,\"#0d0887\"],[0.1111111111111111,\"#46039f\"],[0.2222222222222222,\"#7201a8\"],[0.3333333333333333,\"#9c179e\"],[0.4444444444444444,\"#bd3786\"],[0.5555555555555556,\"#d8576b\"],[0.6666666666666666,\"#ed7953\"],[0.7777777777777778,\"#fb9f3a\"],[0.8888888888888888,\"#fdca26\"],[1.0,\"#f0f921\"]]},\"colorway\":[\"#636efa\",\"#EF553B\",\"#00cc96\",\"#ab63fa\",\"#FFA15A\",\"#19d3f3\",\"#FF6692\",\"#B6E880\",\"#FF97FF\",\"#FECB52\"],\"font\":{\"color\":\"#2a3f5f\"},\"geo\":{\"bgcolor\":\"white\",\"lakecolor\":\"white\",\"landcolor\":\"#E5ECF6\",\"showlakes\":true,\"showland\":true,\"subunitcolor\":\"white\"},\"hoverlabel\":{\"align\":\"left\"},\"hovermode\":\"closest\",\"mapbox\":{\"style\":\"light\"},\"paper_bgcolor\":\"white\",\"plot_bgcolor\":\"#E5ECF6\",\"polar\":{\"angularaxis\":{\"gridcolor\":\"white\",\"linecolor\":\"white\",\"ticks\":\"\"},\"bgcolor\":\"#E5ECF6\",\"radialaxis\":{\"gridcolor\":\"white\",\"linecolor\":\"white\",\"ticks\":\"\"}},\"scene\":{\"xaxis\":{\"backgroundcolor\":\"#E5ECF6\",\"gridcolor\":\"white\",\"gridwidth\":2,\"linecolor\":\"white\",\"showbackground\":true,\"ticks\":\"\",\"zerolinecolor\":\"white\"},\"yaxis\":{\"backgroundcolor\":\"#E5ECF6\",\"gridcolor\":\"white\",\"gridwidth\":2,\"linecolor\":\"white\",\"showbackground\":true,\"ticks\":\"\",\"zerolinecolor\":\"white\"},\"zaxis\":{\"backgroundcolor\":\"#E5ECF6\",\"gridcolor\":\"white\",\"gridwidth\":2,\"linecolor\":\"white\",\"showbackground\":true,\"ticks\":\"\",\"zerolinecolor\":\"white\"}},\"shapedefaults\":{\"line\":{\"color\":\"#2a3f5f\"}},\"ternary\":{\"aaxis\":{\"gridcolor\":\"white\",\"linecolor\":\"white\",\"ticks\":\"\"},\"baxis\":{\"gridcolor\":\"white\",\"linecolor\":\"white\",\"ticks\":\"\"},\"bgcolor\":\"#E5ECF6\",\"caxis\":{\"gridcolor\":\"white\",\"linecolor\":\"white\",\"ticks\":\"\"}},\"title\":{\"x\":0.05},\"xaxis\":{\"automargin\":true,\"gridcolor\":\"white\",\"linecolor\":\"white\",\"ticks\":\"\",\"title\":{\"standoff\":15},\"zerolinecolor\":\"white\",\"zerolinewidth\":2},\"yaxis\":{\"automargin\":true,\"gridcolor\":\"white\",\"linecolor\":\"white\",\"ticks\":\"\",\"title\":{\"standoff\":15},\"zerolinecolor\":\"white\",\"zerolinewidth\":2}}}},                        {\"responsive\": true}                    ).then(function(){\n",
              "                            \n",
              "var gd = document.getElementById('d8a79d61-8c14-4cb6-94f8-c2f7d308effd');\n",
              "var x = new MutationObserver(function (mutations, observer) {{\n",
              "        var display = window.getComputedStyle(gd).display;\n",
              "        if (!display || display === 'none') {{\n",
              "            console.log([gd, 'removed!']);\n",
              "            Plotly.purge(gd);\n",
              "            observer.disconnect();\n",
              "        }}\n",
              "}});\n",
              "\n",
              "// Listen for the removal of the full notebook cells\n",
              "var notebookContainer = gd.closest('#notebook-container');\n",
              "if (notebookContainer) {{\n",
              "    x.observe(notebookContainer, {childList: true});\n",
              "}}\n",
              "\n",
              "// Listen for the clearing of the current output cell\n",
              "var outputEl = gd.closest('.output');\n",
              "if (outputEl) {{\n",
              "    x.observe(outputEl, {childList: true});\n",
              "}}\n",
              "\n",
              "                        })                };                            </script>        </div>\n",
              "</body>\n",
              "</html>"
            ]
          },
          "metadata": {}
        }
      ]
    },
    {
      "cell_type": "code",
      "source": [
        "import seaborn as sns"
      ],
      "metadata": {
        "id": "HJc8PkjDU8hM"
      },
      "execution_count": 37,
      "outputs": []
    },
    {
      "cell_type": "code",
      "source": [
        "sns.kdeplot(df['Volume'])"
      ],
      "metadata": {
        "colab": {
          "base_uri": "https://localhost:8080/",
          "height": 307
        },
        "id": "w6pB3gfnVChz",
        "outputId": "e856d8ee-7e5e-4a72-f7eb-147e9684b5ca"
      },
      "execution_count": 38,
      "outputs": [
        {
          "output_type": "execute_result",
          "data": {
            "text/plain": [
              "<matplotlib.axes._subplots.AxesSubplot at 0x7f49bf6f6520>"
            ]
          },
          "metadata": {},
          "execution_count": 38
        },
        {
          "output_type": "display_data",
          "data": {
            "text/plain": [
              "<Figure size 432x288 with 1 Axes>"
            ],
            "image/png": "[encoded data removed]"
          },
          "metadata": {
            "needs_background": "light"
          }
        }
      ]
    },
    {
      "cell_type": "code",
      "source": [
        "import matplotlib.pyplot as plt\n",
        "\n",
        "data = 'coin_Bitcoin.csv'\n",
        "dataset = pd.read_csv(data)\n",
        "chosen_col = 'Close'"
      ],
      "metadata": {
        "id": "UBA8OOagVDZR"
      },
      "execution_count": 39,
      "outputs": []
    },
    {
      "cell_type": "code",
      "source": [
        "print(len(dataset))\n",
        "dataset.head()"
      ],
      "metadata": {
        "colab": {
          "base_uri": "https://localhost:8080/",
          "height": 224
        },
        "id": "s4TKafrRVGBC",
        "outputId": "81ffc8a8-533a-4ff1-da46-a03c1f3c0f88"
      },
      "execution_count": 40,
      "outputs": [
        {
          "output_type": "stream",
          "name": "stdout",
          "text": [
            "2991\n"
          ]
        },
        {
          "output_type": "execute_result",
          "data": {
            "text/plain": [
              "   SNo     Name Symbol                 Date        High         Low  \\\n",
              "0    1  Bitcoin    BTC  2013-04-29 23:59:59  147.488007  134.000000   \n",
              "1    2  Bitcoin    BTC  2013-04-30 23:59:59  146.929993  134.050003   \n",
              "2    3  Bitcoin    BTC  2013-05-01 23:59:59  139.889999  107.720001   \n",
              "3    4  Bitcoin    BTC  2013-05-02 23:59:59  125.599998   92.281898   \n",
              "4    5  Bitcoin    BTC  2013-05-03 23:59:59  108.127998   79.099998   \n",
              "\n",
              "         Open       Close  Volume     Marketcap  \n",
              "0  134.444000  144.539993     0.0  1.603769e+09  \n",
              "1  144.000000  139.000000     0.0  1.542813e+09  \n",
              "2  139.000000  116.989998     0.0  1.298955e+09  \n",
              "3  116.379997  105.209999     0.0  1.168517e+09  \n",
              "4  106.250000   97.750000     0.0  1.085995e+09  "
            ],
            "text/html": [
              "\n",
              "  <div id=\"df-df2b7d6d-3cfb-4b23-a012-0a1e098bcd89\">\n",
              "    <div class=\"colab-df-container\">\n",
              "      <div>\n",
              "<style scoped>\n",
              "    .dataframe tbody tr th:only-of-type {\n",
              "        vertical-align: middle;\n",
              "    }\n",
              "\n",
              "    .dataframe tbody tr th {\n",
              "        vertical-align: top;\n",
              "    }\n",
              "\n",
              "    .dataframe thead th {\n",
              "        text-align: right;\n",
              "    }\n",
              "</style>\n",
              "<table border=\"1\" class=\"dataframe\">\n",
              "  <thead>\n",
              "    <tr style=\"text-align: right;\">\n",
              "      <th></th>\n",
              "      <th>SNo</th>\n",
              "      <th>Name</th>\n",
              "      <th>Symbol</th>\n",
              "      <th>Date</th>\n",
              "      <th>High</th>\n",
              "      <th>Low</th>\n",
              "      <th>Open</th>\n",
              "      <th>Close</th>\n",
              "      <th>Volume</th>\n",
              "      <th>Marketcap</th>\n",
              "    </tr>\n",
              "  </thead>\n",
              "  <tbody>\n",
              "    <tr>\n",
              "      <th>0</th>\n",
              "      <td>1</td>\n",
              "      <td>Bitcoin</td>\n",
              "      <td>BTC</td>\n",
              "      <td>2013-04-29 23:59:59</td>\n",
              "      <td>147.488007</td>\n",
              "      <td>134.000000</td>\n",
              "      <td>134.444000</td>\n",
              "      <td>144.539993</td>\n",
              "      <td>0.0</td>\n",
              "      <td>1.603769e+09</td>\n",
              "    </tr>\n",
              "    <tr>\n",
              "      <th>1</th>\n",
              "      <td>2</td>\n",
              "      <td>Bitcoin</td>\n",
              "      <td>BTC</td>\n",
              "      <td>2013-04-30 23:59:59</td>\n",
              "      <td>146.929993</td>\n",
              "      <td>134.050003</td>\n",
              "      <td>144.000000</td>\n",
              "      <td>139.000000</td>\n",
              "      <td>0.0</td>\n",
              "      <td>1.542813e+09</td>\n",
              "    </tr>\n",
              "    <tr>\n",
              "      <th>2</th>\n",
              "      <td>3</td>\n",
              "      <td>Bitcoin</td>\n",
              "      <td>BTC</td>\n",
              "      <td>2013-05-01 23:59:59</td>\n",
              "      <td>139.889999</td>\n",
              "      <td>107.720001</td>\n",
              "      <td>139.000000</td>\n",
              "      <td>116.989998</td>\n",
              "      <td>0.0</td>\n",
              "      <td>1.298955e+09</td>\n",
              "    </tr>\n",
              "    <tr>\n",
              "      <th>3</th>\n",
              "      <td>4</td>\n",
              "      <td>Bitcoin</td>\n",
              "      <td>BTC</td>\n",
              "      <td>2013-05-02 23:59:59</td>\n",
              "      <td>125.599998</td>\n",
              "      <td>92.281898</td>\n",
              "      <td>116.379997</td>\n",
              "      <td>105.209999</td>\n",
              "      <td>0.0</td>\n",
              "      <td>1.168517e+09</td>\n",
              "    </tr>\n",
              "    <tr>\n",
              "      <th>4</th>\n",
              "      <td>5</td>\n",
              "      <td>Bitcoin</td>\n",
              "      <td>BTC</td>\n",
              "      <td>2013-05-03 23:59:59</td>\n",
              "      <td>108.127998</td>\n",
              "      <td>79.099998</td>\n",
              "      <td>106.250000</td>\n",
              "      <td>97.750000</td>\n",
              "      <td>0.0</td>\n",
              "      <td>1.085995e+09</td>\n",
              "    </tr>\n",
              "  </tbody>\n",
              "</table>\n",
              "</div>\n",
              "      <button class=\"colab-df-convert\" onclick=\"convertToInteractive('df-df2b7d6d-3cfb-4b23-a012-0a1e098bcd89')\"\n",
              "              title=\"Convert this dataframe to an interactive table.\"\n",
              "              style=\"display:none;\">\n",
              "        \n",
              "  <svg xmlns=\"http://www.w3.org/2000/svg\" height=\"24px\"viewBox=\"0 0 24 24\"\n",
              "       width=\"24px\">\n",
              "    <path d=\"M0 0h24v24H0V0z\" fill=\"none\"/>\n",
              "    <path d=\"M18.56 5.44l.94 2.06.94-2.06 2.06-.94-2.06-.94-.94-2.06-.94 2.06-2.06.94zm-11 1L8.5 8.5l.94-2.06 2.06-.94-2.06-.94L8.5 2.5l-.94 2.06-2.06.94zm10 10l.94 2.06.94-2.06 2.06-.94-2.06-.94-.94-2.06-.94 2.06-2.06.94z\"/><path d=\"M17.41 7.96l-1.37-1.37c-.4-.4-.92-.59-1.43-.59-.52 0-1.04.2-1.43.59L10.3 9.45l-7.72 7.72c-.78.78-.78 2.05 0 2.83L4 21.41c.39.39.9.59 1.41.59.51 0 1.02-.2 1.41-.59l7.78-7.78 2.81-2.81c.8-.78.8-2.07 0-2.86zM5.41 20L4 18.59l7.72-7.72 1.47 1.35L5.41 20z\"/>\n",
              "  </svg>\n",
              "      </button>\n",
              "      \n",
              "  <style>\n",
              "    .colab-df-container {\n",
              "      display:flex;\n",
              "      flex-wrap:wrap;\n",
              "      gap: 12px;\n",
              "    }\n",
              "\n",
              "    .colab-df-convert {\n",
              "      background-color: #E8F0FE;\n",
              "      border: none;\n",
              "      border-radius: 50%;\n",
              "      cursor: pointer;\n",
              "      display: none;\n",
              "      fill: #1967D2;\n",
              "      height: 32px;\n",
              "      padding: 0 0 0 0;\n",
              "      width: 32px;\n",
              "    }\n",
              "\n",
              "    .colab-df-convert:hover {\n",
              "      background-color: #E2EBFA;\n",
              "      box-shadow: 0px 1px 2px rgba(60, 64, 67, 0.3), 0px 1px 3px 1px rgba(60, 64, 67, 0.15);\n",
              "      fill: #174EA6;\n",
              "    }\n",
              "\n",
              "    [theme=dark] .colab-df-convert {\n",
              "      background-color: #3B4455;\n",
              "      fill: #D2E3FC;\n",
              "    }\n",
              "\n",
              "    [theme=dark] .colab-df-convert:hover {\n",
              "      background-color: #434B5C;\n",
              "      box-shadow: 0px 1px 3px 1px rgba(0, 0, 0, 0.15);\n",
              "      filter: drop-shadow(0px 1px 2px rgba(0, 0, 0, 0.3));\n",
              "      fill: #FFFFFF;\n",
              "    }\n",
              "  </style>\n",
              "\n",
              "      <script>\n",
              "        const buttonEl =\n",
              "          document.querySelector('#df-df2b7d6d-3cfb-4b23-a012-0a1e098bcd89 button.colab-df-convert');\n",
              "        buttonEl.style.display =\n",
              "          google.colab.kernel.accessAllowed ? 'block' : 'none';\n",
              "\n",
              "        async function convertToInteractive(key) {\n",
              "          const element = document.querySelector('#df-df2b7d6d-3cfb-4b23-a012-0a1e098bcd89');\n",
              "          const dataTable =\n",
              "            await google.colab.kernel.invokeFunction('convertToInteractive',\n",
              "                                                     [key], {});\n",
              "          if (!dataTable) return;\n",
              "\n",
              "          const docLinkHtml = 'Like what you see? Visit the ' +\n",
              "            '<a target=\"_blank\" href=https://colab.research.google.com/notebooks/data_table.ipynb>data table notebook</a>'\n",
              "            + ' to learn more about interactive tables.';\n",
              "          element.innerHTML = '';\n",
              "          dataTable['output_type'] = 'display_data';\n",
              "          await google.colab.output.renderOutput(dataTable, element);\n",
              "          const docLink = document.createElement('div');\n",
              "          docLink.innerHTML = docLinkHtml;\n",
              "          element.appendChild(docLink);\n",
              "        }\n",
              "      </script>\n",
              "    </div>\n",
              "  </div>\n",
              "  "
            ]
          },
          "metadata": {},
          "execution_count": 40
        }
      ]
    },
    {
      "cell_type": "code",
      "source": [
        "split_row = len(dataset) - int(0.2 * len(dataset))\n",
        "train_data = dataset.iloc[:split_row]\n",
        "test_data = dataset.iloc[split_row:]"
      ],
      "metadata": {
        "id": "_cVxw06XVHEq"
      },
      "execution_count": 41,
      "outputs": []
    },
    {
      "cell_type": "code",
      "source": [
        "fig, ax = plt.subplots(1, figsize=(13, 7))\n",
        "ax.plot(train_data[chosen_col], label='Train', linewidth=2)\n",
        "ax.plot(test_data[chosen_col], label='Test', linewidth=2)\n",
        "ax.set_ylabel('Price USD', fontsize=14)\n",
        "ax.set_title('', fontsize=16)\n",
        "ax.legend(loc='best', fontsize=16)"
      ],
      "metadata": {
        "colab": {
          "base_uri": "https://localhost:8080/",
          "height": 445
        },
        "id": "9PWNcGXCVIeV",
        "outputId": "83029ecd-9b8d-499d-9930-06c34d6767f6"
      },
      "execution_count": 42,
      "outputs": [
        {
          "output_type": "execute_result",
          "data": {
            "text/plain": [
              "<matplotlib.legend.Legend at 0x7f49bd953bb0>"
            ]
          },
          "metadata": {},
          "execution_count": 42
        },
        {
          "output_type": "display_data",
          "data": {
            "text/plain": [
              "<Figure size 936x504 with 1 Axes>"
            ],
            "image/png": "[encoded data removed]"
          },
          "metadata": {
            "needs_background": "light"
          }
        }
      ]
    },
    {
      "cell_type": "code",
      "source": [
        "from sklearn.preprocessing import MinMaxScaler\n",
        "\n",
        "datacol = dataset.iloc[:, 7:8].values\n",
        "traincol = train_data.iloc[:, 7:8].values\n",
        "testcol = test_data.iloc[:, 7:8].values\n",
        "\n",
        "shaped_data = np.reshape(datacol, (-1,1))\n",
        "train_shaped = np.reshape(traincol, (-1,1))\n",
        "test_shaped = np.reshape(testcol, (-1,1))\n",
        "\n",
        "sc = MinMaxScaler(feature_range=(0,1))\n",
        "sc.fit(shaped_data)\n",
        "\n",
        "train_scaled_data = sc.transform(train_shaped)\n",
        "test_scaled_data = sc.transform(test_shaped)"
      ],
      "metadata": {
        "id": "Xgl1UExGVJgt"
      },
      "execution_count": 43,
      "outputs": []
    },
    {
      "cell_type": "code",
      "source": [
        "X = []\n",
        "y = []\n",
        "time_steps = 50\n",
        "\n",
        "for i in range(time_steps, len(train_data)):\n",
        "    X.append(train_scaled_data[i-time_steps:i,0])\n",
        "    y.append(train_scaled_data[i, 0])\n",
        "\n",
        "X, y = np.array(X), np.array(y)\n",
        "X = np.reshape(X, (X.shape[0], X.shape[1], 1))"
      ],
      "metadata": {
        "id": "VlEjKxlwVLAU"
      },
      "execution_count": 44,
      "outputs": []
    },
    {
      "cell_type": "code",
      "source": [
        "from sklearn.model_selection import train_test_split\n",
        "\n",
        "X_train, X_test, y_train, y_test = train_test_split(X, y, test_size=0.2)"
      ],
      "metadata": {
        "id": "cgq0C7sEVUBD"
      },
      "execution_count": 45,
      "outputs": []
    },
    {
      "cell_type": "code",
      "source": [
        "from keras.models import Sequential\n",
        "from keras.layers import LSTM\n",
        "from keras.layers import Dense\n",
        "from keras.layers import Dropout\n",
        "from keras.layers import Activation\n",
        "\n",
        "model = Sequential()\n",
        "model.add(LSTM(units=100, input_shape=(X_train.shape[1], X_train.shape[2])))\n",
        "model.add(Dropout(0.2))\n",
        "model.add(Dense(1))\n",
        "model.add(Activation('linear'))\n",
        "model.compile(optimizer='adam', loss='mse')"
      ],
      "metadata": {
        "id": "LHKct39cVVIV"
      },
      "execution_count": 46,
      "outputs": []
    },
    {
      "cell_type": "code",
      "source": [
        "from keras.callbacks import EarlyStopping\n",
        "\n",
        "callback = EarlyStopping(monitor='loss', patience=10, restore_best_weights=True)\n",
        "history = model.fit(X_train, y_train, validation_data=(X_test, y_test), epochs=100, batch_size=32, verbose=1, callbacks=[callback], shuffle=True)"
      ],
      "metadata": {
        "colab": {
          "base_uri": "https://localhost:8080/"
        },
        "id": "-nv_gZgBVWOw",
        "outputId": "ba411390-8616-433e-d111-3d25238cee6f"
      },
      "execution_count": 47,
      "outputs": [
        {
          "output_type": "stream",
          "name": "stdout",
          "text": [
            "Epoch 1/100\n",
            "59/59 [==============================] - 6s 46ms/step - loss: 7.1267e-04 - val_loss: 9.1185e-05\n",
            "Epoch 2/100\n",
            "59/59 [==============================] - 2s 38ms/step - loss: 1.0522e-04 - val_loss: 7.2533e-05\n",
            "Epoch 3/100\n",
            "59/59 [==============================] - 2s 38ms/step - loss: 1.0067e-04 - val_loss: 7.2884e-05\n",
            "Epoch 4/100\n",
            "59/59 [==============================] - 2s 38ms/step - loss: 9.2188e-05 - val_loss: 1.1392e-04\n",
            "Epoch 5/100\n",
            "59/59 [==============================] - 2s 41ms/step - loss: 9.1882e-05 - val_loss: 5.9551e-05\n",
            "Epoch 6/100\n",
            "59/59 [==============================] - 2s 39ms/step - loss: 8.6189e-05 - val_loss: 7.4412e-05\n",
            "Epoch 7/100\n",
            "59/59 [==============================] - 3s 55ms/step - loss: 7.7950e-05 - val_loss: 5.5994e-05\n",
            "Epoch 8/100\n",
            "59/59 [==============================] - 2s 37ms/step - loss: 7.5207e-05 - val_loss: 4.7383e-05\n",
            "Epoch 9/100\n",
            "59/59 [==============================] - 2s 37ms/step - loss: 7.2609e-05 - val_loss: 6.0241e-05\n",
            "Epoch 10/100\n",
            "59/59 [==============================] - 2s 37ms/step - loss: 6.8492e-05 - val_loss: 5.0884e-05\n",
            "Epoch 11/100\n",
            "59/59 [==============================] - 2s 37ms/step - loss: 6.3847e-05 - val_loss: 6.1011e-05\n",
            "Epoch 12/100\n",
            "59/59 [==============================] - 2s 38ms/step - loss: 7.5576e-05 - val_loss: 4.5420e-05\n",
            "Epoch 13/100\n",
            "59/59 [==============================] - 2s 37ms/step - loss: 5.9526e-05 - val_loss: 4.1226e-05\n",
            "Epoch 14/100\n",
            "59/59 [==============================] - 2s 37ms/step - loss: 5.6804e-05 - val_loss: 5.1873e-05\n",
            "Epoch 15/100\n",
            "59/59 [==============================] - 2s 37ms/step - loss: 5.0377e-05 - val_loss: 3.9094e-05\n",
            "Epoch 16/100\n",
            "59/59 [==============================] - 2s 37ms/step - loss: 5.4103e-05 - val_loss: 4.3035e-05\n",
            "Epoch 17/100\n",
            "59/59 [==============================] - 2s 38ms/step - loss: 5.5751e-05 - val_loss: 4.4696e-05\n",
            "Epoch 18/100\n",
            "59/59 [==============================] - 2s 38ms/step - loss: 5.8979e-05 - val_loss: 4.3878e-05\n",
            "Epoch 19/100\n",
            "59/59 [==============================] - 2s 38ms/step - loss: 5.2423e-05 - val_loss: 3.9514e-05\n",
            "Epoch 20/100\n",
            "59/59 [==============================] - 2s 37ms/step - loss: 4.8476e-05 - val_loss: 3.7739e-05\n",
            "Epoch 21/100\n",
            "59/59 [==============================] - 2s 38ms/step - loss: 5.6720e-05 - val_loss: 3.9056e-05\n",
            "Epoch 22/100\n",
            "59/59 [==============================] - 2s 37ms/step - loss: 5.3331e-05 - val_loss: 4.4584e-05\n",
            "Epoch 23/100\n",
            "59/59 [==============================] - 2s 37ms/step - loss: 6.0875e-05 - val_loss: 3.6282e-05\n",
            "Epoch 24/100\n",
            "59/59 [==============================] - 2s 37ms/step - loss: 5.0201e-05 - val_loss: 4.0900e-05\n",
            "Epoch 25/100\n",
            "59/59 [==============================] - 2s 38ms/step - loss: 4.9248e-05 - val_loss: 3.5717e-05\n",
            "Epoch 26/100\n",
            "59/59 [==============================] - 2s 38ms/step - loss: 5.2605e-05 - val_loss: 3.7918e-05\n",
            "Epoch 27/100\n",
            "59/59 [==============================] - 2s 37ms/step - loss: 5.4302e-05 - val_loss: 4.3762e-05\n",
            "Epoch 28/100\n",
            "59/59 [==============================] - 2s 37ms/step - loss: 4.7517e-05 - val_loss: 2.9737e-05\n",
            "Epoch 29/100\n",
            "59/59 [==============================] - 2s 37ms/step - loss: 4.8037e-05 - val_loss: 4.7839e-05\n",
            "Epoch 30/100\n",
            "59/59 [==============================] - 2s 38ms/step - loss: 4.7396e-05 - val_loss: 3.4076e-05\n",
            "Epoch 31/100\n",
            "59/59 [==============================] - 2s 39ms/step - loss: 4.5327e-05 - val_loss: 3.0236e-05\n",
            "Epoch 32/100\n",
            "59/59 [==============================] - 2s 37ms/step - loss: 4.5052e-05 - val_loss: 3.5945e-05\n",
            "Epoch 33/100\n",
            "59/59 [==============================] - 2s 37ms/step - loss: 4.5976e-05 - val_loss: 2.7429e-05\n",
            "Epoch 34/100\n",
            "59/59 [==============================] - 2s 38ms/step - loss: 4.6392e-05 - val_loss: 3.2570e-05\n",
            "Epoch 35/100\n",
            "59/59 [==============================] - 2s 38ms/step - loss: 4.7025e-05 - val_loss: 2.9244e-05\n",
            "Epoch 36/100\n",
            "59/59 [==============================] - 2s 37ms/step - loss: 4.4741e-05 - val_loss: 3.0302e-05\n",
            "Epoch 37/100\n",
            "59/59 [==============================] - 2s 38ms/step - loss: 4.2897e-05 - val_loss: 2.9169e-05\n",
            "Epoch 38/100\n",
            "59/59 [==============================] - 2s 38ms/step - loss: 4.4314e-05 - val_loss: 4.3174e-05\n",
            "Epoch 39/100\n",
            "59/59 [==============================] - 2s 38ms/step - loss: 4.0901e-05 - val_loss: 3.2005e-05\n",
            "Epoch 40/100\n",
            "59/59 [==============================] - 2s 38ms/step - loss: 4.0634e-05 - val_loss: 3.0640e-05\n",
            "Epoch 41/100\n",
            "59/59 [==============================] - 4s 66ms/step - loss: 3.8840e-05 - val_loss: 2.9333e-05\n",
            "Epoch 42/100\n",
            "59/59 [==============================] - 2s 39ms/step - loss: 4.1667e-05 - val_loss: 3.9623e-05\n",
            "Epoch 43/100\n",
            "59/59 [==============================] - 2s 38ms/step - loss: 4.8692e-05 - val_loss: 2.3772e-05\n",
            "Epoch 44/100\n",
            "59/59 [==============================] - 2s 39ms/step - loss: 4.4831e-05 - val_loss: 2.6678e-05\n",
            "Epoch 45/100\n",
            "59/59 [==============================] - 2s 37ms/step - loss: 3.9998e-05 - val_loss: 2.5491e-05\n",
            "Epoch 46/100\n",
            "59/59 [==============================] - 2s 37ms/step - loss: 3.8145e-05 - val_loss: 2.3867e-05\n",
            "Epoch 47/100\n",
            "59/59 [==============================] - 2s 38ms/step - loss: 3.6688e-05 - val_loss: 2.7326e-05\n",
            "Epoch 48/100\n",
            "59/59 [==============================] - 2s 38ms/step - loss: 4.1369e-05 - val_loss: 2.9425e-05\n",
            "Epoch 49/100\n",
            "59/59 [==============================] - 2s 38ms/step - loss: 4.1420e-05 - val_loss: 2.4687e-05\n",
            "Epoch 50/100\n",
            "59/59 [==============================] - 2s 38ms/step - loss: 3.9667e-05 - val_loss: 2.2662e-05\n",
            "Epoch 51/100\n",
            "59/59 [==============================] - 2s 38ms/step - loss: 4.1675e-05 - val_loss: 2.1276e-05\n",
            "Epoch 52/100\n",
            "59/59 [==============================] - 2s 38ms/step - loss: 3.9345e-05 - val_loss: 2.7110e-05\n",
            "Epoch 53/100\n",
            "59/59 [==============================] - 2s 38ms/step - loss: 4.4966e-05 - val_loss: 2.1211e-05\n",
            "Epoch 54/100\n",
            "59/59 [==============================] - 2s 38ms/step - loss: 3.8889e-05 - val_loss: 2.2487e-05\n",
            "Epoch 55/100\n",
            "59/59 [==============================] - 2s 38ms/step - loss: 3.2168e-05 - val_loss: 2.3648e-05\n",
            "Epoch 56/100\n",
            "59/59 [==============================] - 2s 38ms/step - loss: 4.0096e-05 - val_loss: 2.3770e-05\n",
            "Epoch 57/100\n",
            "59/59 [==============================] - 2s 38ms/step - loss: 3.8825e-05 - val_loss: 2.1758e-05\n",
            "Epoch 58/100\n",
            "59/59 [==============================] - 2s 39ms/step - loss: 3.8770e-05 - val_loss: 2.3000e-05\n",
            "Epoch 59/100\n",
            "59/59 [==============================] - 2s 38ms/step - loss: 4.1678e-05 - val_loss: 2.0958e-05\n",
            "Epoch 60/100\n",
            "59/59 [==============================] - 2s 38ms/step - loss: 3.2898e-05 - val_loss: 1.9466e-05\n",
            "Epoch 61/100\n",
            "59/59 [==============================] - 2s 38ms/step - loss: 4.1874e-05 - val_loss: 1.8315e-05\n",
            "Epoch 62/100\n",
            "59/59 [==============================] - 2s 38ms/step - loss: 4.0170e-05 - val_loss: 4.7251e-05\n",
            "Epoch 63/100\n",
            "59/59 [==============================] - 3s 43ms/step - loss: 3.4830e-05 - val_loss: 1.9402e-05\n",
            "Epoch 64/100\n",
            "59/59 [==============================] - 3s 51ms/step - loss: 3.7490e-05 - val_loss: 1.8114e-05\n",
            "Epoch 65/100\n",
            "59/59 [==============================] - 2s 38ms/step - loss: 4.1058e-05 - val_loss: 1.9291e-05\n"
          ]
        }
      ]
    },
    {
      "cell_type": "code",
      "source": [
        "model.summary()"
      ],
      "metadata": {
        "colab": {
          "base_uri": "https://localhost:8080/"
        },
        "id": "kdEdhiV9VX_w",
        "outputId": "515b2785-223c-4413-b7d5-b922b29de9b2"
      },
      "execution_count": 48,
      "outputs": [
        {
          "output_type": "stream",
          "name": "stdout",
          "text": [
            "Model: \"sequential\"\n",
            "_________________________________________________________________\n",
            " Layer (type)                Output Shape              Param #   \n",
            "=================================================================\n",
            " lstm (LSTM)                 (None, 100)               40800     \n",
            "                                                                 \n",
            " dropout (Dropout)           (None, 100)               0         \n",
            "                                                                 \n",
            " dense (Dense)               (None, 1)                 101       \n",
            "                                                                 \n",
            " activation (Activation)     (None, 1)                 0         \n",
            "                                                                 \n",
            "=================================================================\n",
            "Total params: 40,901\n",
            "Trainable params: 40,901\n",
            "Non-trainable params: 0\n",
            "_________________________________________________________________\n"
          ]
        }
      ]
    },
    {
      "cell_type": "code",
      "source": [
        "from keras.metrics import mean_absolute_error\n",
        "\n",
        "X_testing = []\n",
        "y_testing = []\n",
        "\n",
        "for i in range(time_steps, len(test_data)):\n",
        "    X_testing.append(test_scaled_data[i-time_steps:i,0])\n",
        "    y_testing.append(test_scaled_data[i, 0])\n",
        "\n",
        "X_testing, y_testing = np.array(X_testing), np.array(y_testing)\n",
        "X_testing = np.reshape(X_testing, (X_testing.shape[0], X_testing.shape[1], 1))\n",
        "\n",
        "predicted_price = model.predict(X_testing)\n",
        "inv_price = sc.inverse_transform(predicted_price)\n",
        "real_price = np.reshape(y_testing, (-1,1))\n",
        "real_price = sc.inverse_transform(real_price)"
      ],
      "metadata": {
        "colab": {
          "base_uri": "https://localhost:8080/"
        },
        "id": "_rNke45dWlRU",
        "outputId": "95c49918-62b5-47df-9d5e-d28fc1f9f254"
      },
      "execution_count": 49,
      "outputs": [
        {
          "output_type": "stream",
          "name": "stdout",
          "text": [
            "18/18 [==============================] - 1s 12ms/step\n"
          ]
        }
      ]
    },
    {
      "cell_type": "code",
      "source": [
        "fig, ax = plt.subplots(1, figsize=(13, 7))\n",
        "ax.plot(real_price, label='Real', linewidth=2)\n",
        "ax.plot(inv_price, label='Pred', linewidth=2)\n",
        "ax.set_ylabel('Price USD', fontsize=14)\n",
        "ax.set_title('', fontsize=16)\n",
        "ax.legend(loc='best', fontsize=16)"
      ],
      "metadata": {
        "colab": {
          "base_uri": "https://localhost:8080/",
          "height": 445
        },
        "id": "mbq4BoUyWmmB",
        "outputId": "6e606357-3279-4506-ea77-66622c7e0be0"
      },
      "execution_count": 50,
      "outputs": [
        {
          "output_type": "execute_result",
          "data": {
            "text/plain": [
              "<matplotlib.legend.Legend at 0x7f4962cdcf70>"
            ]
          },
          "metadata": {},
          "execution_count": 50
        },
        {
          "output_type": "display_data",
          "data": {
            "text/plain": [
              "<Figure size 936x504 with 1 Axes>"
            ],
            "image/png": "[encoded data removed]"
          },
          "metadata": {
            "needs_background": "light"
          }
        }
      ]
    }
  ]
}